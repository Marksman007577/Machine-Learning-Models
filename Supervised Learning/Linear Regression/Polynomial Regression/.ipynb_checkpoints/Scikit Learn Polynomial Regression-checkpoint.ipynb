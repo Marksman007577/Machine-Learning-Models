{
 "cells": [
  {
   "cell_type": "code",
   "execution_count": 1,
   "id": "2b99ea9a",
   "metadata": {},
   "outputs": [],
   "source": [
    "# importing libraries\n",
    "import numpy as np\n",
    "import pandas as pd\n",
    "import matplotlib.pyplot as plt\n",
    "import seaborn as sns\n",
    "import math\n",
    "\n",
    "from sklearn.model_selection import train_test_split\n",
    "from sklearn.linear_model import LinearRegression\n",
    "from sklearn.preprocessing import PolynomialFeatures\n",
    "from sklearn.metrics import mean_absolute_error, mean_squared_error\n",
    "\n",
    "import scipy as sp\n",
    "\n",
    "from joblib import dump, load"
   ]
  },
  {
   "cell_type": "code",
   "execution_count": 2,
   "id": "7f4a0220",
   "metadata": {},
   "outputs": [],
   "source": [
    "def root_mean_square_error(y_test, model_predictions):\n",
    "    \"\"\"function to perform root mean squared error\"\"\"\n",
    "    rmse = mean_squared_error(y_test, model_predictions)\n",
    "    return math.sqrt(rmse)"
   ]
  },
  {
   "cell_type": "code",
   "execution_count": 3,
   "id": "6c180842",
   "metadata": {},
   "outputs": [],
   "source": [
    "# Read in the dataset\n",
    "df = pd.read_csv(\"Advertising.csv\")"
   ]
  },
  {
   "cell_type": "code",
   "execution_count": 4,
   "id": "0616204d",
   "metadata": {},
   "outputs": [
    {
     "data": {
      "text/html": [
       "<div>\n",
       "<style scoped>\n",
       "    .dataframe tbody tr th:only-of-type {\n",
       "        vertical-align: middle;\n",
       "    }\n",
       "\n",
       "    .dataframe tbody tr th {\n",
       "        vertical-align: top;\n",
       "    }\n",
       "\n",
       "    .dataframe thead th {\n",
       "        text-align: right;\n",
       "    }\n",
       "</style>\n",
       "<table border=\"1\" class=\"dataframe\">\n",
       "  <thead>\n",
       "    <tr style=\"text-align: right;\">\n",
       "      <th></th>\n",
       "      <th>TV</th>\n",
       "      <th>radio</th>\n",
       "      <th>newspaper</th>\n",
       "      <th>sales</th>\n",
       "    </tr>\n",
       "  </thead>\n",
       "  <tbody>\n",
       "    <tr>\n",
       "      <th>0</th>\n",
       "      <td>230.1</td>\n",
       "      <td>37.8</td>\n",
       "      <td>69.2</td>\n",
       "      <td>22.1</td>\n",
       "    </tr>\n",
       "    <tr>\n",
       "      <th>1</th>\n",
       "      <td>44.5</td>\n",
       "      <td>39.3</td>\n",
       "      <td>45.1</td>\n",
       "      <td>10.4</td>\n",
       "    </tr>\n",
       "    <tr>\n",
       "      <th>2</th>\n",
       "      <td>17.2</td>\n",
       "      <td>45.9</td>\n",
       "      <td>69.3</td>\n",
       "      <td>9.3</td>\n",
       "    </tr>\n",
       "    <tr>\n",
       "      <th>3</th>\n",
       "      <td>151.5</td>\n",
       "      <td>41.3</td>\n",
       "      <td>58.5</td>\n",
       "      <td>18.5</td>\n",
       "    </tr>\n",
       "    <tr>\n",
       "      <th>4</th>\n",
       "      <td>180.8</td>\n",
       "      <td>10.8</td>\n",
       "      <td>58.4</td>\n",
       "      <td>12.9</td>\n",
       "    </tr>\n",
       "    <tr>\n",
       "      <th>5</th>\n",
       "      <td>8.7</td>\n",
       "      <td>48.9</td>\n",
       "      <td>75.0</td>\n",
       "      <td>7.2</td>\n",
       "    </tr>\n",
       "  </tbody>\n",
       "</table>\n",
       "</div>"
      ],
      "text/plain": [
       "      TV  radio  newspaper  sales\n",
       "0  230.1   37.8       69.2   22.1\n",
       "1   44.5   39.3       45.1   10.4\n",
       "2   17.2   45.9       69.3    9.3\n",
       "3  151.5   41.3       58.5   18.5\n",
       "4  180.8   10.8       58.4   12.9\n",
       "5    8.7   48.9       75.0    7.2"
      ]
     },
     "execution_count": 4,
     "metadata": {},
     "output_type": "execute_result"
    }
   ],
   "source": [
    "df.head(6)"
   ]
  },
  {
   "cell_type": "code",
   "execution_count": 5,
   "id": "d931017b",
   "metadata": {},
   "outputs": [],
   "source": [
    "# seperate X features and y label\n",
    "X = df.drop(\"sales\", axis=1)\n",
    "y = df[\"sales\"]"
   ]
  },
  {
   "cell_type": "code",
   "execution_count": 6,
   "id": "9fae8f55",
   "metadata": {},
   "outputs": [
    {
     "data": {
      "text/plain": [
       "(        TV  radio  newspaper\n",
       " 0    230.1   37.8       69.2\n",
       " 1     44.5   39.3       45.1\n",
       " 2     17.2   45.9       69.3\n",
       " 3    151.5   41.3       58.5\n",
       " 4    180.8   10.8       58.4\n",
       " ..     ...    ...        ...\n",
       " 195   38.2    3.7       13.8\n",
       " 196   94.2    4.9        8.1\n",
       " 197  177.0    9.3        6.4\n",
       " 198  283.6   42.0       66.2\n",
       " 199  232.1    8.6        8.7\n",
       " \n",
       " [200 rows x 3 columns],\n",
       " 0      22.1\n",
       " 1      10.4\n",
       " 2       9.3\n",
       " 3      18.5\n",
       " 4      12.9\n",
       "        ... \n",
       " 195     7.6\n",
       " 196     9.7\n",
       " 197    12.8\n",
       " 198    25.5\n",
       " 199    13.4\n",
       " Name: sales, Length: 200, dtype: float64)"
      ]
     },
     "execution_count": 6,
     "metadata": {},
     "output_type": "execute_result"
    }
   ],
   "source": [
    "X,y"
   ]
  },
  {
   "cell_type": "code",
   "execution_count": 7,
   "id": "0089d299",
   "metadata": {},
   "outputs": [],
   "source": [
    "# create an instance of the polynomial feature\n",
    "polyConverter = PolynomialFeatures(degree=2,include_bias=False)"
   ]
  },
  {
   "cell_type": "code",
   "execution_count": 8,
   "id": "0d9195af",
   "metadata": {},
   "outputs": [
    {
     "data": {
      "text/plain": [
       "PolynomialFeatures(include_bias=False)"
      ]
     },
     "execution_count": 8,
     "metadata": {},
     "output_type": "execute_result"
    }
   ],
   "source": [
    "polyConverter"
   ]
  },
  {
   "cell_type": "code",
   "execution_count": 9,
   "id": "b7bcd0f6",
   "metadata": {},
   "outputs": [
    {
     "data": {
      "text/plain": [
       "PolynomialFeatures(include_bias=False)"
      ]
     },
     "execution_count": 9,
     "metadata": {},
     "output_type": "execute_result"
    }
   ],
   "source": [
    "# fit the polyFeature to you dataset's feature X\n",
    "polyConverter.fit(X)"
   ]
  },
  {
   "cell_type": "code",
   "execution_count": 10,
   "id": "5fe7a55a",
   "metadata": {},
   "outputs": [],
   "source": [
    "# transform the fitted dataset\n",
    "polyFeatures = polyConverter.transform(X)"
   ]
  },
  {
   "cell_type": "code",
   "execution_count": 11,
   "id": "01e2ae09",
   "metadata": {},
   "outputs": [
    {
     "data": {
      "text/plain": [
       "array([[ 230.1 ,   37.8 ,   69.2 , ..., 1428.84, 2615.76, 4788.64],\n",
       "       [  44.5 ,   39.3 ,   45.1 , ..., 1544.49, 1772.43, 2034.01],\n",
       "       [  17.2 ,   45.9 ,   69.3 , ..., 2106.81, 3180.87, 4802.49],\n",
       "       ...,\n",
       "       [ 177.  ,    9.3 ,    6.4 , ...,   86.49,   59.52,   40.96],\n",
       "       [ 283.6 ,   42.  ,   66.2 , ..., 1764.  , 2780.4 , 4382.44],\n",
       "       [ 232.1 ,    8.6 ,    8.7 , ...,   73.96,   74.82,   75.69]])"
      ]
     },
     "execution_count": 11,
     "metadata": {},
     "output_type": "execute_result"
    }
   ],
   "source": [
    "polyFeatures"
   ]
  },
  {
   "cell_type": "code",
   "execution_count": 12,
   "id": "9447492c",
   "metadata": {},
   "outputs": [
    {
     "data": {
      "text/plain": [
       "(200, 9)"
      ]
     },
     "execution_count": 12,
     "metadata": {},
     "output_type": "execute_result"
    }
   ],
   "source": [
    "polyFeatures.shape"
   ]
  },
  {
   "cell_type": "code",
   "execution_count": 13,
   "id": "5d883b98",
   "metadata": {},
   "outputs": [],
   "source": [
    "# perform a train test split of the new dataset\n",
    "XTrain, XTest, yTrain, yTest = train_test_split(polyFeatures, y, test_size=0.3, random_state=101)"
   ]
  },
  {
   "cell_type": "code",
   "execution_count": 14,
   "id": "cde8d3ff",
   "metadata": {},
   "outputs": [],
   "source": [
    "# create the linear regression instance\n",
    "linearRegressionModel = LinearRegression()"
   ]
  },
  {
   "cell_type": "code",
   "execution_count": 15,
   "id": "6b635bc5",
   "metadata": {},
   "outputs": [
    {
     "data": {
      "text/plain": [
       "LinearRegression()"
      ]
     },
     "execution_count": 15,
     "metadata": {},
     "output_type": "execute_result"
    }
   ],
   "source": [
    "# fit the linear regression model on the train dataset\n",
    "linearRegressionModel.fit(XTrain, yTrain)"
   ]
  },
  {
   "cell_type": "code",
   "execution_count": 16,
   "id": "27a902e3",
   "metadata": {},
   "outputs": [
    {
     "data": {
      "text/plain": [
       "array([ 5.17095811e-02,  1.30848864e-02,  1.20000085e-02, -1.10892474e-04,\n",
       "        1.14212673e-03, -5.24100082e-05,  3.34919737e-05,  1.46380310e-04,\n",
       "       -3.04715806e-05])"
      ]
     },
     "execution_count": 16,
     "metadata": {},
     "output_type": "execute_result"
    }
   ],
   "source": [
    "# check the number of coefficient\n",
    "linearRegressionModel.coef_"
   ]
  },
  {
   "cell_type": "code",
   "execution_count": 17,
   "id": "661cc659",
   "metadata": {},
   "outputs": [],
   "source": [
    "# evaluate the model on your test dataset via prediction\n",
    "testPrediction = linearRegressionModel.predict(XTest)"
   ]
  },
  {
   "cell_type": "code",
   "execution_count": 18,
   "id": "8c2cb92f",
   "metadata": {},
   "outputs": [
    {
     "data": {
      "text/plain": [
       "array([13.94856153, 19.33480262, 12.31928162, 16.76286337,  7.90210901,\n",
       "        6.94143792, 20.13372693, 17.50092709, 10.56889   , 20.12551788,\n",
       "        9.44614537, 14.09935417, 12.05513493, 23.39254049, 19.67508393,\n",
       "        9.15626258, 12.1163732 ,  9.28149557,  8.44604007, 21.65588129,\n",
       "        7.05070331, 19.35854208, 27.26716369, 24.58689346,  9.03179421,\n",
       "       11.81070232, 20.42630125,  9.19390639, 12.74795186,  8.64340674,\n",
       "        8.66294151, 20.20047377, 10.93673817,  6.84639129, 18.27939359,\n",
       "        9.47659449, 10.34242145,  9.6657038 ,  7.43347915, 11.03561332,\n",
       "       12.65731013, 10.65459946, 11.20971496,  7.46199023, 11.38224982,\n",
       "       10.27331262,  6.15573251, 15.50893362, 13.36092889, 22.71839277,\n",
       "       10.40389682, 13.21622701, 14.23622207, 11.8723677 , 11.68463616,\n",
       "        5.62217738, 25.03778913,  9.53507734, 17.37926571, 15.7534364 ])"
      ]
     },
     "execution_count": 18,
     "metadata": {},
     "output_type": "execute_result"
    }
   ],
   "source": [
    "testPrediction"
   ]
  },
  {
   "cell_type": "code",
   "execution_count": 19,
   "id": "92e834fe",
   "metadata": {},
   "outputs": [
    {
     "data": {
      "text/plain": [
       "(60,)"
      ]
     },
     "execution_count": 19,
     "metadata": {},
     "output_type": "execute_result"
    }
   ],
   "source": [
    "testPrediction.shape"
   ]
  },
  {
   "cell_type": "code",
   "execution_count": 20,
   "id": "39d0390a",
   "metadata": {},
   "outputs": [
    {
     "data": {
      "text/plain": [
       "37     14.7\n",
       "109    19.8\n",
       "31     11.9\n",
       "89     16.7\n",
       "66      9.5\n",
       "119     6.6\n",
       "54     20.2\n",
       "74     17.0\n",
       "145    10.3\n",
       "142    20.1\n",
       "148    10.9\n",
       "112    14.1\n",
       "174    11.5\n",
       "55     23.7\n",
       "141    19.2\n",
       "149    10.1\n",
       "25     12.0\n",
       "34      9.5\n",
       "170     8.4\n",
       "39     21.5\n",
       "172     7.6\n",
       "153    19.0\n",
       "175    27.0\n",
       "61     24.2\n",
       "65      9.3\n",
       "50     11.4\n",
       "42     20.7\n",
       "129     9.7\n",
       "179    12.6\n",
       "2       9.3\n",
       "12      9.2\n",
       "133    19.6\n",
       "90     11.2\n",
       "22      5.6\n",
       "41     17.1\n",
       "32      9.6\n",
       "125    10.6\n",
       "196     9.7\n",
       "158     7.3\n",
       "180    10.5\n",
       "16     12.5\n",
       "186    10.3\n",
       "144    11.4\n",
       "121     7.0\n",
       "80     11.8\n",
       "18     11.3\n",
       "78      5.3\n",
       "48     14.8\n",
       "4      12.9\n",
       "15     22.4\n",
       "1      10.4\n",
       "43     12.9\n",
       "102    14.8\n",
       "164    11.9\n",
       "9      10.6\n",
       "155     3.2\n",
       "36     25.4\n",
       "190    10.8\n",
       "33     17.4\n",
       "45     14.9\n",
       "Name: sales, dtype: float64"
      ]
     },
     "execution_count": 20,
     "metadata": {},
     "output_type": "execute_result"
    }
   ],
   "source": [
    "yTest"
   ]
  },
  {
   "cell_type": "code",
   "execution_count": 21,
   "id": "12a44b1c",
   "metadata": {},
   "outputs": [
    {
     "name": "stdout",
     "output_type": "stream",
     "text": [
      "37     0.751438\n",
      "109    0.465197\n",
      "31    -0.419282\n",
      "89    -0.062863\n",
      "66     1.597891\n",
      "119   -0.341438\n",
      "54     0.066273\n",
      "74    -0.500927\n",
      "145   -0.268890\n",
      "142   -0.025518\n",
      "148    1.453855\n",
      "112    0.000646\n",
      "174   -0.555135\n",
      "55     0.307460\n",
      "141   -0.475084\n",
      "149    0.943737\n",
      "25    -0.116373\n",
      "34     0.218504\n",
      "170   -0.046040\n",
      "39    -0.155881\n",
      "172    0.549297\n",
      "153   -0.358542\n",
      "175   -0.267164\n",
      "61    -0.386893\n",
      "65     0.268206\n",
      "50    -0.410702\n",
      "42     0.273699\n",
      "129    0.506094\n",
      "179   -0.147952\n",
      "2      0.656593\n",
      "12     0.537058\n",
      "133   -0.600474\n",
      "90     0.263262\n",
      "22    -1.246391\n",
      "41    -1.179394\n",
      "32     0.123406\n",
      "125    0.257579\n",
      "196    0.034296\n",
      "158   -0.133479\n",
      "180   -0.535613\n",
      "16    -0.157310\n",
      "186   -0.354599\n",
      "144    0.190285\n",
      "121   -0.461990\n",
      "80     0.417750\n",
      "18     1.026687\n",
      "78    -0.855733\n",
      "48    -0.708934\n",
      "4     -0.460929\n",
      "15    -0.318393\n",
      "1     -0.003897\n",
      "43    -0.316227\n",
      "102    0.563778\n",
      "164    0.027632\n",
      "9     -1.084636\n",
      "155   -2.422177\n",
      "36     0.362211\n",
      "190    1.264923\n",
      "33     0.020734\n",
      "45    -0.853436\n",
      "Name: sales, dtype: float64\n"
     ]
    }
   ],
   "source": [
    "error = yTest - testPrediction\n",
    "print(error)"
   ]
  },
  {
   "cell_type": "code",
   "execution_count": 22,
   "id": "367f45e2",
   "metadata": {},
   "outputs": [],
   "source": [
    "# Evalaute the error metrics\n",
    "MAE = mean_absolute_error(yTest, testPrediction)\n",
    "MSE = mean_squared_error(yTest, testPrediction)\n",
    "RMSE = root_mean_square_error(y_test=yTest, model_predictions=testPrediction)"
   ]
  },
  {
   "cell_type": "code",
   "execution_count": 23,
   "id": "cb8de919",
   "metadata": {},
   "outputs": [
    {
     "data": {
      "text/plain": [
       "0.4896798044803558"
      ]
     },
     "execution_count": 23,
     "metadata": {},
     "output_type": "execute_result"
    }
   ],
   "source": [
    "MAE"
   ]
  },
  {
   "cell_type": "code",
   "execution_count": 24,
   "id": "55c0027a",
   "metadata": {},
   "outputs": [
    {
     "data": {
      "text/plain": [
       "0.44175055104033756"
      ]
     },
     "execution_count": 24,
     "metadata": {},
     "output_type": "execute_result"
    }
   ],
   "source": [
    "MSE"
   ]
  },
  {
   "cell_type": "code",
   "execution_count": 25,
   "id": "c6fec15d",
   "metadata": {},
   "outputs": [
    {
     "data": {
      "text/plain": [
       "0.664643175726899"
      ]
     },
     "execution_count": 25,
     "metadata": {},
     "output_type": "execute_result"
    }
   ],
   "source": [
    "RMSE"
   ]
  },
  {
   "cell_type": "code",
   "execution_count": 26,
   "id": "59b8c79b",
   "metadata": {},
   "outputs": [],
   "source": [
    "# Evaluate the optimal degree for the polynomial regression model for model complexity\n",
    "trainRMSEErrors = []\n",
    "testRMSEErrors = []\n",
    "\n",
    "for d in range(1, 10):\n",
    "    polyConverter = PolynomialFeatures(degree=d,include_bias=False)\n",
    "    polyConverter.fit(X)\n",
    "    polyFeatures = polyConverter.transform(X)\n",
    "    \n",
    "    XTrain, XTest, yTrain, yTest = train_test_split(polyFeatures, y, test_size=0.3, random_state=101)\n",
    "    \n",
    "    linearRegressionModel = LinearRegression()\n",
    "    linearRegressionModel.fit(XTrain, yTrain)\n",
    "    \n",
    "    trainPrediction = linearRegressionModel.predict(XTrain)\n",
    "    testPrediction = linearRegressionModel.predict(XTest)\n",
    "    \n",
    "    trainRMSE = np.sqrt(mean_squared_error(yTrain, trainPrediction))\n",
    "    testRMSE = np.sqrt(mean_squared_error(yTest, testPrediction))\n",
    "    \n",
    "    trainRMSEErrors.append(trainRMSE)\n",
    "    testRMSEErrors.append(testRMSE)\n"
   ]
  },
  {
   "cell_type": "code",
   "execution_count": 27,
   "id": "cc28b6a7",
   "metadata": {},
   "outputs": [
    {
     "data": {
      "text/plain": [
       "[1.7345941243293763,\n",
       " 0.5879574085292231,\n",
       " 0.43393443569020657,\n",
       " 0.35170836883993484,\n",
       " 0.2509343035074739,\n",
       " 0.19852917386934738,\n",
       " 5.2583941552445115,\n",
       " 0.20696080521369015,\n",
       " 0.16957349811270628]"
      ]
     },
     "execution_count": 27,
     "metadata": {},
     "output_type": "execute_result"
    }
   ],
   "source": [
    "trainRMSEErrors"
   ]
  },
  {
   "cell_type": "code",
   "execution_count": 28,
   "id": "53861208",
   "metadata": {},
   "outputs": [
    {
     "data": {
      "text/plain": [
       "[1.5161519375993884,\n",
       " 0.664643175726899,\n",
       " 0.5803286825198471,\n",
       " 0.5077742632186669,\n",
       " 2.575806166403524,\n",
       " 4.328831301882125,\n",
       " 174.62970739639005,\n",
       " 4679.504526200651,\n",
       " 95835.8634051284]"
      ]
     },
     "execution_count": 28,
     "metadata": {},
     "output_type": "execute_result"
    }
   ],
   "source": [
    "testRMSEErrors"
   ]
  },
  {
   "cell_type": "code",
   "execution_count": 29,
   "id": "e047e9a6",
   "metadata": {},
   "outputs": [
    {
     "data": {
      "text/plain": [
       "<matplotlib.legend.Legend at 0x2d07ff18460>"
      ]
     },
     "execution_count": 29,
     "metadata": {},
     "output_type": "execute_result"
    },
    {
     "data": {
      "image/png": "[encoded data removed]",
      "text/plain": [
       "<Figure size 640x480 with 1 Axes>"
      ]
     },
     "metadata": {},
     "output_type": "display_data"
    }
   ],
   "source": [
    "# plot to visualize these errors to determine the degree that matches the model\n",
    "plt.plot(range(1,6), trainRMSEErrors[:5], label=\"TRAIN RMSE\")\n",
    "plt.plot(range(1,6), testRMSEErrors[:5], label=\"TEST RMSE\")\n",
    "plt.xlabel(\"Degree of Polynomial\")\n",
    "plt.ylabel(\"RMSE\")\n",
    "plt.legend()"
   ]
  },
  {
   "cell_type": "code",
   "execution_count": 44,
   "id": "e65d0704",
   "metadata": {},
   "outputs": [
    {
     "data": {
      "text/plain": [
       "['Degree3PolyConverter.joblib']"
      ]
     },
     "execution_count": 44,
     "metadata": {},
     "output_type": "execute_result"
    }
   ],
   "source": [
    "# Deploy the model\n",
    "finalPolyConverter = PolynomialFeatures(degree=3,include_bias=False)\n",
    "thirdDegPolySalesPredModel = LinearRegression()\n",
    "fullConvertedX = finalPolyConverter.fit_transform(X)\n",
    "thirdDegPolySalesPredModel.fit(fullConvertedX, y)\n",
    "\n",
    "dump(thirdDegPolySalesPredModel,\"Degree3SalesPredictionModel.joblib\")\n",
    "dump(finalPolyConverter, \"Degree3PolyConverter.joblib\")"
   ]
  },
  {
   "cell_type": "code",
   "execution_count": null,
   "id": "1f9193a2",
   "metadata": {},
   "outputs": [],
   "source": []
  }
 ],
 "metadata": {
  "kernelspec": {
   "display_name": "Python 3 (ipykernel)",
   "language": "python",
   "name": "python3"
  },
  "language_info": {
   "codemirror_mode": {
    "name": "ipython",
    "version": 3
   },
   "file_extension": ".py",
   "mimetype": "text/x-python",
   "name": "python",
   "nbconvert_exporter": "python",
   "pygments_lexer": "ipython3",
   "version": "3.9.15"
  }
 },
 "nbformat": 4,
 "nbformat_minor": 5
}
