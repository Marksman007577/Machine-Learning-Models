{
 "cells": [
  {
   "cell_type": "code",
   "execution_count": 103,
   "id": "998de8a9",
   "metadata": {},
   "outputs": [],
   "source": [
    "# importing libraries\n",
    "import numpy as np\n",
    "import pandas as pd\n",
    "import matplotlib.pyplot as plt\n",
    "import seaborn as sns\n",
    "import math\n",
    "\n",
    "from sklearn.model_selection import train_test_split\n",
    "from sklearn.linear_model import Ridge\n",
    "from sklearn.linear_model import LassoCV\n",
    "from sklearn.linear_model import ElasticNetCV\n",
    "from sklearn.preprocessing import PolynomialFeatures\n",
    "from sklearn.preprocessing import StandardScaler \n",
    "from sklearn.metrics import mean_absolute_error, mean_squared_error\n",
    "\n",
    "\n",
    "from joblib import dump, load"
   ]
  },
  {
   "cell_type": "code",
   "execution_count": 48,
   "id": "51286e84",
   "metadata": {},
   "outputs": [],
   "source": [
    "def root_mean_square_error(y_test, model_predictions):\n",
    "    \"\"\"function to perform root mean squared error\"\"\"\n",
    "    mse = mean_squared_error(y_test, model_predictions)\n",
    "    return math.sqrt(mse)"
   ]
  },
  {
   "cell_type": "code",
   "execution_count": 49,
   "id": "38bf8be6",
   "metadata": {},
   "outputs": [],
   "source": [
    "# Read in the dataset\n",
    "df = pd.read_csv(\"Advertising.csv\")"
   ]
  },
  {
   "cell_type": "code",
   "execution_count": 50,
   "id": "a1160148",
   "metadata": {},
   "outputs": [
    {
     "data": {
      "text/html": [
       "<div>\n",
       "<style scoped>\n",
       "    .dataframe tbody tr th:only-of-type {\n",
       "        vertical-align: middle;\n",
       "    }\n",
       "\n",
       "    .dataframe tbody tr th {\n",
       "        vertical-align: top;\n",
       "    }\n",
       "\n",
       "    .dataframe thead th {\n",
       "        text-align: right;\n",
       "    }\n",
       "</style>\n",
       "<table border=\"1\" class=\"dataframe\">\n",
       "  <thead>\n",
       "    <tr style=\"text-align: right;\">\n",
       "      <th></th>\n",
       "      <th>TV</th>\n",
       "      <th>radio</th>\n",
       "      <th>newspaper</th>\n",
       "      <th>sales</th>\n",
       "    </tr>\n",
       "  </thead>\n",
       "  <tbody>\n",
       "    <tr>\n",
       "      <th>0</th>\n",
       "      <td>230.1</td>\n",
       "      <td>37.8</td>\n",
       "      <td>69.2</td>\n",
       "      <td>22.1</td>\n",
       "    </tr>\n",
       "    <tr>\n",
       "      <th>1</th>\n",
       "      <td>44.5</td>\n",
       "      <td>39.3</td>\n",
       "      <td>45.1</td>\n",
       "      <td>10.4</td>\n",
       "    </tr>\n",
       "    <tr>\n",
       "      <th>2</th>\n",
       "      <td>17.2</td>\n",
       "      <td>45.9</td>\n",
       "      <td>69.3</td>\n",
       "      <td>9.3</td>\n",
       "    </tr>\n",
       "    <tr>\n",
       "      <th>3</th>\n",
       "      <td>151.5</td>\n",
       "      <td>41.3</td>\n",
       "      <td>58.5</td>\n",
       "      <td>18.5</td>\n",
       "    </tr>\n",
       "    <tr>\n",
       "      <th>4</th>\n",
       "      <td>180.8</td>\n",
       "      <td>10.8</td>\n",
       "      <td>58.4</td>\n",
       "      <td>12.9</td>\n",
       "    </tr>\n",
       "    <tr>\n",
       "      <th>...</th>\n",
       "      <td>...</td>\n",
       "      <td>...</td>\n",
       "      <td>...</td>\n",
       "      <td>...</td>\n",
       "    </tr>\n",
       "    <tr>\n",
       "      <th>195</th>\n",
       "      <td>38.2</td>\n",
       "      <td>3.7</td>\n",
       "      <td>13.8</td>\n",
       "      <td>7.6</td>\n",
       "    </tr>\n",
       "    <tr>\n",
       "      <th>196</th>\n",
       "      <td>94.2</td>\n",
       "      <td>4.9</td>\n",
       "      <td>8.1</td>\n",
       "      <td>9.7</td>\n",
       "    </tr>\n",
       "    <tr>\n",
       "      <th>197</th>\n",
       "      <td>177.0</td>\n",
       "      <td>9.3</td>\n",
       "      <td>6.4</td>\n",
       "      <td>12.8</td>\n",
       "    </tr>\n",
       "    <tr>\n",
       "      <th>198</th>\n",
       "      <td>283.6</td>\n",
       "      <td>42.0</td>\n",
       "      <td>66.2</td>\n",
       "      <td>25.5</td>\n",
       "    </tr>\n",
       "    <tr>\n",
       "      <th>199</th>\n",
       "      <td>232.1</td>\n",
       "      <td>8.6</td>\n",
       "      <td>8.7</td>\n",
       "      <td>13.4</td>\n",
       "    </tr>\n",
       "  </tbody>\n",
       "</table>\n",
       "<p>200 rows × 4 columns</p>\n",
       "</div>"
      ],
      "text/plain": [
       "        TV  radio  newspaper  sales\n",
       "0    230.1   37.8       69.2   22.1\n",
       "1     44.5   39.3       45.1   10.4\n",
       "2     17.2   45.9       69.3    9.3\n",
       "3    151.5   41.3       58.5   18.5\n",
       "4    180.8   10.8       58.4   12.9\n",
       "..     ...    ...        ...    ...\n",
       "195   38.2    3.7       13.8    7.6\n",
       "196   94.2    4.9        8.1    9.7\n",
       "197  177.0    9.3        6.4   12.8\n",
       "198  283.6   42.0       66.2   25.5\n",
       "199  232.1    8.6        8.7   13.4\n",
       "\n",
       "[200 rows x 4 columns]"
      ]
     },
     "execution_count": 50,
     "metadata": {},
     "output_type": "execute_result"
    }
   ],
   "source": [
    "df"
   ]
  },
  {
   "cell_type": "code",
   "execution_count": 51,
   "id": "99e46b87",
   "metadata": {},
   "outputs": [],
   "source": [
    "# seperate X features and y label\n",
    "X = df.drop(\"sales\", axis=1)\n",
    "y = df[\"sales\"]"
   ]
  },
  {
   "cell_type": "code",
   "execution_count": 52,
   "id": "67dbf37e",
   "metadata": {},
   "outputs": [],
   "source": [
    "# create an instance of the polynomial feature converter\n",
    "polyConverter = PolynomialFeatures(degree=2,include_bias=False)"
   ]
  },
  {
   "cell_type": "code",
   "execution_count": 53,
   "id": "6d209ce8",
   "metadata": {},
   "outputs": [
    {
     "data": {
      "text/plain": [
       "PolynomialFeatures(include_bias=False)"
      ]
     },
     "execution_count": 53,
     "metadata": {},
     "output_type": "execute_result"
    }
   ],
   "source": [
    "polyConverter"
   ]
  },
  {
   "cell_type": "code",
   "execution_count": 54,
   "id": "f7dacaf0",
   "metadata": {},
   "outputs": [
    {
     "data": {
      "text/plain": [
       "PolynomialFeatures(include_bias=False)"
      ]
     },
     "execution_count": 54,
     "metadata": {},
     "output_type": "execute_result"
    }
   ],
   "source": [
    "# fit the polyFeature to you dataset's feature X\n",
    "polyConverter.fit(X)"
   ]
  },
  {
   "cell_type": "code",
   "execution_count": 55,
   "id": "aa53a8c7",
   "metadata": {},
   "outputs": [],
   "source": [
    "# transform the fitted dataset\n",
    "polyFeatures = polyConverter.transform(X)"
   ]
  },
  {
   "cell_type": "code",
   "execution_count": 56,
   "id": "1b885d8e",
   "metadata": {},
   "outputs": [
    {
     "data": {
      "text/plain": [
       "array([[ 230.1 ,   37.8 ,   69.2 , ..., 1428.84, 2615.76, 4788.64],\n",
       "       [  44.5 ,   39.3 ,   45.1 , ..., 1544.49, 1772.43, 2034.01],\n",
       "       [  17.2 ,   45.9 ,   69.3 , ..., 2106.81, 3180.87, 4802.49],\n",
       "       ...,\n",
       "       [ 177.  ,    9.3 ,    6.4 , ...,   86.49,   59.52,   40.96],\n",
       "       [ 283.6 ,   42.  ,   66.2 , ..., 1764.  , 2780.4 , 4382.44],\n",
       "       [ 232.1 ,    8.6 ,    8.7 , ...,   73.96,   74.82,   75.69]])"
      ]
     },
     "execution_count": 56,
     "metadata": {},
     "output_type": "execute_result"
    }
   ],
   "source": [
    "polyFeatures"
   ]
  },
  {
   "cell_type": "code",
   "execution_count": 57,
   "id": "b80ce04c",
   "metadata": {},
   "outputs": [
    {
     "data": {
      "text/plain": [
       "(200, 9)"
      ]
     },
     "execution_count": 57,
     "metadata": {},
     "output_type": "execute_result"
    }
   ],
   "source": [
    "polyFeatures.shape"
   ]
  },
  {
   "cell_type": "code",
   "execution_count": 58,
   "id": "9cae6f5c",
   "metadata": {},
   "outputs": [],
   "source": [
    "# perform a train test split of the new dataset\n",
    "XTrain, XTest, yTrain, yTest = train_test_split(polyFeatures, y, test_size=0.3, random_state=101)"
   ]
  },
  {
   "cell_type": "code",
   "execution_count": 59,
   "id": "89a279f7",
   "metadata": {},
   "outputs": [],
   "source": [
    "# scaling the data\n",
    "# create an instance of a feature scaler\n",
    "# Do not scale the test data\n",
    "scaler = StandardScaler()"
   ]
  },
  {
   "cell_type": "code",
   "execution_count": 60,
   "id": "e676f2a0",
   "metadata": {},
   "outputs": [
    {
     "data": {
      "text/plain": [
       "StandardScaler()"
      ]
     },
     "execution_count": 60,
     "metadata": {},
     "output_type": "execute_result"
    }
   ],
   "source": [
    "# fit the scaler to the training X feature\n",
    "scaler.fit(XTrain)"
   ]
  },
  {
   "cell_type": "code",
   "execution_count": 61,
   "id": "e69d2550",
   "metadata": {},
   "outputs": [],
   "source": [
    "# create the transformed version of the scaled training X features\n",
    "scaledXTrain = scaler.transform(XTrain)\n",
    "scaledXTest = scaler.transform(XTest)"
   ]
  },
  {
   "cell_type": "markdown",
   "id": "d0fe89e1",
   "metadata": {},
   "source": [
    "If L2 Regression is to be used (Ridge Regression)"
   ]
  },
  {
   "cell_type": "code",
   "execution_count": 62,
   "id": "b70b0e12",
   "metadata": {},
   "outputs": [],
   "source": [
    "# create the Ridge regression instance\n",
    "ridgeModel = Ridge(alpha=10)\n",
    "\n",
    "# fit the ridge model to the scaled train features and the training label\n",
    "ridgeModel.fit(scaledXTrain, yTrain)\n",
    "\n",
    "# predict on the scaled test data\n",
    "testPredictions = ridgeModel.predict(scaledXTest)"
   ]
  },
  {
   "cell_type": "code",
   "execution_count": 63,
   "id": "8810e2e4",
   "metadata": {},
   "outputs": [
    {
     "data": {
      "text/plain": [
       "array([ 2.0253565 ,  0.57587147,  0.02372659, -0.32734244,  2.93152785,\n",
       "        0.28880115,  0.21228042,  0.11181648, -0.29031937])"
      ]
     },
     "execution_count": 63,
     "metadata": {},
     "output_type": "execute_result"
    }
   ],
   "source": [
    "ridgeModel.coef_"
   ]
  },
  {
   "cell_type": "code",
   "execution_count": 64,
   "id": "07d42c60",
   "metadata": {},
   "outputs": [
    {
     "data": {
      "text/plain": [
       "array([14.32673455, 19.25815758, 11.69469548, 16.42500182,  9.09129244,\n",
       "        7.95797212, 20.27422814, 17.02545533, 10.00958252, 19.71986909,\n",
       "       10.88611604, 13.43439248, 12.17979897, 22.64359896, 18.80918807,\n",
       "        9.85358071, 13.1492644 ,  8.9062176 ,  8.72869048, 21.25100547,\n",
       "        8.26080736, 18.64293453, 27.44683809, 24.6589422 ,  9.06960489,\n",
       "       11.71388664, 21.00884242,  8.9941525 , 12.1779096 ,  9.78252415,\n",
       "        9.28573542, 19.79102624, 10.35880689,  7.49474714, 17.57121911,\n",
       "        8.96827085, 10.00450626,  9.31295841,  8.96428346, 10.49576719,\n",
       "       11.06103312, 10.08369606, 10.68350214,  8.13453698, 11.44235603,\n",
       "       10.37485094,  8.24553957, 15.55759714, 12.79840424, 21.99415126,\n",
       "       11.14003461, 13.06866653, 15.47679074, 11.36058689, 11.55584049,\n",
       "        7.15311399, 24.74437741, 11.02151242, 17.59760827, 15.11048175])"
      ]
     },
     "execution_count": 64,
     "metadata": {},
     "output_type": "execute_result"
    }
   ],
   "source": [
    "testPredictions"
   ]
  },
  {
   "cell_type": "code",
   "execution_count": 65,
   "id": "8999c9f4",
   "metadata": {},
   "outputs": [
    {
     "data": {
      "text/plain": [
       "(60,)"
      ]
     },
     "execution_count": 65,
     "metadata": {},
     "output_type": "execute_result"
    }
   ],
   "source": [
    "testPredictions.shape"
   ]
  },
  {
   "cell_type": "code",
   "execution_count": 66,
   "id": "381e0471",
   "metadata": {},
   "outputs": [
    {
     "data": {
      "text/plain": [
       "37     14.7\n",
       "109    19.8\n",
       "31     11.9\n",
       "89     16.7\n",
       "66      9.5\n",
       "119     6.6\n",
       "54     20.2\n",
       "74     17.0\n",
       "145    10.3\n",
       "142    20.1\n",
       "148    10.9\n",
       "112    14.1\n",
       "174    11.5\n",
       "55     23.7\n",
       "141    19.2\n",
       "149    10.1\n",
       "25     12.0\n",
       "34      9.5\n",
       "170     8.4\n",
       "39     21.5\n",
       "172     7.6\n",
       "153    19.0\n",
       "175    27.0\n",
       "61     24.2\n",
       "65      9.3\n",
       "50     11.4\n",
       "42     20.7\n",
       "129     9.7\n",
       "179    12.6\n",
       "2       9.3\n",
       "12      9.2\n",
       "133    19.6\n",
       "90     11.2\n",
       "22      5.6\n",
       "41     17.1\n",
       "32      9.6\n",
       "125    10.6\n",
       "196     9.7\n",
       "158     7.3\n",
       "180    10.5\n",
       "16     12.5\n",
       "186    10.3\n",
       "144    11.4\n",
       "121     7.0\n",
       "80     11.8\n",
       "18     11.3\n",
       "78      5.3\n",
       "48     14.8\n",
       "4      12.9\n",
       "15     22.4\n",
       "1      10.4\n",
       "43     12.9\n",
       "102    14.8\n",
       "164    11.9\n",
       "9      10.6\n",
       "155     3.2\n",
       "36     25.4\n",
       "190    10.8\n",
       "33     17.4\n",
       "45     14.9\n",
       "Name: sales, dtype: float64"
      ]
     },
     "execution_count": 66,
     "metadata": {},
     "output_type": "execute_result"
    }
   ],
   "source": [
    "yTest"
   ]
  },
  {
   "cell_type": "code",
   "execution_count": 67,
   "id": "f414a5b6",
   "metadata": {},
   "outputs": [
    {
     "name": "stdout",
     "output_type": "stream",
     "text": [
      "37     0.373265\n",
      "109    0.541842\n",
      "31     0.205305\n",
      "89     0.274998\n",
      "66     0.408708\n",
      "119   -1.357972\n",
      "54    -0.074228\n",
      "74    -0.025455\n",
      "145    0.290417\n",
      "142    0.380131\n",
      "148    0.013884\n",
      "112    0.665608\n",
      "174   -0.679799\n",
      "55     1.056401\n",
      "141    0.390812\n",
      "149    0.246419\n",
      "25    -1.149264\n",
      "34     0.593782\n",
      "170   -0.328690\n",
      "39     0.248995\n",
      "172   -0.660807\n",
      "153    0.357065\n",
      "175   -0.446838\n",
      "61    -0.458942\n",
      "65     0.230395\n",
      "50    -0.313887\n",
      "42    -0.308842\n",
      "129    0.705848\n",
      "179    0.422090\n",
      "2     -0.482524\n",
      "12    -0.085735\n",
      "133   -0.191026\n",
      "90     0.841193\n",
      "22    -1.894747\n",
      "41    -0.471219\n",
      "32     0.631729\n",
      "125    0.595494\n",
      "196    0.387042\n",
      "158   -1.664283\n",
      "180    0.004233\n",
      "16     1.438967\n",
      "186    0.216304\n",
      "144    0.716498\n",
      "121   -1.134537\n",
      "80     0.357644\n",
      "18     0.925149\n",
      "78    -2.945540\n",
      "48    -0.757597\n",
      "4      0.101596\n",
      "15     0.405849\n",
      "1     -0.740035\n",
      "43    -0.168667\n",
      "102   -0.676791\n",
      "164    0.539413\n",
      "9     -0.955840\n",
      "155   -3.953114\n",
      "36     0.655623\n",
      "190   -0.221512\n",
      "33    -0.197608\n",
      "45    -0.210482\n",
      "Name: sales, dtype: float64\n"
     ]
    }
   ],
   "source": [
    "error = yTest - testPredictions\n",
    "print(error)"
   ]
  },
  {
   "cell_type": "code",
   "execution_count": 68,
   "id": "eb562c80",
   "metadata": {},
   "outputs": [],
   "source": [
    "# Evalaute the error metrics\n",
    "MAE = mean_absolute_error(yTest, testPredictions)\n",
    "MSE = mean_squared_error(yTest, testPredictions)\n",
    "RMSE = root_mean_square_error(y_test=yTest, model_predictions=testPredictions)"
   ]
  },
  {
   "cell_type": "code",
   "execution_count": 69,
   "id": "0e2d9253",
   "metadata": {},
   "outputs": [
    {
     "data": {
      "text/plain": [
       "0.6296447027356379"
      ]
     },
     "execution_count": 69,
     "metadata": {},
     "output_type": "execute_result"
    }
   ],
   "source": [
    "MAE"
   ]
  },
  {
   "cell_type": "code",
   "execution_count": 70,
   "id": "1292418a",
   "metadata": {},
   "outputs": [
    {
     "data": {
      "text/plain": [
       "0.8332946627175718"
      ]
     },
     "execution_count": 70,
     "metadata": {},
     "output_type": "execute_result"
    }
   ],
   "source": [
    "MSE"
   ]
  },
  {
   "cell_type": "code",
   "execution_count": 71,
   "id": "de6f9d43",
   "metadata": {},
   "outputs": [
    {
     "data": {
      "text/plain": [
       "0.912849748160984"
      ]
     },
     "execution_count": 71,
     "metadata": {},
     "output_type": "execute_result"
    }
   ],
   "source": [
    "RMSE"
   ]
  },
  {
   "cell_type": "code",
   "execution_count": 72,
   "id": "aa78745b",
   "metadata": {},
   "outputs": [
    {
     "name": "stderr",
     "output_type": "stream",
     "text": [
      "C:\\Users\\User\\anaconda3\\lib\\site-packages\\sklearn\\linear_model\\_ridge.py:157: LinAlgWarning: Ill-conditioned matrix (rcond=4.62145e-20): result may not be accurate.\n",
      "  return linalg.solve(A, Xy, sym_pos=True, overwrite_a=True).T\n",
      "C:\\Users\\User\\anaconda3\\lib\\site-packages\\sklearn\\linear_model\\_ridge.py:157: LinAlgWarning: Ill-conditioned matrix (rcond=2.04765e-25): result may not be accurate.\n",
      "  return linalg.solve(A, Xy, sym_pos=True, overwrite_a=True).T\n",
      "C:\\Users\\User\\anaconda3\\lib\\site-packages\\sklearn\\linear_model\\_ridge.py:157: LinAlgWarning: Ill-conditioned matrix (rcond=1.89469e-30): result may not be accurate.\n",
      "  return linalg.solve(A, Xy, sym_pos=True, overwrite_a=True).T\n",
      "C:\\Users\\User\\anaconda3\\lib\\site-packages\\sklearn\\linear_model\\_ridge.py:157: LinAlgWarning: Ill-conditioned matrix (rcond=2.25584e-35): result may not be accurate.\n",
      "  return linalg.solve(A, Xy, sym_pos=True, overwrite_a=True).T\n",
      "C:\\Users\\User\\anaconda3\\lib\\site-packages\\sklearn\\linear_model\\_ridge.py:196: UserWarning: Singular matrix in solving dual problem. Using least-squares solution instead.\n",
      "  warnings.warn(\n",
      "C:\\Users\\User\\anaconda3\\lib\\site-packages\\sklearn\\linear_model\\_ridge.py:196: UserWarning: Singular matrix in solving dual problem. Using least-squares solution instead.\n",
      "  warnings.warn(\n"
     ]
    }
   ],
   "source": [
    "# Evaluate the optimal degree for the Ridge regression model for model complexity\n",
    "trainRMSEErrors = []\n",
    "testRMSEErrors = []\n",
    "\n",
    "for d in range(1, 10):\n",
    "    polyConverter = PolynomialFeatures(degree=d,include_bias=False)\n",
    "    polyConverter.fit(X)\n",
    "    polyFeatures = polyConverter.transform(X)\n",
    "    \n",
    "    scaledXTrain, scaledXTest, yTrain, yTest = train_test_split(polyFeatures, y, test_size=0.3, random_state=101)\n",
    "    \n",
    "    ridgeModel = Ridge(alpha=10)\n",
    "    ridgeModel.fit(scaledXTrain, yTrain)\n",
    "    \n",
    "    trainPrediction = ridgeModel.predict(scaledXTrain)\n",
    "    testPrediction = ridgeModel.predict(scaledXTest)\n",
    "    \n",
    "    trainRMSE = np.sqrt(mean_squared_error(yTrain, trainPrediction))\n",
    "    testRMSE = np.sqrt(mean_squared_error(yTest, testPrediction))\n",
    "    \n",
    "    trainRMSEErrors.append(trainRMSE)\n",
    "    testRMSEErrors.append(testRMSE)\n"
   ]
  },
  {
   "cell_type": "code",
   "execution_count": 73,
   "id": "209d7eed",
   "metadata": {},
   "outputs": [
    {
     "data": {
      "text/plain": [
       "[1.7345943880348609,\n",
       " 0.5879575179662655,\n",
       " 0.43393947167073116,\n",
       " 0.3517402584317923,\n",
       " 0.2524994601815723,\n",
       " 0.195029070320644,\n",
       " 0.118957526954486,\n",
       " 1.7597791477860458,\n",
       " 3.088598562699031]"
      ]
     },
     "execution_count": 73,
     "metadata": {},
     "output_type": "execute_result"
    }
   ],
   "source": [
    "trainRMSEErrors"
   ]
  },
  {
   "cell_type": "code",
   "execution_count": 74,
   "id": "bae457e0",
   "metadata": {},
   "outputs": [
    {
     "data": {
      "text/plain": [
       "[1.5161875681803991,\n",
       " 0.664650335413919,\n",
       " 0.580527304565914,\n",
       " 0.5071115082386404,\n",
       " 2.6035583591754707,\n",
       " 4.239613209003251,\n",
       " 44.65713647063396,\n",
       " 29.803194324922536,\n",
       " 16.965586579545523]"
      ]
     },
     "execution_count": 74,
     "metadata": {},
     "output_type": "execute_result"
    }
   ],
   "source": [
    "testRMSEErrors"
   ]
  },
  {
   "cell_type": "code",
   "execution_count": 75,
   "id": "ea75db92",
   "metadata": {},
   "outputs": [
    {
     "data": {
      "text/plain": [
       "<matplotlib.legend.Legend at 0x1dba276f8b0>"
      ]
     },
     "execution_count": 75,
     "metadata": {},
     "output_type": "execute_result"
    },
    {
     "data": {
      "image/png": "[encoded data removed]",
      "text/plain": [
       "<Figure size 640x480 with 1 Axes>"
      ]
     },
     "metadata": {},
     "output_type": "display_data"
    }
   ],
   "source": [
    "# plot to visualize these errors to determine the degree that matches the model\n",
    "plt.plot(range(1,6), trainRMSEErrors[:5], label=\"TRAIN RMSE\")\n",
    "plt.plot(range(1,6), testRMSEErrors[:5], label=\"TEST RMSE\")\n",
    "plt.xlabel(\"Degree of Polynomial\")\n",
    "plt.ylabel(\"RMSE\")\n",
    "plt.legend()"
   ]
  },
  {
   "cell_type": "raw",
   "id": "c33b06a9",
   "metadata": {},
   "source": [
    "If L1 Regression is to be used (LASSO Regression)Least Absolute Shrinkage and Selector Operator"
   ]
  },
  {
   "cell_type": "code",
   "execution_count": 86,
   "id": "8a24d98e",
   "metadata": {},
   "outputs": [],
   "source": [
    "# create the Lasso regression instance\n",
    "lassoModel = LassoCV(eps=0.001, n_alphas=100, cv=5, max_iter=1000000)\n",
    "\n",
    "# fit the ridge model to the scaled train features and the training label\n",
    "lassoModel.fit(scaledXTrain, yTrain)\n",
    "\n",
    "lassoModel.alpha_\n",
    "\n",
    "# predict on the scaled test data\n",
    "testPredictionsLasso = lassoModel.predict(scaledXTest)"
   ]
  },
  {
   "cell_type": "code",
   "execution_count": 87,
   "id": "79296812",
   "metadata": {},
   "outputs": [
    {
     "data": {
      "text/plain": [
       "array([13.1560657 , 18.67226094, 13.15855788, 13.16612351, 13.15553701,\n",
       "       13.1555367 , 20.00039093, 14.27936509, 13.15155753, 14.90246808,\n",
       "       13.15553895, 13.31029272, 12.95478301, 14.33630294, 13.64708843,\n",
       "       13.15554136, 11.84282768, 13.15539597, 13.15554064, 15.99619155,\n",
       "       13.1555367 , 13.46179341, 30.69980993, 21.64802426, 13.15559423,\n",
       "       12.92608656, 30.70308301, 13.15554287, 13.18796268, 13.1555367 ,\n",
       "       13.15553673, 14.77742943, 13.15716522, 13.1555367 , 13.46589899,\n",
       "       13.154906  , 13.15579134, 13.15570294, 13.1555367 , 13.14891461,\n",
       "       13.1556207 , 13.14542872, 13.15613189, 13.1555367 , 13.15587786,\n",
       "       13.15565257, 13.1555367 , 13.43087105, 13.10591538, 14.17177202,\n",
       "       13.15554306, 13.16660787, 14.1085329 , 13.16140077, 12.99922802,\n",
       "       13.1555367 , 26.99066504, 13.15553992, 18.63169872, 13.32440602])"
      ]
     },
     "execution_count": 87,
     "metadata": {},
     "output_type": "execute_result"
    }
   ],
   "source": [
    "testPredictionsLasso"
   ]
  },
  {
   "cell_type": "code",
   "execution_count": 88,
   "id": "bee55076",
   "metadata": {},
   "outputs": [
    {
     "data": {
      "text/plain": [
       "array([ 0.00000000e+00,  0.00000000e+00,  0.00000000e+00,  0.00000000e+00,\n",
       "        0.00000000e+00,  0.00000000e+00,  0.00000000e+00,  0.00000000e+00,\n",
       "        0.00000000e+00,  0.00000000e+00,  0.00000000e+00,  0.00000000e+00,\n",
       "        0.00000000e+00,  0.00000000e+00,  0.00000000e+00,  0.00000000e+00,\n",
       "        0.00000000e+00,  0.00000000e+00,  0.00000000e+00,  0.00000000e+00,\n",
       "        0.00000000e+00,  0.00000000e+00,  0.00000000e+00,  0.00000000e+00,\n",
       "        0.00000000e+00,  0.00000000e+00,  0.00000000e+00,  0.00000000e+00,\n",
       "        0.00000000e+00,  0.00000000e+00,  0.00000000e+00,  0.00000000e+00,\n",
       "        0.00000000e+00,  0.00000000e+00,  0.00000000e+00,  0.00000000e+00,\n",
       "        0.00000000e+00,  0.00000000e+00,  0.00000000e+00,  0.00000000e+00,\n",
       "        0.00000000e+00,  0.00000000e+00,  0.00000000e+00,  0.00000000e+00,\n",
       "        0.00000000e+00,  0.00000000e+00,  0.00000000e+00,  0.00000000e+00,\n",
       "        0.00000000e+00,  0.00000000e+00,  0.00000000e+00,  0.00000000e+00,\n",
       "        0.00000000e+00,  0.00000000e+00,  0.00000000e+00,  0.00000000e+00,\n",
       "        0.00000000e+00,  0.00000000e+00,  0.00000000e+00,  0.00000000e+00,\n",
       "        0.00000000e+00,  0.00000000e+00,  0.00000000e+00,  0.00000000e+00,\n",
       "        0.00000000e+00,  0.00000000e+00,  0.00000000e+00,  0.00000000e+00,\n",
       "        0.00000000e+00,  0.00000000e+00,  0.00000000e+00,  0.00000000e+00,\n",
       "        0.00000000e+00,  0.00000000e+00,  0.00000000e+00,  0.00000000e+00,\n",
       "        0.00000000e+00,  0.00000000e+00,  0.00000000e+00,  0.00000000e+00,\n",
       "        0.00000000e+00,  0.00000000e+00,  0.00000000e+00,  0.00000000e+00,\n",
       "        0.00000000e+00,  0.00000000e+00,  0.00000000e+00,  0.00000000e+00,\n",
       "        0.00000000e+00,  0.00000000e+00,  0.00000000e+00,  0.00000000e+00,\n",
       "        0.00000000e+00,  0.00000000e+00,  0.00000000e+00,  0.00000000e+00,\n",
       "        0.00000000e+00,  0.00000000e+00,  0.00000000e+00,  0.00000000e+00,\n",
       "        0.00000000e+00,  0.00000000e+00,  0.00000000e+00,  0.00000000e+00,\n",
       "        0.00000000e+00,  0.00000000e+00,  0.00000000e+00,  0.00000000e+00,\n",
       "        0.00000000e+00,  0.00000000e+00,  0.00000000e+00,  0.00000000e+00,\n",
       "        0.00000000e+00,  0.00000000e+00,  0.00000000e+00,  0.00000000e+00,\n",
       "       -0.00000000e+00, -0.00000000e+00,  0.00000000e+00,  0.00000000e+00,\n",
       "        0.00000000e+00,  0.00000000e+00,  0.00000000e+00,  0.00000000e+00,\n",
       "        0.00000000e+00,  0.00000000e+00,  0.00000000e+00,  0.00000000e+00,\n",
       "        0.00000000e+00,  0.00000000e+00,  0.00000000e+00,  0.00000000e+00,\n",
       "        0.00000000e+00,  0.00000000e+00,  0.00000000e+00,  0.00000000e+00,\n",
       "        0.00000000e+00,  0.00000000e+00,  0.00000000e+00,  0.00000000e+00,\n",
       "        0.00000000e+00,  0.00000000e+00,  0.00000000e+00,  0.00000000e+00,\n",
       "        0.00000000e+00,  0.00000000e+00,  0.00000000e+00,  0.00000000e+00,\n",
       "        0.00000000e+00,  0.00000000e+00,  0.00000000e+00,  0.00000000e+00,\n",
       "        0.00000000e+00,  0.00000000e+00,  0.00000000e+00,  0.00000000e+00,\n",
       "        0.00000000e+00,  0.00000000e+00,  0.00000000e+00, -0.00000000e+00,\n",
       "       -0.00000000e+00, -0.00000000e+00, -0.00000000e+00, -0.00000000e+00,\n",
       "       -2.05129247e-22,  1.38206945e-20, -2.66498718e-21,  0.00000000e+00,\n",
       "       -0.00000000e+00,  0.00000000e+00,  0.00000000e+00,  0.00000000e+00,\n",
       "        0.00000000e+00,  0.00000000e+00,  0.00000000e+00,  0.00000000e+00,\n",
       "        0.00000000e+00,  0.00000000e+00,  0.00000000e+00,  0.00000000e+00,\n",
       "        0.00000000e+00,  0.00000000e+00,  0.00000000e+00,  0.00000000e+00,\n",
       "        0.00000000e+00,  0.00000000e+00,  0.00000000e+00,  0.00000000e+00,\n",
       "        0.00000000e+00,  0.00000000e+00,  0.00000000e+00,  0.00000000e+00,\n",
       "        0.00000000e+00,  0.00000000e+00,  0.00000000e+00,  0.00000000e+00,\n",
       "        0.00000000e+00,  0.00000000e+00,  0.00000000e+00,  0.00000000e+00,\n",
       "        0.00000000e+00,  0.00000000e+00,  0.00000000e+00,  0.00000000e+00,\n",
       "        0.00000000e+00,  0.00000000e+00,  0.00000000e+00,  0.00000000e+00,\n",
       "        0.00000000e+00,  0.00000000e+00,  0.00000000e+00,  0.00000000e+00,\n",
       "        0.00000000e+00, -0.00000000e+00, -0.00000000e+00, -0.00000000e+00,\n",
       "       -0.00000000e+00, -0.00000000e+00, -0.00000000e+00])"
      ]
     },
     "execution_count": 88,
     "metadata": {},
     "output_type": "execute_result"
    }
   ],
   "source": [
    "lassoModel.coef_"
   ]
  },
  {
   "cell_type": "code",
   "execution_count": 89,
   "id": "f37dc37a",
   "metadata": {},
   "outputs": [
    {
     "data": {
      "text/plain": [
       "1.1762045226223022e+19"
      ]
     },
     "execution_count": 89,
     "metadata": {},
     "output_type": "execute_result"
    }
   ],
   "source": [
    "lassoModel.alpha_"
   ]
  },
  {
   "cell_type": "code",
   "execution_count": 90,
   "id": "a99e6b66",
   "metadata": {},
   "outputs": [],
   "source": [
    "# Evalaute the error metrics\n",
    "MAE = mean_absolute_error(yTest, testPredictionsLasso)\n",
    "MSE = mean_squared_error(yTest, testPredictionsLasso)\n",
    "RMSE = root_mean_square_error(y_test=yTest, model_predictions=testPredictionsLasso)"
   ]
  },
  {
   "cell_type": "code",
   "execution_count": 91,
   "id": "ded0dc7d",
   "metadata": {},
   "outputs": [
    {
     "data": {
      "text/plain": [
       "3.369667448582075"
      ]
     },
     "execution_count": 91,
     "metadata": {},
     "output_type": "execute_result"
    }
   ],
   "source": [
    "MAE"
   ]
  },
  {
   "cell_type": "code",
   "execution_count": 92,
   "id": "eff3dcd5",
   "metadata": {},
   "outputs": [
    {
     "data": {
      "text/plain": [
       "17.383414806671727"
      ]
     },
     "execution_count": 92,
     "metadata": {},
     "output_type": "execute_result"
    }
   ],
   "source": [
    "MSE"
   ]
  },
  {
   "cell_type": "code",
   "execution_count": 93,
   "id": "f715726f",
   "metadata": {},
   "outputs": [
    {
     "data": {
      "text/plain": [
       "4.1693422510837035"
      ]
     },
     "execution_count": 93,
     "metadata": {},
     "output_type": "execute_result"
    }
   ],
   "source": [
    "RMSE"
   ]
  },
  {
   "cell_type": "code",
   "execution_count": 94,
   "id": "b2d59d73",
   "metadata": {},
   "outputs": [
    {
     "data": {
      "text/plain": [
       "(60,)"
      ]
     },
     "execution_count": 94,
     "metadata": {},
     "output_type": "execute_result"
    }
   ],
   "source": [
    "testPredictionsLasso.shape"
   ]
  },
  {
   "cell_type": "code",
   "execution_count": 95,
   "id": "2ea6ed46",
   "metadata": {},
   "outputs": [
    {
     "data": {
      "text/plain": [
       "37     14.7\n",
       "109    19.8\n",
       "31     11.9\n",
       "89     16.7\n",
       "66      9.5\n",
       "119     6.6\n",
       "54     20.2\n",
       "74     17.0\n",
       "145    10.3\n",
       "142    20.1\n",
       "148    10.9\n",
       "112    14.1\n",
       "174    11.5\n",
       "55     23.7\n",
       "141    19.2\n",
       "149    10.1\n",
       "25     12.0\n",
       "34      9.5\n",
       "170     8.4\n",
       "39     21.5\n",
       "172     7.6\n",
       "153    19.0\n",
       "175    27.0\n",
       "61     24.2\n",
       "65      9.3\n",
       "50     11.4\n",
       "42     20.7\n",
       "129     9.7\n",
       "179    12.6\n",
       "2       9.3\n",
       "12      9.2\n",
       "133    19.6\n",
       "90     11.2\n",
       "22      5.6\n",
       "41     17.1\n",
       "32      9.6\n",
       "125    10.6\n",
       "196     9.7\n",
       "158     7.3\n",
       "180    10.5\n",
       "16     12.5\n",
       "186    10.3\n",
       "144    11.4\n",
       "121     7.0\n",
       "80     11.8\n",
       "18     11.3\n",
       "78      5.3\n",
       "48     14.8\n",
       "4      12.9\n",
       "15     22.4\n",
       "1      10.4\n",
       "43     12.9\n",
       "102    14.8\n",
       "164    11.9\n",
       "9      10.6\n",
       "155     3.2\n",
       "36     25.4\n",
       "190    10.8\n",
       "33     17.4\n",
       "45     14.9\n",
       "Name: sales, dtype: float64"
      ]
     },
     "execution_count": 95,
     "metadata": {},
     "output_type": "execute_result"
    }
   ],
   "source": [
    "yTest"
   ]
  },
  {
   "cell_type": "code",
   "execution_count": 96,
   "id": "706541af",
   "metadata": {},
   "outputs": [
    {
     "name": "stdout",
     "output_type": "stream",
     "text": [
      "37      1.543934\n",
      "109     1.127739\n",
      "31     -1.258558\n",
      "89      3.533876\n",
      "66     -3.655537\n",
      "119    -6.555537\n",
      "54      0.199609\n",
      "74      2.720635\n",
      "145    -2.851558\n",
      "142     5.197532\n",
      "148    -2.255539\n",
      "112     0.789707\n",
      "174    -1.454783\n",
      "55      9.363697\n",
      "141     5.552912\n",
      "149    -3.055541\n",
      "25      0.157172\n",
      "34     -3.655396\n",
      "170    -4.755541\n",
      "39      5.503808\n",
      "172    -5.555537\n",
      "153     5.538207\n",
      "175    -3.699810\n",
      "61      2.551976\n",
      "65     -3.855594\n",
      "50     -1.526087\n",
      "42    -10.003083\n",
      "129    -3.455543\n",
      "179    -0.587963\n",
      "2      -3.855537\n",
      "12     -3.955537\n",
      "133     4.822571\n",
      "90     -1.957165\n",
      "22     -7.555537\n",
      "41      3.634101\n",
      "32     -3.554906\n",
      "125    -2.555791\n",
      "196    -3.455703\n",
      "158    -5.855537\n",
      "180    -2.648915\n",
      "16     -0.655621\n",
      "186    -2.845429\n",
      "144    -1.756132\n",
      "121    -6.155537\n",
      "80     -1.355878\n",
      "18     -1.855653\n",
      "78     -7.855537\n",
      "48      1.369129\n",
      "4      -0.205915\n",
      "15      8.228228\n",
      "1      -2.755543\n",
      "43     -0.266608\n",
      "102     0.691467\n",
      "164    -1.261401\n",
      "9      -2.399228\n",
      "155    -9.955537\n",
      "36     -1.590665\n",
      "190    -2.355540\n",
      "33     -1.231699\n",
      "45      1.575594\n",
      "Name: sales, dtype: float64\n"
     ]
    }
   ],
   "source": [
    "error = yTest - testPredictionsLasso\n",
    "print(error)"
   ]
  },
  {
   "cell_type": "code",
   "execution_count": 100,
   "id": "63353f5e",
   "metadata": {},
   "outputs": [
    {
     "data": {
      "text/plain": [
       "<matplotlib.legend.Legend at 0x1dba17139a0>"
      ]
     },
     "execution_count": 100,
     "metadata": {},
     "output_type": "execute_result"
    },
    {
     "data": {
      "image/png": "[encoded data removed]",
      "text/plain": [
       "<Figure size 640x480 with 1 Axes>"
      ]
     },
     "metadata": {},
     "output_type": "display_data"
    }
   ],
   "source": [
    "# Evaluate the optimal degree for the LASSO regression model for model complexity\n",
    "trainRMSEErrors = []\n",
    "testRMSEErrors = []\n",
    "\n",
    "for d in range(1, 10):\n",
    "    polyConverter = PolynomialFeatures(degree=d,include_bias=False)\n",
    "    polyConverter.fit(X)\n",
    "    polyFeatures = polyConverter.transform(X)\n",
    "    \n",
    "    scaledXTrain, scaledXTest, yTrain, yTest = train_test_split(polyFeatures, y, test_size=0.3, random_state=101)\n",
    "    \n",
    "    lassoModel = LassoCV(eps=0.001, n_alphas=100, cv=5, max_iter=1000000)\n",
    "    lassoModel.fit(scaledXTrain, yTrain)\n",
    "    \n",
    "    trainPrediction = lassoModel.predict(scaledXTrain)\n",
    "    testPrediction = lassoModel.predict(scaledXTest)\n",
    "    \n",
    "    trainRMSE = np.sqrt(mean_squared_error(yTrain, trainPrediction))\n",
    "    testRMSE = np.sqrt(mean_squared_error(yTest, testPrediction))\n",
    "    \n",
    "    trainRMSEErrors.append(trainRMSE)\n",
    "    testRMSEErrors.append(testRMSE)\n",
    "    \n",
    "    \n",
    "# plot to visualize these errors to determine the degree that matches the model\n",
    "plt.plot(range(1,6), trainRMSEErrors[:5], label=\"TRAIN RMSE\")\n",
    "plt.plot(range(1,6), testRMSEErrors[:5], label=\"TEST RMSE\")\n",
    "plt.xlabel(\"Degree of Polynomial\")\n",
    "plt.ylabel(\"RMSE\")\n",
    "plt.legend()"
   ]
  },
  {
   "cell_type": "code",
   "execution_count": 101,
   "id": "cf31c467",
   "metadata": {},
   "outputs": [
    {
     "data": {
      "text/plain": [
       "[1.7394941039385876,\n",
       " 1.1771659029023622,\n",
       " 1.8474580346494502,\n",
       " 2.4139841527256847,\n",
       " 2.8702107724179413,\n",
       " 3.2316293928814495,\n",
       " 3.52472853828653,\n",
       " 3.768339877114165,\n",
       " 3.982575267759357]"
      ]
     },
     "execution_count": 101,
     "metadata": {},
     "output_type": "execute_result"
    }
   ],
   "source": [
    "trainRMSEErrors"
   ]
  },
  {
   "cell_type": "code",
   "execution_count": 102,
   "id": "9e04a07d",
   "metadata": {},
   "outputs": [
    {
     "data": {
      "text/plain": [
       "[1.5289252794077175,\n",
       " 1.2151556695813133,\n",
       " 1.8669834828373244,\n",
       " 2.5114792733569904,\n",
       " 3.054932009217167,\n",
       " 3.468724342662704,\n",
       " 3.769736810360726,\n",
       " 3.989560133208849,\n",
       " 4.1693422510837035]"
      ]
     },
     "execution_count": 102,
     "metadata": {},
     "output_type": "execute_result"
    }
   ],
   "source": [
    "testRMSEErrors"
   ]
  },
  {
   "cell_type": "markdown",
   "id": "6b2479dc",
   "metadata": {},
   "source": [
    "If L1 + L2 Regression is to be used (ElasticNet Regression)"
   ]
  },
  {
   "cell_type": "code",
   "execution_count": 104,
   "id": "455e9a78",
   "metadata": {},
   "outputs": [],
   "source": [
    "# create the Lasso regression instance\n",
    "elasticNetModel = ElasticNetCV(l1_ratio=[0.1,0.5,0.7,0.9,0.95,0.99],eps=0.001, n_alphas=100, cv=5, max_iter=1000000)\n",
    "\n",
    "# fit the ridge model to the scaled train features and the training label\n",
    "elasticNetModel.fit(scaledXTrain, yTrain)\n",
    "\n",
    "elasticNetModel.alpha_\n",
    "\n",
    "# predict on the scaled test data\n",
    "testPredictionselasticNet = elasticNetModel.predict(scaledXTest)"
   ]
  },
  {
   "cell_type": "code",
   "execution_count": 105,
   "id": "ea2c7734",
   "metadata": {},
   "outputs": [
    {
     "data": {
      "text/plain": [
       "array([13.1560657 , 18.67226094, 13.15855788, 13.16612351, 13.15553701,\n",
       "       13.1555367 , 20.00039093, 14.27936509, 13.15155753, 14.90246808,\n",
       "       13.15553895, 13.31029272, 12.95478301, 14.33630294, 13.64708843,\n",
       "       13.15554136, 11.84282768, 13.15539597, 13.15554064, 15.99619155,\n",
       "       13.1555367 , 13.46179341, 30.69980993, 21.64802426, 13.15559423,\n",
       "       12.92608656, 30.70308301, 13.15554287, 13.18796268, 13.1555367 ,\n",
       "       13.15553673, 14.77742943, 13.15716522, 13.1555367 , 13.46589899,\n",
       "       13.154906  , 13.15579134, 13.15570294, 13.1555367 , 13.14891461,\n",
       "       13.1556207 , 13.14542872, 13.15613189, 13.1555367 , 13.15587786,\n",
       "       13.15565257, 13.1555367 , 13.43087105, 13.10591538, 14.17177202,\n",
       "       13.15554306, 13.16660787, 14.1085329 , 13.16140077, 12.99922802,\n",
       "       13.1555367 , 26.99066504, 13.15553992, 18.63169872, 13.32440602])"
      ]
     },
     "execution_count": 105,
     "metadata": {},
     "output_type": "execute_result"
    }
   ],
   "source": [
    "testPredictionselasticNet"
   ]
  },
  {
   "cell_type": "code",
   "execution_count": 107,
   "id": "6dee6c13",
   "metadata": {},
   "outputs": [
    {
     "data": {
      "text/plain": [
       "array([ 0.00000000e+00,  0.00000000e+00,  0.00000000e+00,  0.00000000e+00,\n",
       "        0.00000000e+00,  0.00000000e+00,  0.00000000e+00,  0.00000000e+00,\n",
       "        0.00000000e+00,  0.00000000e+00,  0.00000000e+00,  0.00000000e+00,\n",
       "        0.00000000e+00,  0.00000000e+00,  0.00000000e+00,  0.00000000e+00,\n",
       "        0.00000000e+00,  0.00000000e+00,  0.00000000e+00,  0.00000000e+00,\n",
       "        0.00000000e+00,  0.00000000e+00,  0.00000000e+00,  0.00000000e+00,\n",
       "        0.00000000e+00,  0.00000000e+00,  0.00000000e+00,  0.00000000e+00,\n",
       "        0.00000000e+00,  0.00000000e+00,  0.00000000e+00,  0.00000000e+00,\n",
       "        0.00000000e+00,  0.00000000e+00,  0.00000000e+00,  0.00000000e+00,\n",
       "        0.00000000e+00,  0.00000000e+00,  0.00000000e+00,  0.00000000e+00,\n",
       "        0.00000000e+00,  0.00000000e+00,  0.00000000e+00,  0.00000000e+00,\n",
       "        0.00000000e+00,  0.00000000e+00,  0.00000000e+00,  0.00000000e+00,\n",
       "        0.00000000e+00,  0.00000000e+00,  0.00000000e+00,  0.00000000e+00,\n",
       "        0.00000000e+00,  0.00000000e+00,  0.00000000e+00,  0.00000000e+00,\n",
       "        0.00000000e+00,  0.00000000e+00,  0.00000000e+00,  0.00000000e+00,\n",
       "        0.00000000e+00,  0.00000000e+00,  0.00000000e+00,  0.00000000e+00,\n",
       "        0.00000000e+00,  0.00000000e+00,  0.00000000e+00,  0.00000000e+00,\n",
       "        0.00000000e+00,  0.00000000e+00,  0.00000000e+00,  0.00000000e+00,\n",
       "        0.00000000e+00,  0.00000000e+00,  0.00000000e+00,  0.00000000e+00,\n",
       "        0.00000000e+00,  0.00000000e+00,  0.00000000e+00,  0.00000000e+00,\n",
       "        0.00000000e+00,  0.00000000e+00,  0.00000000e+00,  0.00000000e+00,\n",
       "        0.00000000e+00,  0.00000000e+00,  0.00000000e+00,  0.00000000e+00,\n",
       "        0.00000000e+00,  0.00000000e+00,  0.00000000e+00,  0.00000000e+00,\n",
       "        0.00000000e+00,  0.00000000e+00,  0.00000000e+00,  0.00000000e+00,\n",
       "        0.00000000e+00,  0.00000000e+00,  0.00000000e+00,  0.00000000e+00,\n",
       "        0.00000000e+00,  0.00000000e+00,  0.00000000e+00,  0.00000000e+00,\n",
       "        0.00000000e+00,  0.00000000e+00,  0.00000000e+00,  0.00000000e+00,\n",
       "        0.00000000e+00,  0.00000000e+00,  0.00000000e+00,  0.00000000e+00,\n",
       "        0.00000000e+00,  0.00000000e+00,  0.00000000e+00,  0.00000000e+00,\n",
       "       -0.00000000e+00, -0.00000000e+00,  0.00000000e+00,  0.00000000e+00,\n",
       "        0.00000000e+00,  0.00000000e+00,  0.00000000e+00,  0.00000000e+00,\n",
       "        0.00000000e+00,  0.00000000e+00,  0.00000000e+00,  0.00000000e+00,\n",
       "        0.00000000e+00,  0.00000000e+00,  0.00000000e+00,  0.00000000e+00,\n",
       "        0.00000000e+00,  0.00000000e+00,  0.00000000e+00,  0.00000000e+00,\n",
       "        0.00000000e+00,  0.00000000e+00,  0.00000000e+00,  0.00000000e+00,\n",
       "        0.00000000e+00,  0.00000000e+00,  0.00000000e+00,  0.00000000e+00,\n",
       "        0.00000000e+00,  0.00000000e+00,  0.00000000e+00,  0.00000000e+00,\n",
       "        0.00000000e+00,  0.00000000e+00,  0.00000000e+00,  0.00000000e+00,\n",
       "        0.00000000e+00,  0.00000000e+00,  0.00000000e+00,  0.00000000e+00,\n",
       "        0.00000000e+00,  0.00000000e+00,  0.00000000e+00, -0.00000000e+00,\n",
       "       -0.00000000e+00, -0.00000000e+00, -0.00000000e+00, -0.00000000e+00,\n",
       "       -2.05129247e-22,  1.38206945e-20, -2.66498718e-21,  0.00000000e+00,\n",
       "       -0.00000000e+00,  0.00000000e+00,  0.00000000e+00,  0.00000000e+00,\n",
       "        0.00000000e+00,  0.00000000e+00,  0.00000000e+00,  0.00000000e+00,\n",
       "        0.00000000e+00,  0.00000000e+00,  0.00000000e+00,  0.00000000e+00,\n",
       "        0.00000000e+00,  0.00000000e+00,  0.00000000e+00,  0.00000000e+00,\n",
       "        0.00000000e+00,  0.00000000e+00,  0.00000000e+00,  0.00000000e+00,\n",
       "        0.00000000e+00,  0.00000000e+00,  0.00000000e+00,  0.00000000e+00,\n",
       "        0.00000000e+00,  0.00000000e+00,  0.00000000e+00,  0.00000000e+00,\n",
       "        0.00000000e+00,  0.00000000e+00,  0.00000000e+00,  0.00000000e+00,\n",
       "        0.00000000e+00,  0.00000000e+00,  0.00000000e+00,  0.00000000e+00,\n",
       "        0.00000000e+00,  0.00000000e+00,  0.00000000e+00,  0.00000000e+00,\n",
       "        0.00000000e+00,  0.00000000e+00,  0.00000000e+00,  0.00000000e+00,\n",
       "        0.00000000e+00, -0.00000000e+00, -0.00000000e+00, -0.00000000e+00,\n",
       "       -0.00000000e+00, -0.00000000e+00, -0.00000000e+00])"
      ]
     },
     "execution_count": 107,
     "metadata": {},
     "output_type": "execute_result"
    }
   ],
   "source": [
    "elasticNetModel.coef_"
   ]
  },
  {
   "cell_type": "code",
   "execution_count": 113,
   "id": "4af228cf",
   "metadata": {},
   "outputs": [
    {
     "data": {
      "text/plain": [
       "37     14.7\n",
       "109    19.8\n",
       "31     11.9\n",
       "89     16.7\n",
       "66      9.5\n",
       "119     6.6\n",
       "54     20.2\n",
       "74     17.0\n",
       "145    10.3\n",
       "142    20.1\n",
       "148    10.9\n",
       "112    14.1\n",
       "174    11.5\n",
       "55     23.7\n",
       "141    19.2\n",
       "149    10.1\n",
       "25     12.0\n",
       "34      9.5\n",
       "170     8.4\n",
       "39     21.5\n",
       "172     7.6\n",
       "153    19.0\n",
       "175    27.0\n",
       "61     24.2\n",
       "65      9.3\n",
       "50     11.4\n",
       "42     20.7\n",
       "129     9.7\n",
       "179    12.6\n",
       "2       9.3\n",
       "12      9.2\n",
       "133    19.6\n",
       "90     11.2\n",
       "22      5.6\n",
       "41     17.1\n",
       "32      9.6\n",
       "125    10.6\n",
       "196     9.7\n",
       "158     7.3\n",
       "180    10.5\n",
       "16     12.5\n",
       "186    10.3\n",
       "144    11.4\n",
       "121     7.0\n",
       "80     11.8\n",
       "18     11.3\n",
       "78      5.3\n",
       "48     14.8\n",
       "4      12.9\n",
       "15     22.4\n",
       "1      10.4\n",
       "43     12.9\n",
       "102    14.8\n",
       "164    11.9\n",
       "9      10.6\n",
       "155     3.2\n",
       "36     25.4\n",
       "190    10.8\n",
       "33     17.4\n",
       "45     14.9\n",
       "Name: sales, dtype: float64"
      ]
     },
     "execution_count": 113,
     "metadata": {},
     "output_type": "execute_result"
    }
   ],
   "source": [
    "yTest"
   ]
  },
  {
   "cell_type": "code",
   "execution_count": 114,
   "id": "488cd0fb",
   "metadata": {},
   "outputs": [
    {
     "name": "stdout",
     "output_type": "stream",
     "text": [
      "37      1.543934\n",
      "109     1.127739\n",
      "31     -1.258558\n",
      "89      3.533876\n",
      "66     -3.655537\n",
      "119    -6.555537\n",
      "54      0.199609\n",
      "74      2.720635\n",
      "145    -2.851558\n",
      "142     5.197532\n",
      "148    -2.255539\n",
      "112     0.789707\n",
      "174    -1.454783\n",
      "55      9.363697\n",
      "141     5.552912\n",
      "149    -3.055541\n",
      "25      0.157172\n",
      "34     -3.655396\n",
      "170    -4.755541\n",
      "39      5.503808\n",
      "172    -5.555537\n",
      "153     5.538207\n",
      "175    -3.699810\n",
      "61      2.551976\n",
      "65     -3.855594\n",
      "50     -1.526087\n",
      "42    -10.003083\n",
      "129    -3.455543\n",
      "179    -0.587963\n",
      "2      -3.855537\n",
      "12     -3.955537\n",
      "133     4.822571\n",
      "90     -1.957165\n",
      "22     -7.555537\n",
      "41      3.634101\n",
      "32     -3.554906\n",
      "125    -2.555791\n",
      "196    -3.455703\n",
      "158    -5.855537\n",
      "180    -2.648915\n",
      "16     -0.655621\n",
      "186    -2.845429\n",
      "144    -1.756132\n",
      "121    -6.155537\n",
      "80     -1.355878\n",
      "18     -1.855653\n",
      "78     -7.855537\n",
      "48      1.369129\n",
      "4      -0.205915\n",
      "15      8.228228\n",
      "1      -2.755543\n",
      "43     -0.266608\n",
      "102     0.691467\n",
      "164    -1.261401\n",
      "9      -2.399228\n",
      "155    -9.955537\n",
      "36     -1.590665\n",
      "190    -2.355540\n",
      "33     -1.231699\n",
      "45      1.575594\n",
      "Name: sales, dtype: float64\n"
     ]
    }
   ],
   "source": [
    "error = yTest - testPredictionselasticNet\n",
    "print(error)"
   ]
  },
  {
   "cell_type": "code",
   "execution_count": 108,
   "id": "a113383f",
   "metadata": {},
   "outputs": [],
   "source": [
    "# Evalaute the error metrics\n",
    "MAE = mean_absolute_error(yTest, testPredictionselasticNet)\n",
    "MSE = mean_squared_error(yTest, testPredictionselasticNet)\n",
    "RMSE = root_mean_square_error(y_test=yTest, model_predictions=testPredictionselasticNet)"
   ]
  },
  {
   "cell_type": "code",
   "execution_count": 109,
   "id": "023723d7",
   "metadata": {},
   "outputs": [
    {
     "data": {
      "text/plain": [
       "3.369667448582075"
      ]
     },
     "execution_count": 109,
     "metadata": {},
     "output_type": "execute_result"
    }
   ],
   "source": [
    "MAE"
   ]
  },
  {
   "cell_type": "code",
   "execution_count": 110,
   "id": "b4915f5c",
   "metadata": {},
   "outputs": [
    {
     "data": {
      "text/plain": [
       "17.383414806671727"
      ]
     },
     "execution_count": 110,
     "metadata": {},
     "output_type": "execute_result"
    }
   ],
   "source": [
    "MSE"
   ]
  },
  {
   "cell_type": "code",
   "execution_count": 111,
   "id": "a54f7c33",
   "metadata": {},
   "outputs": [
    {
     "data": {
      "text/plain": [
       "4.1693422510837035"
      ]
     },
     "execution_count": 111,
     "metadata": {},
     "output_type": "execute_result"
    }
   ],
   "source": [
    "RMSE"
   ]
  },
  {
   "cell_type": "code",
   "execution_count": 112,
   "id": "960fa2cd",
   "metadata": {},
   "outputs": [
    {
     "data": {
      "text/plain": [
       "(60,)"
      ]
     },
     "execution_count": 112,
     "metadata": {},
     "output_type": "execute_result"
    }
   ],
   "source": [
    "testPredictionselasticNet.shape"
   ]
  },
  {
   "cell_type": "code",
   "execution_count": 115,
   "id": "53d01dbd",
   "metadata": {},
   "outputs": [
    {
     "data": {
      "text/plain": [
       "<matplotlib.legend.Legend at 0x1dba165c3a0>"
      ]
     },
     "execution_count": 115,
     "metadata": {},
     "output_type": "execute_result"
    },
    {
     "data": {
      "image/png": "[encoded data removed]",
      "text/plain": [
       "<Figure size 640x480 with 1 Axes>"
      ]
     },
     "metadata": {},
     "output_type": "display_data"
    }
   ],
   "source": [
    "# Evaluate the optimal degree for the Ridge regression model for model complexity\n",
    "trainRMSEErrors = []\n",
    "testRMSEErrors = []\n",
    "\n",
    "for d in range(1, 10):\n",
    "    polyConverter = PolynomialFeatures(degree=d,include_bias=False)\n",
    "    polyConverter.fit(X)\n",
    "    polyFeatures = polyConverter.transform(X)\n",
    "    \n",
    "    scaledXTrain, scaledXTest, yTrain, yTest = train_test_split(polyFeatures, y, test_size=0.3, random_state=101)\n",
    "    \n",
    "    elasticNetModel = ElasticNetCV(l1_ratio=[0.1,0.5,0.7,0.9,0.95,0.99],eps=0.001, n_alphas=100, cv=5, max_iter=1000000)\n",
    "    elasticNetModel.fit(scaledXTrain, yTrain)\n",
    "    \n",
    "    trainPrediction = elasticNetModel.predict(scaledXTrain)\n",
    "    testPrediction =  elasticNetModel.predict(scaledXTest)\n",
    "    \n",
    "    trainRMSE = np.sqrt(mean_squared_error(yTrain, trainPrediction))\n",
    "    testRMSE = np.sqrt(mean_squared_error(yTest, testPrediction))\n",
    "    \n",
    "    trainRMSEErrors.append(trainRMSE)\n",
    "    testRMSEErrors.append(testRMSE)\n",
    "\n",
    "# plot to visualize these errors to determine the degree that matches the model\n",
    "plt.plot(range(1,6), trainRMSEErrors[:5], label=\"TRAIN RMSE\")\n",
    "plt.plot(range(1,6), testRMSEErrors[:5], label=\"TEST RMSE\")\n",
    "plt.xlabel(\"Degree of Polynomial\")\n",
    "plt.ylabel(\"RMSE\")\n",
    "plt.legend()"
   ]
  },
  {
   "cell_type": "code",
   "execution_count": 116,
   "id": "f14ac4e6",
   "metadata": {},
   "outputs": [
    {
     "data": {
      "text/plain": [
       "[1.7395115005386952,\n",
       " 1.177165944122409,\n",
       " 1.8474580480812997,\n",
       " 2.413984152832957,\n",
       " 2.870210772418431,\n",
       " 3.2316293928814517,\n",
       " 3.52472853828653,\n",
       " 3.7683398771141645,\n",
       " 3.982575267759357]"
      ]
     },
     "execution_count": 116,
     "metadata": {},
     "output_type": "execute_result"
    }
   ],
   "source": [
    "trainRMSEErrors"
   ]
  },
  {
   "cell_type": "code",
   "execution_count": 117,
   "id": "d025be90",
   "metadata": {},
   "outputs": [
    {
     "data": {
      "text/plain": [
       "[1.528951388107341,\n",
       " 1.215155660464547,\n",
       " 1.8669834979987845,\n",
       " 2.511479273484136,\n",
       " 3.0549320092177368,\n",
       " 3.4687243426627066,\n",
       " 3.769736810360725,\n",
       " 3.9895601332088493,\n",
       " 4.1693422510837035]"
      ]
     },
     "execution_count": 117,
     "metadata": {},
     "output_type": "execute_result"
    }
   ],
   "source": [
    "testRMSEErrors"
   ]
  },
  {
   "cell_type": "code",
   "execution_count": null,
   "id": "2a49c56c",
   "metadata": {},
   "outputs": [],
   "source": []
  }
 ],
 "metadata": {
  "kernelspec": {
   "display_name": "Python 3 (ipykernel)",
   "language": "python",
   "name": "python3"
  },
  "language_info": {
   "codemirror_mode": {
    "name": "ipython",
    "version": 3
   },
   "file_extension": ".py",
   "mimetype": "text/x-python",
   "name": "python",
   "nbconvert_exporter": "python",
   "pygments_lexer": "ipython3",
   "version": "3.9.15"
  }
 },
 "nbformat": 4,
 "nbformat_minor": 5
}
