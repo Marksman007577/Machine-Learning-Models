{
 "cells": [
  {
   "cell_type": "code",
   "execution_count": 93,
   "id": "d5381ed4",
   "metadata": {},
   "outputs": [],
   "source": [
    "# importing necessary libraries\n",
    "import numpy as np\n",
    "import pandas as pd\n",
    "import matplotlib.pyplot as plt\n",
    "import seaborn as sns\n",
    "import math\n",
    "\n",
    "from sklearn.preprocessing import PolynomialFeatures\n",
    "from sklearn.preprocessing import StandardScaler\n",
    "\n",
    "from sklearn.model_selection import train_test_split\n",
    "from sklearn.model_selection import cross_val_score\n",
    "from sklearn.model_selection import cross_validate\n",
    "from sklearn.model_selection import GridSearchCV\n",
    "\n",
    "from sklearn.linear_model import LinearRegression\n",
    "from sklearn.linear_model import Ridge\n",
    "from sklearn.linear_model import ElasticNet\n",
    "\n",
    "from sklearn.metrics import mean_absolute_error, mean_squared_error\n",
    "\n",
    "from joblib import  dump, load"
   ]
  },
  {
   "cell_type": "markdown",
   "id": "fc7e890a",
   "metadata": {},
   "source": [
    "CROSS VALIDATION (Train-Test Split)"
   ]
  },
  {
   "cell_type": "code",
   "execution_count": 38,
   "id": "a49e4880",
   "metadata": {},
   "outputs": [],
   "source": [
    "def root_mean_square_error(y_test, model_predictions):\n",
    "    \"\"\"function to perform root mean squared error\"\"\"\n",
    "    mse = mean_squared_error(y_test, model_predictions)\n",
    "    return math.sqrt(mse)"
   ]
  },
  {
   "cell_type": "code",
   "execution_count": 3,
   "id": "3b6a31b2",
   "metadata": {},
   "outputs": [],
   "source": [
    "# Read in the data set\n",
    "df = pd.read_csv(\"Advertising.csv\")"
   ]
  },
  {
   "cell_type": "code",
   "execution_count": 4,
   "id": "3d17b32a",
   "metadata": {},
   "outputs": [
    {
     "data": {
      "text/html": [
       "<div>\n",
       "<style scoped>\n",
       "    .dataframe tbody tr th:only-of-type {\n",
       "        vertical-align: middle;\n",
       "    }\n",
       "\n",
       "    .dataframe tbody tr th {\n",
       "        vertical-align: top;\n",
       "    }\n",
       "\n",
       "    .dataframe thead th {\n",
       "        text-align: right;\n",
       "    }\n",
       "</style>\n",
       "<table border=\"1\" class=\"dataframe\">\n",
       "  <thead>\n",
       "    <tr style=\"text-align: right;\">\n",
       "      <th></th>\n",
       "      <th>TV</th>\n",
       "      <th>radio</th>\n",
       "      <th>newspaper</th>\n",
       "      <th>sales</th>\n",
       "    </tr>\n",
       "  </thead>\n",
       "  <tbody>\n",
       "    <tr>\n",
       "      <th>0</th>\n",
       "      <td>230.1</td>\n",
       "      <td>37.8</td>\n",
       "      <td>69.2</td>\n",
       "      <td>22.1</td>\n",
       "    </tr>\n",
       "    <tr>\n",
       "      <th>1</th>\n",
       "      <td>44.5</td>\n",
       "      <td>39.3</td>\n",
       "      <td>45.1</td>\n",
       "      <td>10.4</td>\n",
       "    </tr>\n",
       "    <tr>\n",
       "      <th>2</th>\n",
       "      <td>17.2</td>\n",
       "      <td>45.9</td>\n",
       "      <td>69.3</td>\n",
       "      <td>9.3</td>\n",
       "    </tr>\n",
       "    <tr>\n",
       "      <th>3</th>\n",
       "      <td>151.5</td>\n",
       "      <td>41.3</td>\n",
       "      <td>58.5</td>\n",
       "      <td>18.5</td>\n",
       "    </tr>\n",
       "    <tr>\n",
       "      <th>4</th>\n",
       "      <td>180.8</td>\n",
       "      <td>10.8</td>\n",
       "      <td>58.4</td>\n",
       "      <td>12.9</td>\n",
       "    </tr>\n",
       "  </tbody>\n",
       "</table>\n",
       "</div>"
      ],
      "text/plain": [
       "      TV  radio  newspaper  sales\n",
       "0  230.1   37.8       69.2   22.1\n",
       "1   44.5   39.3       45.1   10.4\n",
       "2   17.2   45.9       69.3    9.3\n",
       "3  151.5   41.3       58.5   18.5\n",
       "4  180.8   10.8       58.4   12.9"
      ]
     },
     "execution_count": 4,
     "metadata": {},
     "output_type": "execute_result"
    }
   ],
   "source": [
    "df.head(5)"
   ]
  },
  {
   "cell_type": "code",
   "execution_count": 5,
   "id": "7f4c6409",
   "metadata": {},
   "outputs": [],
   "source": [
    "# seperate X features and y label\n",
    "X = df.drop(\"sales\", axis=1)\n",
    "y = df[\"sales\"]"
   ]
  },
  {
   "cell_type": "code",
   "execution_count": 6,
   "id": "45654f5c",
   "metadata": {},
   "outputs": [],
   "source": [
    "# perform a train test split of the new dataset\n",
    "XTrain, XTest, yTrain, yTest = train_test_split(X, y, test_size=0.3, random_state=101)"
   ]
  },
  {
   "cell_type": "code",
   "execution_count": 7,
   "id": "fa18d77b",
   "metadata": {},
   "outputs": [],
   "source": [
    "# scaling the data\n",
    "# create an instance of a feature scaler\n",
    "# Do not scale the test data\n",
    "scaler = StandardScaler()"
   ]
  },
  {
   "cell_type": "code",
   "execution_count": 8,
   "id": "40a7e5f9",
   "metadata": {},
   "outputs": [
    {
     "data": {
      "text/plain": [
       "StandardScaler()"
      ]
     },
     "execution_count": 8,
     "metadata": {},
     "output_type": "execute_result"
    }
   ],
   "source": [
    "# fit the scaler to the training X feature\n",
    "scaler.fit(XTrain)"
   ]
  },
  {
   "cell_type": "code",
   "execution_count": 9,
   "id": "f650d897",
   "metadata": {},
   "outputs": [],
   "source": [
    "# create the transformed version of the scaled training X features\n",
    "scaledXTrain = scaler.transform(XTrain)\n",
    "scaledXTest = scaler.transform(XTest)"
   ]
  },
  {
   "cell_type": "markdown",
   "id": "67dd7d2e",
   "metadata": {},
   "source": [
    "If L2 Regression is to be used (Ridge Regression)"
   ]
  },
  {
   "cell_type": "code",
   "execution_count": 10,
   "id": "9bd855e4",
   "metadata": {},
   "outputs": [],
   "source": [
    "# create the Ridge regression instance\n",
    "ridgeModel = Ridge(alpha=100)\n",
    "\n",
    "# fit the ridge model to the scaled train features and the training label\n",
    "ridgeModel.fit(scaledXTrain, yTrain)\n",
    "\n",
    "# predict on the scaled test data\n",
    "testPredictions = ridgeModel.predict(scaledXTest)"
   ]
  },
  {
   "cell_type": "code",
   "execution_count": 11,
   "id": "dfb429f8",
   "metadata": {},
   "outputs": [
    {
     "data": {
      "text/plain": [
       "array([15.34908128, 17.05755308, 12.73784965, 16.18231062, 10.85075815,\n",
       "        9.87999576, 17.6105132 , 15.80786278, 11.32616781, 17.30158479,\n",
       "       12.8883864 , 13.64670913, 13.71636726, 18.83377117, 17.38617584,\n",
       "       11.59912699, 14.88899736, 10.07145317, 10.14692243, 17.90771073,\n",
       "       10.25837266, 16.71492563, 20.57087744, 19.66643199, 10.14020781,\n",
       "       13.40084066, 18.09910709, 10.80433113, 13.00876939, 13.79206361,\n",
       "       12.73015096, 17.42108555, 11.50183684, 10.10362749, 16.18778637,\n",
       "       10.45161746, 11.25953403, 10.42658319, 12.30681396, 11.82281519,\n",
       "       14.75707677, 11.58372535, 12.01609545, 10.90016204, 12.55896716,\n",
       "       11.62961585, 10.8495293 , 15.74187916, 14.09264772, 18.45114683,\n",
       "       13.43419788, 14.05075373, 16.0980788 , 12.07046074, 13.15048011,\n",
       "        8.75095421, 19.21013193, 12.92686996, 16.49277745, 14.83525505])"
      ]
     },
     "execution_count": 11,
     "metadata": {},
     "output_type": "execute_result"
    }
   ],
   "source": [
    "testPredictions"
   ]
  },
  {
   "cell_type": "code",
   "execution_count": 12,
   "id": "717ec71f",
   "metadata": {},
   "outputs": [
    {
     "data": {
      "text/plain": [
       "array([2.22254275, 1.61969192, 0.31224357])"
      ]
     },
     "execution_count": 12,
     "metadata": {},
     "output_type": "execute_result"
    }
   ],
   "source": [
    "ridgeModel.coef_"
   ]
  },
  {
   "cell_type": "code",
   "execution_count": 13,
   "id": "518e555b",
   "metadata": {},
   "outputs": [],
   "source": [
    "# Evalaute the error metrics\n",
    "MAE = mean_absolute_error(yTest, testPredictions)\n",
    "MSE = mean_squared_error(yTest, testPredictions)\n",
    "RMSE = root_mean_square_error(y_test=yTest, model_predictions=testPredictions)"
   ]
  },
  {
   "cell_type": "code",
   "execution_count": 14,
   "id": "51349fc4",
   "metadata": {},
   "outputs": [
    {
     "data": {
      "text/plain": [
       "2.1631741364394355"
      ]
     },
     "execution_count": 14,
     "metadata": {},
     "output_type": "execute_result"
    }
   ],
   "source": [
    "MAE"
   ]
  },
  {
   "cell_type": "code",
   "execution_count": 15,
   "id": "ad455023",
   "metadata": {},
   "outputs": [
    {
     "data": {
      "text/plain": [
       "7.341775789034128"
      ]
     },
     "execution_count": 15,
     "metadata": {},
     "output_type": "execute_result"
    }
   ],
   "source": [
    "MSE"
   ]
  },
  {
   "cell_type": "code",
   "execution_count": 16,
   "id": "8bb26615",
   "metadata": {},
   "outputs": [
    {
     "data": {
      "text/plain": [
       "2.7095711448556075"
      ]
     },
     "execution_count": 16,
     "metadata": {},
     "output_type": "execute_result"
    }
   ],
   "source": [
    "RMSE"
   ]
  },
  {
   "cell_type": "markdown",
   "id": "eaf2ec05",
   "metadata": {},
   "source": [
    "Is alpha = 100 the best possible value? we have to check for another alpha value\n",
    "This is know as test improvement doing hyperparameter tuning"
   ]
  },
  {
   "cell_type": "code",
   "execution_count": 17,
   "id": "2d456e14",
   "metadata": {},
   "outputs": [],
   "source": [
    "# create the Ridge regression instance 2\n",
    "ridgeModel2 = Ridge(alpha=1)\n",
    "\n",
    "# fit the ridge model to the scaled train features and the training label\n",
    "ridgeModel2.fit(scaledXTrain, yTrain)\n",
    "\n",
    "# predict on the scaled test data\n",
    "testPredictions2 = ridgeModel2.predict(scaledXTest)"
   ]
  },
  {
   "cell_type": "code",
   "execution_count": 18,
   "id": "b7ce367a",
   "metadata": {},
   "outputs": [
    {
     "data": {
      "text/plain": [
       "array([15.73544249, 19.56177685, 11.47282584, 16.99614361,  9.19583919,\n",
       "        7.06034338, 20.24078477, 17.27047482,  9.7997058 , 19.18969381,\n",
       "       12.40827613, 13.88321006, 13.72330625, 21.24960621, 18.41451801,\n",
       "       10.00739858, 15.54023734,  7.72694272,  7.59886443, 20.3595504 ,\n",
       "        7.831815  , 18.21607253, 24.61611392, 22.77116018,  8.0117733 ,\n",
       "       12.667102  , 21.40567156,  8.10250725, 12.43158049, 12.53481984,\n",
       "       10.81678067, 19.21537816, 10.09192883,  6.76998079, 17.29636618,\n",
       "        7.81497124,  9.28808588,  8.31202002, 10.6122371 , 10.6533735 ,\n",
       "       13.05491413,  9.80364168, 10.24764859,  8.09836046, 11.58209801,\n",
       "       10.10783927,  9.025001  , 16.24936342, 13.26025422, 20.77690029,\n",
       "       12.51477346, 13.96784546, 17.53696507, 11.15686875, 12.57233878,\n",
       "        5.56009018, 23.21824128, 12.62301353, 18.72931877, 15.18197827])"
      ]
     },
     "execution_count": 18,
     "metadata": {},
     "output_type": "execute_result"
    }
   ],
   "source": [
    "testPredictions2"
   ]
  },
  {
   "cell_type": "code",
   "execution_count": 19,
   "id": "ae0fb3ab",
   "metadata": {},
   "outputs": [
    {
     "data": {
      "text/plain": [
       "array([3.73961770e+00, 2.74477719e+00, 2.68837098e-03])"
      ]
     },
     "execution_count": 19,
     "metadata": {},
     "output_type": "execute_result"
    }
   ],
   "source": [
    "ridgeModel2.coef_"
   ]
  },
  {
   "cell_type": "code",
   "execution_count": 20,
   "id": "a7f17046",
   "metadata": {},
   "outputs": [],
   "source": [
    "# Evalaute the error metrics\n",
    "MAE2 = mean_absolute_error(yTest, testPredictions2)\n",
    "MSE2 = mean_squared_error(yTest, testPredictions2)\n",
    "RMSE2 = root_mean_square_error(y_test=yTest, model_predictions=testPredictions2)"
   ]
  },
  {
   "cell_type": "code",
   "execution_count": 21,
   "id": "ac0f5f5b",
   "metadata": {},
   "outputs": [
    {
     "data": {
      "text/plain": [
       "1.216876844358058"
      ]
     },
     "execution_count": 21,
     "metadata": {},
     "output_type": "execute_result"
    }
   ],
   "source": [
    "MAE2"
   ]
  },
  {
   "cell_type": "code",
   "execution_count": 22,
   "id": "942d4218",
   "metadata": {},
   "outputs": [
    {
     "data": {
      "text/plain": [
       "2.3190215794287523"
      ]
     },
     "execution_count": 22,
     "metadata": {},
     "output_type": "execute_result"
    }
   ],
   "source": [
    "MSE2"
   ]
  },
  {
   "cell_type": "code",
   "execution_count": 23,
   "id": "30126aea",
   "metadata": {},
   "outputs": [
    {
     "data": {
      "text/plain": [
       "1.5228334050147285"
      ]
     },
     "execution_count": 23,
     "metadata": {},
     "output_type": "execute_result"
    }
   ],
   "source": [
    "RMSE2"
   ]
  },
  {
   "cell_type": "markdown",
   "id": "d207627d",
   "metadata": {},
   "source": [
    "We can see that an alpha =1 performs well. But for large dataset, it would be tedioud creating new models and testing with\n",
    "new alpha values to get the optimum alpha value. This is an advantage. That is where cross validation and grid search comes \n",
    "into play.\n",
    "\n",
    "Secondly the evaluation report i.e the mean square error value is not the optimum we could possibly do for the model"
   ]
  },
  {
   "cell_type": "markdown",
   "id": "536f6767",
   "metadata": {},
   "source": [
    "CROSS VALIDATION (Train-Validation-Test Split)"
   ]
  },
  {
   "cell_type": "code",
   "execution_count": 24,
   "id": "39a29c86",
   "metadata": {},
   "outputs": [
    {
     "data": {
      "text/html": [
       "<div>\n",
       "<style scoped>\n",
       "    .dataframe tbody tr th:only-of-type {\n",
       "        vertical-align: middle;\n",
       "    }\n",
       "\n",
       "    .dataframe tbody tr th {\n",
       "        vertical-align: top;\n",
       "    }\n",
       "\n",
       "    .dataframe thead th {\n",
       "        text-align: right;\n",
       "    }\n",
       "</style>\n",
       "<table border=\"1\" class=\"dataframe\">\n",
       "  <thead>\n",
       "    <tr style=\"text-align: right;\">\n",
       "      <th></th>\n",
       "      <th>TV</th>\n",
       "      <th>radio</th>\n",
       "      <th>newspaper</th>\n",
       "      <th>sales</th>\n",
       "    </tr>\n",
       "  </thead>\n",
       "  <tbody>\n",
       "    <tr>\n",
       "      <th>0</th>\n",
       "      <td>230.1</td>\n",
       "      <td>37.8</td>\n",
       "      <td>69.2</td>\n",
       "      <td>22.1</td>\n",
       "    </tr>\n",
       "    <tr>\n",
       "      <th>1</th>\n",
       "      <td>44.5</td>\n",
       "      <td>39.3</td>\n",
       "      <td>45.1</td>\n",
       "      <td>10.4</td>\n",
       "    </tr>\n",
       "    <tr>\n",
       "      <th>2</th>\n",
       "      <td>17.2</td>\n",
       "      <td>45.9</td>\n",
       "      <td>69.3</td>\n",
       "      <td>9.3</td>\n",
       "    </tr>\n",
       "    <tr>\n",
       "      <th>3</th>\n",
       "      <td>151.5</td>\n",
       "      <td>41.3</td>\n",
       "      <td>58.5</td>\n",
       "      <td>18.5</td>\n",
       "    </tr>\n",
       "    <tr>\n",
       "      <th>4</th>\n",
       "      <td>180.8</td>\n",
       "      <td>10.8</td>\n",
       "      <td>58.4</td>\n",
       "      <td>12.9</td>\n",
       "    </tr>\n",
       "  </tbody>\n",
       "</table>\n",
       "</div>"
      ],
      "text/plain": [
       "      TV  radio  newspaper  sales\n",
       "0  230.1   37.8       69.2   22.1\n",
       "1   44.5   39.3       45.1   10.4\n",
       "2   17.2   45.9       69.3    9.3\n",
       "3  151.5   41.3       58.5   18.5\n",
       "4  180.8   10.8       58.4   12.9"
      ]
     },
     "execution_count": 24,
     "metadata": {},
     "output_type": "execute_result"
    }
   ],
   "source": [
    "# read the dataset\n",
    "dfX = pd.read_csv('Advertising.csv')\n",
    "dfX.head()"
   ]
  },
  {
   "cell_type": "code",
   "execution_count": 27,
   "id": "66f9dcdb",
   "metadata": {},
   "outputs": [],
   "source": [
    "# seperate X features and y label\n",
    "Xx = dfX.drop(\"sales\", axis=1)\n",
    "yy = dfX[\"sales\"]"
   ]
  },
  {
   "cell_type": "code",
   "execution_count": 28,
   "id": "3ec87c09",
   "metadata": {},
   "outputs": [],
   "source": [
    "# 3. Performing the train test split on poly features\n",
    "#a. first train test split\n",
    "X_train, X_other, y_train, y_other = train_test_split(Xx, yy, test_size=0.30, random_state=101)\n",
    "\n",
    "#b. second train test split\n",
    "X_val, X_test, y_val, y_test = train_test_split(X_other, y_other, test_size=0.50, random_state=101)"
   ]
  },
  {
   "cell_type": "code",
   "execution_count": 29,
   "id": "b19a4c17",
   "metadata": {},
   "outputs": [],
   "source": [
    "# scaling the data\n",
    "# create an instance of a feature scaler\n",
    "# Do not scale the test data\n",
    "scaler2 = StandardScaler()"
   ]
  },
  {
   "cell_type": "code",
   "execution_count": 30,
   "id": "0343ce24",
   "metadata": {},
   "outputs": [
    {
     "data": {
      "text/plain": [
       "StandardScaler()"
      ]
     },
     "execution_count": 30,
     "metadata": {},
     "output_type": "execute_result"
    }
   ],
   "source": [
    "# fit the scaler to the training X feature\n",
    "scaler2.fit(X_train)"
   ]
  },
  {
   "cell_type": "code",
   "execution_count": 31,
   "id": "bff2a73b",
   "metadata": {},
   "outputs": [],
   "source": [
    "# create the transformed version of the scaled training X features\n",
    "scaled_X_train = scaler2.transform(X_train)\n",
    "scaled_X_test = scaler2.transform(X_test)\n",
    "scaled_X_val = scaler2.transform(X_val)"
   ]
  },
  {
   "cell_type": "markdown",
   "id": "ba54a3b4",
   "metadata": {},
   "source": [
    "If L2 Regression is to be used (Ridge Regression)"
   ]
  },
  {
   "cell_type": "code",
   "execution_count": 32,
   "id": "ff3dcc05",
   "metadata": {},
   "outputs": [],
   "source": [
    "# creating the first model\n",
    "model_one = Ridge(alpha=100)"
   ]
  },
  {
   "cell_type": "code",
   "execution_count": 33,
   "id": "70356b97",
   "metadata": {},
   "outputs": [
    {
     "data": {
      "text/plain": [
       "Ridge(alpha=100)"
      ]
     },
     "execution_count": 33,
     "metadata": {},
     "output_type": "execute_result"
    }
   ],
   "source": [
    "# fit first model on train data set\n",
    "model_one.fit(scaled_X_train, y_train)"
   ]
  },
  {
   "cell_type": "code",
   "execution_count": 34,
   "id": "37e1d481",
   "metadata": {},
   "outputs": [],
   "source": [
    "# predict on the scaled validation data\n",
    "testPredictions3 = model_one.predict(scaled_X_val)"
   ]
  },
  {
   "cell_type": "code",
   "execution_count": 35,
   "id": "c073c628",
   "metadata": {},
   "outputs": [
    {
     "data": {
      "text/plain": [
       "array([16.0980788 , 10.8495293 ,  8.75095421, 14.83525505, 12.55896716,\n",
       "       12.8883864 , 11.58372535, 12.01609545, 16.18778637, 10.90016204,\n",
       "       11.32616781, 17.90771073, 14.09264772, 13.79206361, 13.71636726,\n",
       "        9.87999576, 15.34908128, 13.00876939, 13.43419788, 10.85075815,\n",
       "       14.75707677, 18.83377117, 17.30158479, 15.74187916, 16.49277745,\n",
       "       19.66643199, 17.6105132 , 10.07145317, 13.64670913, 17.42108555])"
      ]
     },
     "execution_count": 35,
     "metadata": {},
     "output_type": "execute_result"
    }
   ],
   "source": [
    "testPredictions3"
   ]
  },
  {
   "cell_type": "code",
   "execution_count": 40,
   "id": "98583c15",
   "metadata": {},
   "outputs": [],
   "source": [
    "# Evalaute the error metrics\n",
    "MAE3 = mean_absolute_error(y_val, testPredictions3)\n",
    "MSE3 = mean_squared_error(y_val, testPredictions3)\n",
    "RMSE3 = root_mean_square_error(y_test=y_val, model_predictions=testPredictions3)"
   ]
  },
  {
   "cell_type": "code",
   "execution_count": 41,
   "id": "f57a0472",
   "metadata": {},
   "outputs": [
    {
     "data": {
      "text/plain": [
       "2.175424374439987"
      ]
     },
     "execution_count": 41,
     "metadata": {},
     "output_type": "execute_result"
    }
   ],
   "source": [
    "MAE3"
   ]
  },
  {
   "cell_type": "code",
   "execution_count": 42,
   "id": "95c5f5b5",
   "metadata": {},
   "outputs": [
    {
     "data": {
      "text/plain": [
       "7.320101458823869"
      ]
     },
     "execution_count": 42,
     "metadata": {},
     "output_type": "execute_result"
    }
   ],
   "source": [
    "MSE3"
   ]
  },
  {
   "cell_type": "code",
   "execution_count": 43,
   "id": "9817a3ca",
   "metadata": {},
   "outputs": [
    {
     "data": {
      "text/plain": [
       "2.705568601758948"
      ]
     },
     "execution_count": 43,
     "metadata": {},
     "output_type": "execute_result"
    }
   ],
   "source": [
    "RMSE3"
   ]
  },
  {
   "cell_type": "code",
   "execution_count": 44,
   "id": "9daab81f",
   "metadata": {},
   "outputs": [],
   "source": [
    "# creating the second model\n",
    "model_two = Ridge(alpha=1)"
   ]
  },
  {
   "cell_type": "code",
   "execution_count": 45,
   "id": "cfd6dc50",
   "metadata": {},
   "outputs": [
    {
     "data": {
      "text/plain": [
       "Ridge(alpha=1)"
      ]
     },
     "execution_count": 45,
     "metadata": {},
     "output_type": "execute_result"
    }
   ],
   "source": [
    "# fit second model on train data set\n",
    "model_two.fit(scaled_X_train, y_train)"
   ]
  },
  {
   "cell_type": "code",
   "execution_count": 46,
   "id": "916dbcb0",
   "metadata": {},
   "outputs": [],
   "source": [
    "# predict on the scaled validation data\n",
    "testPredictions4 = model_two.predict(scaled_X_val)"
   ]
  },
  {
   "cell_type": "code",
   "execution_count": 47,
   "id": "6af27503",
   "metadata": {},
   "outputs": [
    {
     "data": {
      "text/plain": [
       "array([17.53696507,  9.025001  ,  5.56009018, 15.18197827, 11.58209801,\n",
       "       12.40827613,  9.80364168, 10.24764859, 17.29636618,  8.09836046,\n",
       "        9.7997058 , 20.3595504 , 13.26025422, 12.53481984, 13.72330625,\n",
       "        7.06034338, 15.73544249, 12.43158049, 12.51477346,  9.19583919,\n",
       "       13.05491413, 21.24960621, 19.18969381, 16.24936342, 18.72931877,\n",
       "       22.77116018, 20.24078477,  7.72694272, 13.88321006, 19.21537816])"
      ]
     },
     "execution_count": 47,
     "metadata": {},
     "output_type": "execute_result"
    }
   ],
   "source": [
    "testPredictions4"
   ]
  },
  {
   "cell_type": "code",
   "execution_count": 48,
   "id": "655311bf",
   "metadata": {},
   "outputs": [],
   "source": [
    "# Evalaute the error metrics\n",
    "MAE4 = mean_absolute_error(y_val, testPredictions4)\n",
    "MSE4 = mean_squared_error(y_val, testPredictions4)\n",
    "RMSE4 = root_mean_square_error(y_test=y_val, model_predictions=testPredictions4)"
   ]
  },
  {
   "cell_type": "code",
   "execution_count": 49,
   "id": "a3866371",
   "metadata": {},
   "outputs": [
    {
     "data": {
      "text/plain": [
       "1.195143424023704"
      ]
     },
     "execution_count": 49,
     "metadata": {},
     "output_type": "execute_result"
    }
   ],
   "source": [
    "MAE4"
   ]
  },
  {
   "cell_type": "code",
   "execution_count": 50,
   "id": "3e617dad",
   "metadata": {},
   "outputs": [
    {
     "data": {
      "text/plain": [
       "2.383783075056987"
      ]
     },
     "execution_count": 50,
     "metadata": {},
     "output_type": "execute_result"
    }
   ],
   "source": [
    "MSE4"
   ]
  },
  {
   "cell_type": "code",
   "execution_count": 51,
   "id": "8acda83a",
   "metadata": {},
   "outputs": [
    {
     "data": {
      "text/plain": [
       "1.5439504768796786"
      ]
     },
     "execution_count": 51,
     "metadata": {},
     "output_type": "execute_result"
    }
   ],
   "source": [
    "RMSE4"
   ]
  },
  {
   "cell_type": "code",
   "execution_count": 52,
   "id": "b4221ecc",
   "metadata": {},
   "outputs": [],
   "source": [
    "# Since we are happy with model two, we use it for our final test set\n",
    "testPredictions5 = model_two.predict(scaled_X_test)"
   ]
  },
  {
   "cell_type": "code",
   "execution_count": 53,
   "id": "22ca1c1d",
   "metadata": {},
   "outputs": [],
   "source": [
    "# Evalaute the error metrics\n",
    "MAE5 = mean_absolute_error(y_test, testPredictions5)\n",
    "MSE5 = mean_squared_error(y_test, testPredictions5)\n",
    "RMSE5 = root_mean_square_error(y_test=y_test, model_predictions=testPredictions5)"
   ]
  },
  {
   "cell_type": "code",
   "execution_count": 54,
   "id": "dc96c5c8",
   "metadata": {},
   "outputs": [
    {
     "data": {
      "text/plain": [
       "1.238610264692412"
      ]
     },
     "execution_count": 54,
     "metadata": {},
     "output_type": "execute_result"
    }
   ],
   "source": [
    "MAE5"
   ]
  },
  {
   "cell_type": "code",
   "execution_count": 55,
   "id": "a1be5b5d",
   "metadata": {},
   "outputs": [
    {
     "data": {
      "text/plain": [
       "2.2542600838005176"
      ]
     },
     "execution_count": 55,
     "metadata": {},
     "output_type": "execute_result"
    }
   ],
   "source": [
    "MSE5"
   ]
  },
  {
   "cell_type": "code",
   "execution_count": 56,
   "id": "d8b36594",
   "metadata": {},
   "outputs": [
    {
     "data": {
      "text/plain": [
       "1.5014193564093004"
      ]
     },
     "execution_count": 56,
     "metadata": {},
     "output_type": "execute_result"
    }
   ],
   "source": [
    "RMSE5"
   ]
  },
  {
   "cell_type": "code",
   "execution_count": null,
   "id": "fede041e",
   "metadata": {},
   "outputs": [],
   "source": [
    "CROSS VALIDATION (K-Fold)"
   ]
  },
  {
   "cell_type": "code",
   "execution_count": 14,
   "id": "f538c7ce",
   "metadata": {},
   "outputs": [
    {
     "data": {
      "text/html": [
       "<div>\n",
       "<style scoped>\n",
       "    .dataframe tbody tr th:only-of-type {\n",
       "        vertical-align: middle;\n",
       "    }\n",
       "\n",
       "    .dataframe tbody tr th {\n",
       "        vertical-align: top;\n",
       "    }\n",
       "\n",
       "    .dataframe thead th {\n",
       "        text-align: right;\n",
       "    }\n",
       "</style>\n",
       "<table border=\"1\" class=\"dataframe\">\n",
       "  <thead>\n",
       "    <tr style=\"text-align: right;\">\n",
       "      <th></th>\n",
       "      <th>TV</th>\n",
       "      <th>radio</th>\n",
       "      <th>newspaper</th>\n",
       "      <th>sales</th>\n",
       "    </tr>\n",
       "  </thead>\n",
       "  <tbody>\n",
       "    <tr>\n",
       "      <th>0</th>\n",
       "      <td>230.1</td>\n",
       "      <td>37.8</td>\n",
       "      <td>69.2</td>\n",
       "      <td>22.1</td>\n",
       "    </tr>\n",
       "    <tr>\n",
       "      <th>1</th>\n",
       "      <td>44.5</td>\n",
       "      <td>39.3</td>\n",
       "      <td>45.1</td>\n",
       "      <td>10.4</td>\n",
       "    </tr>\n",
       "    <tr>\n",
       "      <th>2</th>\n",
       "      <td>17.2</td>\n",
       "      <td>45.9</td>\n",
       "      <td>69.3</td>\n",
       "      <td>9.3</td>\n",
       "    </tr>\n",
       "    <tr>\n",
       "      <th>3</th>\n",
       "      <td>151.5</td>\n",
       "      <td>41.3</td>\n",
       "      <td>58.5</td>\n",
       "      <td>18.5</td>\n",
       "    </tr>\n",
       "    <tr>\n",
       "      <th>4</th>\n",
       "      <td>180.8</td>\n",
       "      <td>10.8</td>\n",
       "      <td>58.4</td>\n",
       "      <td>12.9</td>\n",
       "    </tr>\n",
       "  </tbody>\n",
       "</table>\n",
       "</div>"
      ],
      "text/plain": [
       "      TV  radio  newspaper  sales\n",
       "0  230.1   37.8       69.2   22.1\n",
       "1   44.5   39.3       45.1   10.4\n",
       "2   17.2   45.9       69.3    9.3\n",
       "3  151.5   41.3       58.5   18.5\n",
       "4  180.8   10.8       58.4   12.9"
      ]
     },
     "execution_count": 14,
     "metadata": {},
     "output_type": "execute_result"
    }
   ],
   "source": [
    "# read the dataset\n",
    "dfXX = pd.read_csv('Advertising.csv')\n",
    "dfXX.head()"
   ]
  },
  {
   "cell_type": "code",
   "execution_count": 15,
   "id": "537d343f",
   "metadata": {},
   "outputs": [],
   "source": [
    "# seperate X features and y label\n",
    "Xxx = dfXX.drop(\"sales\", axis=1)\n",
    "yyy = dfXX[\"sales\"]"
   ]
  },
  {
   "cell_type": "code",
   "execution_count": 16,
   "id": "df8837c2",
   "metadata": {},
   "outputs": [
    {
     "data": {
      "text/plain": [
       "(        TV  radio  newspaper\n",
       " 0    230.1   37.8       69.2\n",
       " 1     44.5   39.3       45.1\n",
       " 2     17.2   45.9       69.3\n",
       " 3    151.5   41.3       58.5\n",
       " 4    180.8   10.8       58.4\n",
       " ..     ...    ...        ...\n",
       " 195   38.2    3.7       13.8\n",
       " 196   94.2    4.9        8.1\n",
       " 197  177.0    9.3        6.4\n",
       " 198  283.6   42.0       66.2\n",
       " 199  232.1    8.6        8.7\n",
       " \n",
       " [200 rows x 3 columns],\n",
       " 0      22.1\n",
       " 1      10.4\n",
       " 2       9.3\n",
       " 3      18.5\n",
       " 4      12.9\n",
       "        ... \n",
       " 195     7.6\n",
       " 196     9.7\n",
       " 197    12.8\n",
       " 198    25.5\n",
       " 199    13.4\n",
       " Name: sales, Length: 200, dtype: float64)"
      ]
     },
     "execution_count": 16,
     "metadata": {},
     "output_type": "execute_result"
    }
   ],
   "source": [
    "Xxx, yyy"
   ]
  },
  {
   "cell_type": "code",
   "execution_count": 17,
   "id": "7c6fc5dd",
   "metadata": {},
   "outputs": [],
   "source": [
    "# perform a train test split of the new dataset\n",
    "XxxTrain, XxxTest, yyyTrain, yyyTest = train_test_split(Xxx, yyy, test_size=0.3, random_state=101)"
   ]
  },
  {
   "cell_type": "code",
   "execution_count": 18,
   "id": "875b4d59",
   "metadata": {},
   "outputs": [],
   "source": [
    "# scaling the data\n",
    "# create an instance of a feature scaler\n",
    "# Do not scale the test data\n",
    "scaler5 = StandardScaler()"
   ]
  },
  {
   "cell_type": "code",
   "execution_count": 19,
   "id": "70204c55",
   "metadata": {},
   "outputs": [
    {
     "data": {
      "text/plain": [
       "StandardScaler()"
      ]
     },
     "execution_count": 19,
     "metadata": {},
     "output_type": "execute_result"
    }
   ],
   "source": [
    "# fit the scaler to the training X feature\n",
    "scaler5.fit(XxxTrain)"
   ]
  },
  {
   "cell_type": "code",
   "execution_count": 22,
   "id": "b3d4c4df",
   "metadata": {},
   "outputs": [],
   "source": [
    "# create the transformed version of the scaled training X features\n",
    "scaledXxxTrain = scaler5.transform(XxxTrain)\n",
    "scaledXxxTest = scaler5.transform(XxxTest)"
   ]
  },
  {
   "cell_type": "code",
   "execution_count": 23,
   "id": "d33777f5",
   "metadata": {},
   "outputs": [],
   "source": [
    "# creating the first model\n",
    "model_five = Ridge(alpha=100)"
   ]
  },
  {
   "cell_type": "code",
   "execution_count": 24,
   "id": "db2c8c92",
   "metadata": {},
   "outputs": [],
   "source": [
    "# create the instance to find the best score\n",
    "scores = cross_val_score(model_five,scaledXxxTrain,yyyTrain,scoring='neg_mean_squared_error',cv=5)"
   ]
  },
  {
   "cell_type": "code",
   "execution_count": 25,
   "id": "b6450f12",
   "metadata": {},
   "outputs": [
    {
     "data": {
      "text/plain": [
       "array([ -9.32552967,  -4.9449624 , -11.39665242,  -7.0242106 ,\n",
       "        -8.38562723])"
      ]
     },
     "execution_count": 25,
     "metadata": {},
     "output_type": "execute_result"
    }
   ],
   "source": [
    "# N.B that the higher the negative score, the better\n",
    "scores"
   ]
  },
  {
   "cell_type": "code",
   "execution_count": 26,
   "id": "d887165f",
   "metadata": {},
   "outputs": [
    {
     "data": {
      "text/plain": [
       "8.215396464543607"
      ]
     },
     "execution_count": 26,
     "metadata": {},
     "output_type": "execute_result"
    }
   ],
   "source": [
    "# check the absolute mean of scores for comparison with MSE\n",
    "abs(scores.mean())"
   ]
  },
  {
   "cell_type": "code",
   "execution_count": 27,
   "id": "d8ae506b",
   "metadata": {},
   "outputs": [],
   "source": [
    "# the MSE is not so great, so we create another ridge model and change alpha\n",
    "model_six = Ridge(alpha=1)"
   ]
  },
  {
   "cell_type": "code",
   "execution_count": 30,
   "id": "bf19acee",
   "metadata": {},
   "outputs": [],
   "source": [
    "scores2 = cross_val_score(model_six,scaledXxxTrain,yyyTrain,scoring='neg_mean_squared_error',cv=5)"
   ]
  },
  {
   "cell_type": "code",
   "execution_count": 31,
   "id": "fdd00144",
   "metadata": {},
   "outputs": [
    {
     "data": {
      "text/plain": [
       "array([-3.15513238, -1.58086982, -5.40455562, -2.21654481, -4.36709384])"
      ]
     },
     "execution_count": 31,
     "metadata": {},
     "output_type": "execute_result"
    }
   ],
   "source": [
    "scores2"
   ]
  },
  {
   "cell_type": "code",
   "execution_count": 32,
   "id": "3ca14c8f",
   "metadata": {},
   "outputs": [
    {
     "data": {
      "text/plain": [
       "3.344839296530696"
      ]
     },
     "execution_count": 32,
     "metadata": {},
     "output_type": "execute_result"
    }
   ],
   "source": [
    "abs(scores2.mean())"
   ]
  },
  {
   "cell_type": "code",
   "execution_count": 39,
   "id": "75bffa94",
   "metadata": {},
   "outputs": [
    {
     "data": {
      "text/plain": [
       "Ridge(alpha=1)"
      ]
     },
     "execution_count": 39,
     "metadata": {},
     "output_type": "execute_result"
    }
   ],
   "source": [
    "# We are satisfied with model six, so now we fit it to the scaled x train and y train\n",
    "model_six.fit(scaledXxxTrain, yyyTrain)"
   ]
  },
  {
   "cell_type": "code",
   "execution_count": 40,
   "id": "14cbe980",
   "metadata": {},
   "outputs": [],
   "source": [
    "# predict on the scaled X test data\n",
    "testPredictions6 = model_six.predict(scaledXxxTest)"
   ]
  },
  {
   "cell_type": "code",
   "execution_count": 41,
   "id": "bcacfdd2",
   "metadata": {},
   "outputs": [
    {
     "data": {
      "text/plain": [
       "array([15.73544249, 19.56177685, 11.47282584, 16.99614361,  9.19583919,\n",
       "        7.06034338, 20.24078477, 17.27047482,  9.7997058 , 19.18969381,\n",
       "       12.40827613, 13.88321006, 13.72330625, 21.24960621, 18.41451801,\n",
       "       10.00739858, 15.54023734,  7.72694272,  7.59886443, 20.3595504 ,\n",
       "        7.831815  , 18.21607253, 24.61611392, 22.77116018,  8.0117733 ,\n",
       "       12.667102  , 21.40567156,  8.10250725, 12.43158049, 12.53481984,\n",
       "       10.81678067, 19.21537816, 10.09192883,  6.76998079, 17.29636618,\n",
       "        7.81497124,  9.28808588,  8.31202002, 10.6122371 , 10.6533735 ,\n",
       "       13.05491413,  9.80364168, 10.24764859,  8.09836046, 11.58209801,\n",
       "       10.10783927,  9.025001  , 16.24936342, 13.26025422, 20.77690029,\n",
       "       12.51477346, 13.96784546, 17.53696507, 11.15686875, 12.57233878,\n",
       "        5.56009018, 23.21824128, 12.62301353, 18.72931877, 15.18197827])"
      ]
     },
     "execution_count": 41,
     "metadata": {},
     "output_type": "execute_result"
    }
   ],
   "source": [
    "testPredictions6"
   ]
  },
  {
   "cell_type": "code",
   "execution_count": 42,
   "id": "bc7df698",
   "metadata": {},
   "outputs": [
    {
     "data": {
      "text/plain": [
       "array([3.73961770e+00, 2.74477719e+00, 2.68837098e-03])"
      ]
     },
     "execution_count": 42,
     "metadata": {},
     "output_type": "execute_result"
    }
   ],
   "source": [
    "model_six.coef_"
   ]
  },
  {
   "cell_type": "code",
   "execution_count": 43,
   "id": "d99c15c4",
   "metadata": {},
   "outputs": [],
   "source": [
    "# Evalaute the error metrics\n",
    "MAE6 = mean_absolute_error(yyyTest, testPredictions6)\n",
    "MSE6 = mean_squared_error(yyyTest, testPredictions6)\n",
    "RMSE6 = root_mean_square_error(y_test=yyyTest, model_predictions=testPredictions6)"
   ]
  },
  {
   "cell_type": "code",
   "execution_count": 44,
   "id": "146a3108",
   "metadata": {},
   "outputs": [
    {
     "data": {
      "text/plain": [
       "1.216876844358058"
      ]
     },
     "execution_count": 44,
     "metadata": {},
     "output_type": "execute_result"
    }
   ],
   "source": [
    "MAE6"
   ]
  },
  {
   "cell_type": "code",
   "execution_count": 45,
   "id": "34f58aeb",
   "metadata": {},
   "outputs": [
    {
     "data": {
      "text/plain": [
       "2.3190215794287523"
      ]
     },
     "execution_count": 45,
     "metadata": {},
     "output_type": "execute_result"
    }
   ],
   "source": [
    "MSE6"
   ]
  },
  {
   "cell_type": "code",
   "execution_count": 46,
   "id": "f196bf80",
   "metadata": {},
   "outputs": [
    {
     "data": {
      "text/plain": [
       "1.5228334050147285"
      ]
     },
     "execution_count": 46,
     "metadata": {},
     "output_type": "execute_result"
    }
   ],
   "source": [
    "RMSE6"
   ]
  },
  {
   "cell_type": "markdown",
   "id": "07c52598",
   "metadata": {},
   "source": [
    "CROSS VALIDATION (K-Fold) using cross_validate function"
   ]
  },
  {
   "cell_type": "code",
   "execution_count": 64,
   "id": "1a55bf59",
   "metadata": {},
   "outputs": [],
   "source": [
    "# read the dataset\n",
    "dataset = pd.read_csv('Advertising.csv')\n",
    "dataset.head()\n",
    "\n",
    "# seperate X features and y label\n",
    "X_xx = dataset.drop(\"sales\", axis=1)\n",
    "y_yy = dataset[\"sales\"]\n",
    "\n",
    "# perform a train test split of the new dataset\n",
    "X_xxTrain, X_xxTest, y_yyTrain, y_yyTest = train_test_split(X_xx, y_yy, test_size=0.3, random_state=101)\n",
    "\n",
    "# scaling the data\n",
    "# create an instance of a feature scaler\n",
    "# Do not scale the test data\n",
    "scaler8 = StandardScaler()\n",
    "\n",
    "# fit the scaler to the training X feature\n",
    "scaler8.fit(X_xxTrain)\n",
    "\n",
    "# create the transformed version of the scaled training X features\n",
    "scaledX_xxTrain = scaler8.transform(X_xxTrain)\n",
    "scaledX_xxTest = scaler8.transform(X_xxTest)"
   ]
  },
  {
   "cell_type": "code",
   "execution_count": 65,
   "id": "eb5a05ba",
   "metadata": {},
   "outputs": [
    {
     "data": {
      "text/html": [
       "<div>\n",
       "<style scoped>\n",
       "    .dataframe tbody tr th:only-of-type {\n",
       "        vertical-align: middle;\n",
       "    }\n",
       "\n",
       "    .dataframe tbody tr th {\n",
       "        vertical-align: top;\n",
       "    }\n",
       "\n",
       "    .dataframe thead th {\n",
       "        text-align: right;\n",
       "    }\n",
       "</style>\n",
       "<table border=\"1\" class=\"dataframe\">\n",
       "  <thead>\n",
       "    <tr style=\"text-align: right;\">\n",
       "      <th></th>\n",
       "      <th>TV</th>\n",
       "      <th>radio</th>\n",
       "      <th>newspaper</th>\n",
       "    </tr>\n",
       "  </thead>\n",
       "  <tbody>\n",
       "    <tr>\n",
       "      <th>0</th>\n",
       "      <td>230.1</td>\n",
       "      <td>37.8</td>\n",
       "      <td>69.2</td>\n",
       "    </tr>\n",
       "    <tr>\n",
       "      <th>1</th>\n",
       "      <td>44.5</td>\n",
       "      <td>39.3</td>\n",
       "      <td>45.1</td>\n",
       "    </tr>\n",
       "    <tr>\n",
       "      <th>2</th>\n",
       "      <td>17.2</td>\n",
       "      <td>45.9</td>\n",
       "      <td>69.3</td>\n",
       "    </tr>\n",
       "    <tr>\n",
       "      <th>3</th>\n",
       "      <td>151.5</td>\n",
       "      <td>41.3</td>\n",
       "      <td>58.5</td>\n",
       "    </tr>\n",
       "    <tr>\n",
       "      <th>4</th>\n",
       "      <td>180.8</td>\n",
       "      <td>10.8</td>\n",
       "      <td>58.4</td>\n",
       "    </tr>\n",
       "    <tr>\n",
       "      <th>...</th>\n",
       "      <td>...</td>\n",
       "      <td>...</td>\n",
       "      <td>...</td>\n",
       "    </tr>\n",
       "    <tr>\n",
       "      <th>195</th>\n",
       "      <td>38.2</td>\n",
       "      <td>3.7</td>\n",
       "      <td>13.8</td>\n",
       "    </tr>\n",
       "    <tr>\n",
       "      <th>196</th>\n",
       "      <td>94.2</td>\n",
       "      <td>4.9</td>\n",
       "      <td>8.1</td>\n",
       "    </tr>\n",
       "    <tr>\n",
       "      <th>197</th>\n",
       "      <td>177.0</td>\n",
       "      <td>9.3</td>\n",
       "      <td>6.4</td>\n",
       "    </tr>\n",
       "    <tr>\n",
       "      <th>198</th>\n",
       "      <td>283.6</td>\n",
       "      <td>42.0</td>\n",
       "      <td>66.2</td>\n",
       "    </tr>\n",
       "    <tr>\n",
       "      <th>199</th>\n",
       "      <td>232.1</td>\n",
       "      <td>8.6</td>\n",
       "      <td>8.7</td>\n",
       "    </tr>\n",
       "  </tbody>\n",
       "</table>\n",
       "<p>200 rows × 3 columns</p>\n",
       "</div>"
      ],
      "text/plain": [
       "        TV  radio  newspaper\n",
       "0    230.1   37.8       69.2\n",
       "1     44.5   39.3       45.1\n",
       "2     17.2   45.9       69.3\n",
       "3    151.5   41.3       58.5\n",
       "4    180.8   10.8       58.4\n",
       "..     ...    ...        ...\n",
       "195   38.2    3.7       13.8\n",
       "196   94.2    4.9        8.1\n",
       "197  177.0    9.3        6.4\n",
       "198  283.6   42.0       66.2\n",
       "199  232.1    8.6        8.7\n",
       "\n",
       "[200 rows x 3 columns]"
      ]
     },
     "execution_count": 65,
     "metadata": {},
     "output_type": "execute_result"
    }
   ],
   "source": [
    "X_xx"
   ]
  },
  {
   "cell_type": "code",
   "execution_count": 66,
   "id": "f0a3259b",
   "metadata": {},
   "outputs": [],
   "source": [
    "# creating the first model\n",
    "model8 = Ridge(alpha=100)"
   ]
  },
  {
   "cell_type": "code",
   "execution_count": 70,
   "id": "c77ababd",
   "metadata": {},
   "outputs": [],
   "source": [
    "# create the instance to find the best score\n",
    "crossValidateScores = cross_validate(model8,scaledX_xxTrain,y_yyTrain,\n",
    "                                     scoring=['neg_mean_squared_error','neg_mean_absolute_error'],cv=10)"
   ]
  },
  {
   "cell_type": "code",
   "execution_count": 71,
   "id": "aa4f19e5",
   "metadata": {},
   "outputs": [
    {
     "data": {
      "text/plain": [
       "{'fit_time': array([0.00299835, 0.00099969, 0.00100017, 0.00199938, 0.00199771,\n",
       "        0.00100446, 0.00199699, 0.00099969, 0.00200176, 0.00099683]),\n",
       " 'score_time': array([0.00099969, 0.00099969, 0.00099874, 0.        , 0.0010004 ,\n",
       "        0.00199556, 0.0010035 , 0.00199866, 0.0009973 , 0.00100207]),\n",
       " 'test_neg_mean_squared_error': array([ -6.06067062, -10.62703078,  -3.99342608,  -5.00949402,\n",
       "         -9.14179955, -13.08625636,  -3.83940454,  -9.05878567,\n",
       "         -9.05545685,  -5.77888211]),\n",
       " 'test_neg_mean_absolute_error': array([-1.8102116 , -2.54195751, -1.46959386, -1.86276886, -2.52069737,\n",
       "        -2.45999491, -1.45197069, -2.37739501, -2.44334397, -1.89979708])}"
      ]
     },
     "execution_count": 71,
     "metadata": {},
     "output_type": "execute_result"
    }
   ],
   "source": [
    "crossValidateScores"
   ]
  },
  {
   "cell_type": "code",
   "execution_count": 72,
   "id": "6447c5b0",
   "metadata": {},
   "outputs": [],
   "source": [
    "# convert the score dictionary to dataframe\n",
    "crossValidateScores = pd.DataFrame(crossValidateScores)"
   ]
  },
  {
   "cell_type": "code",
   "execution_count": 73,
   "id": "a6fd2b0b",
   "metadata": {},
   "outputs": [
    {
     "data": {
      "text/html": [
       "<div>\n",
       "<style scoped>\n",
       "    .dataframe tbody tr th:only-of-type {\n",
       "        vertical-align: middle;\n",
       "    }\n",
       "\n",
       "    .dataframe tbody tr th {\n",
       "        vertical-align: top;\n",
       "    }\n",
       "\n",
       "    .dataframe thead th {\n",
       "        text-align: right;\n",
       "    }\n",
       "</style>\n",
       "<table border=\"1\" class=\"dataframe\">\n",
       "  <thead>\n",
       "    <tr style=\"text-align: right;\">\n",
       "      <th></th>\n",
       "      <th>fit_time</th>\n",
       "      <th>score_time</th>\n",
       "      <th>test_neg_mean_squared_error</th>\n",
       "      <th>test_neg_mean_absolute_error</th>\n",
       "    </tr>\n",
       "  </thead>\n",
       "  <tbody>\n",
       "    <tr>\n",
       "      <th>0</th>\n",
       "      <td>0.002998</td>\n",
       "      <td>0.001000</td>\n",
       "      <td>-6.060671</td>\n",
       "      <td>-1.810212</td>\n",
       "    </tr>\n",
       "    <tr>\n",
       "      <th>1</th>\n",
       "      <td>0.001000</td>\n",
       "      <td>0.001000</td>\n",
       "      <td>-10.627031</td>\n",
       "      <td>-2.541958</td>\n",
       "    </tr>\n",
       "    <tr>\n",
       "      <th>2</th>\n",
       "      <td>0.001000</td>\n",
       "      <td>0.000999</td>\n",
       "      <td>-3.993426</td>\n",
       "      <td>-1.469594</td>\n",
       "    </tr>\n",
       "    <tr>\n",
       "      <th>3</th>\n",
       "      <td>0.001999</td>\n",
       "      <td>0.000000</td>\n",
       "      <td>-5.009494</td>\n",
       "      <td>-1.862769</td>\n",
       "    </tr>\n",
       "    <tr>\n",
       "      <th>4</th>\n",
       "      <td>0.001998</td>\n",
       "      <td>0.001000</td>\n",
       "      <td>-9.141800</td>\n",
       "      <td>-2.520697</td>\n",
       "    </tr>\n",
       "    <tr>\n",
       "      <th>5</th>\n",
       "      <td>0.001004</td>\n",
       "      <td>0.001996</td>\n",
       "      <td>-13.086256</td>\n",
       "      <td>-2.459995</td>\n",
       "    </tr>\n",
       "    <tr>\n",
       "      <th>6</th>\n",
       "      <td>0.001997</td>\n",
       "      <td>0.001004</td>\n",
       "      <td>-3.839405</td>\n",
       "      <td>-1.451971</td>\n",
       "    </tr>\n",
       "    <tr>\n",
       "      <th>7</th>\n",
       "      <td>0.001000</td>\n",
       "      <td>0.001999</td>\n",
       "      <td>-9.058786</td>\n",
       "      <td>-2.377395</td>\n",
       "    </tr>\n",
       "    <tr>\n",
       "      <th>8</th>\n",
       "      <td>0.002002</td>\n",
       "      <td>0.000997</td>\n",
       "      <td>-9.055457</td>\n",
       "      <td>-2.443344</td>\n",
       "    </tr>\n",
       "    <tr>\n",
       "      <th>9</th>\n",
       "      <td>0.000997</td>\n",
       "      <td>0.001002</td>\n",
       "      <td>-5.778882</td>\n",
       "      <td>-1.899797</td>\n",
       "    </tr>\n",
       "  </tbody>\n",
       "</table>\n",
       "</div>"
      ],
      "text/plain": [
       "   fit_time  score_time  test_neg_mean_squared_error  \\\n",
       "0  0.002998    0.001000                    -6.060671   \n",
       "1  0.001000    0.001000                   -10.627031   \n",
       "2  0.001000    0.000999                    -3.993426   \n",
       "3  0.001999    0.000000                    -5.009494   \n",
       "4  0.001998    0.001000                    -9.141800   \n",
       "5  0.001004    0.001996                   -13.086256   \n",
       "6  0.001997    0.001004                    -3.839405   \n",
       "7  0.001000    0.001999                    -9.058786   \n",
       "8  0.002002    0.000997                    -9.055457   \n",
       "9  0.000997    0.001002                    -5.778882   \n",
       "\n",
       "   test_neg_mean_absolute_error  \n",
       "0                     -1.810212  \n",
       "1                     -2.541958  \n",
       "2                     -1.469594  \n",
       "3                     -1.862769  \n",
       "4                     -2.520697  \n",
       "5                     -2.459995  \n",
       "6                     -1.451971  \n",
       "7                     -2.377395  \n",
       "8                     -2.443344  \n",
       "9                     -1.899797  "
      ]
     },
     "execution_count": 73,
     "metadata": {},
     "output_type": "execute_result"
    }
   ],
   "source": [
    "crossValidateScores"
   ]
  },
  {
   "cell_type": "code",
   "execution_count": 74,
   "id": "d901971e",
   "metadata": {},
   "outputs": [
    {
     "data": {
      "text/plain": [
       "fit_time                        0.001600\n",
       "score_time                      0.001100\n",
       "test_neg_mean_squared_error    -7.565121\n",
       "test_neg_mean_absolute_error   -2.083773\n",
       "dtype: float64"
      ]
     },
     "execution_count": 74,
     "metadata": {},
     "output_type": "execute_result"
    }
   ],
   "source": [
    "crossValidateScores.mean()"
   ]
  },
  {
   "cell_type": "code",
   "execution_count": 75,
   "id": "7b6bab67",
   "metadata": {},
   "outputs": [],
   "source": [
    "# repeat with a new model where alpha = 1\n",
    "model9 = Ridge(alpha=1)"
   ]
  },
  {
   "cell_type": "code",
   "execution_count": 76,
   "id": "2bf7ea4d",
   "metadata": {},
   "outputs": [],
   "source": [
    "# create the instance to find the best score\n",
    "crossValidateScores2 = cross_validate(model9,scaledX_xxTrain,y_yyTrain,\n",
    "                                     scoring=['neg_mean_squared_error','neg_mean_absolute_error'],cv=10)"
   ]
  },
  {
   "cell_type": "code",
   "execution_count": 77,
   "id": "f14d9f00",
   "metadata": {},
   "outputs": [
    {
     "data": {
      "text/plain": [
       "{'fit_time': array([0.00199771, 0.00199986, 0.00200129, 0.00099516, 0.00099993,\n",
       "        0.00099969, 0.00099993, 0.00100017, 0.00099993, 0.00099993]),\n",
       " 'score_time': array([0.00199914, 0.00099826, 0.00100136, 0.00099969, 0.        ,\n",
       "        0.00099874, 0.00099897, 0.0009985 , 0.        , 0.00099897]),\n",
       " 'test_neg_mean_squared_error': array([-2.96250773, -3.05737833, -2.1737403 , -0.83303438, -3.46401792,\n",
       "        -8.2326467 , -1.90586431, -2.76504844, -4.98950515, -2.84643818]),\n",
       " 'test_neg_mean_absolute_error': array([-1.45717399, -1.5553078 , -1.23877012, -0.76893775, -1.43448944,\n",
       "        -1.4943158 , -1.08136203, -1.25001123, -1.58097132, -1.22332553])}"
      ]
     },
     "execution_count": 77,
     "metadata": {},
     "output_type": "execute_result"
    }
   ],
   "source": [
    "crossValidateScores2"
   ]
  },
  {
   "cell_type": "code",
   "execution_count": 78,
   "id": "eb27b7fc",
   "metadata": {},
   "outputs": [],
   "source": [
    "crossValidateScores2 = pd.DataFrame(crossValidateScores2)"
   ]
  },
  {
   "cell_type": "code",
   "execution_count": 79,
   "id": "dd850307",
   "metadata": {},
   "outputs": [
    {
     "data": {
      "text/html": [
       "<div>\n",
       "<style scoped>\n",
       "    .dataframe tbody tr th:only-of-type {\n",
       "        vertical-align: middle;\n",
       "    }\n",
       "\n",
       "    .dataframe tbody tr th {\n",
       "        vertical-align: top;\n",
       "    }\n",
       "\n",
       "    .dataframe thead th {\n",
       "        text-align: right;\n",
       "    }\n",
       "</style>\n",
       "<table border=\"1\" class=\"dataframe\">\n",
       "  <thead>\n",
       "    <tr style=\"text-align: right;\">\n",
       "      <th></th>\n",
       "      <th>fit_time</th>\n",
       "      <th>score_time</th>\n",
       "      <th>test_neg_mean_squared_error</th>\n",
       "      <th>test_neg_mean_absolute_error</th>\n",
       "    </tr>\n",
       "  </thead>\n",
       "  <tbody>\n",
       "    <tr>\n",
       "      <th>0</th>\n",
       "      <td>0.001998</td>\n",
       "      <td>0.001999</td>\n",
       "      <td>-2.962508</td>\n",
       "      <td>-1.457174</td>\n",
       "    </tr>\n",
       "    <tr>\n",
       "      <th>1</th>\n",
       "      <td>0.002000</td>\n",
       "      <td>0.000998</td>\n",
       "      <td>-3.057378</td>\n",
       "      <td>-1.555308</td>\n",
       "    </tr>\n",
       "    <tr>\n",
       "      <th>2</th>\n",
       "      <td>0.002001</td>\n",
       "      <td>0.001001</td>\n",
       "      <td>-2.173740</td>\n",
       "      <td>-1.238770</td>\n",
       "    </tr>\n",
       "    <tr>\n",
       "      <th>3</th>\n",
       "      <td>0.000995</td>\n",
       "      <td>0.001000</td>\n",
       "      <td>-0.833034</td>\n",
       "      <td>-0.768938</td>\n",
       "    </tr>\n",
       "    <tr>\n",
       "      <th>4</th>\n",
       "      <td>0.001000</td>\n",
       "      <td>0.000000</td>\n",
       "      <td>-3.464018</td>\n",
       "      <td>-1.434489</td>\n",
       "    </tr>\n",
       "    <tr>\n",
       "      <th>5</th>\n",
       "      <td>0.001000</td>\n",
       "      <td>0.000999</td>\n",
       "      <td>-8.232647</td>\n",
       "      <td>-1.494316</td>\n",
       "    </tr>\n",
       "    <tr>\n",
       "      <th>6</th>\n",
       "      <td>0.001000</td>\n",
       "      <td>0.000999</td>\n",
       "      <td>-1.905864</td>\n",
       "      <td>-1.081362</td>\n",
       "    </tr>\n",
       "    <tr>\n",
       "      <th>7</th>\n",
       "      <td>0.001000</td>\n",
       "      <td>0.000998</td>\n",
       "      <td>-2.765048</td>\n",
       "      <td>-1.250011</td>\n",
       "    </tr>\n",
       "    <tr>\n",
       "      <th>8</th>\n",
       "      <td>0.001000</td>\n",
       "      <td>0.000000</td>\n",
       "      <td>-4.989505</td>\n",
       "      <td>-1.580971</td>\n",
       "    </tr>\n",
       "    <tr>\n",
       "      <th>9</th>\n",
       "      <td>0.001000</td>\n",
       "      <td>0.000999</td>\n",
       "      <td>-2.846438</td>\n",
       "      <td>-1.223326</td>\n",
       "    </tr>\n",
       "  </tbody>\n",
       "</table>\n",
       "</div>"
      ],
      "text/plain": [
       "   fit_time  score_time  test_neg_mean_squared_error  \\\n",
       "0  0.001998    0.001999                    -2.962508   \n",
       "1  0.002000    0.000998                    -3.057378   \n",
       "2  0.002001    0.001001                    -2.173740   \n",
       "3  0.000995    0.001000                    -0.833034   \n",
       "4  0.001000    0.000000                    -3.464018   \n",
       "5  0.001000    0.000999                    -8.232647   \n",
       "6  0.001000    0.000999                    -1.905864   \n",
       "7  0.001000    0.000998                    -2.765048   \n",
       "8  0.001000    0.000000                    -4.989505   \n",
       "9  0.001000    0.000999                    -2.846438   \n",
       "\n",
       "   test_neg_mean_absolute_error  \n",
       "0                     -1.457174  \n",
       "1                     -1.555308  \n",
       "2                     -1.238770  \n",
       "3                     -0.768938  \n",
       "4                     -1.434489  \n",
       "5                     -1.494316  \n",
       "6                     -1.081362  \n",
       "7                     -1.250011  \n",
       "8                     -1.580971  \n",
       "9                     -1.223326  "
      ]
     },
     "execution_count": 79,
     "metadata": {},
     "output_type": "execute_result"
    }
   ],
   "source": [
    "crossValidateScores2"
   ]
  },
  {
   "cell_type": "code",
   "execution_count": 80,
   "id": "68c936eb",
   "metadata": {},
   "outputs": [
    {
     "data": {
      "text/plain": [
       "fit_time                        0.001299\n",
       "score_time                      0.000899\n",
       "test_neg_mean_squared_error    -3.323018\n",
       "test_neg_mean_absolute_error   -1.308467\n",
       "dtype: float64"
      ]
     },
     "execution_count": 80,
     "metadata": {},
     "output_type": "execute_result"
    }
   ],
   "source": [
    "crossValidateScores2.mean()"
   ]
  },
  {
   "cell_type": "code",
   "execution_count": 81,
   "id": "23aa8e10",
   "metadata": {},
   "outputs": [
    {
     "data": {
      "text/plain": [
       "Ridge(alpha=1)"
      ]
     },
     "execution_count": 81,
     "metadata": {},
     "output_type": "execute_result"
    }
   ],
   "source": [
    "# We are satisfied with model9, so now we fit it to the scaled x train and y train\n",
    "model9.fit(scaledX_xxTrain, y_yyTrain)"
   ]
  },
  {
   "cell_type": "code",
   "execution_count": 82,
   "id": "8ca38fd6",
   "metadata": {},
   "outputs": [
    {
     "data": {
      "text/plain": [
       "array([3.73961770e+00, 2.74477719e+00, 2.68837098e-03])"
      ]
     },
     "execution_count": 82,
     "metadata": {},
     "output_type": "execute_result"
    }
   ],
   "source": [
    "model9.coef_"
   ]
  },
  {
   "cell_type": "code",
   "execution_count": 83,
   "id": "7a93da9f",
   "metadata": {},
   "outputs": [],
   "source": [
    "# predict on the scaled X test data\n",
    "testPredictions9 = model9.predict(scaledX_xxTest)"
   ]
  },
  {
   "cell_type": "code",
   "execution_count": 84,
   "id": "7eee908f",
   "metadata": {},
   "outputs": [
    {
     "data": {
      "text/plain": [
       "array([15.73544249, 19.56177685, 11.47282584, 16.99614361,  9.19583919,\n",
       "        7.06034338, 20.24078477, 17.27047482,  9.7997058 , 19.18969381,\n",
       "       12.40827613, 13.88321006, 13.72330625, 21.24960621, 18.41451801,\n",
       "       10.00739858, 15.54023734,  7.72694272,  7.59886443, 20.3595504 ,\n",
       "        7.831815  , 18.21607253, 24.61611392, 22.77116018,  8.0117733 ,\n",
       "       12.667102  , 21.40567156,  8.10250725, 12.43158049, 12.53481984,\n",
       "       10.81678067, 19.21537816, 10.09192883,  6.76998079, 17.29636618,\n",
       "        7.81497124,  9.28808588,  8.31202002, 10.6122371 , 10.6533735 ,\n",
       "       13.05491413,  9.80364168, 10.24764859,  8.09836046, 11.58209801,\n",
       "       10.10783927,  9.025001  , 16.24936342, 13.26025422, 20.77690029,\n",
       "       12.51477346, 13.96784546, 17.53696507, 11.15686875, 12.57233878,\n",
       "        5.56009018, 23.21824128, 12.62301353, 18.72931877, 15.18197827])"
      ]
     },
     "execution_count": 84,
     "metadata": {},
     "output_type": "execute_result"
    }
   ],
   "source": [
    "testPredictions9"
   ]
  },
  {
   "cell_type": "code",
   "execution_count": 86,
   "id": "f77dc33d",
   "metadata": {},
   "outputs": [],
   "source": [
    "# Evalaute the error metrics\n",
    "MAE9 = mean_absolute_error(y_yyTest, testPredictions9)\n",
    "MSE9 = mean_squared_error(y_yyTest, testPredictions9)\n",
    "RMSE9 = root_mean_square_error(y_test=y_yyTest, model_predictions=testPredictions9)"
   ]
  },
  {
   "cell_type": "code",
   "execution_count": 87,
   "id": "b5dc816d",
   "metadata": {},
   "outputs": [
    {
     "data": {
      "text/plain": [
       "1.216876844358058"
      ]
     },
     "execution_count": 87,
     "metadata": {},
     "output_type": "execute_result"
    }
   ],
   "source": [
    "MAE9"
   ]
  },
  {
   "cell_type": "code",
   "execution_count": 88,
   "id": "b073074d",
   "metadata": {},
   "outputs": [
    {
     "data": {
      "text/plain": [
       "2.3190215794287523"
      ]
     },
     "execution_count": 88,
     "metadata": {},
     "output_type": "execute_result"
    }
   ],
   "source": [
    "MSE9"
   ]
  },
  {
   "cell_type": "code",
   "execution_count": 89,
   "id": "6fc3568a",
   "metadata": {},
   "outputs": [
    {
     "data": {
      "text/plain": [
       "1.5228334050147285"
      ]
     },
     "execution_count": 89,
     "metadata": {},
     "output_type": "execute_result"
    }
   ],
   "source": [
    "RMSE9"
   ]
  },
  {
   "cell_type": "markdown",
   "id": "dcf83bad",
   "metadata": {},
   "source": [
    "Grid Search"
   ]
  },
  {
   "cell_type": "code",
   "execution_count": 94,
   "id": "abac8021",
   "metadata": {},
   "outputs": [],
   "source": [
    "# using the same set up from above, we will create a model using elasticnet\n",
    "baseElasticNetModel = ElasticNet()"
   ]
  },
  {
   "cell_type": "code",
   "execution_count": 95,
   "id": "5fd0ec45",
   "metadata": {},
   "outputs": [],
   "source": [
    "# create a set of outcome for the elasticnet parameters we wish to play with. in this case alpha and l1_ratio\n",
    "param_grid = {'alpha':[0.1,1,5,10,100], \"l1_ratio\":[0.1,0.5,0.7,0.95,0.99,1.00]}"
   ]
  },
  {
   "cell_type": "code",
   "execution_count": 96,
   "id": "77d997a2",
   "metadata": {},
   "outputs": [],
   "source": [
    "# create the grid search model\n",
    "gridModel = GridSearchCV(estimator=baseElasticNetModel,\n",
    "                        param_grid=param_grid,\n",
    "                        scoring='neg_mean_squared_error',\n",
    "                        cv=5,\n",
    "                        verbose=2)"
   ]
  },
  {
   "cell_type": "code",
   "execution_count": 97,
   "id": "025c7b25",
   "metadata": {},
   "outputs": [
    {
     "name": "stdout",
     "output_type": "stream",
     "text": [
      "Fitting 5 folds for each of 30 candidates, totalling 150 fits\n",
      "[CV] END ............................alpha=0.1, l1_ratio=0.1; total time=   0.4s\n",
      "[CV] END ............................alpha=0.1, l1_ratio=0.1; total time=   0.0s\n",
      "[CV] END ............................alpha=0.1, l1_ratio=0.1; total time=   0.0s\n",
      "[CV] END ............................alpha=0.1, l1_ratio=0.1; total time=   0.0s\n",
      "[CV] END ............................alpha=0.1, l1_ratio=0.1; total time=   0.0s\n",
      "[CV] END ............................alpha=0.1, l1_ratio=0.5; total time=   0.0s\n",
      "[CV] END ............................alpha=0.1, l1_ratio=0.5; total time=   0.0s\n",
      "[CV] END ............................alpha=0.1, l1_ratio=0.5; total time=   0.0s\n",
      "[CV] END ............................alpha=0.1, l1_ratio=0.5; total time=   0.0s\n",
      "[CV] END ............................alpha=0.1, l1_ratio=0.5; total time=   0.0s\n",
      "[CV] END ............................alpha=0.1, l1_ratio=0.7; total time=   0.0s\n",
      "[CV] END ............................alpha=0.1, l1_ratio=0.7; total time=   0.0s\n",
      "[CV] END ............................alpha=0.1, l1_ratio=0.7; total time=   0.0s\n",
      "[CV] END ............................alpha=0.1, l1_ratio=0.7; total time=   0.0s\n",
      "[CV] END ............................alpha=0.1, l1_ratio=0.7; total time=   0.0s\n",
      "[CV] END ...........................alpha=0.1, l1_ratio=0.95; total time=   0.0s\n",
      "[CV] END ...........................alpha=0.1, l1_ratio=0.95; total time=   0.0s\n",
      "[CV] END ...........................alpha=0.1, l1_ratio=0.95; total time=   0.0s\n",
      "[CV] END ...........................alpha=0.1, l1_ratio=0.95; total time=   0.0s\n",
      "[CV] END ...........................alpha=0.1, l1_ratio=0.95; total time=   0.0s\n",
      "[CV] END ...........................alpha=0.1, l1_ratio=0.99; total time=   0.0s\n",
      "[CV] END ...........................alpha=0.1, l1_ratio=0.99; total time=   0.0s\n",
      "[CV] END ...........................alpha=0.1, l1_ratio=0.99; total time=   0.0s\n",
      "[CV] END ...........................alpha=0.1, l1_ratio=0.99; total time=   0.0s\n",
      "[CV] END ...........................alpha=0.1, l1_ratio=0.99; total time=   0.0s\n",
      "[CV] END ............................alpha=0.1, l1_ratio=1.0; total time=   0.0s\n",
      "[CV] END ............................alpha=0.1, l1_ratio=1.0; total time=   0.0s\n",
      "[CV] END ............................alpha=0.1, l1_ratio=1.0; total time=   0.0s\n",
      "[CV] END ............................alpha=0.1, l1_ratio=1.0; total time=   0.0s\n",
      "[CV] END ............................alpha=0.1, l1_ratio=1.0; total time=   0.0s\n",
      "[CV] END ..............................alpha=1, l1_ratio=0.1; total time=   0.0s\n",
      "[CV] END ..............................alpha=1, l1_ratio=0.1; total time=   0.0s\n",
      "[CV] END ..............................alpha=1, l1_ratio=0.1; total time=   0.0s\n",
      "[CV] END ..............................alpha=1, l1_ratio=0.1; total time=   0.0s\n",
      "[CV] END ..............................alpha=1, l1_ratio=0.1; total time=   0.0s\n",
      "[CV] END ..............................alpha=1, l1_ratio=0.5; total time=   0.0s\n",
      "[CV] END ..............................alpha=1, l1_ratio=0.5; total time=   0.0s\n",
      "[CV] END ..............................alpha=1, l1_ratio=0.5; total time=   0.0s\n",
      "[CV] END ..............................alpha=1, l1_ratio=0.5; total time=   0.0s\n",
      "[CV] END ..............................alpha=1, l1_ratio=0.5; total time=   0.0s\n",
      "[CV] END ..............................alpha=1, l1_ratio=0.7; total time=   0.0s\n",
      "[CV] END ..............................alpha=1, l1_ratio=0.7; total time=   0.0s\n",
      "[CV] END ..............................alpha=1, l1_ratio=0.7; total time=   0.0s\n",
      "[CV] END ..............................alpha=1, l1_ratio=0.7; total time=   0.0s\n",
      "[CV] END ..............................alpha=1, l1_ratio=0.7; total time=   0.0s\n",
      "[CV] END .............................alpha=1, l1_ratio=0.95; total time=   0.0s\n",
      "[CV] END .............................alpha=1, l1_ratio=0.95; total time=   0.0s\n",
      "[CV] END .............................alpha=1, l1_ratio=0.95; total time=   0.0s\n",
      "[CV] END .............................alpha=1, l1_ratio=0.95; total time=   0.0s\n",
      "[CV] END .............................alpha=1, l1_ratio=0.95; total time=   0.0s\n",
      "[CV] END .............................alpha=1, l1_ratio=0.99; total time=   0.0s\n",
      "[CV] END .............................alpha=1, l1_ratio=0.99; total time=   0.0s\n",
      "[CV] END .............................alpha=1, l1_ratio=0.99; total time=   0.0s\n",
      "[CV] END .............................alpha=1, l1_ratio=0.99; total time=   0.0s\n",
      "[CV] END .............................alpha=1, l1_ratio=0.99; total time=   0.0s\n",
      "[CV] END ..............................alpha=1, l1_ratio=1.0; total time=   0.0s\n",
      "[CV] END ..............................alpha=1, l1_ratio=1.0; total time=   0.0s\n",
      "[CV] END ..............................alpha=1, l1_ratio=1.0; total time=   0.0s\n",
      "[CV] END ..............................alpha=1, l1_ratio=1.0; total time=   0.0s\n",
      "[CV] END ..............................alpha=1, l1_ratio=1.0; total time=   0.0s\n",
      "[CV] END ..............................alpha=5, l1_ratio=0.1; total time=   0.0s\n",
      "[CV] END ..............................alpha=5, l1_ratio=0.1; total time=   0.0s\n",
      "[CV] END ..............................alpha=5, l1_ratio=0.1; total time=   0.0s\n",
      "[CV] END ..............................alpha=5, l1_ratio=0.1; total time=   0.0s\n",
      "[CV] END ..............................alpha=5, l1_ratio=0.1; total time=   0.0s\n",
      "[CV] END ..............................alpha=5, l1_ratio=0.5; total time=   0.0s\n",
      "[CV] END ..............................alpha=5, l1_ratio=0.5; total time=   0.0s\n",
      "[CV] END ..............................alpha=5, l1_ratio=0.5; total time=   0.0s\n",
      "[CV] END ..............................alpha=5, l1_ratio=0.5; total time=   0.0s\n",
      "[CV] END ..............................alpha=5, l1_ratio=0.5; total time=   0.0s\n",
      "[CV] END ..............................alpha=5, l1_ratio=0.7; total time=   0.0s\n",
      "[CV] END ..............................alpha=5, l1_ratio=0.7; total time=   0.0s\n",
      "[CV] END ..............................alpha=5, l1_ratio=0.7; total time=   0.0s\n",
      "[CV] END ..............................alpha=5, l1_ratio=0.7; total time=   0.0s\n",
      "[CV] END ..............................alpha=5, l1_ratio=0.7; total time=   0.0s\n",
      "[CV] END .............................alpha=5, l1_ratio=0.95; total time=   0.0s\n",
      "[CV] END .............................alpha=5, l1_ratio=0.95; total time=   0.0s\n",
      "[CV] END .............................alpha=5, l1_ratio=0.95; total time=   0.0s\n",
      "[CV] END .............................alpha=5, l1_ratio=0.95; total time=   0.0s\n",
      "[CV] END .............................alpha=5, l1_ratio=0.95; total time=   0.0s\n",
      "[CV] END .............................alpha=5, l1_ratio=0.99; total time=   0.0s\n",
      "[CV] END .............................alpha=5, l1_ratio=0.99; total time=   0.0s\n",
      "[CV] END .............................alpha=5, l1_ratio=0.99; total time=   0.0s\n",
      "[CV] END .............................alpha=5, l1_ratio=0.99; total time=   0.0s\n",
      "[CV] END .............................alpha=5, l1_ratio=0.99; total time=   0.0s\n",
      "[CV] END ..............................alpha=5, l1_ratio=1.0; total time=   0.0s\n",
      "[CV] END ..............................alpha=5, l1_ratio=1.0; total time=   0.0s\n",
      "[CV] END ..............................alpha=5, l1_ratio=1.0; total time=   0.0s\n",
      "[CV] END ..............................alpha=5, l1_ratio=1.0; total time=   0.0s\n",
      "[CV] END ..............................alpha=5, l1_ratio=1.0; total time=   0.0s\n",
      "[CV] END .............................alpha=10, l1_ratio=0.1; total time=   0.0s\n",
      "[CV] END .............................alpha=10, l1_ratio=0.1; total time=   0.0s\n",
      "[CV] END .............................alpha=10, l1_ratio=0.1; total time=   0.0s\n",
      "[CV] END .............................alpha=10, l1_ratio=0.1; total time=   0.0s\n",
      "[CV] END .............................alpha=10, l1_ratio=0.1; total time=   0.0s\n",
      "[CV] END .............................alpha=10, l1_ratio=0.5; total time=   0.0s\n",
      "[CV] END .............................alpha=10, l1_ratio=0.5; total time=   0.0s\n",
      "[CV] END .............................alpha=10, l1_ratio=0.5; total time=   0.0s\n",
      "[CV] END .............................alpha=10, l1_ratio=0.5; total time=   0.0s\n",
      "[CV] END .............................alpha=10, l1_ratio=0.5; total time=   0.0s\n",
      "[CV] END .............................alpha=10, l1_ratio=0.7; total time=   0.0s\n",
      "[CV] END .............................alpha=10, l1_ratio=0.7; total time=   0.0s\n",
      "[CV] END .............................alpha=10, l1_ratio=0.7; total time=   0.0s\n",
      "[CV] END .............................alpha=10, l1_ratio=0.7; total time=   0.0s\n",
      "[CV] END .............................alpha=10, l1_ratio=0.7; total time=   0.0s\n",
      "[CV] END ............................alpha=10, l1_ratio=0.95; total time=   0.0s\n",
      "[CV] END ............................alpha=10, l1_ratio=0.95; total time=   0.0s\n",
      "[CV] END ............................alpha=10, l1_ratio=0.95; total time=   0.0s\n",
      "[CV] END ............................alpha=10, l1_ratio=0.95; total time=   0.0s\n",
      "[CV] END ............................alpha=10, l1_ratio=0.95; total time=   0.0s\n",
      "[CV] END ............................alpha=10, l1_ratio=0.99; total time=   0.0s\n",
      "[CV] END ............................alpha=10, l1_ratio=0.99; total time=   0.0s\n",
      "[CV] END ............................alpha=10, l1_ratio=0.99; total time=   0.0s\n",
      "[CV] END ............................alpha=10, l1_ratio=0.99; total time=   0.0s\n",
      "[CV] END ............................alpha=10, l1_ratio=0.99; total time=   0.0s\n",
      "[CV] END .............................alpha=10, l1_ratio=1.0; total time=   0.0s\n",
      "[CV] END .............................alpha=10, l1_ratio=1.0; total time=   0.0s\n",
      "[CV] END .............................alpha=10, l1_ratio=1.0; total time=   0.0s\n",
      "[CV] END .............................alpha=10, l1_ratio=1.0; total time=   0.0s\n",
      "[CV] END .............................alpha=10, l1_ratio=1.0; total time=   0.0s\n",
      "[CV] END ............................alpha=100, l1_ratio=0.1; total time=   0.0s\n",
      "[CV] END ............................alpha=100, l1_ratio=0.1; total time=   0.0s\n",
      "[CV] END ............................alpha=100, l1_ratio=0.1; total time=   0.0s\n",
      "[CV] END ............................alpha=100, l1_ratio=0.1; total time=   0.0s\n",
      "[CV] END ............................alpha=100, l1_ratio=0.1; total time=   0.0s\n",
      "[CV] END ............................alpha=100, l1_ratio=0.5; total time=   0.0s\n",
      "[CV] END ............................alpha=100, l1_ratio=0.5; total time=   0.0s\n",
      "[CV] END ............................alpha=100, l1_ratio=0.5; total time=   0.0s\n",
      "[CV] END ............................alpha=100, l1_ratio=0.5; total time=   0.0s\n",
      "[CV] END ............................alpha=100, l1_ratio=0.5; total time=   0.0s\n",
      "[CV] END ............................alpha=100, l1_ratio=0.7; total time=   0.0s\n",
      "[CV] END ............................alpha=100, l1_ratio=0.7; total time=   0.0s\n",
      "[CV] END ............................alpha=100, l1_ratio=0.7; total time=   0.0s\n",
      "[CV] END ............................alpha=100, l1_ratio=0.7; total time=   0.0s\n",
      "[CV] END ............................alpha=100, l1_ratio=0.7; total time=   0.0s\n",
      "[CV] END ...........................alpha=100, l1_ratio=0.95; total time=   0.0s\n",
      "[CV] END ...........................alpha=100, l1_ratio=0.95; total time=   0.0s\n",
      "[CV] END ...........................alpha=100, l1_ratio=0.95; total time=   0.0s\n",
      "[CV] END ...........................alpha=100, l1_ratio=0.95; total time=   0.0s\n",
      "[CV] END ...........................alpha=100, l1_ratio=0.95; total time=   0.0s\n",
      "[CV] END ...........................alpha=100, l1_ratio=0.99; total time=   0.0s\n",
      "[CV] END ...........................alpha=100, l1_ratio=0.99; total time=   0.0s\n",
      "[CV] END ...........................alpha=100, l1_ratio=0.99; total time=   0.0s\n",
      "[CV] END ...........................alpha=100, l1_ratio=0.99; total time=   0.0s\n",
      "[CV] END ...........................alpha=100, l1_ratio=0.99; total time=   0.0s\n",
      "[CV] END ............................alpha=100, l1_ratio=1.0; total time=   0.0s\n",
      "[CV] END ............................alpha=100, l1_ratio=1.0; total time=   0.0s\n",
      "[CV] END ............................alpha=100, l1_ratio=1.0; total time=   0.0s\n",
      "[CV] END ............................alpha=100, l1_ratio=1.0; total time=   0.0s\n",
      "[CV] END ............................alpha=100, l1_ratio=1.0; total time=   0.0s\n"
     ]
    },
    {
     "data": {
      "text/plain": [
       "GridSearchCV(cv=5, estimator=ElasticNet(),\n",
       "             param_grid={'alpha': [0.1, 1, 5, 10, 100],\n",
       "                         'l1_ratio': [0.1, 0.5, 0.7, 0.95, 0.99, 1.0]},\n",
       "             scoring='neg_mean_squared_error', verbose=2)"
      ]
     },
     "execution_count": 97,
     "metadata": {},
     "output_type": "execute_result"
    }
   ],
   "source": [
    "# We fit it to the scaled x train and y train\n",
    "gridModel.fit(scaledX_xxTrain, y_yyTrain)"
   ]
  },
  {
   "cell_type": "code",
   "execution_count": 98,
   "id": "7b43014b",
   "metadata": {},
   "outputs": [
    {
     "data": {
      "text/plain": [
       "ElasticNet(alpha=0.1, l1_ratio=1.0)"
      ]
     },
     "execution_count": 98,
     "metadata": {},
     "output_type": "execute_result"
    }
   ],
   "source": [
    "# select the best estimator and paramaeter for the grid search\n",
    "gridModel.best_estimator_"
   ]
  },
  {
   "cell_type": "code",
   "execution_count": 99,
   "id": "81406046",
   "metadata": {},
   "outputs": [
    {
     "data": {
      "text/plain": [
       "{'alpha': 0.1, 'l1_ratio': 1.0}"
      ]
     },
     "execution_count": 99,
     "metadata": {},
     "output_type": "execute_result"
    }
   ],
   "source": [
    "gridModel.best_params_"
   ]
  },
  {
   "cell_type": "code",
   "execution_count": 100,
   "id": "b808d599",
   "metadata": {},
   "outputs": [],
   "source": [
    "# check all the results from model\n",
    "allResults = gridModel.cv_results_"
   ]
  },
  {
   "cell_type": "code",
   "execution_count": 101,
   "id": "e117bb2c",
   "metadata": {},
   "outputs": [
    {
     "data": {
      "text/plain": [
       "{'mean_fit_time': array([0.09840875, 0.00219889, 0.00199866, 0.00140123, 0.00139804,\n",
       "        0.00099702, 0.00340652, 0.00120091, 0.00099554, 0.00099883,\n",
       "        0.00120077, 0.00120192, 0.00139689, 0.00099573, 0.00119934,\n",
       "        0.00119877, 0.00139928, 0.00219979, 0.00519643, 0.00100002,\n",
       "        0.00119958, 0.00119867, 0.00100055, 0.00099921, 0.00099826,\n",
       "        0.00099802, 0.00139856, 0.00060029, 0.0010006 , 0.00119934]),\n",
       " 'std_fit_time': array([1.91821477e-01, 3.98423923e-04, 6.29695650e-04, 4.87798992e-04,\n",
       "        4.89540298e-04, 2.40979743e-06, 4.32628564e-03, 3.99480671e-04,\n",
       "        2.43140197e-07, 2.27486810e-06, 3.98469524e-04, 3.98373814e-04,\n",
       "        4.91245199e-04, 8.47644274e-07, 3.99312148e-04, 7.47946329e-04,\n",
       "        4.89785533e-04, 1.46962789e-03, 7.90300907e-03, 2.43140197e-07,\n",
       "        3.99186146e-04, 4.00114898e-04, 1.90734863e-07, 1.31454933e-06,\n",
       "        2.13248060e-07, 1.50789149e-07, 4.89979474e-04, 4.90135030e-04,\n",
       "        4.86280395e-07, 4.00021207e-04]),\n",
       " 'mean_score_time': array([0.00060072, 0.00100226, 0.00100126, 0.0003983 , 0.00039973,\n",
       "        0.00080228, 0.00039954, 0.00099864, 0.00080242, 0.00060005,\n",
       "        0.00059876, 0.        , 0.        , 0.00040112, 0.00020051,\n",
       "        0.0006001 , 0.0006001 , 0.00099769, 0.00019999, 0.        ,\n",
       "        0.00079899, 0.00079989, 0.00099821, 0.00020008, 0.00019994,\n",
       "        0.0010006 , 0.00059991, 0.00099874, 0.0003994 , 0.00019956]),\n",
       " 'std_score_time': array([4.90503002e-04, 3.44314732e-06, 2.87924369e-06, 4.87818433e-04,\n",
       "        4.89578387e-04, 4.01139610e-04, 4.89343163e-04, 3.53824739e-06,\n",
       "        4.01210813e-04, 7.99632718e-04, 4.88889249e-04, 0.00000000e+00,\n",
       "        0.00000000e+00, 4.91264259e-04, 4.01020050e-04, 4.89981632e-04,\n",
       "        4.89979312e-04, 1.99247193e-06, 3.99971008e-04, 0.00000000e+00,\n",
       "        3.99495537e-04, 3.99948314e-04, 1.78416128e-07, 4.00161743e-04,\n",
       "        3.99875641e-04, 9.53674316e-08, 4.89824072e-04, 8.52992240e-07,\n",
       "        4.89162008e-04, 3.99112701e-04]),\n",
       " 'param_alpha': masked_array(data=[0.1, 0.1, 0.1, 0.1, 0.1, 0.1, 1, 1, 1, 1, 1, 1, 5, 5,\n",
       "                    5, 5, 5, 5, 10, 10, 10, 10, 10, 10, 100, 100, 100, 100,\n",
       "                    100, 100],\n",
       "              mask=[False, False, False, False, False, False, False, False,\n",
       "                    False, False, False, False, False, False, False, False,\n",
       "                    False, False, False, False, False, False, False, False,\n",
       "                    False, False, False, False, False, False],\n",
       "        fill_value='?',\n",
       "             dtype=object),\n",
       " 'param_l1_ratio': masked_array(data=[0.1, 0.5, 0.7, 0.95, 0.99, 1.0, 0.1, 0.5, 0.7, 0.95,\n",
       "                    0.99, 1.0, 0.1, 0.5, 0.7, 0.95, 0.99, 1.0, 0.1, 0.5,\n",
       "                    0.7, 0.95, 0.99, 1.0, 0.1, 0.5, 0.7, 0.95, 0.99, 1.0],\n",
       "              mask=[False, False, False, False, False, False, False, False,\n",
       "                    False, False, False, False, False, False, False, False,\n",
       "                    False, False, False, False, False, False, False, False,\n",
       "                    False, False, False, False, False, False],\n",
       "        fill_value='?',\n",
       "             dtype=object),\n",
       " 'params': [{'alpha': 0.1, 'l1_ratio': 0.1},\n",
       "  {'alpha': 0.1, 'l1_ratio': 0.5},\n",
       "  {'alpha': 0.1, 'l1_ratio': 0.7},\n",
       "  {'alpha': 0.1, 'l1_ratio': 0.95},\n",
       "  {'alpha': 0.1, 'l1_ratio': 0.99},\n",
       "  {'alpha': 0.1, 'l1_ratio': 1.0},\n",
       "  {'alpha': 1, 'l1_ratio': 0.1},\n",
       "  {'alpha': 1, 'l1_ratio': 0.5},\n",
       "  {'alpha': 1, 'l1_ratio': 0.7},\n",
       "  {'alpha': 1, 'l1_ratio': 0.95},\n",
       "  {'alpha': 1, 'l1_ratio': 0.99},\n",
       "  {'alpha': 1, 'l1_ratio': 1.0},\n",
       "  {'alpha': 5, 'l1_ratio': 0.1},\n",
       "  {'alpha': 5, 'l1_ratio': 0.5},\n",
       "  {'alpha': 5, 'l1_ratio': 0.7},\n",
       "  {'alpha': 5, 'l1_ratio': 0.95},\n",
       "  {'alpha': 5, 'l1_ratio': 0.99},\n",
       "  {'alpha': 5, 'l1_ratio': 1.0},\n",
       "  {'alpha': 10, 'l1_ratio': 0.1},\n",
       "  {'alpha': 10, 'l1_ratio': 0.5},\n",
       "  {'alpha': 10, 'l1_ratio': 0.7},\n",
       "  {'alpha': 10, 'l1_ratio': 0.95},\n",
       "  {'alpha': 10, 'l1_ratio': 0.99},\n",
       "  {'alpha': 10, 'l1_ratio': 1.0},\n",
       "  {'alpha': 100, 'l1_ratio': 0.1},\n",
       "  {'alpha': 100, 'l1_ratio': 0.5},\n",
       "  {'alpha': 100, 'l1_ratio': 0.7},\n",
       "  {'alpha': 100, 'l1_ratio': 0.95},\n",
       "  {'alpha': 100, 'l1_ratio': 0.99},\n",
       "  {'alpha': 100, 'l1_ratio': 1.0}],\n",
       " 'split0_test_score': array([ -3.45302084,  -3.32543978,  -3.26988015,  -3.21305234,\n",
       "         -3.20812418,  -3.20694314,  -9.82747531,  -8.70707114,\n",
       "         -7.92086988,  -6.72943525,  -6.52134437,  -6.46880733,\n",
       "        -22.97926512, -27.79348798, -29.65550965, -31.13030692,\n",
       "        -31.13030692, -31.13030692, -27.38534621, -31.13030692,\n",
       "        -31.13030692, -31.13030692, -31.13030692, -31.13030692,\n",
       "        -31.13030692, -31.13030692, -31.13030692, -31.13030692,\n",
       "        -31.13030692, -31.13030692]),\n",
       " 'split1_test_score': array([ -1.40519031,  -1.42752204,  -1.44243242,  -1.47241701,\n",
       "         -1.47848929,  -1.48006527,  -5.26152539,  -4.2142284 ,\n",
       "         -3.54956183,  -2.59128522,  -2.4313846 ,  -2.39148256,\n",
       "        -15.54710357, -18.60226868, -21.08505942, -22.5494332 ,\n",
       "        -22.5494332 , -22.5494332 , -19.15953413, -22.5494332 ,\n",
       "        -22.5494332 , -22.5494332 , -22.5494332 , -22.5494332 ,\n",
       "        -22.5494332 , -22.5494332 , -22.5494332 , -22.5494332 ,\n",
       "        -22.5494332 , -22.5494332 ]),\n",
       " 'split2_test_score': array([ -5.78912486,  -5.59560964,  -5.50243731,  -5.39625768,\n",
       "         -5.38024154,  -5.3762568 , -11.87534671, -10.87926082,\n",
       "        -10.02487666,  -8.7098418 ,  -8.47108601,  -8.410171  ,\n",
       "        -23.66824886, -27.1078486 , -29.62947804, -31.15520408,\n",
       "        -31.15520408, -31.15520408, -27.63546439, -31.15520408,\n",
       "        -31.15520408, -31.15520408, -31.15520408, -31.15520408,\n",
       "        -31.15520408, -31.15520408, -31.15520408, -31.15520408,\n",
       "        -31.15520408, -31.15520408]),\n",
       " 'split3_test_score': array([ -2.18730248,  -2.16308873,  -2.16395003,  -2.17745178,\n",
       "         -2.18109704,  -2.18207608,  -7.44919523,  -6.20454503,\n",
       "         -5.37955333,  -4.15631737,  -3.9463265 ,  -3.8935656 ,\n",
       "        -19.92106289, -23.94522746, -26.72459503, -27.96344707,\n",
       "        -27.96344707, -27.96344707, -24.15410359, -27.96344707,\n",
       "        -27.96344707, -27.96344707, -27.96344707, -27.96344707,\n",
       "        -27.96344707, -27.96344707, -27.96344707, -27.96344707,\n",
       "        -27.96344707, -27.96344707]),\n",
       " 'split4_test_score': array([ -4.64557625,  -4.45167948,  -4.3567377 ,  -4.24107995,\n",
       "         -4.22296809,  -4.2184595 ,  -8.54232854,  -7.17303106,\n",
       "         -6.3248362 ,  -5.32991608,  -5.15134446,  -5.10592176,\n",
       "        -16.26273734, -18.06463498, -20.22365404, -21.69819196,\n",
       "        -21.69819196, -21.69819196, -18.96816086, -21.69819196,\n",
       "        -21.69819196, -21.69819196, -21.69819196, -21.69819196,\n",
       "        -21.69819196, -21.69819196, -21.69819196, -21.69819196,\n",
       "        -21.69819196, -21.69819196]),\n",
       " 'mean_test_score': array([ -3.49604295,  -3.39266793,  -3.34708752,  -3.30005175,\n",
       "         -3.29418403,  -3.29276016,  -8.59117424,  -7.43562729,\n",
       "         -6.63993958,  -5.50335914,  -5.30429719,  -5.25398965,\n",
       "        -19.67568356, -23.10269354, -25.46365924, -26.89931665,\n",
       "        -26.89931665, -26.89931665, -23.46052183, -26.89931665,\n",
       "        -26.89931665, -26.89931665, -26.89931665, -26.89931665,\n",
       "        -26.89931665, -26.89931665, -26.89931665, -26.89931665,\n",
       "        -26.89931665, -26.89931665]),\n",
       " 'std_test_score': array([1.591601  , 1.50682717, 1.46276536, 1.40624761, 1.39695326,\n",
       "        1.39461278, 2.22293916, 2.25553153, 2.20621303, 2.10283486,\n",
       "        2.07994524, 2.07383159, 3.33490073, 4.10829748, 4.07787705,\n",
       "        4.07723961, 4.07723961, 4.07723961, 3.79460801, 4.07723961,\n",
       "        4.07723961, 4.07723961, 4.07723961, 4.07723961, 4.07723961,\n",
       "        4.07723961, 4.07723961, 4.07723961, 4.07723961, 4.07723961]),\n",
       " 'rank_test_score': array([ 6,  5,  4,  3,  2,  1, 12, 11, 10,  9,  8,  7, 13, 14, 16, 17, 17,\n",
       "        17, 15, 17, 17, 17, 17, 17, 17, 17, 17, 17, 17, 17])}"
      ]
     },
     "execution_count": 101,
     "metadata": {},
     "output_type": "execute_result"
    }
   ],
   "source": [
    "allResults"
   ]
  },
  {
   "cell_type": "code",
   "execution_count": 102,
   "id": "13636715",
   "metadata": {},
   "outputs": [],
   "source": [
    "allResults = pd.DataFrame(allResults)"
   ]
  },
  {
   "cell_type": "code",
   "execution_count": 103,
   "id": "753737b2",
   "metadata": {},
   "outputs": [
    {
     "data": {
      "text/html": [
       "<div>\n",
       "<style scoped>\n",
       "    .dataframe tbody tr th:only-of-type {\n",
       "        vertical-align: middle;\n",
       "    }\n",
       "\n",
       "    .dataframe tbody tr th {\n",
       "        vertical-align: top;\n",
       "    }\n",
       "\n",
       "    .dataframe thead th {\n",
       "        text-align: right;\n",
       "    }\n",
       "</style>\n",
       "<table border=\"1\" class=\"dataframe\">\n",
       "  <thead>\n",
       "    <tr style=\"text-align: right;\">\n",
       "      <th></th>\n",
       "      <th>mean_fit_time</th>\n",
       "      <th>std_fit_time</th>\n",
       "      <th>mean_score_time</th>\n",
       "      <th>std_score_time</th>\n",
       "      <th>param_alpha</th>\n",
       "      <th>param_l1_ratio</th>\n",
       "      <th>params</th>\n",
       "      <th>split0_test_score</th>\n",
       "      <th>split1_test_score</th>\n",
       "      <th>split2_test_score</th>\n",
       "      <th>split3_test_score</th>\n",
       "      <th>split4_test_score</th>\n",
       "      <th>mean_test_score</th>\n",
       "      <th>std_test_score</th>\n",
       "      <th>rank_test_score</th>\n",
       "    </tr>\n",
       "  </thead>\n",
       "  <tbody>\n",
       "    <tr>\n",
       "      <th>0</th>\n",
       "      <td>0.098409</td>\n",
       "      <td>1.918215e-01</td>\n",
       "      <td>0.000601</td>\n",
       "      <td>4.905030e-04</td>\n",
       "      <td>0.1</td>\n",
       "      <td>0.1</td>\n",
       "      <td>{'alpha': 0.1, 'l1_ratio': 0.1}</td>\n",
       "      <td>-3.453021</td>\n",
       "      <td>-1.405190</td>\n",
       "      <td>-5.789125</td>\n",
       "      <td>-2.187302</td>\n",
       "      <td>-4.645576</td>\n",
       "      <td>-3.496043</td>\n",
       "      <td>1.591601</td>\n",
       "      <td>6</td>\n",
       "    </tr>\n",
       "    <tr>\n",
       "      <th>1</th>\n",
       "      <td>0.002199</td>\n",
       "      <td>3.984239e-04</td>\n",
       "      <td>0.001002</td>\n",
       "      <td>3.443147e-06</td>\n",
       "      <td>0.1</td>\n",
       "      <td>0.5</td>\n",
       "      <td>{'alpha': 0.1, 'l1_ratio': 0.5}</td>\n",
       "      <td>-3.325440</td>\n",
       "      <td>-1.427522</td>\n",
       "      <td>-5.595610</td>\n",
       "      <td>-2.163089</td>\n",
       "      <td>-4.451679</td>\n",
       "      <td>-3.392668</td>\n",
       "      <td>1.506827</td>\n",
       "      <td>5</td>\n",
       "    </tr>\n",
       "    <tr>\n",
       "      <th>2</th>\n",
       "      <td>0.001999</td>\n",
       "      <td>6.296956e-04</td>\n",
       "      <td>0.001001</td>\n",
       "      <td>2.879244e-06</td>\n",
       "      <td>0.1</td>\n",
       "      <td>0.7</td>\n",
       "      <td>{'alpha': 0.1, 'l1_ratio': 0.7}</td>\n",
       "      <td>-3.269880</td>\n",
       "      <td>-1.442432</td>\n",
       "      <td>-5.502437</td>\n",
       "      <td>-2.163950</td>\n",
       "      <td>-4.356738</td>\n",
       "      <td>-3.347088</td>\n",
       "      <td>1.462765</td>\n",
       "      <td>4</td>\n",
       "    </tr>\n",
       "    <tr>\n",
       "      <th>3</th>\n",
       "      <td>0.001401</td>\n",
       "      <td>4.877990e-04</td>\n",
       "      <td>0.000398</td>\n",
       "      <td>4.878184e-04</td>\n",
       "      <td>0.1</td>\n",
       "      <td>0.95</td>\n",
       "      <td>{'alpha': 0.1, 'l1_ratio': 0.95}</td>\n",
       "      <td>-3.213052</td>\n",
       "      <td>-1.472417</td>\n",
       "      <td>-5.396258</td>\n",
       "      <td>-2.177452</td>\n",
       "      <td>-4.241080</td>\n",
       "      <td>-3.300052</td>\n",
       "      <td>1.406248</td>\n",
       "      <td>3</td>\n",
       "    </tr>\n",
       "    <tr>\n",
       "      <th>4</th>\n",
       "      <td>0.001398</td>\n",
       "      <td>4.895403e-04</td>\n",
       "      <td>0.000400</td>\n",
       "      <td>4.895784e-04</td>\n",
       "      <td>0.1</td>\n",
       "      <td>0.99</td>\n",
       "      <td>{'alpha': 0.1, 'l1_ratio': 0.99}</td>\n",
       "      <td>-3.208124</td>\n",
       "      <td>-1.478489</td>\n",
       "      <td>-5.380242</td>\n",
       "      <td>-2.181097</td>\n",
       "      <td>-4.222968</td>\n",
       "      <td>-3.294184</td>\n",
       "      <td>1.396953</td>\n",
       "      <td>2</td>\n",
       "    </tr>\n",
       "    <tr>\n",
       "      <th>5</th>\n",
       "      <td>0.000997</td>\n",
       "      <td>2.409797e-06</td>\n",
       "      <td>0.000802</td>\n",
       "      <td>4.011396e-04</td>\n",
       "      <td>0.1</td>\n",
       "      <td>1.0</td>\n",
       "      <td>{'alpha': 0.1, 'l1_ratio': 1.0}</td>\n",
       "      <td>-3.206943</td>\n",
       "      <td>-1.480065</td>\n",
       "      <td>-5.376257</td>\n",
       "      <td>-2.182076</td>\n",
       "      <td>-4.218460</td>\n",
       "      <td>-3.292760</td>\n",
       "      <td>1.394613</td>\n",
       "      <td>1</td>\n",
       "    </tr>\n",
       "    <tr>\n",
       "      <th>6</th>\n",
       "      <td>0.003407</td>\n",
       "      <td>4.326286e-03</td>\n",
       "      <td>0.000400</td>\n",
       "      <td>4.893432e-04</td>\n",
       "      <td>1</td>\n",
       "      <td>0.1</td>\n",
       "      <td>{'alpha': 1, 'l1_ratio': 0.1}</td>\n",
       "      <td>-9.827475</td>\n",
       "      <td>-5.261525</td>\n",
       "      <td>-11.875347</td>\n",
       "      <td>-7.449195</td>\n",
       "      <td>-8.542329</td>\n",
       "      <td>-8.591174</td>\n",
       "      <td>2.222939</td>\n",
       "      <td>12</td>\n",
       "    </tr>\n",
       "    <tr>\n",
       "      <th>7</th>\n",
       "      <td>0.001201</td>\n",
       "      <td>3.994807e-04</td>\n",
       "      <td>0.000999</td>\n",
       "      <td>3.538247e-06</td>\n",
       "      <td>1</td>\n",
       "      <td>0.5</td>\n",
       "      <td>{'alpha': 1, 'l1_ratio': 0.5}</td>\n",
       "      <td>-8.707071</td>\n",
       "      <td>-4.214228</td>\n",
       "      <td>-10.879261</td>\n",
       "      <td>-6.204545</td>\n",
       "      <td>-7.173031</td>\n",
       "      <td>-7.435627</td>\n",
       "      <td>2.255532</td>\n",
       "      <td>11</td>\n",
       "    </tr>\n",
       "    <tr>\n",
       "      <th>8</th>\n",
       "      <td>0.000996</td>\n",
       "      <td>2.431402e-07</td>\n",
       "      <td>0.000802</td>\n",
       "      <td>4.012108e-04</td>\n",
       "      <td>1</td>\n",
       "      <td>0.7</td>\n",
       "      <td>{'alpha': 1, 'l1_ratio': 0.7}</td>\n",
       "      <td>-7.920870</td>\n",
       "      <td>-3.549562</td>\n",
       "      <td>-10.024877</td>\n",
       "      <td>-5.379553</td>\n",
       "      <td>-6.324836</td>\n",
       "      <td>-6.639940</td>\n",
       "      <td>2.206213</td>\n",
       "      <td>10</td>\n",
       "    </tr>\n",
       "    <tr>\n",
       "      <th>9</th>\n",
       "      <td>0.000999</td>\n",
       "      <td>2.274868e-06</td>\n",
       "      <td>0.000600</td>\n",
       "      <td>7.996327e-04</td>\n",
       "      <td>1</td>\n",
       "      <td>0.95</td>\n",
       "      <td>{'alpha': 1, 'l1_ratio': 0.95}</td>\n",
       "      <td>-6.729435</td>\n",
       "      <td>-2.591285</td>\n",
       "      <td>-8.709842</td>\n",
       "      <td>-4.156317</td>\n",
       "      <td>-5.329916</td>\n",
       "      <td>-5.503359</td>\n",
       "      <td>2.102835</td>\n",
       "      <td>9</td>\n",
       "    </tr>\n",
       "    <tr>\n",
       "      <th>10</th>\n",
       "      <td>0.001201</td>\n",
       "      <td>3.984695e-04</td>\n",
       "      <td>0.000599</td>\n",
       "      <td>4.888892e-04</td>\n",
       "      <td>1</td>\n",
       "      <td>0.99</td>\n",
       "      <td>{'alpha': 1, 'l1_ratio': 0.99}</td>\n",
       "      <td>-6.521344</td>\n",
       "      <td>-2.431385</td>\n",
       "      <td>-8.471086</td>\n",
       "      <td>-3.946327</td>\n",
       "      <td>-5.151344</td>\n",
       "      <td>-5.304297</td>\n",
       "      <td>2.079945</td>\n",
       "      <td>8</td>\n",
       "    </tr>\n",
       "    <tr>\n",
       "      <th>11</th>\n",
       "      <td>0.001202</td>\n",
       "      <td>3.983738e-04</td>\n",
       "      <td>0.000000</td>\n",
       "      <td>0.000000e+00</td>\n",
       "      <td>1</td>\n",
       "      <td>1.0</td>\n",
       "      <td>{'alpha': 1, 'l1_ratio': 1.0}</td>\n",
       "      <td>-6.468807</td>\n",
       "      <td>-2.391483</td>\n",
       "      <td>-8.410171</td>\n",
       "      <td>-3.893566</td>\n",
       "      <td>-5.105922</td>\n",
       "      <td>-5.253990</td>\n",
       "      <td>2.073832</td>\n",
       "      <td>7</td>\n",
       "    </tr>\n",
       "    <tr>\n",
       "      <th>12</th>\n",
       "      <td>0.001397</td>\n",
       "      <td>4.912452e-04</td>\n",
       "      <td>0.000000</td>\n",
       "      <td>0.000000e+00</td>\n",
       "      <td>5</td>\n",
       "      <td>0.1</td>\n",
       "      <td>{'alpha': 5, 'l1_ratio': 0.1}</td>\n",
       "      <td>-22.979265</td>\n",
       "      <td>-15.547104</td>\n",
       "      <td>-23.668249</td>\n",
       "      <td>-19.921063</td>\n",
       "      <td>-16.262737</td>\n",
       "      <td>-19.675684</td>\n",
       "      <td>3.334901</td>\n",
       "      <td>13</td>\n",
       "    </tr>\n",
       "    <tr>\n",
       "      <th>13</th>\n",
       "      <td>0.000996</td>\n",
       "      <td>8.476443e-07</td>\n",
       "      <td>0.000401</td>\n",
       "      <td>4.912643e-04</td>\n",
       "      <td>5</td>\n",
       "      <td>0.5</td>\n",
       "      <td>{'alpha': 5, 'l1_ratio': 0.5}</td>\n",
       "      <td>-27.793488</td>\n",
       "      <td>-18.602269</td>\n",
       "      <td>-27.107849</td>\n",
       "      <td>-23.945227</td>\n",
       "      <td>-18.064635</td>\n",
       "      <td>-23.102694</td>\n",
       "      <td>4.108297</td>\n",
       "      <td>14</td>\n",
       "    </tr>\n",
       "    <tr>\n",
       "      <th>14</th>\n",
       "      <td>0.001199</td>\n",
       "      <td>3.993121e-04</td>\n",
       "      <td>0.000201</td>\n",
       "      <td>4.010201e-04</td>\n",
       "      <td>5</td>\n",
       "      <td>0.7</td>\n",
       "      <td>{'alpha': 5, 'l1_ratio': 0.7}</td>\n",
       "      <td>-29.655510</td>\n",
       "      <td>-21.085059</td>\n",
       "      <td>-29.629478</td>\n",
       "      <td>-26.724595</td>\n",
       "      <td>-20.223654</td>\n",
       "      <td>-25.463659</td>\n",
       "      <td>4.077877</td>\n",
       "      <td>16</td>\n",
       "    </tr>\n",
       "    <tr>\n",
       "      <th>15</th>\n",
       "      <td>0.001199</td>\n",
       "      <td>7.479463e-04</td>\n",
       "      <td>0.000600</td>\n",
       "      <td>4.899816e-04</td>\n",
       "      <td>5</td>\n",
       "      <td>0.95</td>\n",
       "      <td>{'alpha': 5, 'l1_ratio': 0.95}</td>\n",
       "      <td>-31.130307</td>\n",
       "      <td>-22.549433</td>\n",
       "      <td>-31.155204</td>\n",
       "      <td>-27.963447</td>\n",
       "      <td>-21.698192</td>\n",
       "      <td>-26.899317</td>\n",
       "      <td>4.077240</td>\n",
       "      <td>17</td>\n",
       "    </tr>\n",
       "    <tr>\n",
       "      <th>16</th>\n",
       "      <td>0.001399</td>\n",
       "      <td>4.897855e-04</td>\n",
       "      <td>0.000600</td>\n",
       "      <td>4.899793e-04</td>\n",
       "      <td>5</td>\n",
       "      <td>0.99</td>\n",
       "      <td>{'alpha': 5, 'l1_ratio': 0.99}</td>\n",
       "      <td>-31.130307</td>\n",
       "      <td>-22.549433</td>\n",
       "      <td>-31.155204</td>\n",
       "      <td>-27.963447</td>\n",
       "      <td>-21.698192</td>\n",
       "      <td>-26.899317</td>\n",
       "      <td>4.077240</td>\n",
       "      <td>17</td>\n",
       "    </tr>\n",
       "    <tr>\n",
       "      <th>17</th>\n",
       "      <td>0.002200</td>\n",
       "      <td>1.469628e-03</td>\n",
       "      <td>0.000998</td>\n",
       "      <td>1.992472e-06</td>\n",
       "      <td>5</td>\n",
       "      <td>1.0</td>\n",
       "      <td>{'alpha': 5, 'l1_ratio': 1.0}</td>\n",
       "      <td>-31.130307</td>\n",
       "      <td>-22.549433</td>\n",
       "      <td>-31.155204</td>\n",
       "      <td>-27.963447</td>\n",
       "      <td>-21.698192</td>\n",
       "      <td>-26.899317</td>\n",
       "      <td>4.077240</td>\n",
       "      <td>17</td>\n",
       "    </tr>\n",
       "    <tr>\n",
       "      <th>18</th>\n",
       "      <td>0.005196</td>\n",
       "      <td>7.903009e-03</td>\n",
       "      <td>0.000200</td>\n",
       "      <td>3.999710e-04</td>\n",
       "      <td>10</td>\n",
       "      <td>0.1</td>\n",
       "      <td>{'alpha': 10, 'l1_ratio': 0.1}</td>\n",
       "      <td>-27.385346</td>\n",
       "      <td>-19.159534</td>\n",
       "      <td>-27.635464</td>\n",
       "      <td>-24.154104</td>\n",
       "      <td>-18.968161</td>\n",
       "      <td>-23.460522</td>\n",
       "      <td>3.794608</td>\n",
       "      <td>15</td>\n",
       "    </tr>\n",
       "    <tr>\n",
       "      <th>19</th>\n",
       "      <td>0.001000</td>\n",
       "      <td>2.431402e-07</td>\n",
       "      <td>0.000000</td>\n",
       "      <td>0.000000e+00</td>\n",
       "      <td>10</td>\n",
       "      <td>0.5</td>\n",
       "      <td>{'alpha': 10, 'l1_ratio': 0.5}</td>\n",
       "      <td>-31.130307</td>\n",
       "      <td>-22.549433</td>\n",
       "      <td>-31.155204</td>\n",
       "      <td>-27.963447</td>\n",
       "      <td>-21.698192</td>\n",
       "      <td>-26.899317</td>\n",
       "      <td>4.077240</td>\n",
       "      <td>17</td>\n",
       "    </tr>\n",
       "    <tr>\n",
       "      <th>20</th>\n",
       "      <td>0.001200</td>\n",
       "      <td>3.991861e-04</td>\n",
       "      <td>0.000799</td>\n",
       "      <td>3.994955e-04</td>\n",
       "      <td>10</td>\n",
       "      <td>0.7</td>\n",
       "      <td>{'alpha': 10, 'l1_ratio': 0.7}</td>\n",
       "      <td>-31.130307</td>\n",
       "      <td>-22.549433</td>\n",
       "      <td>-31.155204</td>\n",
       "      <td>-27.963447</td>\n",
       "      <td>-21.698192</td>\n",
       "      <td>-26.899317</td>\n",
       "      <td>4.077240</td>\n",
       "      <td>17</td>\n",
       "    </tr>\n",
       "    <tr>\n",
       "      <th>21</th>\n",
       "      <td>0.001199</td>\n",
       "      <td>4.001149e-04</td>\n",
       "      <td>0.000800</td>\n",
       "      <td>3.999483e-04</td>\n",
       "      <td>10</td>\n",
       "      <td>0.95</td>\n",
       "      <td>{'alpha': 10, 'l1_ratio': 0.95}</td>\n",
       "      <td>-31.130307</td>\n",
       "      <td>-22.549433</td>\n",
       "      <td>-31.155204</td>\n",
       "      <td>-27.963447</td>\n",
       "      <td>-21.698192</td>\n",
       "      <td>-26.899317</td>\n",
       "      <td>4.077240</td>\n",
       "      <td>17</td>\n",
       "    </tr>\n",
       "    <tr>\n",
       "      <th>22</th>\n",
       "      <td>0.001001</td>\n",
       "      <td>1.907349e-07</td>\n",
       "      <td>0.000998</td>\n",
       "      <td>1.784161e-07</td>\n",
       "      <td>10</td>\n",
       "      <td>0.99</td>\n",
       "      <td>{'alpha': 10, 'l1_ratio': 0.99}</td>\n",
       "      <td>-31.130307</td>\n",
       "      <td>-22.549433</td>\n",
       "      <td>-31.155204</td>\n",
       "      <td>-27.963447</td>\n",
       "      <td>-21.698192</td>\n",
       "      <td>-26.899317</td>\n",
       "      <td>4.077240</td>\n",
       "      <td>17</td>\n",
       "    </tr>\n",
       "    <tr>\n",
       "      <th>23</th>\n",
       "      <td>0.000999</td>\n",
       "      <td>1.314549e-06</td>\n",
       "      <td>0.000200</td>\n",
       "      <td>4.001617e-04</td>\n",
       "      <td>10</td>\n",
       "      <td>1.0</td>\n",
       "      <td>{'alpha': 10, 'l1_ratio': 1.0}</td>\n",
       "      <td>-31.130307</td>\n",
       "      <td>-22.549433</td>\n",
       "      <td>-31.155204</td>\n",
       "      <td>-27.963447</td>\n",
       "      <td>-21.698192</td>\n",
       "      <td>-26.899317</td>\n",
       "      <td>4.077240</td>\n",
       "      <td>17</td>\n",
       "    </tr>\n",
       "    <tr>\n",
       "      <th>24</th>\n",
       "      <td>0.000998</td>\n",
       "      <td>2.132481e-07</td>\n",
       "      <td>0.000200</td>\n",
       "      <td>3.998756e-04</td>\n",
       "      <td>100</td>\n",
       "      <td>0.1</td>\n",
       "      <td>{'alpha': 100, 'l1_ratio': 0.1}</td>\n",
       "      <td>-31.130307</td>\n",
       "      <td>-22.549433</td>\n",
       "      <td>-31.155204</td>\n",
       "      <td>-27.963447</td>\n",
       "      <td>-21.698192</td>\n",
       "      <td>-26.899317</td>\n",
       "      <td>4.077240</td>\n",
       "      <td>17</td>\n",
       "    </tr>\n",
       "    <tr>\n",
       "      <th>25</th>\n",
       "      <td>0.000998</td>\n",
       "      <td>1.507891e-07</td>\n",
       "      <td>0.001001</td>\n",
       "      <td>9.536743e-08</td>\n",
       "      <td>100</td>\n",
       "      <td>0.5</td>\n",
       "      <td>{'alpha': 100, 'l1_ratio': 0.5}</td>\n",
       "      <td>-31.130307</td>\n",
       "      <td>-22.549433</td>\n",
       "      <td>-31.155204</td>\n",
       "      <td>-27.963447</td>\n",
       "      <td>-21.698192</td>\n",
       "      <td>-26.899317</td>\n",
       "      <td>4.077240</td>\n",
       "      <td>17</td>\n",
       "    </tr>\n",
       "    <tr>\n",
       "      <th>26</th>\n",
       "      <td>0.001399</td>\n",
       "      <td>4.899795e-04</td>\n",
       "      <td>0.000600</td>\n",
       "      <td>4.898241e-04</td>\n",
       "      <td>100</td>\n",
       "      <td>0.7</td>\n",
       "      <td>{'alpha': 100, 'l1_ratio': 0.7}</td>\n",
       "      <td>-31.130307</td>\n",
       "      <td>-22.549433</td>\n",
       "      <td>-31.155204</td>\n",
       "      <td>-27.963447</td>\n",
       "      <td>-21.698192</td>\n",
       "      <td>-26.899317</td>\n",
       "      <td>4.077240</td>\n",
       "      <td>17</td>\n",
       "    </tr>\n",
       "    <tr>\n",
       "      <th>27</th>\n",
       "      <td>0.000600</td>\n",
       "      <td>4.901350e-04</td>\n",
       "      <td>0.000999</td>\n",
       "      <td>8.529922e-07</td>\n",
       "      <td>100</td>\n",
       "      <td>0.95</td>\n",
       "      <td>{'alpha': 100, 'l1_ratio': 0.95}</td>\n",
       "      <td>-31.130307</td>\n",
       "      <td>-22.549433</td>\n",
       "      <td>-31.155204</td>\n",
       "      <td>-27.963447</td>\n",
       "      <td>-21.698192</td>\n",
       "      <td>-26.899317</td>\n",
       "      <td>4.077240</td>\n",
       "      <td>17</td>\n",
       "    </tr>\n",
       "    <tr>\n",
       "      <th>28</th>\n",
       "      <td>0.001001</td>\n",
       "      <td>4.862804e-07</td>\n",
       "      <td>0.000399</td>\n",
       "      <td>4.891620e-04</td>\n",
       "      <td>100</td>\n",
       "      <td>0.99</td>\n",
       "      <td>{'alpha': 100, 'l1_ratio': 0.99}</td>\n",
       "      <td>-31.130307</td>\n",
       "      <td>-22.549433</td>\n",
       "      <td>-31.155204</td>\n",
       "      <td>-27.963447</td>\n",
       "      <td>-21.698192</td>\n",
       "      <td>-26.899317</td>\n",
       "      <td>4.077240</td>\n",
       "      <td>17</td>\n",
       "    </tr>\n",
       "    <tr>\n",
       "      <th>29</th>\n",
       "      <td>0.001199</td>\n",
       "      <td>4.000212e-04</td>\n",
       "      <td>0.000200</td>\n",
       "      <td>3.991127e-04</td>\n",
       "      <td>100</td>\n",
       "      <td>1.0</td>\n",
       "      <td>{'alpha': 100, 'l1_ratio': 1.0}</td>\n",
       "      <td>-31.130307</td>\n",
       "      <td>-22.549433</td>\n",
       "      <td>-31.155204</td>\n",
       "      <td>-27.963447</td>\n",
       "      <td>-21.698192</td>\n",
       "      <td>-26.899317</td>\n",
       "      <td>4.077240</td>\n",
       "      <td>17</td>\n",
       "    </tr>\n",
       "  </tbody>\n",
       "</table>\n",
       "</div>"
      ],
      "text/plain": [
       "    mean_fit_time  std_fit_time  mean_score_time  std_score_time param_alpha  \\\n",
       "0        0.098409  1.918215e-01         0.000601    4.905030e-04         0.1   \n",
       "1        0.002199  3.984239e-04         0.001002    3.443147e-06         0.1   \n",
       "2        0.001999  6.296956e-04         0.001001    2.879244e-06         0.1   \n",
       "3        0.001401  4.877990e-04         0.000398    4.878184e-04         0.1   \n",
       "4        0.001398  4.895403e-04         0.000400    4.895784e-04         0.1   \n",
       "5        0.000997  2.409797e-06         0.000802    4.011396e-04         0.1   \n",
       "6        0.003407  4.326286e-03         0.000400    4.893432e-04           1   \n",
       "7        0.001201  3.994807e-04         0.000999    3.538247e-06           1   \n",
       "8        0.000996  2.431402e-07         0.000802    4.012108e-04           1   \n",
       "9        0.000999  2.274868e-06         0.000600    7.996327e-04           1   \n",
       "10       0.001201  3.984695e-04         0.000599    4.888892e-04           1   \n",
       "11       0.001202  3.983738e-04         0.000000    0.000000e+00           1   \n",
       "12       0.001397  4.912452e-04         0.000000    0.000000e+00           5   \n",
       "13       0.000996  8.476443e-07         0.000401    4.912643e-04           5   \n",
       "14       0.001199  3.993121e-04         0.000201    4.010201e-04           5   \n",
       "15       0.001199  7.479463e-04         0.000600    4.899816e-04           5   \n",
       "16       0.001399  4.897855e-04         0.000600    4.899793e-04           5   \n",
       "17       0.002200  1.469628e-03         0.000998    1.992472e-06           5   \n",
       "18       0.005196  7.903009e-03         0.000200    3.999710e-04          10   \n",
       "19       0.001000  2.431402e-07         0.000000    0.000000e+00          10   \n",
       "20       0.001200  3.991861e-04         0.000799    3.994955e-04          10   \n",
       "21       0.001199  4.001149e-04         0.000800    3.999483e-04          10   \n",
       "22       0.001001  1.907349e-07         0.000998    1.784161e-07          10   \n",
       "23       0.000999  1.314549e-06         0.000200    4.001617e-04          10   \n",
       "24       0.000998  2.132481e-07         0.000200    3.998756e-04         100   \n",
       "25       0.000998  1.507891e-07         0.001001    9.536743e-08         100   \n",
       "26       0.001399  4.899795e-04         0.000600    4.898241e-04         100   \n",
       "27       0.000600  4.901350e-04         0.000999    8.529922e-07         100   \n",
       "28       0.001001  4.862804e-07         0.000399    4.891620e-04         100   \n",
       "29       0.001199  4.000212e-04         0.000200    3.991127e-04         100   \n",
       "\n",
       "   param_l1_ratio                            params  split0_test_score  \\\n",
       "0             0.1   {'alpha': 0.1, 'l1_ratio': 0.1}          -3.453021   \n",
       "1             0.5   {'alpha': 0.1, 'l1_ratio': 0.5}          -3.325440   \n",
       "2             0.7   {'alpha': 0.1, 'l1_ratio': 0.7}          -3.269880   \n",
       "3            0.95  {'alpha': 0.1, 'l1_ratio': 0.95}          -3.213052   \n",
       "4            0.99  {'alpha': 0.1, 'l1_ratio': 0.99}          -3.208124   \n",
       "5             1.0   {'alpha': 0.1, 'l1_ratio': 1.0}          -3.206943   \n",
       "6             0.1     {'alpha': 1, 'l1_ratio': 0.1}          -9.827475   \n",
       "7             0.5     {'alpha': 1, 'l1_ratio': 0.5}          -8.707071   \n",
       "8             0.7     {'alpha': 1, 'l1_ratio': 0.7}          -7.920870   \n",
       "9            0.95    {'alpha': 1, 'l1_ratio': 0.95}          -6.729435   \n",
       "10           0.99    {'alpha': 1, 'l1_ratio': 0.99}          -6.521344   \n",
       "11            1.0     {'alpha': 1, 'l1_ratio': 1.0}          -6.468807   \n",
       "12            0.1     {'alpha': 5, 'l1_ratio': 0.1}         -22.979265   \n",
       "13            0.5     {'alpha': 5, 'l1_ratio': 0.5}         -27.793488   \n",
       "14            0.7     {'alpha': 5, 'l1_ratio': 0.7}         -29.655510   \n",
       "15           0.95    {'alpha': 5, 'l1_ratio': 0.95}         -31.130307   \n",
       "16           0.99    {'alpha': 5, 'l1_ratio': 0.99}         -31.130307   \n",
       "17            1.0     {'alpha': 5, 'l1_ratio': 1.0}         -31.130307   \n",
       "18            0.1    {'alpha': 10, 'l1_ratio': 0.1}         -27.385346   \n",
       "19            0.5    {'alpha': 10, 'l1_ratio': 0.5}         -31.130307   \n",
       "20            0.7    {'alpha': 10, 'l1_ratio': 0.7}         -31.130307   \n",
       "21           0.95   {'alpha': 10, 'l1_ratio': 0.95}         -31.130307   \n",
       "22           0.99   {'alpha': 10, 'l1_ratio': 0.99}         -31.130307   \n",
       "23            1.0    {'alpha': 10, 'l1_ratio': 1.0}         -31.130307   \n",
       "24            0.1   {'alpha': 100, 'l1_ratio': 0.1}         -31.130307   \n",
       "25            0.5   {'alpha': 100, 'l1_ratio': 0.5}         -31.130307   \n",
       "26            0.7   {'alpha': 100, 'l1_ratio': 0.7}         -31.130307   \n",
       "27           0.95  {'alpha': 100, 'l1_ratio': 0.95}         -31.130307   \n",
       "28           0.99  {'alpha': 100, 'l1_ratio': 0.99}         -31.130307   \n",
       "29            1.0   {'alpha': 100, 'l1_ratio': 1.0}         -31.130307   \n",
       "\n",
       "    split1_test_score  split2_test_score  split3_test_score  \\\n",
       "0           -1.405190          -5.789125          -2.187302   \n",
       "1           -1.427522          -5.595610          -2.163089   \n",
       "2           -1.442432          -5.502437          -2.163950   \n",
       "3           -1.472417          -5.396258          -2.177452   \n",
       "4           -1.478489          -5.380242          -2.181097   \n",
       "5           -1.480065          -5.376257          -2.182076   \n",
       "6           -5.261525         -11.875347          -7.449195   \n",
       "7           -4.214228         -10.879261          -6.204545   \n",
       "8           -3.549562         -10.024877          -5.379553   \n",
       "9           -2.591285          -8.709842          -4.156317   \n",
       "10          -2.431385          -8.471086          -3.946327   \n",
       "11          -2.391483          -8.410171          -3.893566   \n",
       "12         -15.547104         -23.668249         -19.921063   \n",
       "13         -18.602269         -27.107849         -23.945227   \n",
       "14         -21.085059         -29.629478         -26.724595   \n",
       "15         -22.549433         -31.155204         -27.963447   \n",
       "16         -22.549433         -31.155204         -27.963447   \n",
       "17         -22.549433         -31.155204         -27.963447   \n",
       "18         -19.159534         -27.635464         -24.154104   \n",
       "19         -22.549433         -31.155204         -27.963447   \n",
       "20         -22.549433         -31.155204         -27.963447   \n",
       "21         -22.549433         -31.155204         -27.963447   \n",
       "22         -22.549433         -31.155204         -27.963447   \n",
       "23         -22.549433         -31.155204         -27.963447   \n",
       "24         -22.549433         -31.155204         -27.963447   \n",
       "25         -22.549433         -31.155204         -27.963447   \n",
       "26         -22.549433         -31.155204         -27.963447   \n",
       "27         -22.549433         -31.155204         -27.963447   \n",
       "28         -22.549433         -31.155204         -27.963447   \n",
       "29         -22.549433         -31.155204         -27.963447   \n",
       "\n",
       "    split4_test_score  mean_test_score  std_test_score  rank_test_score  \n",
       "0           -4.645576        -3.496043        1.591601                6  \n",
       "1           -4.451679        -3.392668        1.506827                5  \n",
       "2           -4.356738        -3.347088        1.462765                4  \n",
       "3           -4.241080        -3.300052        1.406248                3  \n",
       "4           -4.222968        -3.294184        1.396953                2  \n",
       "5           -4.218460        -3.292760        1.394613                1  \n",
       "6           -8.542329        -8.591174        2.222939               12  \n",
       "7           -7.173031        -7.435627        2.255532               11  \n",
       "8           -6.324836        -6.639940        2.206213               10  \n",
       "9           -5.329916        -5.503359        2.102835                9  \n",
       "10          -5.151344        -5.304297        2.079945                8  \n",
       "11          -5.105922        -5.253990        2.073832                7  \n",
       "12         -16.262737       -19.675684        3.334901               13  \n",
       "13         -18.064635       -23.102694        4.108297               14  \n",
       "14         -20.223654       -25.463659        4.077877               16  \n",
       "15         -21.698192       -26.899317        4.077240               17  \n",
       "16         -21.698192       -26.899317        4.077240               17  \n",
       "17         -21.698192       -26.899317        4.077240               17  \n",
       "18         -18.968161       -23.460522        3.794608               15  \n",
       "19         -21.698192       -26.899317        4.077240               17  \n",
       "20         -21.698192       -26.899317        4.077240               17  \n",
       "21         -21.698192       -26.899317        4.077240               17  \n",
       "22         -21.698192       -26.899317        4.077240               17  \n",
       "23         -21.698192       -26.899317        4.077240               17  \n",
       "24         -21.698192       -26.899317        4.077240               17  \n",
       "25         -21.698192       -26.899317        4.077240               17  \n",
       "26         -21.698192       -26.899317        4.077240               17  \n",
       "27         -21.698192       -26.899317        4.077240               17  \n",
       "28         -21.698192       -26.899317        4.077240               17  \n",
       "29         -21.698192       -26.899317        4.077240               17  "
      ]
     },
     "execution_count": 103,
     "metadata": {},
     "output_type": "execute_result"
    }
   ],
   "source": [
    "allResults"
   ]
  },
  {
   "cell_type": "code",
   "execution_count": 105,
   "id": "8adc7598",
   "metadata": {},
   "outputs": [],
   "source": [
    "# if we are satisfied with the model, we just predict directly X test dataset\n",
    "# predict on the scaled X test data\n",
    "gridModelPredictions = gridModel.predict(scaledX_xxTest)"
   ]
  },
  {
   "cell_type": "code",
   "execution_count": 106,
   "id": "6425d690",
   "metadata": {},
   "outputs": [
    {
     "data": {
      "text/plain": [
       "array([15.66368907, 19.46408313, 11.5334467 , 16.90361792,  9.28986377,\n",
       "        7.20512596, 20.12630114, 17.21717961,  9.92059194, 19.08401429,\n",
       "       12.41632064, 13.90812112, 13.77020299, 21.0764028 , 18.3144613 ,\n",
       "       10.08244137, 15.55332779,  7.8863488 ,  7.74187755, 20.22579399,\n",
       "        7.95632931, 18.1169614 , 24.38514439, 22.58250106,  8.15339222,\n",
       "       12.73095252, 21.27373859,  8.23268934, 12.49004679, 12.52397252,\n",
       "       10.85578463, 19.10783619, 10.20239152,  6.91681664, 17.22447596,\n",
       "        7.96982919,  9.39929572,  8.45480843, 10.65442906, 10.75772226,\n",
       "       13.04497384,  9.92194633, 10.33480469,  8.21121593, 11.62693221,\n",
       "       10.19036614,  9.11221   , 16.22496113, 13.29734786, 20.61601005,\n",
       "       12.51850026, 14.00017552, 17.50249596, 11.23188839, 12.64040529,\n",
       "        5.74152682, 23.02575646, 12.62656713, 18.65905383, 15.16774331])"
      ]
     },
     "execution_count": 106,
     "metadata": {},
     "output_type": "execute_result"
    }
   ],
   "source": [
    "gridModelPredictions"
   ]
  },
  {
   "cell_type": "code",
   "execution_count": 107,
   "id": "661b9a2f",
   "metadata": {},
   "outputs": [],
   "source": [
    "# Evalaute the error metrics\n",
    "MAE10 = mean_absolute_error(y_yyTest, gridModelPredictions)\n",
    "MSE10 = mean_squared_error(y_yyTest, gridModelPredictions)\n",
    "RMSE10 = root_mean_square_error(y_test=y_yyTest, model_predictions=gridModelPredictions)"
   ]
  },
  {
   "cell_type": "code",
   "execution_count": 108,
   "id": "1d9b0cf2",
   "metadata": {},
   "outputs": [
    {
     "data": {
      "text/plain": [
       "1.222908565262289"
      ]
     },
     "execution_count": 108,
     "metadata": {},
     "output_type": "execute_result"
    }
   ],
   "source": [
    "MAE10"
   ]
  },
  {
   "cell_type": "code",
   "execution_count": 109,
   "id": "7e19f20f",
   "metadata": {},
   "outputs": [
    {
     "data": {
      "text/plain": [
       "2.387342642087475"
      ]
     },
     "execution_count": 109,
     "metadata": {},
     "output_type": "execute_result"
    }
   ],
   "source": [
    "MSE10"
   ]
  },
  {
   "cell_type": "code",
   "execution_count": 110,
   "id": "fba5e19f",
   "metadata": {},
   "outputs": [
    {
     "data": {
      "text/plain": [
       "1.5451027933724912"
      ]
     },
     "execution_count": 110,
     "metadata": {},
     "output_type": "execute_result"
    }
   ],
   "source": [
    "RMSE10"
   ]
  },
  {
   "cell_type": "code",
   "execution_count": null,
   "id": "64ad3ecd",
   "metadata": {},
   "outputs": [],
   "source": []
  }
 ],
 "metadata": {
  "kernelspec": {
   "display_name": "Python 3 (ipykernel)",
   "language": "python",
   "name": "python3"
  },
  "language_info": {
   "codemirror_mode": {
    "name": "ipython",
    "version": 3
   },
   "file_extension": ".py",
   "mimetype": "text/x-python",
   "name": "python",
   "nbconvert_exporter": "python",
   "pygments_lexer": "ipython3",
   "version": "3.9.15"
  }
 },
 "nbformat": 4,
 "nbformat_minor": 5
}
