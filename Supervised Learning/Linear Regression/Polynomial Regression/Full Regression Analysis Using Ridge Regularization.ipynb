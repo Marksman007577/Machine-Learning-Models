{
 "cells": [
  {
   "cell_type": "markdown",
   "id": "03cbb913",
   "metadata": {},
   "source": [
    "**PREPARING THE DATA**"
   ]
  },
  {
   "cell_type": "code",
   "execution_count": 22,
   "id": "31311fff",
   "metadata": {},
   "outputs": [],
   "source": [
    "import pandas as pd\n",
    "import numpy as np\n",
    "import matplotlib.pyplot as plt\n",
    "import seaborn as sns\n",
    "import math"
   ]
  },
  {
   "cell_type": "code",
   "execution_count": 88,
   "id": "96de67f1",
   "metadata": {},
   "outputs": [],
   "source": [
    "# Import the libraries\n",
    "import pandas as pd\n",
    "import numpy as np\n",
    "import matplotlib.pyplot as plt\n",
    "import seaborn as sns\n",
    "import math\n",
    "\n",
    "from sklearn.preprocessing import PolynomialFeatures\n",
    "from sklearn.preprocessing import StandardScaler\n",
    "\n",
    "from sklearn.model_selection import train_test_split\n",
    "from sklearn.model_selection import cross_val_score, cross_validate\n",
    "\n",
    "from sklearn.linear_model import Ridge\n",
    "\n",
    "\n",
    "from sklearn.metrics import mean_absolute_error, mean_squared_error"
   ]
  },
  {
   "cell_type": "code",
   "execution_count": 36,
   "id": "43bd8cc3",
   "metadata": {},
   "outputs": [],
   "source": [
    "# Read in the dataset\n",
    "df = pd.read_csv('Advertising.csv')"
   ]
  },
  {
   "cell_type": "code",
   "execution_count": 37,
   "id": "585dcfb9",
   "metadata": {},
   "outputs": [
    {
     "data": {
      "text/html": [
       "<div>\n",
       "<style scoped>\n",
       "    .dataframe tbody tr th:only-of-type {\n",
       "        vertical-align: middle;\n",
       "    }\n",
       "\n",
       "    .dataframe tbody tr th {\n",
       "        vertical-align: top;\n",
       "    }\n",
       "\n",
       "    .dataframe thead th {\n",
       "        text-align: right;\n",
       "    }\n",
       "</style>\n",
       "<table border=\"1\" class=\"dataframe\">\n",
       "  <thead>\n",
       "    <tr style=\"text-align: right;\">\n",
       "      <th></th>\n",
       "      <th>TV</th>\n",
       "      <th>radio</th>\n",
       "      <th>newspaper</th>\n",
       "      <th>sales</th>\n",
       "    </tr>\n",
       "  </thead>\n",
       "  <tbody>\n",
       "    <tr>\n",
       "      <th>0</th>\n",
       "      <td>230.1</td>\n",
       "      <td>37.8</td>\n",
       "      <td>69.2</td>\n",
       "      <td>22.1</td>\n",
       "    </tr>\n",
       "    <tr>\n",
       "      <th>1</th>\n",
       "      <td>44.5</td>\n",
       "      <td>39.3</td>\n",
       "      <td>45.1</td>\n",
       "      <td>10.4</td>\n",
       "    </tr>\n",
       "    <tr>\n",
       "      <th>2</th>\n",
       "      <td>17.2</td>\n",
       "      <td>45.9</td>\n",
       "      <td>69.3</td>\n",
       "      <td>9.3</td>\n",
       "    </tr>\n",
       "    <tr>\n",
       "      <th>3</th>\n",
       "      <td>151.5</td>\n",
       "      <td>41.3</td>\n",
       "      <td>58.5</td>\n",
       "      <td>18.5</td>\n",
       "    </tr>\n",
       "    <tr>\n",
       "      <th>4</th>\n",
       "      <td>180.8</td>\n",
       "      <td>10.8</td>\n",
       "      <td>58.4</td>\n",
       "      <td>12.9</td>\n",
       "    </tr>\n",
       "    <tr>\n",
       "      <th>...</th>\n",
       "      <td>...</td>\n",
       "      <td>...</td>\n",
       "      <td>...</td>\n",
       "      <td>...</td>\n",
       "    </tr>\n",
       "    <tr>\n",
       "      <th>195</th>\n",
       "      <td>38.2</td>\n",
       "      <td>3.7</td>\n",
       "      <td>13.8</td>\n",
       "      <td>7.6</td>\n",
       "    </tr>\n",
       "    <tr>\n",
       "      <th>196</th>\n",
       "      <td>94.2</td>\n",
       "      <td>4.9</td>\n",
       "      <td>8.1</td>\n",
       "      <td>9.7</td>\n",
       "    </tr>\n",
       "    <tr>\n",
       "      <th>197</th>\n",
       "      <td>177.0</td>\n",
       "      <td>9.3</td>\n",
       "      <td>6.4</td>\n",
       "      <td>12.8</td>\n",
       "    </tr>\n",
       "    <tr>\n",
       "      <th>198</th>\n",
       "      <td>283.6</td>\n",
       "      <td>42.0</td>\n",
       "      <td>66.2</td>\n",
       "      <td>25.5</td>\n",
       "    </tr>\n",
       "    <tr>\n",
       "      <th>199</th>\n",
       "      <td>232.1</td>\n",
       "      <td>8.6</td>\n",
       "      <td>8.7</td>\n",
       "      <td>13.4</td>\n",
       "    </tr>\n",
       "  </tbody>\n",
       "</table>\n",
       "<p>200 rows × 4 columns</p>\n",
       "</div>"
      ],
      "text/plain": [
       "        TV  radio  newspaper  sales\n",
       "0    230.1   37.8       69.2   22.1\n",
       "1     44.5   39.3       45.1   10.4\n",
       "2     17.2   45.9       69.3    9.3\n",
       "3    151.5   41.3       58.5   18.5\n",
       "4    180.8   10.8       58.4   12.9\n",
       "..     ...    ...        ...    ...\n",
       "195   38.2    3.7       13.8    7.6\n",
       "196   94.2    4.9        8.1    9.7\n",
       "197  177.0    9.3        6.4   12.8\n",
       "198  283.6   42.0       66.2   25.5\n",
       "199  232.1    8.6        8.7   13.4\n",
       "\n",
       "[200 rows x 4 columns]"
      ]
     },
     "execution_count": 37,
     "metadata": {},
     "output_type": "execute_result"
    }
   ],
   "source": [
    "df"
   ]
  },
  {
   "cell_type": "code",
   "execution_count": 39,
   "id": "b720b508",
   "metadata": {},
   "outputs": [],
   "source": [
    "# Seperate the features and labels\n",
    "X = df.drop('sales', axis=1)\n",
    "y = df['sales']"
   ]
  },
  {
   "cell_type": "code",
   "execution_count": 40,
   "id": "8348c005",
   "metadata": {},
   "outputs": [
    {
     "data": {
      "text/html": [
       "<div>\n",
       "<style scoped>\n",
       "    .dataframe tbody tr th:only-of-type {\n",
       "        vertical-align: middle;\n",
       "    }\n",
       "\n",
       "    .dataframe tbody tr th {\n",
       "        vertical-align: top;\n",
       "    }\n",
       "\n",
       "    .dataframe thead th {\n",
       "        text-align: right;\n",
       "    }\n",
       "</style>\n",
       "<table border=\"1\" class=\"dataframe\">\n",
       "  <thead>\n",
       "    <tr style=\"text-align: right;\">\n",
       "      <th></th>\n",
       "      <th>TV</th>\n",
       "      <th>radio</th>\n",
       "      <th>newspaper</th>\n",
       "    </tr>\n",
       "  </thead>\n",
       "  <tbody>\n",
       "    <tr>\n",
       "      <th>0</th>\n",
       "      <td>230.1</td>\n",
       "      <td>37.8</td>\n",
       "      <td>69.2</td>\n",
       "    </tr>\n",
       "    <tr>\n",
       "      <th>1</th>\n",
       "      <td>44.5</td>\n",
       "      <td>39.3</td>\n",
       "      <td>45.1</td>\n",
       "    </tr>\n",
       "    <tr>\n",
       "      <th>2</th>\n",
       "      <td>17.2</td>\n",
       "      <td>45.9</td>\n",
       "      <td>69.3</td>\n",
       "    </tr>\n",
       "    <tr>\n",
       "      <th>3</th>\n",
       "      <td>151.5</td>\n",
       "      <td>41.3</td>\n",
       "      <td>58.5</td>\n",
       "    </tr>\n",
       "    <tr>\n",
       "      <th>4</th>\n",
       "      <td>180.8</td>\n",
       "      <td>10.8</td>\n",
       "      <td>58.4</td>\n",
       "    </tr>\n",
       "    <tr>\n",
       "      <th>...</th>\n",
       "      <td>...</td>\n",
       "      <td>...</td>\n",
       "      <td>...</td>\n",
       "    </tr>\n",
       "    <tr>\n",
       "      <th>195</th>\n",
       "      <td>38.2</td>\n",
       "      <td>3.7</td>\n",
       "      <td>13.8</td>\n",
       "    </tr>\n",
       "    <tr>\n",
       "      <th>196</th>\n",
       "      <td>94.2</td>\n",
       "      <td>4.9</td>\n",
       "      <td>8.1</td>\n",
       "    </tr>\n",
       "    <tr>\n",
       "      <th>197</th>\n",
       "      <td>177.0</td>\n",
       "      <td>9.3</td>\n",
       "      <td>6.4</td>\n",
       "    </tr>\n",
       "    <tr>\n",
       "      <th>198</th>\n",
       "      <td>283.6</td>\n",
       "      <td>42.0</td>\n",
       "      <td>66.2</td>\n",
       "    </tr>\n",
       "    <tr>\n",
       "      <th>199</th>\n",
       "      <td>232.1</td>\n",
       "      <td>8.6</td>\n",
       "      <td>8.7</td>\n",
       "    </tr>\n",
       "  </tbody>\n",
       "</table>\n",
       "<p>200 rows × 3 columns</p>\n",
       "</div>"
      ],
      "text/plain": [
       "        TV  radio  newspaper\n",
       "0    230.1   37.8       69.2\n",
       "1     44.5   39.3       45.1\n",
       "2     17.2   45.9       69.3\n",
       "3    151.5   41.3       58.5\n",
       "4    180.8   10.8       58.4\n",
       "..     ...    ...        ...\n",
       "195   38.2    3.7       13.8\n",
       "196   94.2    4.9        8.1\n",
       "197  177.0    9.3        6.4\n",
       "198  283.6   42.0       66.2\n",
       "199  232.1    8.6        8.7\n",
       "\n",
       "[200 rows x 3 columns]"
      ]
     },
     "execution_count": 40,
     "metadata": {},
     "output_type": "execute_result"
    }
   ],
   "source": [
    "X"
   ]
  },
  {
   "cell_type": "code",
   "execution_count": 41,
   "id": "6080825c",
   "metadata": {},
   "outputs": [
    {
     "data": {
      "text/plain": [
       "0      22.1\n",
       "1      10.4\n",
       "2       9.3\n",
       "3      18.5\n",
       "4      12.9\n",
       "       ... \n",
       "195     7.6\n",
       "196     9.7\n",
       "197    12.8\n",
       "198    25.5\n",
       "199    13.4\n",
       "Name: sales, Length: 200, dtype: float64"
      ]
     },
     "execution_count": 41,
     "metadata": {},
     "output_type": "execute_result"
    }
   ],
   "source": [
    "y"
   ]
  },
  {
   "cell_type": "code",
   "execution_count": 43,
   "id": "50c7e40e",
   "metadata": {},
   "outputs": [],
   "source": [
    "# Create an instance of a poly converter\n",
    "poly_converter = PolynomialFeatures(degree=2, include_bias=False)"
   ]
  },
  {
   "cell_type": "code",
   "execution_count": 44,
   "id": "8e389162",
   "metadata": {},
   "outputs": [],
   "source": [
    "poly_features = poly_converter.fit_transform(X)"
   ]
  },
  {
   "cell_type": "code",
   "execution_count": 45,
   "id": "3286ded2",
   "metadata": {},
   "outputs": [
    {
     "data": {
      "text/plain": [
       "array([[ 230.1 ,   37.8 ,   69.2 , ..., 1428.84, 2615.76, 4788.64],\n",
       "       [  44.5 ,   39.3 ,   45.1 , ..., 1544.49, 1772.43, 2034.01],\n",
       "       [  17.2 ,   45.9 ,   69.3 , ..., 2106.81, 3180.87, 4802.49],\n",
       "       ...,\n",
       "       [ 177.  ,    9.3 ,    6.4 , ...,   86.49,   59.52,   40.96],\n",
       "       [ 283.6 ,   42.  ,   66.2 , ..., 1764.  , 2780.4 , 4382.44],\n",
       "       [ 232.1 ,    8.6 ,    8.7 , ...,   73.96,   74.82,   75.69]])"
      ]
     },
     "execution_count": 45,
     "metadata": {},
     "output_type": "execute_result"
    }
   ],
   "source": [
    "poly_features"
   ]
  },
  {
   "cell_type": "code",
   "execution_count": 47,
   "id": "24cc59df",
   "metadata": {},
   "outputs": [],
   "source": [
    "# Perfrom train test split\n",
    "X_train, X_test, y_train, y_test = train_test_split(poly_features, y, test_size=0.3, random_state=101)"
   ]
  },
  {
   "cell_type": "code",
   "execution_count": 48,
   "id": "256da4a4",
   "metadata": {},
   "outputs": [
    {
     "data": {
      "text/plain": [
       "((140, 9), (60, 9), (140,), (60,))"
      ]
     },
     "execution_count": 48,
     "metadata": {},
     "output_type": "execute_result"
    }
   ],
   "source": [
    "X_train.shape, X_test.shape, y_train.shape, y_test.shape"
   ]
  },
  {
   "cell_type": "code",
   "execution_count": 49,
   "id": "5d9ec085",
   "metadata": {},
   "outputs": [],
   "source": [
    "# Create an instance of a standard scaler for data scaler\n",
    "scaler = StandardScaler()"
   ]
  },
  {
   "cell_type": "code",
   "execution_count": 50,
   "id": "33ce9453",
   "metadata": {},
   "outputs": [],
   "source": [
    "# fit transform the scaler on the training dataset\n",
    "scaled_X_train = scaler.fit_transform(X_train)"
   ]
  },
  {
   "cell_type": "code",
   "execution_count": 51,
   "id": "7a88638f",
   "metadata": {},
   "outputs": [
    {
     "data": {
      "text/plain": [
       "array([[ 0.49300171, -0.33994238,  1.61586707, ..., -0.59023161,\n",
       "         0.41659155,  1.6137853 ],\n",
       "       [ 1.61337153,  1.32852213,  1.90079242, ...,  1.4978238 ,\n",
       "         2.46478013,  2.08205295],\n",
       "       [-0.84811893, -1.58789957, -1.02319564, ..., -1.05826214,\n",
       "        -0.90147492, -0.74882387],\n",
       "       ...,\n",
       "       [ 1.04606563, -1.30982215,  0.27064572, ..., -1.03502374,\n",
       "        -0.73652035, -0.03590138],\n",
       "       [ 0.74817069,  0.03987068, -1.26608283, ..., -0.26199091,\n",
       "        -0.79680416, -0.78714505],\n",
       "       [ 0.13813882,  0.55533126,  1.01799092, ...,  0.32216251,\n",
       "         0.92114819,  0.76625296]])"
      ]
     },
     "execution_count": 51,
     "metadata": {},
     "output_type": "execute_result"
    }
   ],
   "source": [
    "scaled_X_train"
   ]
  },
  {
   "cell_type": "code",
   "execution_count": 52,
   "id": "96656245",
   "metadata": {},
   "outputs": [],
   "source": [
    "# Create the transformed version of the scaled training X features\n",
    "scaled_X_test = scaler.transform(X_test)"
   ]
  },
  {
   "cell_type": "code",
   "execution_count": 53,
   "id": "0faf9261",
   "metadata": {},
   "outputs": [
    {
     "data": {
      "text/plain": [
       "array([[-9.13394717e-01,  1.76259419e+00,  6.81685579e-01,\n",
       "        -9.63975055e-01,  1.52122095e-02, -2.93048209e-01,\n",
       "         2.31532893e+00,  1.56001049e+00,  3.69910106e-01],\n",
       "       [ 1.23121149e+00,  2.36559587e-01, -1.19601922e+00,\n",
       "         1.38103193e+00,  9.76521639e-01, -6.80562258e-01,\n",
       "        -5.79325829e-02, -7.40162021e-01, -7.79189389e-01],\n",
       "       [-4.60024728e-01, -4.07766136e-01,  3.50051150e-01,\n",
       "        -6.82242743e-01, -5.06457342e-01, -1.10940195e-01,\n",
       "        -6.39722074e-01, -1.69172158e-01,  3.57554301e-02],\n",
       "       [-4.96816533e-01,  1.65407618e+00,  9.47927303e-01,\n",
       "        -7.09383526e-01,  4.86260118e-01,  1.37061544e-01,\n",
       "         2.10033570e+00,  1.77735495e+00,  6.78908133e-01],\n",
       "       [-1.42610633e+00,  8.05649381e-02, -1.35015916e+00,\n",
       "        -1.14433859e+00, -8.66050574e-01, -9.38134722e-01,\n",
       "        -2.21679679e-01, -8.42466779e-01, -7.93375596e-01],\n",
       "       [-1.56971305e+00, -5.02719400e-01, -4.11306765e-01,\n",
       "        -1.16855131e+00, -1.00646472e+00, -8.68057421e-01,\n",
       "        -7.04363815e-01, -5.12448616e-01, -5.18444564e-01],\n",
       "       [ 1.31785025e+00,  3.65424731e-01, -7.10244842e-01,\n",
       "         1.52972027e+00,  1.18676500e+00, -1.45853473e-01,\n",
       "         8.83684313e-02, -4.02195423e-01, -6.54935860e-01],\n",
       "       [ 7.32741866e-01,  8.05649381e-02, -8.41030250e-01,\n",
       "         6.06967058e-01,  4.86622867e-01, -4.12296506e-01,\n",
       "        -2.21679679e-01, -5.50108281e-01, -7.00269193e-01],\n",
       "       [-1.34832642e-01, -1.45903442e+00, -1.03253746e+00,\n",
       "        -4.09499043e-01, -1.01971414e+00, -7.07951273e-01,\n",
       "        -1.05327162e+00, -8.82830439e-01, -7.50856056e-01],\n",
       "       [ 8.17006969e-01,  6.63849277e-01,  3.17354798e-01,\n",
       "         7.28079417e-01,  1.11265535e+00,  6.60390387e-01,\n",
       "         4.65491333e-01,  4.70453371e-01,  5.85887866e-03],\n",
       "       [-1.34896222e+00,  1.14539797e+00, -8.97081140e-01,\n",
       "        -1.12657876e+00, -6.37367465e-01, -8.64280823e-01,\n",
       "         1.18690477e+00, -3.78589987e-01, -7.17017961e-01],\n",
       "       [ 2.85306039e-01, -5.43413657e-01, -1.34081735e+00,\n",
       "         3.02762307e-02, -2.82363009e-01, -8.70167533e-01,\n",
       "        -7.30408519e-01, -8.61176676e-01, -7.92861967e-01],\n",
       "       [ 8.39556785e-01, -1.35729878e+00, -8.41030250e-01,\n",
       "         7.61162025e-01, -8.71715507e-01, -3.89555909e-01,\n",
       "        -1.04228142e+00, -8.52912048e-01, -7.00269193e-01],\n",
       "       [ 5.60651163e-01,  1.76259419e+00,  1.34962534e+00,\n",
       "         3.71937870e-01,  1.86991234e+00,  1.35033316e+00,\n",
       "         2.31532893e+00,  2.33023459e+00,  1.21377447e+00],\n",
       "       [ 4.98935877e-01,  8.13061549e-01,  2.07828691e+00,\n",
       "         2.91678804e-01,  9.72507215e-01,  1.87298499e+00,\n",
       "         6.74125454e-01,  2.01648401e+00,  2.39476362e+00],\n",
       "       [-1.26944445e+00,  1.61953450e-01, -4.90712191e-01,\n",
       "        -1.10479561e+00, -7.51675767e-01, -7.73893218e-01,\n",
       "        -1.38071200e-01, -3.21991458e-01, -5.59160820e-01],\n",
       "       [ 1.32022392e+00, -1.35051640e+00, -5.42092173e-01,\n",
       "         1.53385289e+00, -8.22142813e-01,  3.73095965e-02,\n",
       "        -1.04132755e+00, -8.27060553e-01, -5.83787092e-01],\n",
       "       [-6.64159906e-01, -1.49294630e+00, -1.10727197e+00,\n",
       "        -8.23296031e-01, -1.05979490e+00, -8.14907303e-01,\n",
       "        -1.05555260e+00, -8.90179198e-01, -7.65505645e-01],\n",
       "       [-1.20654233e+00, -8.01143946e-01, -5.93472155e-01,\n",
       "        -1.08506383e+00, -9.24967082e-01, -7.74051380e-01,\n",
       "        -8.72244332e-01, -6.68756941e-01, -6.07062297e-01],\n",
       "       [ 9.06019401e-01,  9.69056198e-01,  4.17712581e-02,\n",
       "         8.60319823e-01,  1.49807632e+00,  4.55753944e-01,\n",
       "         9.06550943e-01,  4.13887551e-01, -2.24386439e-01],\n",
       "       [-1.56733939e+00, -2.24641983e-01, -6.58864860e-01,\n",
       "        -1.16824466e+00, -9.81205292e-01, -8.87233589e-01,\n",
       "        -4.99752522e-01, -5.28912454e-01, -6.34731262e-01],\n",
       "       [ 2.33085412e-01,  1.10470372e+00,  3.08012983e-01,\n",
       "        -2.97474488e-02,  9.55467074e-01,  2.94122112e-01,\n",
       "         1.12054884e+00,  7.30396645e-01, -2.58250056e-03],\n",
       "       [ 1.48638046e+00,  1.72868231e+00,  4.99520188e-01,\n",
       "         1.83095202e+00,  2.99284767e+00,  1.28097723e+00,\n",
       "         2.24738322e+00,  1.32716168e+00,  1.79392867e-01],\n",
       "       [ 1.30123460e+00,  1.30817500e+00,  1.10206725e+00,\n",
       "         1.50087997e+00,  2.27251855e+00,  1.80535920e+00,\n",
       "         1.46228191e+00,  1.64517542e+00,  8.74383008e-01],\n",
       "       [-9.81044165e-01, -9.57138594e-01, -1.41088096e+00,\n",
       "        -9.96176257e-01, -9.06315730e-01, -9.39523461e-01,\n",
       "        -9.38697037e-01, -8.92348935e-01, -7.95625514e-01],\n",
       "       [ 5.71332655e-01, -1.37764591e+00,  1.63214852e-01,\n",
       "         3.86044693e-01, -9.13062864e-01,  3.81896188e-01,\n",
       "        -1.04497713e+00, -7.84527156e-01, -1.27712549e-01],\n",
       "       [ 1.68458148e+00,  2.90818595e-01, -1.36884279e+00,\n",
       "         2.20550442e+00,  1.35815188e+00, -8.49567908e-01,\n",
       "         2.45131861e-03, -8.47111544e-01, -7.94268863e-01],\n",
       "       [-1.09260641e+00, -7.74014442e-01,  5.60241985e-01,\n",
       "        -1.04369985e+00, -8.84097344e-01, -4.56037919e-01,\n",
       "        -8.59194331e-01, -3.37561233e-01,  2.41011586e-01],\n",
       "       [ 1.65435964e-01, -9.09661962e-01, -6.30839415e-01,\n",
       "        -1.05242125e-01, -5.99702011e-01, -3.89339883e-01,\n",
       "        -9.20020606e-01, -7.09578535e-01, -6.23141115e-01],\n",
       "       [-1.59582336e+00,  1.52521103e+00,  1.78401974e+00,\n",
       "        -1.17171682e+00, -8.61643172e-01, -7.21595631e-01,\n",
       "         1.85422430e+00,  2.56669237e+00,  1.88511535e+00],\n",
       "       [-1.51749242e+00,  7.92714421e-01,  1.62520888e+00,\n",
       "        -1.16107862e+00, -8.47768017e-01, -6.48983882e-01,\n",
       "         6.44887370e-01,  1.62053418e+00,  1.62847955e+00],\n",
       "       [ 8.08699142e-01,  6.84196405e-01,  6.53660134e-01,\n",
       "         7.15962638e-01,  1.12556317e+00,  9.60518050e-01,\n",
       "         4.93153464e-01,  7.45835581e-01,  3.39494343e-01],\n",
       "       [-2.06042588e-01, -1.25556314e+00, -1.01852473e+00,\n",
       "        -4.74271780e-01, -9.01367227e-01, -7.10595663e-01,\n",
       "        -1.02507035e+00, -8.51789018e-01, -7.47791031e-01],\n",
       "       [-1.64329666e+00, -5.09501776e-01,  8.63850969e-01,\n",
       "        -1.17649733e+00, -1.03685101e+00, -8.25218688e-01,\n",
       "        -7.08773720e-01, -4.16046775e-02,  5.77410597e-01],\n",
       "       [ 3.00734861e-01,  6.77414029e-01,  3.54722057e-01,\n",
       "         4.83018118e-02,  6.86787847e-01,  3.69710005e-01,\n",
       "         4.83905105e-01,  5.07851359e-01,  4.00710294e-02],\n",
       "       [-6.46357420e-01, -1.48616392e+00, -5.16468910e-02,\n",
       "        -8.11920702e-01, -1.05622182e+00, -3.89062135e-01,\n",
       "        -1.05515170e+00, -8.52410501e-01, -2.93614681e-01],\n",
       "       [-7.65040663e-01, -7.87579194e-01, -2.43154096e-01,\n",
       "        -8.84414588e-01, -7.89250534e-01, -5.15884845e-01,\n",
       "        -8.65774628e-01, -5.68251212e-01, -4.21569688e-01],\n",
       "       [-6.81962393e-01, -1.25556314e+00, -1.07457562e+00,\n",
       "        -8.34494449e-01, -9.60764377e-01, -8.04329743e-01,\n",
       "        -1.02507035e+00, -8.58200102e-01, -7.59448174e-01],\n",
       "       [-1.66109915e+00,  9.14797190e-01,  6.58331042e-01,\n",
       "        -1.17796568e+00, -9.69787762e-01, -8.49498471e-01,\n",
       "         8.24048397e-01,  9.17048585e-01,  3.44535722e-01],\n",
       "       [ 5.86210447e-02, -1.41155779e+00, -1.06523381e+00,\n",
       "        -2.19243085e-01, -9.77215051e-01, -7.00799268e-01,\n",
       "        -1.04891701e+00, -8.77945803e-01, -7.57616975e-01],\n",
       "       [-9.95286155e-01,  8.94450062e-01,  3.87191537e+00,\n",
       "        -1.00262994e+00, -3.50166871e-01,  5.39309726e-01,\n",
       "         7.93566139e-01,  3.64777770e+00,  6.45948870e+00],\n",
       "       [-1.44327301e-01, -1.44546967e+00, -2.10457744e-01,\n",
       "        -4.18298952e-01, -1.01173970e+00, -2.35780094e-01,\n",
       "        -1.05216569e+00, -8.40569622e-01, -4.01052447e-01],\n",
       "       [-6.58225744e-01, -5.84107913e-01,  3.64063872e-01,\n",
       "        -8.19523911e-01, -6.69906063e-01, -2.29708220e-01,\n",
       "        -7.55457885e-01, -2.73755686e-01,  4.87357255e-02],\n",
       "       [-1.57683405e+00, -1.16123967e-01,  9.01218229e-01,\n",
       "        -1.16945237e+00, -9.76973218e-01, -7.68743312e-01,\n",
       "        -4.07296585e-01,  2.90986641e-01,  6.22073979e-01],\n",
       "       [-8.93218565e-01,  2.22994835e-01, -4.11306765e-01,\n",
       "        -9.53876625e-01, -4.83658558e-01, -6.22887166e-01,\n",
       "        -7.27520753e-02, -2.52287278e-01, -5.18444564e-01],\n",
       "       [-9.78670500e-01, -1.97512479e-01, -5.98143063e-01,\n",
       "        -9.95089635e-01, -6.71465885e-01, -7.07245330e-01,\n",
       "        -4.77302097e-01, -4.92441238e-01, -6.09111230e-01],\n",
       "       [-1.73586959e+00,  4.40030868e-01, -1.01385383e+00,\n",
       "        -1.18220092e+00, -1.05148794e+00, -9.41710724e-01,\n",
       "         1.77630989e-01, -5.95029480e-01, -7.46747025e-01],\n",
       "       [ 8.96524741e-01, -5.16284152e-01,  8.77863692e-01,\n",
       "         8.46003460e-01, -1.51438485e-02,  1.23523758e+00,\n",
       "        -7.13155976e-01, -4.18445479e-02,  5.94075621e-01],\n",
       "       [ 3.45834493e-01, -8.55402954e-01,  1.27489083e+00,\n",
       "         1.01753865e-01, -5.10030422e-01,  1.08506863e+00,\n",
       "        -8.97017215e-01, -2.13788067e-01,  1.10801158e+00],\n",
       "       [ 5.19112028e-01,  1.64729380e+00,  1.01799092e+00,\n",
       "         3.17683431e-01,  1.71723122e+00,  1.04223761e+00,\n",
       "         2.08713363e+00,  1.84976313e+00,  7.66252959e-01],\n",
       "       [-1.27181811e+00,  1.07757421e+00,  6.53660134e-01,\n",
       "        -1.10549696e+00, -5.71634296e-01, -5.64400047e-01,\n",
       "         1.07686451e+00,  1.03104158e+00,  3.39494343e-01],\n",
       "       [ 6.55597758e-01, -1.01817998e+00, -2.19799559e-01,\n",
       "         4.99564850e-01, -5.74926244e-01,  1.02042182e-01,\n",
       "        -9.60718913e-01, -6.59685476e-01, -4.06970345e-01],\n",
       "       [ 1.52554593e+00, -9.02879586e-01, -4.53344932e-01,\n",
       "         1.90322693e+00, -2.44806381e-01,  2.05063452e-01,\n",
       "        -9.17241951e-01, -6.65813077e-01, -5.40402199e-01],\n",
       "       [-4.08990933e-01, -5.90890289e-01, -1.20069012e+00,\n",
       "        -6.43344898e-01, -5.79496884e-01, -8.29431196e-01,\n",
       "        -7.59536010e-01, -8.14925287e-01, -7.79797928e-01],\n",
       "       [ 5.71332655e-01, -1.41155779e+00, -4.62686747e-01,\n",
       "         3.86044693e-01, -9.43261731e-01, -1.34506320e-01,\n",
       "        -1.04891701e+00, -8.41376459e-01, -5.45158850e-01],\n",
       "       [-1.75129841e+00, -8.01143946e-01, -1.18667740e+00,\n",
       "        -1.18268644e+00, -1.08591888e+00, -9.46993718e-01,\n",
       "        -8.72244332e-01, -8.29382935e-01, -7.77938814e-01],\n",
       "       [ 1.36769722e+00,  1.38278114e+00, -1.21937375e+00,\n",
       "         1.61716582e+00,  2.43355196e+00, -6.94102461e-01,\n",
       "         1.59381872e+00, -6.62694760e-01, -7.82120423e-01],\n",
       "       [-1.33115973e+00,  1.19965698e+00, -1.18200649e+00,\n",
       "        -1.12200858e+00, -6.09541582e-01, -9.07312437e-01,\n",
       "         1.27692766e+00, -6.41564352e-01, -7.77296778e-01],\n",
       "       [ 1.35226840e+00, -2.31424359e-01, -1.43890640e+00,\n",
       "         1.58995113e+00,  5.05473731e-01, -9.36132624e-01,\n",
       "        -5.05296007e-01, -8.94932994e-01, -7.96027484e-01],\n",
       "       [ 2.78185045e-01, -6.18649585e-02,  1.84167208e-02,\n",
       "         2.20015490e-02,  9.06549638e-02,  1.12359354e-01,\n",
       "        -3.58414379e-01, -1.28710370e-01, -2.42112219e-01]])"
      ]
     },
     "execution_count": 53,
     "metadata": {},
     "output_type": "execute_result"
    }
   ],
   "source": [
    "scaled_X_test"
   ]
  },
  {
   "cell_type": "markdown",
   "id": "a98d99b0",
   "metadata": {},
   "source": [
    "**CREATE THE MODEL**"
   ]
  },
  {
   "cell_type": "markdown",
   "id": "3e0110fe",
   "metadata": {},
   "source": [
    "**L2 RIDGE REGRESSION MODEL**"
   ]
  },
  {
   "cell_type": "code",
   "execution_count": 55,
   "id": "12a85e91",
   "metadata": {},
   "outputs": [],
   "source": [
    "# Create an instance of the ridge regression model\n",
    "model = Ridge(alpha=10)"
   ]
  },
  {
   "cell_type": "code",
   "execution_count": 56,
   "id": "c8d07734",
   "metadata": {},
   "outputs": [
    {
     "data": {
      "text/html": [
       "<style>#sk-container-id-1 {color: black;}#sk-container-id-1 pre{padding: 0;}#sk-container-id-1 div.sk-toggleable {background-color: white;}#sk-container-id-1 label.sk-toggleable__label {cursor: pointer;display: block;width: 100%;margin-bottom: 0;padding: 0.3em;box-sizing: border-box;text-align: center;}#sk-container-id-1 label.sk-toggleable__label-arrow:before {content: \"▸\";float: left;margin-right: 0.25em;color: #696969;}#sk-container-id-1 label.sk-toggleable__label-arrow:hover:before {color: black;}#sk-container-id-1 div.sk-estimator:hover label.sk-toggleable__label-arrow:before {color: black;}#sk-container-id-1 div.sk-toggleable__content {max-height: 0;max-width: 0;overflow: hidden;text-align: left;background-color: #f0f8ff;}#sk-container-id-1 div.sk-toggleable__content pre {margin: 0.2em;color: black;border-radius: 0.25em;background-color: #f0f8ff;}#sk-container-id-1 input.sk-toggleable__control:checked~div.sk-toggleable__content {max-height: 200px;max-width: 100%;overflow: auto;}#sk-container-id-1 input.sk-toggleable__control:checked~label.sk-toggleable__label-arrow:before {content: \"▾\";}#sk-container-id-1 div.sk-estimator input.sk-toggleable__control:checked~label.sk-toggleable__label {background-color: #d4ebff;}#sk-container-id-1 div.sk-label input.sk-toggleable__control:checked~label.sk-toggleable__label {background-color: #d4ebff;}#sk-container-id-1 input.sk-hidden--visually {border: 0;clip: rect(1px 1px 1px 1px);clip: rect(1px, 1px, 1px, 1px);height: 1px;margin: -1px;overflow: hidden;padding: 0;position: absolute;width: 1px;}#sk-container-id-1 div.sk-estimator {font-family: monospace;background-color: #f0f8ff;border: 1px dotted black;border-radius: 0.25em;box-sizing: border-box;margin-bottom: 0.5em;}#sk-container-id-1 div.sk-estimator:hover {background-color: #d4ebff;}#sk-container-id-1 div.sk-parallel-item::after {content: \"\";width: 100%;border-bottom: 1px solid gray;flex-grow: 1;}#sk-container-id-1 div.sk-label:hover label.sk-toggleable__label {background-color: #d4ebff;}#sk-container-id-1 div.sk-serial::before {content: \"\";position: absolute;border-left: 1px solid gray;box-sizing: border-box;top: 0;bottom: 0;left: 50%;z-index: 0;}#sk-container-id-1 div.sk-serial {display: flex;flex-direction: column;align-items: center;background-color: white;padding-right: 0.2em;padding-left: 0.2em;position: relative;}#sk-container-id-1 div.sk-item {position: relative;z-index: 1;}#sk-container-id-1 div.sk-parallel {display: flex;align-items: stretch;justify-content: center;background-color: white;position: relative;}#sk-container-id-1 div.sk-item::before, #sk-container-id-1 div.sk-parallel-item::before {content: \"\";position: absolute;border-left: 1px solid gray;box-sizing: border-box;top: 0;bottom: 0;left: 50%;z-index: -1;}#sk-container-id-1 div.sk-parallel-item {display: flex;flex-direction: column;z-index: 1;position: relative;background-color: white;}#sk-container-id-1 div.sk-parallel-item:first-child::after {align-self: flex-end;width: 50%;}#sk-container-id-1 div.sk-parallel-item:last-child::after {align-self: flex-start;width: 50%;}#sk-container-id-1 div.sk-parallel-item:only-child::after {width: 0;}#sk-container-id-1 div.sk-dashed-wrapped {border: 1px dashed gray;margin: 0 0.4em 0.5em 0.4em;box-sizing: border-box;padding-bottom: 0.4em;background-color: white;}#sk-container-id-1 div.sk-label label {font-family: monospace;font-weight: bold;display: inline-block;line-height: 1.2em;}#sk-container-id-1 div.sk-label-container {text-align: center;}#sk-container-id-1 div.sk-container {/* jupyter's `normalize.less` sets `[hidden] { display: none; }` but bootstrap.min.css set `[hidden] { display: none !important; }` so we also need the `!important` here to be able to override the default hidden behavior on the sphinx rendered scikit-learn.org. See: https://github.com/scikit-learn/scikit-learn/issues/21755 */display: inline-block !important;position: relative;}#sk-container-id-1 div.sk-text-repr-fallback {display: none;}</style><div id=\"sk-container-id-1\" class=\"sk-top-container\"><div class=\"sk-text-repr-fallback\"><pre>Ridge(alpha=10)</pre><b>In a Jupyter environment, please rerun this cell to show the HTML representation or trust the notebook. <br />On GitHub, the HTML representation is unable to render, please try loading this page with nbviewer.org.</b></div><div class=\"sk-container\" hidden><div class=\"sk-item\"><div class=\"sk-estimator sk-toggleable\"><input class=\"sk-toggleable__control sk-hidden--visually\" id=\"sk-estimator-id-1\" type=\"checkbox\" checked><label for=\"sk-estimator-id-1\" class=\"sk-toggleable__label sk-toggleable__label-arrow\">Ridge</label><div class=\"sk-toggleable__content\"><pre>Ridge(alpha=10)</pre></div></div></div></div></div>"
      ],
      "text/plain": [
       "Ridge(alpha=10)"
      ]
     },
     "execution_count": 56,
     "metadata": {},
     "output_type": "execute_result"
    }
   ],
   "source": [
    "# Fit the model to the scaled X train dataset\n",
    "model.fit(scaled_X_train, y_train)"
   ]
  },
  {
   "cell_type": "code",
   "execution_count": 57,
   "id": "7770f4a3",
   "metadata": {},
   "outputs": [],
   "source": [
    "# Predict on the test data\n",
    "pred = model.predict(scaled_X_test)"
   ]
  },
  {
   "cell_type": "code",
   "execution_count": 58,
   "id": "41e154c6",
   "metadata": {},
   "outputs": [
    {
     "data": {
      "text/plain": [
       "array([14.32673455, 19.25815758, 11.69469548, 16.42500182,  9.09129244,\n",
       "        7.95797212, 20.27422814, 17.02545533, 10.00958252, 19.71986909,\n",
       "       10.88611604, 13.43439248, 12.17979897, 22.64359896, 18.80918807,\n",
       "        9.85358071, 13.1492644 ,  8.9062176 ,  8.72869048, 21.25100547,\n",
       "        8.26080736, 18.64293453, 27.44683809, 24.6589422 ,  9.06960489,\n",
       "       11.71388664, 21.00884242,  8.9941525 , 12.1779096 ,  9.78252415,\n",
       "        9.28573542, 19.79102624, 10.35880689,  7.49474714, 17.57121911,\n",
       "        8.96827085, 10.00450626,  9.31295841,  8.96428346, 10.49576719,\n",
       "       11.06103312, 10.08369606, 10.68350214,  8.13453698, 11.44235603,\n",
       "       10.37485094,  8.24553957, 15.55759714, 12.79840424, 21.99415126,\n",
       "       11.14003461, 13.06866653, 15.47679074, 11.36058689, 11.55584049,\n",
       "        7.15311399, 24.74437741, 11.02151242, 17.59760827, 15.11048175])"
      ]
     },
     "execution_count": 58,
     "metadata": {},
     "output_type": "execute_result"
    }
   ],
   "source": [
    "pred"
   ]
  },
  {
   "cell_type": "code",
   "execution_count": 60,
   "id": "896512b8",
   "metadata": {},
   "outputs": [
    {
     "data": {
      "text/plain": [
       "array([ 2.0253565 ,  0.57587147,  0.02372659, -0.32734244,  2.93152785,\n",
       "        0.28880115,  0.21228042,  0.11181648, -0.29031937])"
      ]
     },
     "execution_count": 60,
     "metadata": {},
     "output_type": "execute_result"
    }
   ],
   "source": [
    "# Obtain the coefficient and alpha of the model\n",
    "model.coef_"
   ]
  },
  {
   "cell_type": "code",
   "execution_count": 61,
   "id": "c268432e",
   "metadata": {},
   "outputs": [],
   "source": [
    "# Evaluate the error\n",
    "error = y_test - pred"
   ]
  },
  {
   "cell_type": "code",
   "execution_count": 62,
   "id": "606a858f",
   "metadata": {},
   "outputs": [
    {
     "data": {
      "text/plain": [
       "37     0.373265\n",
       "109    0.541842\n",
       "31     0.205305\n",
       "89     0.274998\n",
       "66     0.408708\n",
       "119   -1.357972\n",
       "54    -0.074228\n",
       "74    -0.025455\n",
       "145    0.290417\n",
       "142    0.380131\n",
       "148    0.013884\n",
       "112    0.665608\n",
       "174   -0.679799\n",
       "55     1.056401\n",
       "141    0.390812\n",
       "149    0.246419\n",
       "25    -1.149264\n",
       "34     0.593782\n",
       "170   -0.328690\n",
       "39     0.248995\n",
       "172   -0.660807\n",
       "153    0.357065\n",
       "175   -0.446838\n",
       "61    -0.458942\n",
       "65     0.230395\n",
       "50    -0.313887\n",
       "42    -0.308842\n",
       "129    0.705848\n",
       "179    0.422090\n",
       "2     -0.482524\n",
       "12    -0.085735\n",
       "133   -0.191026\n",
       "90     0.841193\n",
       "22    -1.894747\n",
       "41    -0.471219\n",
       "32     0.631729\n",
       "125    0.595494\n",
       "196    0.387042\n",
       "158   -1.664283\n",
       "180    0.004233\n",
       "16     1.438967\n",
       "186    0.216304\n",
       "144    0.716498\n",
       "121   -1.134537\n",
       "80     0.357644\n",
       "18     0.925149\n",
       "78    -2.945540\n",
       "48    -0.757597\n",
       "4      0.101596\n",
       "15     0.405849\n",
       "1     -0.740035\n",
       "43    -0.168667\n",
       "102   -0.676791\n",
       "164    0.539413\n",
       "9     -0.955840\n",
       "155   -3.953114\n",
       "36     0.655623\n",
       "190   -0.221512\n",
       "33    -0.197608\n",
       "45    -0.210482\n",
       "Name: sales, dtype: float64"
      ]
     },
     "execution_count": 62,
     "metadata": {},
     "output_type": "execute_result"
    }
   ],
   "source": [
    "error"
   ]
  },
  {
   "cell_type": "code",
   "execution_count": 64,
   "id": "1f198fdd",
   "metadata": {},
   "outputs": [],
   "source": [
    "# Evaluate the error metrics\n",
    "MAE = mean_absolute_error(y_test, pred)\n",
    "MSE = mean_squared_error(y_test, pred)\n",
    "RMSE = np.sqrt(MSE)"
   ]
  },
  {
   "cell_type": "code",
   "execution_count": 66,
   "id": "1e6079f3",
   "metadata": {},
   "outputs": [
    {
     "data": {
      "text/plain": [
       "0.6296447027356389"
      ]
     },
     "execution_count": 66,
     "metadata": {},
     "output_type": "execute_result"
    }
   ],
   "source": [
    "MAE"
   ]
  },
  {
   "cell_type": "code",
   "execution_count": 67,
   "id": "7613f806",
   "metadata": {},
   "outputs": [
    {
     "data": {
      "text/plain": [
       "0.833294662717574"
      ]
     },
     "execution_count": 67,
     "metadata": {},
     "output_type": "execute_result"
    }
   ],
   "source": [
    "MSE"
   ]
  },
  {
   "cell_type": "code",
   "execution_count": 68,
   "id": "80580ab4",
   "metadata": {},
   "outputs": [
    {
     "data": {
      "text/plain": [
       "0.9128497481609852"
      ]
     },
     "execution_count": 68,
     "metadata": {},
     "output_type": "execute_result"
    }
   ],
   "source": [
    "RMSE"
   ]
  },
  {
   "cell_type": "code",
   "execution_count": 71,
   "id": "9e8e2cc4",
   "metadata": {},
   "outputs": [],
   "source": [
    "# Evaluate the optimal degree for the Ridge regression model for model complexity\n",
    "train_rmse = []\n",
    "test_rmse = []\n",
    "\n",
    "for d in range(1,10):\n",
    "    poly_converter = PolynomialFeatures(degree=d, include_bias=False)\n",
    "    poly_features = poly_converter.fit_transform(X)\n",
    "    \n",
    "    X_train, X_test, y_train, y_test = train_test_split(poly_features, y, test_size=0.3, random_state=101)\n",
    "    \n",
    "    scaler = StandardScaler()\n",
    "    scaled_X_train = scaler.fit_transform(X_train)\n",
    "    scaled_X_test = scaler.transform(X_test)\n",
    "    \n",
    "    model = Ridge(alpha=10)\n",
    "    model.fit(scaled_X_train, y_train)\n",
    "    \n",
    "    train_pred = model.predict(scaled_X_train)\n",
    "    test_pred = model.predict(scaled_X_test)\n",
    "    \n",
    "    train_mse = mean_squared_error(y_train, train_pred)\n",
    "    test_mse = mean_squared_error(y_test, test_pred)\n",
    "    \n",
    "    trainrmse = np.sqrt(train_mse)\n",
    "    testrmse = np.sqrt(test_mse)\n",
    "    \n",
    "    train_rmse.append(trainrmse)\n",
    "    test_rmse.append(testrmse)"
   ]
  },
  {
   "cell_type": "code",
   "execution_count": 72,
   "id": "ad30f95a",
   "metadata": {},
   "outputs": [
    {
     "data": {
      "text/plain": [
       "[1.7623603170643585,\n",
       " 0.9402742333196971,\n",
       " 0.8491805208255256,\n",
       " 0.8400569899582561,\n",
       " 0.8432270116289926,\n",
       " 0.8384717123054772,\n",
       " 0.8278950255144404,\n",
       " 0.8169749217562654,\n",
       " 0.8089591050706401]"
      ]
     },
     "execution_count": 72,
     "metadata": {},
     "output_type": "execute_result"
    }
   ],
   "source": [
    "train_rmse"
   ]
  },
  {
   "cell_type": "code",
   "execution_count": 73,
   "id": "9a440898",
   "metadata": {},
   "outputs": [
    {
     "data": {
      "text/plain": [
       "[1.6069183154075561,\n",
       " 0.9128497481609852,\n",
       " 0.8946386461319685,\n",
       " 0.9160353702370546,\n",
       " 0.9231934531981718,\n",
       " 0.9149726573588114,\n",
       " 0.9067492005694464,\n",
       " 0.9092402617174484,\n",
       " 0.9256089802403048]"
      ]
     },
     "execution_count": 73,
     "metadata": {},
     "output_type": "execute_result"
    }
   ],
   "source": [
    "test_rmse"
   ]
  },
  {
   "cell_type": "code",
   "execution_count": 74,
   "id": "fe4e5cf5",
   "metadata": {},
   "outputs": [
    {
     "data": {
      "text/plain": [
       "<matplotlib.legend.Legend at 0x1f6aca149a0>"
      ]
     },
     "execution_count": 74,
     "metadata": {},
     "output_type": "execute_result"
    },
    {
     "data": {
      "image/png": "[encoded data removed]",
      "text/plain": [
       "<Figure size 640x480 with 1 Axes>"
      ]
     },
     "metadata": {},
     "output_type": "display_data"
    }
   ],
   "source": [
    "# Visulaize the error\n",
    "plt.plot(range(1,6), train_rmse[:5], label='TRAIN RMSE')\n",
    "plt.plot(range(1,6), test_rmse[:5], label='TEST RMSE')\n",
    "plt.xlabel('Degree of Polynomial')\n",
    "plt.ylabel('RMSE')\n",
    "plt.legend()"
   ]
  },
  {
   "cell_type": "markdown",
   "id": "963735cf",
   "metadata": {},
   "source": [
    "**FINDING THE OPTIMAL HYPERPARAMETER TUNING USING CROSS VALIDATION (K-Fold)  using cross_validate function**"
   ]
  },
  {
   "cell_type": "code",
   "execution_count": 161,
   "id": "410b5006",
   "metadata": {},
   "outputs": [],
   "source": [
    "# Create the train test split\n",
    "X_train, X_test, y_train, y_test = train_test_split(X, y, test_size=0.30, random_state=101)\n",
    "\n",
    "# Create an instance of a standard scaler for data scaler\n",
    "scaler_opt = StandardScaler()\n",
    "\n",
    "# fit transform the scaler on the training dataset\n",
    "scaled_X_train = scaler_opt.fit_transform(X_train)\n",
    "scaled_X_test = scaler_opt.transform(X_test)"
   ]
  },
  {
   "cell_type": "code",
   "execution_count": 162,
   "id": "25ed195a",
   "metadata": {},
   "outputs": [],
   "source": [
    "# creating the first model\n",
    "model_one = Ridge(alpha=100)"
   ]
  },
  {
   "cell_type": "code",
   "execution_count": 163,
   "id": "38a70422",
   "metadata": {},
   "outputs": [],
   "source": [
    "# create the instance to find the best score\n",
    "cross_validate_score_one = cross_validate(model_one, scaled_X_train, y_train,\n",
    "                                     scoring=['neg_mean_squared_error','neg_mean_absolute_error'],\n",
    "                                     cv=10)"
   ]
  },
  {
   "cell_type": "code",
   "execution_count": 164,
   "id": "4b5e43b5",
   "metadata": {},
   "outputs": [
    {
     "data": {
      "text/plain": [
       "{'fit_time': array([0.00499654, 0.00297308, 0.00299668, 0.00399876, 0.0030148 ,\n",
       "        0.00299716, 0.00299883, 0.00399637, 0.01399183, 0.00199771]),\n",
       " 'score_time': array([0.00501442, 0.00299621, 0.00299811, 0.00199699, 0.00198507,\n",
       "        0.00399756, 0.00199914, 0.00399709, 0.00300002, 0.00100088]),\n",
       " 'test_neg_mean_squared_error': array([ -6.06067062, -10.62703078,  -3.99342608,  -5.00949402,\n",
       "         -9.14179955, -13.08625636,  -3.83940454,  -9.05878567,\n",
       "         -9.05545685,  -5.77888211]),\n",
       " 'test_neg_mean_absolute_error': array([-1.8102116 , -2.54195751, -1.46959386, -1.86276886, -2.52069737,\n",
       "        -2.45999491, -1.45197069, -2.37739501, -2.44334397, -1.89979708])}"
      ]
     },
     "execution_count": 164,
     "metadata": {},
     "output_type": "execute_result"
    }
   ],
   "source": [
    "cross_validate_score_one"
   ]
  },
  {
   "cell_type": "code",
   "execution_count": 165,
   "id": "7f716e62",
   "metadata": {},
   "outputs": [],
   "source": [
    "cross_validate_score_one = pd.DataFrame(cross_validate_score)"
   ]
  },
  {
   "cell_type": "code",
   "execution_count": 166,
   "id": "d9a18481",
   "metadata": {},
   "outputs": [
    {
     "data": {
      "text/html": [
       "<div>\n",
       "<style scoped>\n",
       "    .dataframe tbody tr th:only-of-type {\n",
       "        vertical-align: middle;\n",
       "    }\n",
       "\n",
       "    .dataframe tbody tr th {\n",
       "        vertical-align: top;\n",
       "    }\n",
       "\n",
       "    .dataframe thead th {\n",
       "        text-align: right;\n",
       "    }\n",
       "</style>\n",
       "<table border=\"1\" class=\"dataframe\">\n",
       "  <thead>\n",
       "    <tr style=\"text-align: right;\">\n",
       "      <th></th>\n",
       "      <th>fit_time</th>\n",
       "      <th>score_time</th>\n",
       "      <th>test_neg_mean_squared_error</th>\n",
       "      <th>test_neg_mean_absolute_error</th>\n",
       "    </tr>\n",
       "  </thead>\n",
       "  <tbody>\n",
       "    <tr>\n",
       "      <th>0</th>\n",
       "      <td>0.004000</td>\n",
       "      <td>0.005995</td>\n",
       "      <td>-2.962508</td>\n",
       "      <td>-1.457174</td>\n",
       "    </tr>\n",
       "    <tr>\n",
       "      <th>1</th>\n",
       "      <td>0.002994</td>\n",
       "      <td>0.002999</td>\n",
       "      <td>-3.057378</td>\n",
       "      <td>-1.555308</td>\n",
       "    </tr>\n",
       "    <tr>\n",
       "      <th>2</th>\n",
       "      <td>0.003999</td>\n",
       "      <td>0.003997</td>\n",
       "      <td>-2.173740</td>\n",
       "      <td>-1.238770</td>\n",
       "    </tr>\n",
       "    <tr>\n",
       "      <th>3</th>\n",
       "      <td>0.002999</td>\n",
       "      <td>0.003999</td>\n",
       "      <td>-0.833034</td>\n",
       "      <td>-0.768938</td>\n",
       "    </tr>\n",
       "    <tr>\n",
       "      <th>4</th>\n",
       "      <td>0.003000</td>\n",
       "      <td>0.003997</td>\n",
       "      <td>-3.464018</td>\n",
       "      <td>-1.434489</td>\n",
       "    </tr>\n",
       "    <tr>\n",
       "      <th>5</th>\n",
       "      <td>0.002998</td>\n",
       "      <td>0.003996</td>\n",
       "      <td>-8.232647</td>\n",
       "      <td>-1.494316</td>\n",
       "    </tr>\n",
       "    <tr>\n",
       "      <th>6</th>\n",
       "      <td>0.003000</td>\n",
       "      <td>0.002998</td>\n",
       "      <td>-1.905864</td>\n",
       "      <td>-1.081362</td>\n",
       "    </tr>\n",
       "    <tr>\n",
       "      <th>7</th>\n",
       "      <td>0.004997</td>\n",
       "      <td>0.002997</td>\n",
       "      <td>-2.765048</td>\n",
       "      <td>-1.250011</td>\n",
       "    </tr>\n",
       "    <tr>\n",
       "      <th>8</th>\n",
       "      <td>0.004000</td>\n",
       "      <td>0.002998</td>\n",
       "      <td>-4.989505</td>\n",
       "      <td>-1.580971</td>\n",
       "    </tr>\n",
       "    <tr>\n",
       "      <th>9</th>\n",
       "      <td>0.005999</td>\n",
       "      <td>0.011004</td>\n",
       "      <td>-2.846438</td>\n",
       "      <td>-1.223326</td>\n",
       "    </tr>\n",
       "  </tbody>\n",
       "</table>\n",
       "</div>"
      ],
      "text/plain": [
       "   fit_time  score_time  test_neg_mean_squared_error  \\\n",
       "0  0.004000    0.005995                    -2.962508   \n",
       "1  0.002994    0.002999                    -3.057378   \n",
       "2  0.003999    0.003997                    -2.173740   \n",
       "3  0.002999    0.003999                    -0.833034   \n",
       "4  0.003000    0.003997                    -3.464018   \n",
       "5  0.002998    0.003996                    -8.232647   \n",
       "6  0.003000    0.002998                    -1.905864   \n",
       "7  0.004997    0.002997                    -2.765048   \n",
       "8  0.004000    0.002998                    -4.989505   \n",
       "9  0.005999    0.011004                    -2.846438   \n",
       "\n",
       "   test_neg_mean_absolute_error  \n",
       "0                     -1.457174  \n",
       "1                     -1.555308  \n",
       "2                     -1.238770  \n",
       "3                     -0.768938  \n",
       "4                     -1.434489  \n",
       "5                     -1.494316  \n",
       "6                     -1.081362  \n",
       "7                     -1.250011  \n",
       "8                     -1.580971  \n",
       "9                     -1.223326  "
      ]
     },
     "execution_count": 166,
     "metadata": {},
     "output_type": "execute_result"
    }
   ],
   "source": [
    "cross_validate_score_one"
   ]
  },
  {
   "cell_type": "code",
   "execution_count": 167,
   "id": "21e7f402",
   "metadata": {},
   "outputs": [
    {
     "data": {
      "text/plain": [
       "fit_time                        0.003799\n",
       "score_time                      0.004498\n",
       "test_neg_mean_squared_error    -3.323018\n",
       "test_neg_mean_absolute_error   -1.308467\n",
       "dtype: float64"
      ]
     },
     "execution_count": 167,
     "metadata": {},
     "output_type": "execute_result"
    }
   ],
   "source": [
    "cross_validate_score_one.mean()"
   ]
  },
  {
   "cell_type": "code",
   "execution_count": 168,
   "id": "8038ad6c",
   "metadata": {},
   "outputs": [],
   "source": [
    "model_two = Ridge(alpha=1)"
   ]
  },
  {
   "cell_type": "code",
   "execution_count": 169,
   "id": "6e8c61a0",
   "metadata": {},
   "outputs": [],
   "source": [
    "cross_validate_score_two = cross_validate(model_two, scaled_X_train, y_train,\n",
    "                                     scoring=['neg_mean_squared_error','neg_mean_absolute_error'],\n",
    "                                     cv=10)"
   ]
  },
  {
   "cell_type": "code",
   "execution_count": 170,
   "id": "659dd669",
   "metadata": {},
   "outputs": [
    {
     "data": {
      "text/plain": [
       "{'fit_time': array([0.00499368, 0.0039978 , 0.00499606, 0.00299716, 0.00299621,\n",
       "        0.00600338, 0.00299859, 0.00299811, 0.00199795, 0.00599694]),\n",
       " 'score_time': array([0.00399637, 0.00399709, 0.00299907, 0.00299811, 0.00200033,\n",
       "        0.00498915, 0.00499916, 0.00299764, 0.00200009, 0.00400019]),\n",
       " 'test_neg_mean_squared_error': array([-2.96250773, -3.05737833, -2.1737403 , -0.83303438, -3.46401792,\n",
       "        -8.2326467 , -1.90586431, -2.76504844, -4.98950515, -2.84643818]),\n",
       " 'test_neg_mean_absolute_error': array([-1.45717399, -1.5553078 , -1.23877012, -0.76893775, -1.43448944,\n",
       "        -1.4943158 , -1.08136203, -1.25001123, -1.58097132, -1.22332553])}"
      ]
     },
     "execution_count": 170,
     "metadata": {},
     "output_type": "execute_result"
    }
   ],
   "source": [
    "cross_validate_score_two"
   ]
  },
  {
   "cell_type": "code",
   "execution_count": 171,
   "id": "74ff4481",
   "metadata": {},
   "outputs": [],
   "source": [
    "cross_validate_score_two = pd.DataFrame(cross_validate_score)"
   ]
  },
  {
   "cell_type": "code",
   "execution_count": 172,
   "id": "5a1d7315",
   "metadata": {},
   "outputs": [
    {
     "data": {
      "text/html": [
       "<div>\n",
       "<style scoped>\n",
       "    .dataframe tbody tr th:only-of-type {\n",
       "        vertical-align: middle;\n",
       "    }\n",
       "\n",
       "    .dataframe tbody tr th {\n",
       "        vertical-align: top;\n",
       "    }\n",
       "\n",
       "    .dataframe thead th {\n",
       "        text-align: right;\n",
       "    }\n",
       "</style>\n",
       "<table border=\"1\" class=\"dataframe\">\n",
       "  <thead>\n",
       "    <tr style=\"text-align: right;\">\n",
       "      <th></th>\n",
       "      <th>fit_time</th>\n",
       "      <th>score_time</th>\n",
       "      <th>test_neg_mean_squared_error</th>\n",
       "      <th>test_neg_mean_absolute_error</th>\n",
       "    </tr>\n",
       "  </thead>\n",
       "  <tbody>\n",
       "    <tr>\n",
       "      <th>0</th>\n",
       "      <td>0.004000</td>\n",
       "      <td>0.005995</td>\n",
       "      <td>-2.962508</td>\n",
       "      <td>-1.457174</td>\n",
       "    </tr>\n",
       "    <tr>\n",
       "      <th>1</th>\n",
       "      <td>0.002994</td>\n",
       "      <td>0.002999</td>\n",
       "      <td>-3.057378</td>\n",
       "      <td>-1.555308</td>\n",
       "    </tr>\n",
       "    <tr>\n",
       "      <th>2</th>\n",
       "      <td>0.003999</td>\n",
       "      <td>0.003997</td>\n",
       "      <td>-2.173740</td>\n",
       "      <td>-1.238770</td>\n",
       "    </tr>\n",
       "    <tr>\n",
       "      <th>3</th>\n",
       "      <td>0.002999</td>\n",
       "      <td>0.003999</td>\n",
       "      <td>-0.833034</td>\n",
       "      <td>-0.768938</td>\n",
       "    </tr>\n",
       "    <tr>\n",
       "      <th>4</th>\n",
       "      <td>0.003000</td>\n",
       "      <td>0.003997</td>\n",
       "      <td>-3.464018</td>\n",
       "      <td>-1.434489</td>\n",
       "    </tr>\n",
       "    <tr>\n",
       "      <th>5</th>\n",
       "      <td>0.002998</td>\n",
       "      <td>0.003996</td>\n",
       "      <td>-8.232647</td>\n",
       "      <td>-1.494316</td>\n",
       "    </tr>\n",
       "    <tr>\n",
       "      <th>6</th>\n",
       "      <td>0.003000</td>\n",
       "      <td>0.002998</td>\n",
       "      <td>-1.905864</td>\n",
       "      <td>-1.081362</td>\n",
       "    </tr>\n",
       "    <tr>\n",
       "      <th>7</th>\n",
       "      <td>0.004997</td>\n",
       "      <td>0.002997</td>\n",
       "      <td>-2.765048</td>\n",
       "      <td>-1.250011</td>\n",
       "    </tr>\n",
       "    <tr>\n",
       "      <th>8</th>\n",
       "      <td>0.004000</td>\n",
       "      <td>0.002998</td>\n",
       "      <td>-4.989505</td>\n",
       "      <td>-1.580971</td>\n",
       "    </tr>\n",
       "    <tr>\n",
       "      <th>9</th>\n",
       "      <td>0.005999</td>\n",
       "      <td>0.011004</td>\n",
       "      <td>-2.846438</td>\n",
       "      <td>-1.223326</td>\n",
       "    </tr>\n",
       "  </tbody>\n",
       "</table>\n",
       "</div>"
      ],
      "text/plain": [
       "   fit_time  score_time  test_neg_mean_squared_error  \\\n",
       "0  0.004000    0.005995                    -2.962508   \n",
       "1  0.002994    0.002999                    -3.057378   \n",
       "2  0.003999    0.003997                    -2.173740   \n",
       "3  0.002999    0.003999                    -0.833034   \n",
       "4  0.003000    0.003997                    -3.464018   \n",
       "5  0.002998    0.003996                    -8.232647   \n",
       "6  0.003000    0.002998                    -1.905864   \n",
       "7  0.004997    0.002997                    -2.765048   \n",
       "8  0.004000    0.002998                    -4.989505   \n",
       "9  0.005999    0.011004                    -2.846438   \n",
       "\n",
       "   test_neg_mean_absolute_error  \n",
       "0                     -1.457174  \n",
       "1                     -1.555308  \n",
       "2                     -1.238770  \n",
       "3                     -0.768938  \n",
       "4                     -1.434489  \n",
       "5                     -1.494316  \n",
       "6                     -1.081362  \n",
       "7                     -1.250011  \n",
       "8                     -1.580971  \n",
       "9                     -1.223326  "
      ]
     },
     "execution_count": 172,
     "metadata": {},
     "output_type": "execute_result"
    }
   ],
   "source": [
    "cross_validate_score_two"
   ]
  },
  {
   "cell_type": "code",
   "execution_count": 173,
   "id": "01d917f9",
   "metadata": {},
   "outputs": [
    {
     "data": {
      "text/plain": [
       "fit_time                        0.003799\n",
       "score_time                      0.004498\n",
       "test_neg_mean_squared_error    -3.323018\n",
       "test_neg_mean_absolute_error   -1.308467\n",
       "dtype: float64"
      ]
     },
     "execution_count": 173,
     "metadata": {},
     "output_type": "execute_result"
    }
   ],
   "source": [
    "cross_validate_score_two.mean()"
   ]
  },
  {
   "cell_type": "markdown",
   "id": "b751d2d9",
   "metadata": {},
   "source": [
    "**Model with alpha = 1 seems to perform better**"
   ]
  },
  {
   "cell_type": "markdown",
   "id": "f9766934",
   "metadata": {},
   "source": [
    "**  **"
   ]
  },
  {
   "cell_type": "markdown",
   "id": "d98d707f",
   "metadata": {},
   "source": [
    "**CREATE THE FINAL MODEL**"
   ]
  },
  {
   "cell_type": "code",
   "execution_count": 174,
   "id": "a276b8b5",
   "metadata": {},
   "outputs": [],
   "source": [
    "final_model = Ridge(alpha=1)"
   ]
  },
  {
   "cell_type": "code",
   "execution_count": 175,
   "id": "fdc3b86f",
   "metadata": {},
   "outputs": [
    {
     "data": {
      "text/html": [
       "<style>#sk-container-id-7 {color: black;}#sk-container-id-7 pre{padding: 0;}#sk-container-id-7 div.sk-toggleable {background-color: white;}#sk-container-id-7 label.sk-toggleable__label {cursor: pointer;display: block;width: 100%;margin-bottom: 0;padding: 0.3em;box-sizing: border-box;text-align: center;}#sk-container-id-7 label.sk-toggleable__label-arrow:before {content: \"▸\";float: left;margin-right: 0.25em;color: #696969;}#sk-container-id-7 label.sk-toggleable__label-arrow:hover:before {color: black;}#sk-container-id-7 div.sk-estimator:hover label.sk-toggleable__label-arrow:before {color: black;}#sk-container-id-7 div.sk-toggleable__content {max-height: 0;max-width: 0;overflow: hidden;text-align: left;background-color: #f0f8ff;}#sk-container-id-7 div.sk-toggleable__content pre {margin: 0.2em;color: black;border-radius: 0.25em;background-color: #f0f8ff;}#sk-container-id-7 input.sk-toggleable__control:checked~div.sk-toggleable__content {max-height: 200px;max-width: 100%;overflow: auto;}#sk-container-id-7 input.sk-toggleable__control:checked~label.sk-toggleable__label-arrow:before {content: \"▾\";}#sk-container-id-7 div.sk-estimator input.sk-toggleable__control:checked~label.sk-toggleable__label {background-color: #d4ebff;}#sk-container-id-7 div.sk-label input.sk-toggleable__control:checked~label.sk-toggleable__label {background-color: #d4ebff;}#sk-container-id-7 input.sk-hidden--visually {border: 0;clip: rect(1px 1px 1px 1px);clip: rect(1px, 1px, 1px, 1px);height: 1px;margin: -1px;overflow: hidden;padding: 0;position: absolute;width: 1px;}#sk-container-id-7 div.sk-estimator {font-family: monospace;background-color: #f0f8ff;border: 1px dotted black;border-radius: 0.25em;box-sizing: border-box;margin-bottom: 0.5em;}#sk-container-id-7 div.sk-estimator:hover {background-color: #d4ebff;}#sk-container-id-7 div.sk-parallel-item::after {content: \"\";width: 100%;border-bottom: 1px solid gray;flex-grow: 1;}#sk-container-id-7 div.sk-label:hover label.sk-toggleable__label {background-color: #d4ebff;}#sk-container-id-7 div.sk-serial::before {content: \"\";position: absolute;border-left: 1px solid gray;box-sizing: border-box;top: 0;bottom: 0;left: 50%;z-index: 0;}#sk-container-id-7 div.sk-serial {display: flex;flex-direction: column;align-items: center;background-color: white;padding-right: 0.2em;padding-left: 0.2em;position: relative;}#sk-container-id-7 div.sk-item {position: relative;z-index: 1;}#sk-container-id-7 div.sk-parallel {display: flex;align-items: stretch;justify-content: center;background-color: white;position: relative;}#sk-container-id-7 div.sk-item::before, #sk-container-id-7 div.sk-parallel-item::before {content: \"\";position: absolute;border-left: 1px solid gray;box-sizing: border-box;top: 0;bottom: 0;left: 50%;z-index: -1;}#sk-container-id-7 div.sk-parallel-item {display: flex;flex-direction: column;z-index: 1;position: relative;background-color: white;}#sk-container-id-7 div.sk-parallel-item:first-child::after {align-self: flex-end;width: 50%;}#sk-container-id-7 div.sk-parallel-item:last-child::after {align-self: flex-start;width: 50%;}#sk-container-id-7 div.sk-parallel-item:only-child::after {width: 0;}#sk-container-id-7 div.sk-dashed-wrapped {border: 1px dashed gray;margin: 0 0.4em 0.5em 0.4em;box-sizing: border-box;padding-bottom: 0.4em;background-color: white;}#sk-container-id-7 div.sk-label label {font-family: monospace;font-weight: bold;display: inline-block;line-height: 1.2em;}#sk-container-id-7 div.sk-label-container {text-align: center;}#sk-container-id-7 div.sk-container {/* jupyter's `normalize.less` sets `[hidden] { display: none; }` but bootstrap.min.css set `[hidden] { display: none !important; }` so we also need the `!important` here to be able to override the default hidden behavior on the sphinx rendered scikit-learn.org. See: https://github.com/scikit-learn/scikit-learn/issues/21755 */display: inline-block !important;position: relative;}#sk-container-id-7 div.sk-text-repr-fallback {display: none;}</style><div id=\"sk-container-id-7\" class=\"sk-top-container\"><div class=\"sk-text-repr-fallback\"><pre>Ridge(alpha=1)</pre><b>In a Jupyter environment, please rerun this cell to show the HTML representation or trust the notebook. <br />On GitHub, the HTML representation is unable to render, please try loading this page with nbviewer.org.</b></div><div class=\"sk-container\" hidden><div class=\"sk-item\"><div class=\"sk-estimator sk-toggleable\"><input class=\"sk-toggleable__control sk-hidden--visually\" id=\"sk-estimator-id-7\" type=\"checkbox\" checked><label for=\"sk-estimator-id-7\" class=\"sk-toggleable__label sk-toggleable__label-arrow\">Ridge</label><div class=\"sk-toggleable__content\"><pre>Ridge(alpha=1)</pre></div></div></div></div></div>"
      ],
      "text/plain": [
       "Ridge(alpha=1)"
      ]
     },
     "execution_count": 175,
     "metadata": {},
     "output_type": "execute_result"
    }
   ],
   "source": [
    "final_model.fit(scaled_X_train,y_train)"
   ]
  },
  {
   "cell_type": "code",
   "execution_count": 176,
   "id": "b231f7d6",
   "metadata": {},
   "outputs": [
    {
     "data": {
      "text/plain": [
       "array([3.73961770e+00, 2.74477719e+00, 2.68837098e-03])"
      ]
     },
     "execution_count": 176,
     "metadata": {},
     "output_type": "execute_result"
    }
   ],
   "source": [
    "# obtain the model coefficient\n",
    "final_model.coef_"
   ]
  },
  {
   "cell_type": "code",
   "execution_count": 177,
   "id": "dd4c0720",
   "metadata": {},
   "outputs": [],
   "source": [
    "# predict on the scaled test data\n",
    "prediction = final_model.predict(scaled_X_test)"
   ]
  },
  {
   "cell_type": "code",
   "execution_count": 178,
   "id": "f6301e8a",
   "metadata": {},
   "outputs": [
    {
     "data": {
      "text/plain": [
       "array([15.73544249, 19.56177685, 11.47282584, 16.99614361,  9.19583919,\n",
       "        7.06034338, 20.24078477, 17.27047482,  9.7997058 , 19.18969381,\n",
       "       12.40827613, 13.88321006, 13.72330625, 21.24960621, 18.41451801,\n",
       "       10.00739858, 15.54023734,  7.72694272,  7.59886443, 20.3595504 ,\n",
       "        7.831815  , 18.21607253, 24.61611392, 22.77116018,  8.0117733 ,\n",
       "       12.667102  , 21.40567156,  8.10250725, 12.43158049, 12.53481984,\n",
       "       10.81678067, 19.21537816, 10.09192883,  6.76998079, 17.29636618,\n",
       "        7.81497124,  9.28808588,  8.31202002, 10.6122371 , 10.6533735 ,\n",
       "       13.05491413,  9.80364168, 10.24764859,  8.09836046, 11.58209801,\n",
       "       10.10783927,  9.025001  , 16.24936342, 13.26025422, 20.77690029,\n",
       "       12.51477346, 13.96784546, 17.53696507, 11.15686875, 12.57233878,\n",
       "        5.56009018, 23.21824128, 12.62301353, 18.72931877, 15.18197827])"
      ]
     },
     "execution_count": 178,
     "metadata": {},
     "output_type": "execute_result"
    }
   ],
   "source": [
    "prediction"
   ]
  },
  {
   "cell_type": "code",
   "execution_count": 179,
   "id": "4f0b7354",
   "metadata": {},
   "outputs": [],
   "source": [
    "# Evalaute the error metrics\n",
    "MAE = mean_absolute_error(y_test, prediction)\n",
    "MSE = mean_squared_error(y_test, prediction)\n",
    "RMSE = np.sqrt(MSE)"
   ]
  },
  {
   "cell_type": "code",
   "execution_count": 180,
   "id": "e4c4c3e3",
   "metadata": {},
   "outputs": [
    {
     "data": {
      "text/plain": [
       "1.2168768443580582"
      ]
     },
     "execution_count": 180,
     "metadata": {},
     "output_type": "execute_result"
    }
   ],
   "source": [
    "MAE"
   ]
  },
  {
   "cell_type": "code",
   "execution_count": 181,
   "id": "f8c38949",
   "metadata": {},
   "outputs": [
    {
     "data": {
      "text/plain": [
       "2.3190215794287514"
      ]
     },
     "execution_count": 181,
     "metadata": {},
     "output_type": "execute_result"
    }
   ],
   "source": [
    "MSE"
   ]
  },
  {
   "cell_type": "code",
   "execution_count": 182,
   "id": "c79bb28e",
   "metadata": {},
   "outputs": [
    {
     "data": {
      "text/plain": [
       "1.5228334050147283"
      ]
     },
     "execution_count": 182,
     "metadata": {},
     "output_type": "execute_result"
    }
   ],
   "source": [
    "RMSE"
   ]
  },
  {
   "cell_type": "code",
   "execution_count": 183,
   "id": "66e60ceb",
   "metadata": {},
   "outputs": [],
   "source": [
    "testing = final_model.fit(X,y)"
   ]
  },
  {
   "cell_type": "code",
   "execution_count": 157,
   "id": "0673421c",
   "metadata": {},
   "outputs": [
    {
     "data": {
      "text/html": [
       "<style>#sk-container-id-6 {color: black;}#sk-container-id-6 pre{padding: 0;}#sk-container-id-6 div.sk-toggleable {background-color: white;}#sk-container-id-6 label.sk-toggleable__label {cursor: pointer;display: block;width: 100%;margin-bottom: 0;padding: 0.3em;box-sizing: border-box;text-align: center;}#sk-container-id-6 label.sk-toggleable__label-arrow:before {content: \"▸\";float: left;margin-right: 0.25em;color: #696969;}#sk-container-id-6 label.sk-toggleable__label-arrow:hover:before {color: black;}#sk-container-id-6 div.sk-estimator:hover label.sk-toggleable__label-arrow:before {color: black;}#sk-container-id-6 div.sk-toggleable__content {max-height: 0;max-width: 0;overflow: hidden;text-align: left;background-color: #f0f8ff;}#sk-container-id-6 div.sk-toggleable__content pre {margin: 0.2em;color: black;border-radius: 0.25em;background-color: #f0f8ff;}#sk-container-id-6 input.sk-toggleable__control:checked~div.sk-toggleable__content {max-height: 200px;max-width: 100%;overflow: auto;}#sk-container-id-6 input.sk-toggleable__control:checked~label.sk-toggleable__label-arrow:before {content: \"▾\";}#sk-container-id-6 div.sk-estimator input.sk-toggleable__control:checked~label.sk-toggleable__label {background-color: #d4ebff;}#sk-container-id-6 div.sk-label input.sk-toggleable__control:checked~label.sk-toggleable__label {background-color: #d4ebff;}#sk-container-id-6 input.sk-hidden--visually {border: 0;clip: rect(1px 1px 1px 1px);clip: rect(1px, 1px, 1px, 1px);height: 1px;margin: -1px;overflow: hidden;padding: 0;position: absolute;width: 1px;}#sk-container-id-6 div.sk-estimator {font-family: monospace;background-color: #f0f8ff;border: 1px dotted black;border-radius: 0.25em;box-sizing: border-box;margin-bottom: 0.5em;}#sk-container-id-6 div.sk-estimator:hover {background-color: #d4ebff;}#sk-container-id-6 div.sk-parallel-item::after {content: \"\";width: 100%;border-bottom: 1px solid gray;flex-grow: 1;}#sk-container-id-6 div.sk-label:hover label.sk-toggleable__label {background-color: #d4ebff;}#sk-container-id-6 div.sk-serial::before {content: \"\";position: absolute;border-left: 1px solid gray;box-sizing: border-box;top: 0;bottom: 0;left: 50%;z-index: 0;}#sk-container-id-6 div.sk-serial {display: flex;flex-direction: column;align-items: center;background-color: white;padding-right: 0.2em;padding-left: 0.2em;position: relative;}#sk-container-id-6 div.sk-item {position: relative;z-index: 1;}#sk-container-id-6 div.sk-parallel {display: flex;align-items: stretch;justify-content: center;background-color: white;position: relative;}#sk-container-id-6 div.sk-item::before, #sk-container-id-6 div.sk-parallel-item::before {content: \"\";position: absolute;border-left: 1px solid gray;box-sizing: border-box;top: 0;bottom: 0;left: 50%;z-index: -1;}#sk-container-id-6 div.sk-parallel-item {display: flex;flex-direction: column;z-index: 1;position: relative;background-color: white;}#sk-container-id-6 div.sk-parallel-item:first-child::after {align-self: flex-end;width: 50%;}#sk-container-id-6 div.sk-parallel-item:last-child::after {align-self: flex-start;width: 50%;}#sk-container-id-6 div.sk-parallel-item:only-child::after {width: 0;}#sk-container-id-6 div.sk-dashed-wrapped {border: 1px dashed gray;margin: 0 0.4em 0.5em 0.4em;box-sizing: border-box;padding-bottom: 0.4em;background-color: white;}#sk-container-id-6 div.sk-label label {font-family: monospace;font-weight: bold;display: inline-block;line-height: 1.2em;}#sk-container-id-6 div.sk-label-container {text-align: center;}#sk-container-id-6 div.sk-container {/* jupyter's `normalize.less` sets `[hidden] { display: none; }` but bootstrap.min.css set `[hidden] { display: none !important; }` so we also need the `!important` here to be able to override the default hidden behavior on the sphinx rendered scikit-learn.org. See: https://github.com/scikit-learn/scikit-learn/issues/21755 */display: inline-block !important;position: relative;}#sk-container-id-6 div.sk-text-repr-fallback {display: none;}</style><div id=\"sk-container-id-6\" class=\"sk-top-container\"><div class=\"sk-text-repr-fallback\"><pre>Ridge(alpha=1)</pre><b>In a Jupyter environment, please rerun this cell to show the HTML representation or trust the notebook. <br />On GitHub, the HTML representation is unable to render, please try loading this page with nbviewer.org.</b></div><div class=\"sk-container\" hidden><div class=\"sk-item\"><div class=\"sk-estimator sk-toggleable\"><input class=\"sk-toggleable__control sk-hidden--visually\" id=\"sk-estimator-id-6\" type=\"checkbox\" checked><label for=\"sk-estimator-id-6\" class=\"sk-toggleable__label sk-toggleable__label-arrow\">Ridge</label><div class=\"sk-toggleable__content\"><pre>Ridge(alpha=1)</pre></div></div></div></div></div>"
      ],
      "text/plain": [
       "Ridge(alpha=1)"
      ]
     },
     "execution_count": 157,
     "metadata": {},
     "output_type": "execute_result"
    }
   ],
   "source": [
    "testing"
   ]
  },
  {
   "cell_type": "code",
   "execution_count": 184,
   "id": "e77cf670",
   "metadata": {},
   "outputs": [
    {
     "name": "stderr",
     "output_type": "stream",
     "text": [
      "C:\\Users\\User\\anaconda3\\envs\\tf\\lib\\site-packages\\sklearn\\base.py:464: UserWarning: X does not have valid feature names, but Ridge was fitted with feature names\n",
      "  warnings.warn(\n"
     ]
    },
    {
     "data": {
      "text/plain": [
       "array([16.67466403])"
      ]
     },
     "execution_count": 184,
     "metadata": {},
     "output_type": "execute_result"
    }
   ],
   "source": [
    "final_model.predict([[78,54,13.8]])"
   ]
  },
  {
   "cell_type": "code",
   "execution_count": null,
   "id": "92274dcf",
   "metadata": {},
   "outputs": [],
   "source": []
  }
 ],
 "metadata": {
  "kernelspec": {
   "display_name": "Python 3 (ipykernel)",
   "language": "python",
   "name": "python3"
  },
  "language_info": {
   "codemirror_mode": {
    "name": "ipython",
    "version": 3
   },
   "file_extension": ".py",
   "mimetype": "text/x-python",
   "name": "python",
   "nbconvert_exporter": "python",
   "pygments_lexer": "ipython3",
   "version": "3.11.3"
  }
 },
 "nbformat": 4,
 "nbformat_minor": 5
}
