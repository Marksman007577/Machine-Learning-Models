{
 "cells": [
  {
   "cell_type": "markdown",
   "id": "650c5743",
   "metadata": {},
   "source": [
    "**LASSO = Least Absolute Shrinkage and Selector Operator**"
   ]
  },
  {
   "cell_type": "markdown",
   "id": "08d253e9",
   "metadata": {},
   "source": [
    "**PREPARING THE DATA**"
   ]
  },
  {
   "cell_type": "code",
   "execution_count": 30,
   "id": "728adabc",
   "metadata": {},
   "outputs": [],
   "source": [
    "import pandas as pd\n",
    "import numpy as np\n",
    "import matplotlib.pyplot as plt\n",
    "import seaborn as sns\n",
    "import math\n",
    "\n",
    "from sklearn.preprocessing import PolynomialFeatures\n",
    "from sklearn.preprocessing import StandardScaler\n",
    "\n",
    "from sklearn.model_selection import train_test_split\n",
    "\n",
    "from sklearn.linear_model import LassoCV\n",
    "\n",
    "from sklearn.metrics import mean_absolute_error, mean_squared_error"
   ]
  },
  {
   "cell_type": "code",
   "execution_count": 3,
   "id": "4484c032",
   "metadata": {},
   "outputs": [],
   "source": [
    "# Read in the dataset\n",
    "df = pd.read_csv('Advertising.csv')"
   ]
  },
  {
   "cell_type": "code",
   "execution_count": 4,
   "id": "03e27c89",
   "metadata": {},
   "outputs": [
    {
     "data": {
      "text/html": [
       "<div>\n",
       "<style scoped>\n",
       "    .dataframe tbody tr th:only-of-type {\n",
       "        vertical-align: middle;\n",
       "    }\n",
       "\n",
       "    .dataframe tbody tr th {\n",
       "        vertical-align: top;\n",
       "    }\n",
       "\n",
       "    .dataframe thead th {\n",
       "        text-align: right;\n",
       "    }\n",
       "</style>\n",
       "<table border=\"1\" class=\"dataframe\">\n",
       "  <thead>\n",
       "    <tr style=\"text-align: right;\">\n",
       "      <th></th>\n",
       "      <th>TV</th>\n",
       "      <th>radio</th>\n",
       "      <th>newspaper</th>\n",
       "      <th>sales</th>\n",
       "    </tr>\n",
       "  </thead>\n",
       "  <tbody>\n",
       "    <tr>\n",
       "      <th>0</th>\n",
       "      <td>230.1</td>\n",
       "      <td>37.8</td>\n",
       "      <td>69.2</td>\n",
       "      <td>22.1</td>\n",
       "    </tr>\n",
       "    <tr>\n",
       "      <th>1</th>\n",
       "      <td>44.5</td>\n",
       "      <td>39.3</td>\n",
       "      <td>45.1</td>\n",
       "      <td>10.4</td>\n",
       "    </tr>\n",
       "    <tr>\n",
       "      <th>2</th>\n",
       "      <td>17.2</td>\n",
       "      <td>45.9</td>\n",
       "      <td>69.3</td>\n",
       "      <td>9.3</td>\n",
       "    </tr>\n",
       "    <tr>\n",
       "      <th>3</th>\n",
       "      <td>151.5</td>\n",
       "      <td>41.3</td>\n",
       "      <td>58.5</td>\n",
       "      <td>18.5</td>\n",
       "    </tr>\n",
       "    <tr>\n",
       "      <th>4</th>\n",
       "      <td>180.8</td>\n",
       "      <td>10.8</td>\n",
       "      <td>58.4</td>\n",
       "      <td>12.9</td>\n",
       "    </tr>\n",
       "    <tr>\n",
       "      <th>...</th>\n",
       "      <td>...</td>\n",
       "      <td>...</td>\n",
       "      <td>...</td>\n",
       "      <td>...</td>\n",
       "    </tr>\n",
       "    <tr>\n",
       "      <th>195</th>\n",
       "      <td>38.2</td>\n",
       "      <td>3.7</td>\n",
       "      <td>13.8</td>\n",
       "      <td>7.6</td>\n",
       "    </tr>\n",
       "    <tr>\n",
       "      <th>196</th>\n",
       "      <td>94.2</td>\n",
       "      <td>4.9</td>\n",
       "      <td>8.1</td>\n",
       "      <td>9.7</td>\n",
       "    </tr>\n",
       "    <tr>\n",
       "      <th>197</th>\n",
       "      <td>177.0</td>\n",
       "      <td>9.3</td>\n",
       "      <td>6.4</td>\n",
       "      <td>12.8</td>\n",
       "    </tr>\n",
       "    <tr>\n",
       "      <th>198</th>\n",
       "      <td>283.6</td>\n",
       "      <td>42.0</td>\n",
       "      <td>66.2</td>\n",
       "      <td>25.5</td>\n",
       "    </tr>\n",
       "    <tr>\n",
       "      <th>199</th>\n",
       "      <td>232.1</td>\n",
       "      <td>8.6</td>\n",
       "      <td>8.7</td>\n",
       "      <td>13.4</td>\n",
       "    </tr>\n",
       "  </tbody>\n",
       "</table>\n",
       "<p>200 rows × 4 columns</p>\n",
       "</div>"
      ],
      "text/plain": [
       "        TV  radio  newspaper  sales\n",
       "0    230.1   37.8       69.2   22.1\n",
       "1     44.5   39.3       45.1   10.4\n",
       "2     17.2   45.9       69.3    9.3\n",
       "3    151.5   41.3       58.5   18.5\n",
       "4    180.8   10.8       58.4   12.9\n",
       "..     ...    ...        ...    ...\n",
       "195   38.2    3.7       13.8    7.6\n",
       "196   94.2    4.9        8.1    9.7\n",
       "197  177.0    9.3        6.4   12.8\n",
       "198  283.6   42.0       66.2   25.5\n",
       "199  232.1    8.6        8.7   13.4\n",
       "\n",
       "[200 rows x 4 columns]"
      ]
     },
     "execution_count": 4,
     "metadata": {},
     "output_type": "execute_result"
    }
   ],
   "source": [
    "df"
   ]
  },
  {
   "cell_type": "code",
   "execution_count": 5,
   "id": "c19c0086",
   "metadata": {},
   "outputs": [],
   "source": [
    "# Seperate the features and label\n",
    "X = df.drop('sales', axis=1)\n",
    "y = df['sales']"
   ]
  },
  {
   "cell_type": "code",
   "execution_count": 6,
   "id": "e6355ee0",
   "metadata": {},
   "outputs": [
    {
     "data": {
      "text/html": [
       "<div>\n",
       "<style scoped>\n",
       "    .dataframe tbody tr th:only-of-type {\n",
       "        vertical-align: middle;\n",
       "    }\n",
       "\n",
       "    .dataframe tbody tr th {\n",
       "        vertical-align: top;\n",
       "    }\n",
       "\n",
       "    .dataframe thead th {\n",
       "        text-align: right;\n",
       "    }\n",
       "</style>\n",
       "<table border=\"1\" class=\"dataframe\">\n",
       "  <thead>\n",
       "    <tr style=\"text-align: right;\">\n",
       "      <th></th>\n",
       "      <th>TV</th>\n",
       "      <th>radio</th>\n",
       "      <th>newspaper</th>\n",
       "    </tr>\n",
       "  </thead>\n",
       "  <tbody>\n",
       "    <tr>\n",
       "      <th>0</th>\n",
       "      <td>230.1</td>\n",
       "      <td>37.8</td>\n",
       "      <td>69.2</td>\n",
       "    </tr>\n",
       "    <tr>\n",
       "      <th>1</th>\n",
       "      <td>44.5</td>\n",
       "      <td>39.3</td>\n",
       "      <td>45.1</td>\n",
       "    </tr>\n",
       "    <tr>\n",
       "      <th>2</th>\n",
       "      <td>17.2</td>\n",
       "      <td>45.9</td>\n",
       "      <td>69.3</td>\n",
       "    </tr>\n",
       "    <tr>\n",
       "      <th>3</th>\n",
       "      <td>151.5</td>\n",
       "      <td>41.3</td>\n",
       "      <td>58.5</td>\n",
       "    </tr>\n",
       "    <tr>\n",
       "      <th>4</th>\n",
       "      <td>180.8</td>\n",
       "      <td>10.8</td>\n",
       "      <td>58.4</td>\n",
       "    </tr>\n",
       "    <tr>\n",
       "      <th>...</th>\n",
       "      <td>...</td>\n",
       "      <td>...</td>\n",
       "      <td>...</td>\n",
       "    </tr>\n",
       "    <tr>\n",
       "      <th>195</th>\n",
       "      <td>38.2</td>\n",
       "      <td>3.7</td>\n",
       "      <td>13.8</td>\n",
       "    </tr>\n",
       "    <tr>\n",
       "      <th>196</th>\n",
       "      <td>94.2</td>\n",
       "      <td>4.9</td>\n",
       "      <td>8.1</td>\n",
       "    </tr>\n",
       "    <tr>\n",
       "      <th>197</th>\n",
       "      <td>177.0</td>\n",
       "      <td>9.3</td>\n",
       "      <td>6.4</td>\n",
       "    </tr>\n",
       "    <tr>\n",
       "      <th>198</th>\n",
       "      <td>283.6</td>\n",
       "      <td>42.0</td>\n",
       "      <td>66.2</td>\n",
       "    </tr>\n",
       "    <tr>\n",
       "      <th>199</th>\n",
       "      <td>232.1</td>\n",
       "      <td>8.6</td>\n",
       "      <td>8.7</td>\n",
       "    </tr>\n",
       "  </tbody>\n",
       "</table>\n",
       "<p>200 rows × 3 columns</p>\n",
       "</div>"
      ],
      "text/plain": [
       "        TV  radio  newspaper\n",
       "0    230.1   37.8       69.2\n",
       "1     44.5   39.3       45.1\n",
       "2     17.2   45.9       69.3\n",
       "3    151.5   41.3       58.5\n",
       "4    180.8   10.8       58.4\n",
       "..     ...    ...        ...\n",
       "195   38.2    3.7       13.8\n",
       "196   94.2    4.9        8.1\n",
       "197  177.0    9.3        6.4\n",
       "198  283.6   42.0       66.2\n",
       "199  232.1    8.6        8.7\n",
       "\n",
       "[200 rows x 3 columns]"
      ]
     },
     "execution_count": 6,
     "metadata": {},
     "output_type": "execute_result"
    }
   ],
   "source": [
    "X"
   ]
  },
  {
   "cell_type": "code",
   "execution_count": 7,
   "id": "a10eed28",
   "metadata": {},
   "outputs": [
    {
     "data": {
      "text/plain": [
       "0      22.1\n",
       "1      10.4\n",
       "2       9.3\n",
       "3      18.5\n",
       "4      12.9\n",
       "       ... \n",
       "195     7.6\n",
       "196     9.7\n",
       "197    12.8\n",
       "198    25.5\n",
       "199    13.4\n",
       "Name: sales, Length: 200, dtype: float64"
      ]
     },
     "execution_count": 7,
     "metadata": {},
     "output_type": "execute_result"
    }
   ],
   "source": [
    "y"
   ]
  },
  {
   "cell_type": "code",
   "execution_count": 9,
   "id": "393c160c",
   "metadata": {},
   "outputs": [],
   "source": [
    "# create the instance of the polyconverter\n",
    "poly_converter = PolynomialFeatures(degree=2, include_bias=False)"
   ]
  },
  {
   "cell_type": "code",
   "execution_count": 10,
   "id": "643453a5",
   "metadata": {},
   "outputs": [
    {
     "data": {
      "text/html": [
       "<style>#sk-container-id-1 {color: black;background-color: white;}#sk-container-id-1 pre{padding: 0;}#sk-container-id-1 div.sk-toggleable {background-color: white;}#sk-container-id-1 label.sk-toggleable__label {cursor: pointer;display: block;width: 100%;margin-bottom: 0;padding: 0.3em;box-sizing: border-box;text-align: center;}#sk-container-id-1 label.sk-toggleable__label-arrow:before {content: \"▸\";float: left;margin-right: 0.25em;color: #696969;}#sk-container-id-1 label.sk-toggleable__label-arrow:hover:before {color: black;}#sk-container-id-1 div.sk-estimator:hover label.sk-toggleable__label-arrow:before {color: black;}#sk-container-id-1 div.sk-toggleable__content {max-height: 0;max-width: 0;overflow: hidden;text-align: left;background-color: #f0f8ff;}#sk-container-id-1 div.sk-toggleable__content pre {margin: 0.2em;color: black;border-radius: 0.25em;background-color: #f0f8ff;}#sk-container-id-1 input.sk-toggleable__control:checked~div.sk-toggleable__content {max-height: 200px;max-width: 100%;overflow: auto;}#sk-container-id-1 input.sk-toggleable__control:checked~label.sk-toggleable__label-arrow:before {content: \"▾\";}#sk-container-id-1 div.sk-estimator input.sk-toggleable__control:checked~label.sk-toggleable__label {background-color: #d4ebff;}#sk-container-id-1 div.sk-label input.sk-toggleable__control:checked~label.sk-toggleable__label {background-color: #d4ebff;}#sk-container-id-1 input.sk-hidden--visually {border: 0;clip: rect(1px 1px 1px 1px);clip: rect(1px, 1px, 1px, 1px);height: 1px;margin: -1px;overflow: hidden;padding: 0;position: absolute;width: 1px;}#sk-container-id-1 div.sk-estimator {font-family: monospace;background-color: #f0f8ff;border: 1px dotted black;border-radius: 0.25em;box-sizing: border-box;margin-bottom: 0.5em;}#sk-container-id-1 div.sk-estimator:hover {background-color: #d4ebff;}#sk-container-id-1 div.sk-parallel-item::after {content: \"\";width: 100%;border-bottom: 1px solid gray;flex-grow: 1;}#sk-container-id-1 div.sk-label:hover label.sk-toggleable__label {background-color: #d4ebff;}#sk-container-id-1 div.sk-serial::before {content: \"\";position: absolute;border-left: 1px solid gray;box-sizing: border-box;top: 0;bottom: 0;left: 50%;z-index: 0;}#sk-container-id-1 div.sk-serial {display: flex;flex-direction: column;align-items: center;background-color: white;padding-right: 0.2em;padding-left: 0.2em;position: relative;}#sk-container-id-1 div.sk-item {position: relative;z-index: 1;}#sk-container-id-1 div.sk-parallel {display: flex;align-items: stretch;justify-content: center;background-color: white;position: relative;}#sk-container-id-1 div.sk-item::before, #sk-container-id-1 div.sk-parallel-item::before {content: \"\";position: absolute;border-left: 1px solid gray;box-sizing: border-box;top: 0;bottom: 0;left: 50%;z-index: -1;}#sk-container-id-1 div.sk-parallel-item {display: flex;flex-direction: column;z-index: 1;position: relative;background-color: white;}#sk-container-id-1 div.sk-parallel-item:first-child::after {align-self: flex-end;width: 50%;}#sk-container-id-1 div.sk-parallel-item:last-child::after {align-self: flex-start;width: 50%;}#sk-container-id-1 div.sk-parallel-item:only-child::after {width: 0;}#sk-container-id-1 div.sk-dashed-wrapped {border: 1px dashed gray;margin: 0 0.4em 0.5em 0.4em;box-sizing: border-box;padding-bottom: 0.4em;background-color: white;}#sk-container-id-1 div.sk-label label {font-family: monospace;font-weight: bold;display: inline-block;line-height: 1.2em;}#sk-container-id-1 div.sk-label-container {text-align: center;}#sk-container-id-1 div.sk-container {/* jupyter's `normalize.less` sets `[hidden] { display: none; }` but bootstrap.min.css set `[hidden] { display: none !important; }` so we also need the `!important` here to be able to override the default hidden behavior on the sphinx rendered scikit-learn.org. See: https://github.com/scikit-learn/scikit-learn/issues/21755 */display: inline-block !important;position: relative;}#sk-container-id-1 div.sk-text-repr-fallback {display: none;}</style><div id=\"sk-container-id-1\" class=\"sk-top-container\"><div class=\"sk-text-repr-fallback\"><pre>PolynomialFeatures(include_bias=False)</pre><b>In a Jupyter environment, please rerun this cell to show the HTML representation or trust the notebook. <br />On GitHub, the HTML representation is unable to render, please try loading this page with nbviewer.org.</b></div><div class=\"sk-container\" hidden><div class=\"sk-item\"><div class=\"sk-estimator sk-toggleable\"><input class=\"sk-toggleable__control sk-hidden--visually\" id=\"sk-estimator-id-1\" type=\"checkbox\" checked><label for=\"sk-estimator-id-1\" class=\"sk-toggleable__label sk-toggleable__label-arrow\">PolynomialFeatures</label><div class=\"sk-toggleable__content\"><pre>PolynomialFeatures(include_bias=False)</pre></div></div></div></div></div>"
      ],
      "text/plain": [
       "PolynomialFeatures(include_bias=False)"
      ]
     },
     "execution_count": 10,
     "metadata": {},
     "output_type": "execute_result"
    }
   ],
   "source": [
    "poly_converter"
   ]
  },
  {
   "cell_type": "code",
   "execution_count": 11,
   "id": "0f186c34",
   "metadata": {},
   "outputs": [],
   "source": [
    "# create the poly features by fitting and transforming the featueres using the poly converter\n",
    "poly_features = poly_converter.fit_transform(X)"
   ]
  },
  {
   "cell_type": "code",
   "execution_count": 12,
   "id": "c69e7dee",
   "metadata": {},
   "outputs": [
    {
     "data": {
      "text/plain": [
       "array([[ 230.1 ,   37.8 ,   69.2 , ..., 1428.84, 2615.76, 4788.64],\n",
       "       [  44.5 ,   39.3 ,   45.1 , ..., 1544.49, 1772.43, 2034.01],\n",
       "       [  17.2 ,   45.9 ,   69.3 , ..., 2106.81, 3180.87, 4802.49],\n",
       "       ...,\n",
       "       [ 177.  ,    9.3 ,    6.4 , ...,   86.49,   59.52,   40.96],\n",
       "       [ 283.6 ,   42.  ,   66.2 , ..., 1764.  , 2780.4 , 4382.44],\n",
       "       [ 232.1 ,    8.6 ,    8.7 , ...,   73.96,   74.82,   75.69]])"
      ]
     },
     "execution_count": 12,
     "metadata": {},
     "output_type": "execute_result"
    }
   ],
   "source": [
    "poly_features"
   ]
  },
  {
   "cell_type": "code",
   "execution_count": 14,
   "id": "890a3919",
   "metadata": {},
   "outputs": [],
   "source": [
    "#  Perform a train test split\n",
    "X_train, X_test, y_train, y_test = train_test_split(poly_features, y, test_size=0.30, random_state=101)"
   ]
  },
  {
   "cell_type": "code",
   "execution_count": 15,
   "id": "4d3c99dd",
   "metadata": {},
   "outputs": [
    {
     "data": {
      "text/plain": [
       "((140, 9), (60, 9), (140,), (60,))"
      ]
     },
     "execution_count": 15,
     "metadata": {},
     "output_type": "execute_result"
    }
   ],
   "source": [
    "X_train.shape, X_test.shape, y_train.shape, y_test.shape"
   ]
  },
  {
   "cell_type": "code",
   "execution_count": 17,
   "id": "a8a1e59b",
   "metadata": {},
   "outputs": [],
   "source": [
    "# create an instance of a scaler to avoid mismatch of data\n",
    "scaler = StandardScaler()"
   ]
  },
  {
   "cell_type": "code",
   "execution_count": 18,
   "id": "8100f716",
   "metadata": {},
   "outputs": [],
   "source": [
    "# fit the scaler instance to the train and test features\n",
    "scaled_X_train = scaler.fit_transform(X_train)\n",
    "scaled_X_test = scaler.transform(X_test)"
   ]
  },
  {
   "cell_type": "code",
   "execution_count": 19,
   "id": "8c658e66",
   "metadata": {},
   "outputs": [
    {
     "data": {
      "text/plain": [
       "array([[ 0.49300171, -0.33994238,  1.61586707, ..., -0.59023161,\n",
       "         0.41659155,  1.6137853 ],\n",
       "       [ 1.61337153,  1.32852213,  1.90079242, ...,  1.4978238 ,\n",
       "         2.46478013,  2.08205295],\n",
       "       [-0.84811893, -1.58789957, -1.02319564, ..., -1.05826214,\n",
       "        -0.90147492, -0.74882387],\n",
       "       ...,\n",
       "       [ 1.04606563, -1.30982215,  0.27064572, ..., -1.03502374,\n",
       "        -0.73652035, -0.03590138],\n",
       "       [ 0.74817069,  0.03987068, -1.26608283, ..., -0.26199091,\n",
       "        -0.79680416, -0.78714505],\n",
       "       [ 0.13813882,  0.55533126,  1.01799092, ...,  0.32216251,\n",
       "         0.92114819,  0.76625296]])"
      ]
     },
     "execution_count": 19,
     "metadata": {},
     "output_type": "execute_result"
    }
   ],
   "source": [
    "scaled_X_train"
   ]
  },
  {
   "cell_type": "code",
   "execution_count": 20,
   "id": "6f7a35dc",
   "metadata": {},
   "outputs": [
    {
     "data": {
      "text/plain": [
       "array([[-9.13394717e-01,  1.76259419e+00,  6.81685579e-01,\n",
       "        -9.63975055e-01,  1.52122095e-02, -2.93048209e-01,\n",
       "         2.31532893e+00,  1.56001049e+00,  3.69910106e-01],\n",
       "       [ 1.23121149e+00,  2.36559587e-01, -1.19601922e+00,\n",
       "         1.38103193e+00,  9.76521639e-01, -6.80562258e-01,\n",
       "        -5.79325829e-02, -7.40162021e-01, -7.79189389e-01],\n",
       "       [-4.60024728e-01, -4.07766136e-01,  3.50051150e-01,\n",
       "        -6.82242743e-01, -5.06457342e-01, -1.10940195e-01,\n",
       "        -6.39722074e-01, -1.69172158e-01,  3.57554301e-02],\n",
       "       [-4.96816533e-01,  1.65407618e+00,  9.47927303e-01,\n",
       "        -7.09383526e-01,  4.86260118e-01,  1.37061544e-01,\n",
       "         2.10033570e+00,  1.77735495e+00,  6.78908133e-01],\n",
       "       [-1.42610633e+00,  8.05649381e-02, -1.35015916e+00,\n",
       "        -1.14433859e+00, -8.66050574e-01, -9.38134722e-01,\n",
       "        -2.21679679e-01, -8.42466779e-01, -7.93375596e-01],\n",
       "       [-1.56971305e+00, -5.02719400e-01, -4.11306765e-01,\n",
       "        -1.16855131e+00, -1.00646472e+00, -8.68057421e-01,\n",
       "        -7.04363815e-01, -5.12448616e-01, -5.18444564e-01],\n",
       "       [ 1.31785025e+00,  3.65424731e-01, -7.10244842e-01,\n",
       "         1.52972027e+00,  1.18676500e+00, -1.45853473e-01,\n",
       "         8.83684313e-02, -4.02195423e-01, -6.54935860e-01],\n",
       "       [ 7.32741866e-01,  8.05649381e-02, -8.41030250e-01,\n",
       "         6.06967058e-01,  4.86622867e-01, -4.12296506e-01,\n",
       "        -2.21679679e-01, -5.50108281e-01, -7.00269193e-01],\n",
       "       [-1.34832642e-01, -1.45903442e+00, -1.03253746e+00,\n",
       "        -4.09499043e-01, -1.01971414e+00, -7.07951273e-01,\n",
       "        -1.05327162e+00, -8.82830439e-01, -7.50856056e-01],\n",
       "       [ 8.17006969e-01,  6.63849277e-01,  3.17354798e-01,\n",
       "         7.28079417e-01,  1.11265535e+00,  6.60390387e-01,\n",
       "         4.65491333e-01,  4.70453371e-01,  5.85887866e-03],\n",
       "       [-1.34896222e+00,  1.14539797e+00, -8.97081140e-01,\n",
       "        -1.12657876e+00, -6.37367465e-01, -8.64280823e-01,\n",
       "         1.18690477e+00, -3.78589987e-01, -7.17017961e-01],\n",
       "       [ 2.85306039e-01, -5.43413657e-01, -1.34081735e+00,\n",
       "         3.02762307e-02, -2.82363009e-01, -8.70167533e-01,\n",
       "        -7.30408519e-01, -8.61176676e-01, -7.92861967e-01],\n",
       "       [ 8.39556785e-01, -1.35729878e+00, -8.41030250e-01,\n",
       "         7.61162025e-01, -8.71715507e-01, -3.89555909e-01,\n",
       "        -1.04228142e+00, -8.52912048e-01, -7.00269193e-01],\n",
       "       [ 5.60651163e-01,  1.76259419e+00,  1.34962534e+00,\n",
       "         3.71937870e-01,  1.86991234e+00,  1.35033316e+00,\n",
       "         2.31532893e+00,  2.33023459e+00,  1.21377447e+00],\n",
       "       [ 4.98935877e-01,  8.13061549e-01,  2.07828691e+00,\n",
       "         2.91678804e-01,  9.72507215e-01,  1.87298499e+00,\n",
       "         6.74125454e-01,  2.01648401e+00,  2.39476362e+00],\n",
       "       [-1.26944445e+00,  1.61953450e-01, -4.90712191e-01,\n",
       "        -1.10479561e+00, -7.51675767e-01, -7.73893218e-01,\n",
       "        -1.38071200e-01, -3.21991458e-01, -5.59160820e-01],\n",
       "       [ 1.32022392e+00, -1.35051640e+00, -5.42092173e-01,\n",
       "         1.53385289e+00, -8.22142813e-01,  3.73095965e-02,\n",
       "        -1.04132755e+00, -8.27060553e-01, -5.83787092e-01],\n",
       "       [-6.64159906e-01, -1.49294630e+00, -1.10727197e+00,\n",
       "        -8.23296031e-01, -1.05979490e+00, -8.14907303e-01,\n",
       "        -1.05555260e+00, -8.90179198e-01, -7.65505645e-01],\n",
       "       [-1.20654233e+00, -8.01143946e-01, -5.93472155e-01,\n",
       "        -1.08506383e+00, -9.24967082e-01, -7.74051380e-01,\n",
       "        -8.72244332e-01, -6.68756941e-01, -6.07062297e-01],\n",
       "       [ 9.06019401e-01,  9.69056198e-01,  4.17712581e-02,\n",
       "         8.60319823e-01,  1.49807632e+00,  4.55753944e-01,\n",
       "         9.06550943e-01,  4.13887551e-01, -2.24386439e-01],\n",
       "       [-1.56733939e+00, -2.24641983e-01, -6.58864860e-01,\n",
       "        -1.16824466e+00, -9.81205292e-01, -8.87233589e-01,\n",
       "        -4.99752522e-01, -5.28912454e-01, -6.34731262e-01],\n",
       "       [ 2.33085412e-01,  1.10470372e+00,  3.08012983e-01,\n",
       "        -2.97474488e-02,  9.55467074e-01,  2.94122112e-01,\n",
       "         1.12054884e+00,  7.30396645e-01, -2.58250056e-03],\n",
       "       [ 1.48638046e+00,  1.72868231e+00,  4.99520188e-01,\n",
       "         1.83095202e+00,  2.99284767e+00,  1.28097723e+00,\n",
       "         2.24738322e+00,  1.32716168e+00,  1.79392867e-01],\n",
       "       [ 1.30123460e+00,  1.30817500e+00,  1.10206725e+00,\n",
       "         1.50087997e+00,  2.27251855e+00,  1.80535920e+00,\n",
       "         1.46228191e+00,  1.64517542e+00,  8.74383008e-01],\n",
       "       [-9.81044165e-01, -9.57138594e-01, -1.41088096e+00,\n",
       "        -9.96176257e-01, -9.06315730e-01, -9.39523461e-01,\n",
       "        -9.38697037e-01, -8.92348935e-01, -7.95625514e-01],\n",
       "       [ 5.71332655e-01, -1.37764591e+00,  1.63214852e-01,\n",
       "         3.86044693e-01, -9.13062864e-01,  3.81896188e-01,\n",
       "        -1.04497713e+00, -7.84527156e-01, -1.27712549e-01],\n",
       "       [ 1.68458148e+00,  2.90818595e-01, -1.36884279e+00,\n",
       "         2.20550442e+00,  1.35815188e+00, -8.49567908e-01,\n",
       "         2.45131861e-03, -8.47111544e-01, -7.94268863e-01],\n",
       "       [-1.09260641e+00, -7.74014442e-01,  5.60241985e-01,\n",
       "        -1.04369985e+00, -8.84097344e-01, -4.56037919e-01,\n",
       "        -8.59194331e-01, -3.37561233e-01,  2.41011586e-01],\n",
       "       [ 1.65435964e-01, -9.09661962e-01, -6.30839415e-01,\n",
       "        -1.05242125e-01, -5.99702011e-01, -3.89339883e-01,\n",
       "        -9.20020606e-01, -7.09578535e-01, -6.23141115e-01],\n",
       "       [-1.59582336e+00,  1.52521103e+00,  1.78401974e+00,\n",
       "        -1.17171682e+00, -8.61643172e-01, -7.21595631e-01,\n",
       "         1.85422430e+00,  2.56669237e+00,  1.88511535e+00],\n",
       "       [-1.51749242e+00,  7.92714421e-01,  1.62520888e+00,\n",
       "        -1.16107862e+00, -8.47768017e-01, -6.48983882e-01,\n",
       "         6.44887370e-01,  1.62053418e+00,  1.62847955e+00],\n",
       "       [ 8.08699142e-01,  6.84196405e-01,  6.53660134e-01,\n",
       "         7.15962638e-01,  1.12556317e+00,  9.60518050e-01,\n",
       "         4.93153464e-01,  7.45835581e-01,  3.39494343e-01],\n",
       "       [-2.06042588e-01, -1.25556314e+00, -1.01852473e+00,\n",
       "        -4.74271780e-01, -9.01367227e-01, -7.10595663e-01,\n",
       "        -1.02507035e+00, -8.51789018e-01, -7.47791031e-01],\n",
       "       [-1.64329666e+00, -5.09501776e-01,  8.63850969e-01,\n",
       "        -1.17649733e+00, -1.03685101e+00, -8.25218688e-01,\n",
       "        -7.08773720e-01, -4.16046775e-02,  5.77410597e-01],\n",
       "       [ 3.00734861e-01,  6.77414029e-01,  3.54722057e-01,\n",
       "         4.83018118e-02,  6.86787847e-01,  3.69710005e-01,\n",
       "         4.83905105e-01,  5.07851359e-01,  4.00710294e-02],\n",
       "       [-6.46357420e-01, -1.48616392e+00, -5.16468910e-02,\n",
       "        -8.11920702e-01, -1.05622182e+00, -3.89062135e-01,\n",
       "        -1.05515170e+00, -8.52410501e-01, -2.93614681e-01],\n",
       "       [-7.65040663e-01, -7.87579194e-01, -2.43154096e-01,\n",
       "        -8.84414588e-01, -7.89250534e-01, -5.15884845e-01,\n",
       "        -8.65774628e-01, -5.68251212e-01, -4.21569688e-01],\n",
       "       [-6.81962393e-01, -1.25556314e+00, -1.07457562e+00,\n",
       "        -8.34494449e-01, -9.60764377e-01, -8.04329743e-01,\n",
       "        -1.02507035e+00, -8.58200102e-01, -7.59448174e-01],\n",
       "       [-1.66109915e+00,  9.14797190e-01,  6.58331042e-01,\n",
       "        -1.17796568e+00, -9.69787762e-01, -8.49498471e-01,\n",
       "         8.24048397e-01,  9.17048585e-01,  3.44535722e-01],\n",
       "       [ 5.86210447e-02, -1.41155779e+00, -1.06523381e+00,\n",
       "        -2.19243085e-01, -9.77215051e-01, -7.00799268e-01,\n",
       "        -1.04891701e+00, -8.77945803e-01, -7.57616975e-01],\n",
       "       [-9.95286155e-01,  8.94450062e-01,  3.87191537e+00,\n",
       "        -1.00262994e+00, -3.50166871e-01,  5.39309726e-01,\n",
       "         7.93566139e-01,  3.64777770e+00,  6.45948870e+00],\n",
       "       [-1.44327301e-01, -1.44546967e+00, -2.10457744e-01,\n",
       "        -4.18298952e-01, -1.01173970e+00, -2.35780094e-01,\n",
       "        -1.05216569e+00, -8.40569622e-01, -4.01052447e-01],\n",
       "       [-6.58225744e-01, -5.84107913e-01,  3.64063872e-01,\n",
       "        -8.19523911e-01, -6.69906063e-01, -2.29708220e-01,\n",
       "        -7.55457885e-01, -2.73755686e-01,  4.87357255e-02],\n",
       "       [-1.57683405e+00, -1.16123967e-01,  9.01218229e-01,\n",
       "        -1.16945237e+00, -9.76973218e-01, -7.68743312e-01,\n",
       "        -4.07296585e-01,  2.90986641e-01,  6.22073979e-01],\n",
       "       [-8.93218565e-01,  2.22994835e-01, -4.11306765e-01,\n",
       "        -9.53876625e-01, -4.83658558e-01, -6.22887166e-01,\n",
       "        -7.27520753e-02, -2.52287278e-01, -5.18444564e-01],\n",
       "       [-9.78670500e-01, -1.97512479e-01, -5.98143063e-01,\n",
       "        -9.95089635e-01, -6.71465885e-01, -7.07245330e-01,\n",
       "        -4.77302097e-01, -4.92441238e-01, -6.09111230e-01],\n",
       "       [-1.73586959e+00,  4.40030868e-01, -1.01385383e+00,\n",
       "        -1.18220092e+00, -1.05148794e+00, -9.41710724e-01,\n",
       "         1.77630989e-01, -5.95029480e-01, -7.46747025e-01],\n",
       "       [ 8.96524741e-01, -5.16284152e-01,  8.77863692e-01,\n",
       "         8.46003460e-01, -1.51438485e-02,  1.23523758e+00,\n",
       "        -7.13155976e-01, -4.18445479e-02,  5.94075621e-01],\n",
       "       [ 3.45834493e-01, -8.55402954e-01,  1.27489083e+00,\n",
       "         1.01753865e-01, -5.10030422e-01,  1.08506863e+00,\n",
       "        -8.97017215e-01, -2.13788067e-01,  1.10801158e+00],\n",
       "       [ 5.19112028e-01,  1.64729380e+00,  1.01799092e+00,\n",
       "         3.17683431e-01,  1.71723122e+00,  1.04223761e+00,\n",
       "         2.08713363e+00,  1.84976313e+00,  7.66252959e-01],\n",
       "       [-1.27181811e+00,  1.07757421e+00,  6.53660134e-01,\n",
       "        -1.10549696e+00, -5.71634296e-01, -5.64400047e-01,\n",
       "         1.07686451e+00,  1.03104158e+00,  3.39494343e-01],\n",
       "       [ 6.55597758e-01, -1.01817998e+00, -2.19799559e-01,\n",
       "         4.99564850e-01, -5.74926244e-01,  1.02042182e-01,\n",
       "        -9.60718913e-01, -6.59685476e-01, -4.06970345e-01],\n",
       "       [ 1.52554593e+00, -9.02879586e-01, -4.53344932e-01,\n",
       "         1.90322693e+00, -2.44806381e-01,  2.05063452e-01,\n",
       "        -9.17241951e-01, -6.65813077e-01, -5.40402199e-01],\n",
       "       [-4.08990933e-01, -5.90890289e-01, -1.20069012e+00,\n",
       "        -6.43344898e-01, -5.79496884e-01, -8.29431196e-01,\n",
       "        -7.59536010e-01, -8.14925287e-01, -7.79797928e-01],\n",
       "       [ 5.71332655e-01, -1.41155779e+00, -4.62686747e-01,\n",
       "         3.86044693e-01, -9.43261731e-01, -1.34506320e-01,\n",
       "        -1.04891701e+00, -8.41376459e-01, -5.45158850e-01],\n",
       "       [-1.75129841e+00, -8.01143946e-01, -1.18667740e+00,\n",
       "        -1.18268644e+00, -1.08591888e+00, -9.46993718e-01,\n",
       "        -8.72244332e-01, -8.29382935e-01, -7.77938814e-01],\n",
       "       [ 1.36769722e+00,  1.38278114e+00, -1.21937375e+00,\n",
       "         1.61716582e+00,  2.43355196e+00, -6.94102461e-01,\n",
       "         1.59381872e+00, -6.62694760e-01, -7.82120423e-01],\n",
       "       [-1.33115973e+00,  1.19965698e+00, -1.18200649e+00,\n",
       "        -1.12200858e+00, -6.09541582e-01, -9.07312437e-01,\n",
       "         1.27692766e+00, -6.41564352e-01, -7.77296778e-01],\n",
       "       [ 1.35226840e+00, -2.31424359e-01, -1.43890640e+00,\n",
       "         1.58995113e+00,  5.05473731e-01, -9.36132624e-01,\n",
       "        -5.05296007e-01, -8.94932994e-01, -7.96027484e-01],\n",
       "       [ 2.78185045e-01, -6.18649585e-02,  1.84167208e-02,\n",
       "         2.20015490e-02,  9.06549638e-02,  1.12359354e-01,\n",
       "        -3.58414379e-01, -1.28710370e-01, -2.42112219e-01]])"
      ]
     },
     "execution_count": 20,
     "metadata": {},
     "output_type": "execute_result"
    }
   ],
   "source": [
    "scaled_X_test"
   ]
  },
  {
   "cell_type": "markdown",
   "id": "e71352b2",
   "metadata": {},
   "source": [
    "**CREATE THE MODEL**"
   ]
  },
  {
   "cell_type": "code",
   "execution_count": 22,
   "id": "c915a78d",
   "metadata": {},
   "outputs": [],
   "source": [
    "# create an instance of a LASSOCV model\n",
    "model = LassoCV(eps=0.001, n_alphas=100, cv=5, max_iter=1000000)"
   ]
  },
  {
   "cell_type": "code",
   "execution_count": 23,
   "id": "c546347c",
   "metadata": {},
   "outputs": [
    {
     "data": {
      "text/html": [
       "<style>#sk-container-id-2 {color: black;background-color: white;}#sk-container-id-2 pre{padding: 0;}#sk-container-id-2 div.sk-toggleable {background-color: white;}#sk-container-id-2 label.sk-toggleable__label {cursor: pointer;display: block;width: 100%;margin-bottom: 0;padding: 0.3em;box-sizing: border-box;text-align: center;}#sk-container-id-2 label.sk-toggleable__label-arrow:before {content: \"▸\";float: left;margin-right: 0.25em;color: #696969;}#sk-container-id-2 label.sk-toggleable__label-arrow:hover:before {color: black;}#sk-container-id-2 div.sk-estimator:hover label.sk-toggleable__label-arrow:before {color: black;}#sk-container-id-2 div.sk-toggleable__content {max-height: 0;max-width: 0;overflow: hidden;text-align: left;background-color: #f0f8ff;}#sk-container-id-2 div.sk-toggleable__content pre {margin: 0.2em;color: black;border-radius: 0.25em;background-color: #f0f8ff;}#sk-container-id-2 input.sk-toggleable__control:checked~div.sk-toggleable__content {max-height: 200px;max-width: 100%;overflow: auto;}#sk-container-id-2 input.sk-toggleable__control:checked~label.sk-toggleable__label-arrow:before {content: \"▾\";}#sk-container-id-2 div.sk-estimator input.sk-toggleable__control:checked~label.sk-toggleable__label {background-color: #d4ebff;}#sk-container-id-2 div.sk-label input.sk-toggleable__control:checked~label.sk-toggleable__label {background-color: #d4ebff;}#sk-container-id-2 input.sk-hidden--visually {border: 0;clip: rect(1px 1px 1px 1px);clip: rect(1px, 1px, 1px, 1px);height: 1px;margin: -1px;overflow: hidden;padding: 0;position: absolute;width: 1px;}#sk-container-id-2 div.sk-estimator {font-family: monospace;background-color: #f0f8ff;border: 1px dotted black;border-radius: 0.25em;box-sizing: border-box;margin-bottom: 0.5em;}#sk-container-id-2 div.sk-estimator:hover {background-color: #d4ebff;}#sk-container-id-2 div.sk-parallel-item::after {content: \"\";width: 100%;border-bottom: 1px solid gray;flex-grow: 1;}#sk-container-id-2 div.sk-label:hover label.sk-toggleable__label {background-color: #d4ebff;}#sk-container-id-2 div.sk-serial::before {content: \"\";position: absolute;border-left: 1px solid gray;box-sizing: border-box;top: 0;bottom: 0;left: 50%;z-index: 0;}#sk-container-id-2 div.sk-serial {display: flex;flex-direction: column;align-items: center;background-color: white;padding-right: 0.2em;padding-left: 0.2em;position: relative;}#sk-container-id-2 div.sk-item {position: relative;z-index: 1;}#sk-container-id-2 div.sk-parallel {display: flex;align-items: stretch;justify-content: center;background-color: white;position: relative;}#sk-container-id-2 div.sk-item::before, #sk-container-id-2 div.sk-parallel-item::before {content: \"\";position: absolute;border-left: 1px solid gray;box-sizing: border-box;top: 0;bottom: 0;left: 50%;z-index: -1;}#sk-container-id-2 div.sk-parallel-item {display: flex;flex-direction: column;z-index: 1;position: relative;background-color: white;}#sk-container-id-2 div.sk-parallel-item:first-child::after {align-self: flex-end;width: 50%;}#sk-container-id-2 div.sk-parallel-item:last-child::after {align-self: flex-start;width: 50%;}#sk-container-id-2 div.sk-parallel-item:only-child::after {width: 0;}#sk-container-id-2 div.sk-dashed-wrapped {border: 1px dashed gray;margin: 0 0.4em 0.5em 0.4em;box-sizing: border-box;padding-bottom: 0.4em;background-color: white;}#sk-container-id-2 div.sk-label label {font-family: monospace;font-weight: bold;display: inline-block;line-height: 1.2em;}#sk-container-id-2 div.sk-label-container {text-align: center;}#sk-container-id-2 div.sk-container {/* jupyter's `normalize.less` sets `[hidden] { display: none; }` but bootstrap.min.css set `[hidden] { display: none !important; }` so we also need the `!important` here to be able to override the default hidden behavior on the sphinx rendered scikit-learn.org. See: https://github.com/scikit-learn/scikit-learn/issues/21755 */display: inline-block !important;position: relative;}#sk-container-id-2 div.sk-text-repr-fallback {display: none;}</style><div id=\"sk-container-id-2\" class=\"sk-top-container\"><div class=\"sk-text-repr-fallback\"><pre>LassoCV(cv=5, max_iter=1000000)</pre><b>In a Jupyter environment, please rerun this cell to show the HTML representation or trust the notebook. <br />On GitHub, the HTML representation is unable to render, please try loading this page with nbviewer.org.</b></div><div class=\"sk-container\" hidden><div class=\"sk-item\"><div class=\"sk-estimator sk-toggleable\"><input class=\"sk-toggleable__control sk-hidden--visually\" id=\"sk-estimator-id-2\" type=\"checkbox\" checked><label for=\"sk-estimator-id-2\" class=\"sk-toggleable__label sk-toggleable__label-arrow\">LassoCV</label><div class=\"sk-toggleable__content\"><pre>LassoCV(cv=5, max_iter=1000000)</pre></div></div></div></div></div>"
      ],
      "text/plain": [
       "LassoCV(cv=5, max_iter=1000000)"
      ]
     },
     "execution_count": 23,
     "metadata": {},
     "output_type": "execute_result"
    }
   ],
   "source": [
    "# Fit the model to the scaled X train dataset\n",
    "model.fit(scaled_X_train, y_train)"
   ]
  },
  {
   "cell_type": "code",
   "execution_count": 24,
   "id": "87e6f384",
   "metadata": {},
   "outputs": [
    {
     "data": {
      "text/plain": [
       "0.008055973939899815"
      ]
     },
     "execution_count": 24,
     "metadata": {},
     "output_type": "execute_result"
    }
   ],
   "source": [
    "model.alpha_"
   ]
  },
  {
   "cell_type": "code",
   "execution_count": 25,
   "id": "90f5684f",
   "metadata": {},
   "outputs": [],
   "source": [
    "# predict on the test features\n",
    "pred = model.predict(scaled_X_test)"
   ]
  },
  {
   "cell_type": "code",
   "execution_count": 26,
   "id": "cff30d45",
   "metadata": {},
   "outputs": [
    {
     "data": {
      "text/plain": [
       "array([13.87628528, 19.35550387, 12.24477498, 16.65015716,  8.10143046,\n",
       "        7.06089346, 20.15647249, 17.47310322, 10.5342835 , 20.08192796,\n",
       "        9.57896502, 14.08364243, 12.03412927, 23.30395567, 19.63268911,\n",
       "        9.2321908 , 12.15115371,  9.29344723,  8.5071446 , 21.6137403 ,\n",
       "        7.19974658, 19.26623551, 27.29093125, 24.61509638,  9.13042581,\n",
       "       11.75391898, 20.50920042,  9.1564745 , 12.69501597,  8.61505399,\n",
       "        8.63748252, 20.15875802, 10.90888361,  6.87528275, 18.19721092,\n",
       "        9.4153843 , 10.31656845,  9.68295713,  7.48941617, 10.99751151,\n",
       "       12.58834252, 10.57903097, 11.14453412,  7.48220043, 11.39211864,\n",
       "       10.30759746,  6.3945454 , 15.50069149, 13.29570002, 22.62455777,\n",
       "       10.3910491 , 13.17238334, 14.30715922, 11.88271631, 11.63482165,\n",
       "        5.8650508 , 25.04637765,  9.69552461, 17.424648  , 15.68429569])"
      ]
     },
     "execution_count": 26,
     "metadata": {},
     "output_type": "execute_result"
    }
   ],
   "source": [
    "pred"
   ]
  },
  {
   "cell_type": "code",
   "execution_count": 27,
   "id": "a4bcfdae",
   "metadata": {},
   "outputs": [
    {
     "data": {
      "text/plain": [
       "array([ 4.0868354 ,  0.23218079,  0.12348967, -2.59304716,  3.7542211 ,\n",
       "       -0.16783813,  0.        ,  0.12717958, -0.        ])"
      ]
     },
     "execution_count": 27,
     "metadata": {},
     "output_type": "execute_result"
    }
   ],
   "source": [
    "# obtain the coefficient of the model\n",
    "model.coef_"
   ]
  },
  {
   "cell_type": "code",
   "execution_count": 28,
   "id": "046586e5",
   "metadata": {},
   "outputs": [],
   "source": [
    "# evaluate the error\n",
    "error = y_test - pred"
   ]
  },
  {
   "cell_type": "code",
   "execution_count": 29,
   "id": "165cc158",
   "metadata": {},
   "outputs": [
    {
     "data": {
      "text/plain": [
       "37     0.823715\n",
       "109    0.444496\n",
       "31    -0.344775\n",
       "89     0.049843\n",
       "66     1.398570\n",
       "119   -0.460893\n",
       "54     0.043528\n",
       "74    -0.473103\n",
       "145   -0.234283\n",
       "142    0.018072\n",
       "148    1.321035\n",
       "112    0.016358\n",
       "174   -0.534129\n",
       "55     0.396044\n",
       "141   -0.432689\n",
       "149    0.867809\n",
       "25    -0.151154\n",
       "34     0.206553\n",
       "170   -0.107145\n",
       "39    -0.113740\n",
       "172    0.400253\n",
       "153   -0.266236\n",
       "175   -0.290931\n",
       "61    -0.415096\n",
       "65     0.169574\n",
       "50    -0.353919\n",
       "42     0.190800\n",
       "129    0.543526\n",
       "179   -0.095016\n",
       "2      0.684946\n",
       "12     0.562517\n",
       "133   -0.558758\n",
       "90     0.291116\n",
       "22    -1.275283\n",
       "41    -1.097211\n",
       "32     0.184616\n",
       "125    0.283432\n",
       "196    0.017043\n",
       "158   -0.189416\n",
       "180   -0.497512\n",
       "16    -0.088343\n",
       "186   -0.279031\n",
       "144    0.255466\n",
       "121   -0.482200\n",
       "80     0.407881\n",
       "18     0.992403\n",
       "78    -1.094545\n",
       "48    -0.700691\n",
       "4     -0.395700\n",
       "15    -0.224558\n",
       "1      0.008951\n",
       "43    -0.272383\n",
       "102    0.492841\n",
       "164    0.017284\n",
       "9     -1.034822\n",
       "155   -2.665051\n",
       "36     0.353622\n",
       "190    1.104475\n",
       "33    -0.024648\n",
       "45    -0.784296\n",
       "Name: sales, dtype: float64"
      ]
     },
     "execution_count": 29,
     "metadata": {},
     "output_type": "execute_result"
    }
   ],
   "source": [
    "error"
   ]
  },
  {
   "cell_type": "code",
   "execution_count": 31,
   "id": "c939c69e",
   "metadata": {},
   "outputs": [],
   "source": [
    "# Evaluate the error metrics\n",
    "MAE = mean_absolute_error(y_test, pred)\n",
    "MSE = mean_squared_error(y_test, pred)\n",
    "RMSE = np.sqrt(MSE)"
   ]
  },
  {
   "cell_type": "code",
   "execution_count": 32,
   "id": "645e62d7",
   "metadata": {},
   "outputs": [
    {
     "data": {
      "text/plain": [
       "0.4747387484223056"
      ]
     },
     "execution_count": 32,
     "metadata": {},
     "output_type": "execute_result"
    }
   ],
   "source": [
    "MAE"
   ]
  },
  {
   "cell_type": "code",
   "execution_count": 33,
   "id": "6825e8ad",
   "metadata": {},
   "outputs": [
    {
     "data": {
      "text/plain": [
       "0.4323411131522269"
      ]
     },
     "execution_count": 33,
     "metadata": {},
     "output_type": "execute_result"
    }
   ],
   "source": [
    "MSE"
   ]
  },
  {
   "cell_type": "code",
   "execution_count": 34,
   "id": "6b0aa16e",
   "metadata": {},
   "outputs": [
    {
     "data": {
      "text/plain": [
       "0.6575265113683454"
      ]
     },
     "execution_count": 34,
     "metadata": {},
     "output_type": "execute_result"
    }
   ],
   "source": [
    "RMSE"
   ]
  },
  {
   "cell_type": "code",
   "execution_count": 35,
   "id": "ef23b411",
   "metadata": {},
   "outputs": [],
   "source": [
    "# Evaluate to find the optimal degree of the model\n",
    "train_rmse = []\n",
    "test_rmse = []\n",
    "\n",
    "for d in range(1, 10):\n",
    "    \n",
    "    poly_converter = PolynomialFeatures(degree=d, include_bias=False)\n",
    "    poly_features = poly_converter.fit_transform(X)\n",
    "    \n",
    "    X_train, X_test, y_train, y_test = train_test_split(poly_features, y, test_size=0.3, random_state=101)\n",
    "    \n",
    "    scaler = StandardScaler()\n",
    "    scaled_X_train = scaler.fit_transform(X_train)\n",
    "    scaled_X_test = scaler.transform(X_test)\n",
    "    \n",
    "    model = LassoCV(eps=0.001, n_alphas=100, cv=5, max_iter=1000000)\n",
    "    model.fit(scaled_X_train, y_train)\n",
    "    \n",
    "    train_pred = model.predict(scaled_X_train)\n",
    "    test_pred = model.predict(scaled_X_test)\n",
    "    \n",
    "    train_mse = mean_squared_error(y_train, train_pred)\n",
    "    test_mse = mean_squared_error(y_test, test_pred)\n",
    "    \n",
    "    trainrmse = np.sqrt(train_mse)\n",
    "    testrmse = np.sqrt(test_mse)\n",
    "    \n",
    "    train_rmse.append(trainrmse)\n",
    "    test_rmse.append(testrmse)"
   ]
  },
  {
   "cell_type": "code",
   "execution_count": 36,
   "id": "065d64a0",
   "metadata": {},
   "outputs": [
    {
     "data": {
      "text/plain": [
       "[1.7391103781994677,\n",
       " 0.593168672742689,\n",
       " 0.5153696476335766,\n",
       " 0.49493252872564025,\n",
       " 0.4948139762555465,\n",
       " 0.5024519619855718,\n",
       " 0.510318417455935,\n",
       " 0.501815322080928,\n",
       " 0.5098339637681596]"
      ]
     },
     "execution_count": 36,
     "metadata": {},
     "output_type": "execute_result"
    }
   ],
   "source": [
    "train_rmse"
   ]
  },
  {
   "cell_type": "code",
   "execution_count": 37,
   "id": "6396de5b",
   "metadata": {},
   "outputs": [
    {
     "data": {
      "text/plain": [
       "[1.542227525236632,\n",
       " 0.6575265113683454,\n",
       " 0.6063140748984039,\n",
       " 0.589236408649863,\n",
       " 0.5937432334795477,\n",
       " 0.6028443529819474,\n",
       " 0.6078013010734932,\n",
       " 0.6053603540288087,\n",
       " 0.6107871978806246]"
      ]
     },
     "execution_count": 37,
     "metadata": {},
     "output_type": "execute_result"
    }
   ],
   "source": [
    "test_rmse"
   ]
  },
  {
   "cell_type": "code",
   "execution_count": 38,
   "id": "3e7be209",
   "metadata": {},
   "outputs": [
    {
     "data": {
      "text/plain": [
       "<matplotlib.legend.Legend at 0x20d24e21b50>"
      ]
     },
     "execution_count": 38,
     "metadata": {},
     "output_type": "execute_result"
    },
    {
     "data": {
      "image/png": "[encoded data removed]",
      "text/plain": [
       "<Figure size 640x480 with 1 Axes>"
      ]
     },
     "metadata": {},
     "output_type": "display_data"
    }
   ],
   "source": [
    "# Visualize the errors\n",
    "plt.plot(range(1,6), train_rmse[:5], label='TRAIN RMSE')\n",
    "plt.plot(range(1,6), test_rmse[:5], label='TEST RMSE')\n",
    "plt.xlabel('Degree of Polynomial')\n",
    "plt.ylabel('RMSE')\n",
    "plt.legend()"
   ]
  },
  {
   "cell_type": "markdown",
   "id": "865491ef",
   "metadata": {},
   "source": [
    "**CREATE THE FINAL MODEL**"
   ]
  },
  {
   "cell_type": "code",
   "execution_count": 45,
   "id": "d3ffea56",
   "metadata": {},
   "outputs": [],
   "source": [
    "poly_converter = PolynomialFeatures(degree=3, include_bias=False)\n",
    "poly_features = poly_converter.fit_transform(X)\n",
    "\n",
    "X_train, X_test, y_train, y_test = train_test_split(poly_features, y, test_size=0.30, random_state=101)\n",
    "\n",
    "scaler = StandardScaler()\n",
    "scaled_X_train = scaler.fit_transform(X_train)\n",
    "scaled_X_test = scaler.transform(X_test)\n",
    "\n",
    "model_one = LassoCV(eps=0.001, n_alphas=100, cv=5, max_iter=1000000)\n",
    "model.fit(scaled_X_train, y_train)\n",
    "\n",
    "model.coef_\n",
    "\n",
    "pred = model.predict(scaled_X_test)\n",
    "\n",
    "MAE = mean_absolute_error(y_test, pred)\n",
    "MSE = mean_squared_error(y_test, pred)\n",
    "RMSE = np.sqrt(MSE)\n",
    "\n",
    "\n",
    "final_model = model.fit(X,y)"
   ]
  },
  {
   "cell_type": "code",
   "execution_count": 46,
   "id": "6335c811",
   "metadata": {},
   "outputs": [
    {
     "data": {
      "text/plain": [
       "array([14.16203485, 19.2942685 , 12.34178429, 16.97745571,  8.02340978,\n",
       "        6.95799942, 20.11875833, 17.32880647, 10.43139937, 19.96174466,\n",
       "        9.56959473, 13.94205676, 11.90851817, 23.35138146, 19.56656277,\n",
       "        9.27838151, 12.30485359,  9.30152997,  8.56733436, 21.51633564,\n",
       "        7.06650884, 19.3377222 , 27.28027149, 24.52239173,  9.17172464,\n",
       "       11.60918126, 20.73841405,  9.29953525, 12.56948515,  8.40051066,\n",
       "        8.56984613, 20.03587647, 10.83439653,  6.79505173, 18.18820331,\n",
       "        9.48107219, 10.41803957,  9.70785725,  7.22932328, 10.85467692,\n",
       "       12.85491418, 10.51648453, 11.26905127,  7.41516944, 11.54705407,\n",
       "       10.42233031,  6.02782344, 15.36338733, 13.18723611, 22.67619584,\n",
       "       10.4721906 , 13.01165791, 14.56684361, 11.90062303, 11.47303307,\n",
       "        5.59404766, 25.06115365,  9.69468957, 17.44771723, 15.60375637])"
      ]
     },
     "execution_count": 46,
     "metadata": {},
     "output_type": "execute_result"
    }
   ],
   "source": [
    "pred"
   ]
  },
  {
   "cell_type": "code",
   "execution_count": 47,
   "id": "d2de8a12",
   "metadata": {},
   "outputs": [
    {
     "data": {
      "text/plain": [
       "(0.43350346185900673, 0.36761675741990735, 0.6063140748984039)"
      ]
     },
     "execution_count": 47,
     "metadata": {},
     "output_type": "execute_result"
    }
   ],
   "source": [
    "MAE,MSE,RMSE"
   ]
  },
  {
   "cell_type": "code",
   "execution_count": 48,
   "id": "b87590ef",
   "metadata": {},
   "outputs": [
    {
     "name": "stderr",
     "output_type": "stream",
     "text": [
      "C:\\Users\\User\\anaconda3\\Lib\\site-packages\\sklearn\\base.py:439: UserWarning: X does not have valid feature names, but LassoCV was fitted with feature names\n",
      "  warnings.warn(\n"
     ]
    }
   ],
   "source": [
    "prediction = final_model.predict([[78,54,13.8]])"
   ]
  },
  {
   "cell_type": "code",
   "execution_count": 49,
   "id": "b9c88fbd",
   "metadata": {},
   "outputs": [
    {
     "data": {
      "text/plain": [
       "array([16.39461683])"
      ]
     },
     "execution_count": 49,
     "metadata": {},
     "output_type": "execute_result"
    }
   ],
   "source": [
    "prediction"
   ]
  },
  {
   "cell_type": "code",
   "execution_count": null,
   "id": "6fe957e4",
   "metadata": {},
   "outputs": [],
   "source": []
  }
 ],
 "metadata": {
  "kernelspec": {
   "display_name": "Python 3 (ipykernel)",
   "language": "python",
   "name": "python3"
  },
  "language_info": {
   "codemirror_mode": {
    "name": "ipython",
    "version": 3
   },
   "file_extension": ".py",
   "mimetype": "text/x-python",
   "name": "python",
   "nbconvert_exporter": "python",
   "pygments_lexer": "ipython3",
   "version": "3.11.3"
  }
 },
 "nbformat": 4,
 "nbformat_minor": 5
}
