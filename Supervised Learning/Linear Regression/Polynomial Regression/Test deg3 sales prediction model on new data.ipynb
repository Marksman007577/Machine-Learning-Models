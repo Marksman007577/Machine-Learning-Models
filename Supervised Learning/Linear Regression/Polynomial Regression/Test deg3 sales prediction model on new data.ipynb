{
 "cells": [
  {
   "cell_type": "code",
   "execution_count": 11,
   "id": "692680c7",
   "metadata": {},
   "outputs": [],
   "source": [
    "from joblib import dump, load"
   ]
  },
  {
   "cell_type": "code",
   "execution_count": 12,
   "id": "f2dd43d9",
   "metadata": {},
   "outputs": [],
   "source": [
    "loadedConverter = load(\"Degree3PolyConverter.joblib\")\n",
    "loadeDeg3Model = load(\"Degree3SalesPredictionModel.joblib\")"
   ]
  },
  {
   "cell_type": "code",
   "execution_count": 13,
   "id": "c2b710d3",
   "metadata": {},
   "outputs": [],
   "source": [
    "campaign = [[149, 22, 12]]"
   ]
  },
  {
   "cell_type": "code",
   "execution_count": 14,
   "id": "acf5a77a",
   "metadata": {},
   "outputs": [],
   "source": [
    "transformedFeatures = loadedConverter.fit_transform(campaign)"
   ]
  },
  {
   "cell_type": "code",
   "execution_count": 15,
   "id": "2a71f41a",
   "metadata": {},
   "outputs": [
    {
     "data": {
      "text/plain": [
       "array([[1.490000e+02, 2.200000e+01, 1.200000e+01, 2.220100e+04,\n",
       "        3.278000e+03, 1.788000e+03, 4.840000e+02, 2.640000e+02,\n",
       "        1.440000e+02, 3.307949e+06, 4.884220e+05, 2.664120e+05,\n",
       "        7.211600e+04, 3.933600e+04, 2.145600e+04, 1.064800e+04,\n",
       "        5.808000e+03, 3.168000e+03, 1.728000e+03]])"
      ]
     },
     "execution_count": 15,
     "metadata": {},
     "output_type": "execute_result"
    }
   ],
   "source": [
    "transformedFeatures"
   ]
  },
  {
   "cell_type": "code",
   "execution_count": 16,
   "id": "bed5e150",
   "metadata": {},
   "outputs": [
    {
     "data": {
      "text/plain": [
       "array([14.64501014])"
      ]
     },
     "execution_count": 16,
     "metadata": {},
     "output_type": "execute_result"
    }
   ],
   "source": [
    "loadeDeg3Model.predict(transformedFeatures)"
   ]
  },
  {
   "cell_type": "code",
   "execution_count": null,
   "id": "ad8a7ad0",
   "metadata": {},
   "outputs": [],
   "source": []
  }
 ],
 "metadata": {
  "kernelspec": {
   "display_name": "Python 3 (ipykernel)",
   "language": "python",
   "name": "python3"
  },
  "language_info": {
   "codemirror_mode": {
    "name": "ipython",
    "version": 3
   },
   "file_extension": ".py",
   "mimetype": "text/x-python",
   "name": "python",
   "nbconvert_exporter": "python",
   "pygments_lexer": "ipython3",
   "version": "3.9.15"
  }
 },
 "nbformat": 4,
 "nbformat_minor": 5
}
