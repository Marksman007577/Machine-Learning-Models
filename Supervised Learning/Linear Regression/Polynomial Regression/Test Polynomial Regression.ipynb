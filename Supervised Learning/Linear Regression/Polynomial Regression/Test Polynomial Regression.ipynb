{
 "cells": [
  {
   "cell_type": "markdown",
   "id": "7a7ad756",
   "metadata": {},
   "source": [
    "**POLYNOMIAL REGRESSION**"
   ]
  },
  {
   "cell_type": "code",
   "execution_count": 1,
   "id": "934a858e",
   "metadata": {},
   "outputs": [],
   "source": [
    "import numpy as np\n",
    "import pandas as pd\n",
    "import matplotlib.pyplot as plt\n",
    "import seaborn as sns\n",
    "import math\n",
    "\n",
    "from sklearn.preprocessing import PolynomialFeatures\n",
    "from sklearn.model_selection import train_test_split\n",
    "from sklearn.linear_model import LinearRegression\n",
    "\n",
    "from sklearn.metrics import mean_absolute_error, mean_squared_error\n",
    "\n",
    "from joblib import dump, load"
   ]
  },
  {
   "cell_type": "code",
   "execution_count": 2,
   "id": "2da5d516",
   "metadata": {},
   "outputs": [],
   "source": [
    "#Read in the data\n",
    "df = pd.read_csv('Advertising.csv')"
   ]
  },
  {
   "cell_type": "code",
   "execution_count": 3,
   "id": "96cd557b",
   "metadata": {},
   "outputs": [
    {
     "data": {
      "text/html": [
       "<div>\n",
       "<style scoped>\n",
       "    .dataframe tbody tr th:only-of-type {\n",
       "        vertical-align: middle;\n",
       "    }\n",
       "\n",
       "    .dataframe tbody tr th {\n",
       "        vertical-align: top;\n",
       "    }\n",
       "\n",
       "    .dataframe thead th {\n",
       "        text-align: right;\n",
       "    }\n",
       "</style>\n",
       "<table border=\"1\" class=\"dataframe\">\n",
       "  <thead>\n",
       "    <tr style=\"text-align: right;\">\n",
       "      <th></th>\n",
       "      <th>TV</th>\n",
       "      <th>radio</th>\n",
       "      <th>newspaper</th>\n",
       "      <th>sales</th>\n",
       "    </tr>\n",
       "  </thead>\n",
       "  <tbody>\n",
       "    <tr>\n",
       "      <th>0</th>\n",
       "      <td>230.1</td>\n",
       "      <td>37.8</td>\n",
       "      <td>69.2</td>\n",
       "      <td>22.1</td>\n",
       "    </tr>\n",
       "    <tr>\n",
       "      <th>1</th>\n",
       "      <td>44.5</td>\n",
       "      <td>39.3</td>\n",
       "      <td>45.1</td>\n",
       "      <td>10.4</td>\n",
       "    </tr>\n",
       "    <tr>\n",
       "      <th>2</th>\n",
       "      <td>17.2</td>\n",
       "      <td>45.9</td>\n",
       "      <td>69.3</td>\n",
       "      <td>9.3</td>\n",
       "    </tr>\n",
       "    <tr>\n",
       "      <th>3</th>\n",
       "      <td>151.5</td>\n",
       "      <td>41.3</td>\n",
       "      <td>58.5</td>\n",
       "      <td>18.5</td>\n",
       "    </tr>\n",
       "    <tr>\n",
       "      <th>4</th>\n",
       "      <td>180.8</td>\n",
       "      <td>10.8</td>\n",
       "      <td>58.4</td>\n",
       "      <td>12.9</td>\n",
       "    </tr>\n",
       "    <tr>\n",
       "      <th>...</th>\n",
       "      <td>...</td>\n",
       "      <td>...</td>\n",
       "      <td>...</td>\n",
       "      <td>...</td>\n",
       "    </tr>\n",
       "    <tr>\n",
       "      <th>195</th>\n",
       "      <td>38.2</td>\n",
       "      <td>3.7</td>\n",
       "      <td>13.8</td>\n",
       "      <td>7.6</td>\n",
       "    </tr>\n",
       "    <tr>\n",
       "      <th>196</th>\n",
       "      <td>94.2</td>\n",
       "      <td>4.9</td>\n",
       "      <td>8.1</td>\n",
       "      <td>9.7</td>\n",
       "    </tr>\n",
       "    <tr>\n",
       "      <th>197</th>\n",
       "      <td>177.0</td>\n",
       "      <td>9.3</td>\n",
       "      <td>6.4</td>\n",
       "      <td>12.8</td>\n",
       "    </tr>\n",
       "    <tr>\n",
       "      <th>198</th>\n",
       "      <td>283.6</td>\n",
       "      <td>42.0</td>\n",
       "      <td>66.2</td>\n",
       "      <td>25.5</td>\n",
       "    </tr>\n",
       "    <tr>\n",
       "      <th>199</th>\n",
       "      <td>232.1</td>\n",
       "      <td>8.6</td>\n",
       "      <td>8.7</td>\n",
       "      <td>13.4</td>\n",
       "    </tr>\n",
       "  </tbody>\n",
       "</table>\n",
       "<p>200 rows × 4 columns</p>\n",
       "</div>"
      ],
      "text/plain": [
       "        TV  radio  newspaper  sales\n",
       "0    230.1   37.8       69.2   22.1\n",
       "1     44.5   39.3       45.1   10.4\n",
       "2     17.2   45.9       69.3    9.3\n",
       "3    151.5   41.3       58.5   18.5\n",
       "4    180.8   10.8       58.4   12.9\n",
       "..     ...    ...        ...    ...\n",
       "195   38.2    3.7       13.8    7.6\n",
       "196   94.2    4.9        8.1    9.7\n",
       "197  177.0    9.3        6.4   12.8\n",
       "198  283.6   42.0       66.2   25.5\n",
       "199  232.1    8.6        8.7   13.4\n",
       "\n",
       "[200 rows x 4 columns]"
      ]
     },
     "execution_count": 3,
     "metadata": {},
     "output_type": "execute_result"
    }
   ],
   "source": [
    "df"
   ]
  },
  {
   "cell_type": "code",
   "execution_count": 4,
   "id": "1032b866",
   "metadata": {},
   "outputs": [
    {
     "data": {
      "text/plain": [
       "(200, 4)"
      ]
     },
     "execution_count": 4,
     "metadata": {},
     "output_type": "execute_result"
    }
   ],
   "source": [
    "df.shape"
   ]
  },
  {
   "cell_type": "code",
   "execution_count": 5,
   "id": "7b68f074",
   "metadata": {},
   "outputs": [],
   "source": [
    "# seperate features and label\n",
    "\n",
    "X = df.drop('sales', axis=1)\n",
    "y = df['sales']"
   ]
  },
  {
   "cell_type": "code",
   "execution_count": 6,
   "id": "4f6660d8",
   "metadata": {},
   "outputs": [
    {
     "data": {
      "text/html": [
       "<div>\n",
       "<style scoped>\n",
       "    .dataframe tbody tr th:only-of-type {\n",
       "        vertical-align: middle;\n",
       "    }\n",
       "\n",
       "    .dataframe tbody tr th {\n",
       "        vertical-align: top;\n",
       "    }\n",
       "\n",
       "    .dataframe thead th {\n",
       "        text-align: right;\n",
       "    }\n",
       "</style>\n",
       "<table border=\"1\" class=\"dataframe\">\n",
       "  <thead>\n",
       "    <tr style=\"text-align: right;\">\n",
       "      <th></th>\n",
       "      <th>TV</th>\n",
       "      <th>radio</th>\n",
       "      <th>newspaper</th>\n",
       "    </tr>\n",
       "  </thead>\n",
       "  <tbody>\n",
       "    <tr>\n",
       "      <th>0</th>\n",
       "      <td>230.1</td>\n",
       "      <td>37.8</td>\n",
       "      <td>69.2</td>\n",
       "    </tr>\n",
       "    <tr>\n",
       "      <th>1</th>\n",
       "      <td>44.5</td>\n",
       "      <td>39.3</td>\n",
       "      <td>45.1</td>\n",
       "    </tr>\n",
       "    <tr>\n",
       "      <th>2</th>\n",
       "      <td>17.2</td>\n",
       "      <td>45.9</td>\n",
       "      <td>69.3</td>\n",
       "    </tr>\n",
       "    <tr>\n",
       "      <th>3</th>\n",
       "      <td>151.5</td>\n",
       "      <td>41.3</td>\n",
       "      <td>58.5</td>\n",
       "    </tr>\n",
       "    <tr>\n",
       "      <th>4</th>\n",
       "      <td>180.8</td>\n",
       "      <td>10.8</td>\n",
       "      <td>58.4</td>\n",
       "    </tr>\n",
       "    <tr>\n",
       "      <th>...</th>\n",
       "      <td>...</td>\n",
       "      <td>...</td>\n",
       "      <td>...</td>\n",
       "    </tr>\n",
       "    <tr>\n",
       "      <th>195</th>\n",
       "      <td>38.2</td>\n",
       "      <td>3.7</td>\n",
       "      <td>13.8</td>\n",
       "    </tr>\n",
       "    <tr>\n",
       "      <th>196</th>\n",
       "      <td>94.2</td>\n",
       "      <td>4.9</td>\n",
       "      <td>8.1</td>\n",
       "    </tr>\n",
       "    <tr>\n",
       "      <th>197</th>\n",
       "      <td>177.0</td>\n",
       "      <td>9.3</td>\n",
       "      <td>6.4</td>\n",
       "    </tr>\n",
       "    <tr>\n",
       "      <th>198</th>\n",
       "      <td>283.6</td>\n",
       "      <td>42.0</td>\n",
       "      <td>66.2</td>\n",
       "    </tr>\n",
       "    <tr>\n",
       "      <th>199</th>\n",
       "      <td>232.1</td>\n",
       "      <td>8.6</td>\n",
       "      <td>8.7</td>\n",
       "    </tr>\n",
       "  </tbody>\n",
       "</table>\n",
       "<p>200 rows × 3 columns</p>\n",
       "</div>"
      ],
      "text/plain": [
       "        TV  radio  newspaper\n",
       "0    230.1   37.8       69.2\n",
       "1     44.5   39.3       45.1\n",
       "2     17.2   45.9       69.3\n",
       "3    151.5   41.3       58.5\n",
       "4    180.8   10.8       58.4\n",
       "..     ...    ...        ...\n",
       "195   38.2    3.7       13.8\n",
       "196   94.2    4.9        8.1\n",
       "197  177.0    9.3        6.4\n",
       "198  283.6   42.0       66.2\n",
       "199  232.1    8.6        8.7\n",
       "\n",
       "[200 rows x 3 columns]"
      ]
     },
     "execution_count": 6,
     "metadata": {},
     "output_type": "execute_result"
    }
   ],
   "source": [
    "X"
   ]
  },
  {
   "cell_type": "code",
   "execution_count": 7,
   "id": "7ac1aa0b",
   "metadata": {},
   "outputs": [
    {
     "data": {
      "text/plain": [
       "0      22.1\n",
       "1      10.4\n",
       "2       9.3\n",
       "3      18.5\n",
       "4      12.9\n",
       "       ... \n",
       "195     7.6\n",
       "196     9.7\n",
       "197    12.8\n",
       "198    25.5\n",
       "199    13.4\n",
       "Name: sales, Length: 200, dtype: float64"
      ]
     },
     "execution_count": 7,
     "metadata": {},
     "output_type": "execute_result"
    }
   ],
   "source": [
    "y"
   ]
  },
  {
   "cell_type": "code",
   "execution_count": 8,
   "id": "f33af240",
   "metadata": {},
   "outputs": [],
   "source": [
    "# obtain the polyfeature of X\n",
    "\n",
    "poly_converter = PolynomialFeatures(degree=2, include_bias=False)"
   ]
  },
  {
   "cell_type": "code",
   "execution_count": 9,
   "id": "5c0b4b3a",
   "metadata": {},
   "outputs": [
    {
     "data": {
      "text/html": [
       "<style>#sk-container-id-1 {color: black;}#sk-container-id-1 pre{padding: 0;}#sk-container-id-1 div.sk-toggleable {background-color: white;}#sk-container-id-1 label.sk-toggleable__label {cursor: pointer;display: block;width: 100%;margin-bottom: 0;padding: 0.3em;box-sizing: border-box;text-align: center;}#sk-container-id-1 label.sk-toggleable__label-arrow:before {content: \"▸\";float: left;margin-right: 0.25em;color: #696969;}#sk-container-id-1 label.sk-toggleable__label-arrow:hover:before {color: black;}#sk-container-id-1 div.sk-estimator:hover label.sk-toggleable__label-arrow:before {color: black;}#sk-container-id-1 div.sk-toggleable__content {max-height: 0;max-width: 0;overflow: hidden;text-align: left;background-color: #f0f8ff;}#sk-container-id-1 div.sk-toggleable__content pre {margin: 0.2em;color: black;border-radius: 0.25em;background-color: #f0f8ff;}#sk-container-id-1 input.sk-toggleable__control:checked~div.sk-toggleable__content {max-height: 200px;max-width: 100%;overflow: auto;}#sk-container-id-1 input.sk-toggleable__control:checked~label.sk-toggleable__label-arrow:before {content: \"▾\";}#sk-container-id-1 div.sk-estimator input.sk-toggleable__control:checked~label.sk-toggleable__label {background-color: #d4ebff;}#sk-container-id-1 div.sk-label input.sk-toggleable__control:checked~label.sk-toggleable__label {background-color: #d4ebff;}#sk-container-id-1 input.sk-hidden--visually {border: 0;clip: rect(1px 1px 1px 1px);clip: rect(1px, 1px, 1px, 1px);height: 1px;margin: -1px;overflow: hidden;padding: 0;position: absolute;width: 1px;}#sk-container-id-1 div.sk-estimator {font-family: monospace;background-color: #f0f8ff;border: 1px dotted black;border-radius: 0.25em;box-sizing: border-box;margin-bottom: 0.5em;}#sk-container-id-1 div.sk-estimator:hover {background-color: #d4ebff;}#sk-container-id-1 div.sk-parallel-item::after {content: \"\";width: 100%;border-bottom: 1px solid gray;flex-grow: 1;}#sk-container-id-1 div.sk-label:hover label.sk-toggleable__label {background-color: #d4ebff;}#sk-container-id-1 div.sk-serial::before {content: \"\";position: absolute;border-left: 1px solid gray;box-sizing: border-box;top: 0;bottom: 0;left: 50%;z-index: 0;}#sk-container-id-1 div.sk-serial {display: flex;flex-direction: column;align-items: center;background-color: white;padding-right: 0.2em;padding-left: 0.2em;position: relative;}#sk-container-id-1 div.sk-item {position: relative;z-index: 1;}#sk-container-id-1 div.sk-parallel {display: flex;align-items: stretch;justify-content: center;background-color: white;position: relative;}#sk-container-id-1 div.sk-item::before, #sk-container-id-1 div.sk-parallel-item::before {content: \"\";position: absolute;border-left: 1px solid gray;box-sizing: border-box;top: 0;bottom: 0;left: 50%;z-index: -1;}#sk-container-id-1 div.sk-parallel-item {display: flex;flex-direction: column;z-index: 1;position: relative;background-color: white;}#sk-container-id-1 div.sk-parallel-item:first-child::after {align-self: flex-end;width: 50%;}#sk-container-id-1 div.sk-parallel-item:last-child::after {align-self: flex-start;width: 50%;}#sk-container-id-1 div.sk-parallel-item:only-child::after {width: 0;}#sk-container-id-1 div.sk-dashed-wrapped {border: 1px dashed gray;margin: 0 0.4em 0.5em 0.4em;box-sizing: border-box;padding-bottom: 0.4em;background-color: white;}#sk-container-id-1 div.sk-label label {font-family: monospace;font-weight: bold;display: inline-block;line-height: 1.2em;}#sk-container-id-1 div.sk-label-container {text-align: center;}#sk-container-id-1 div.sk-container {/* jupyter's `normalize.less` sets `[hidden] { display: none; }` but bootstrap.min.css set `[hidden] { display: none !important; }` so we also need the `!important` here to be able to override the default hidden behavior on the sphinx rendered scikit-learn.org. See: https://github.com/scikit-learn/scikit-learn/issues/21755 */display: inline-block !important;position: relative;}#sk-container-id-1 div.sk-text-repr-fallback {display: none;}</style><div id=\"sk-container-id-1\" class=\"sk-top-container\"><div class=\"sk-text-repr-fallback\"><pre>PolynomialFeatures(include_bias=False)</pre><b>In a Jupyter environment, please rerun this cell to show the HTML representation or trust the notebook. <br />On GitHub, the HTML representation is unable to render, please try loading this page with nbviewer.org.</b></div><div class=\"sk-container\" hidden><div class=\"sk-item\"><div class=\"sk-estimator sk-toggleable\"><input class=\"sk-toggleable__control sk-hidden--visually\" id=\"sk-estimator-id-1\" type=\"checkbox\" checked><label for=\"sk-estimator-id-1\" class=\"sk-toggleable__label sk-toggleable__label-arrow\">PolynomialFeatures</label><div class=\"sk-toggleable__content\"><pre>PolynomialFeatures(include_bias=False)</pre></div></div></div></div></div>"
      ],
      "text/plain": [
       "PolynomialFeatures(include_bias=False)"
      ]
     },
     "execution_count": 9,
     "metadata": {},
     "output_type": "execute_result"
    }
   ],
   "source": [
    "poly_converter"
   ]
  },
  {
   "cell_type": "code",
   "execution_count": 10,
   "id": "74114cb5",
   "metadata": {},
   "outputs": [],
   "source": [
    "# fit to the X features\n",
    "X_poly_feat = poly_converter.fit_transform(X)"
   ]
  },
  {
   "cell_type": "code",
   "execution_count": 11,
   "id": "781f7c1b",
   "metadata": {},
   "outputs": [
    {
     "data": {
      "text/plain": [
       "array([[ 230.1 ,   37.8 ,   69.2 , ..., 1428.84, 2615.76, 4788.64],\n",
       "       [  44.5 ,   39.3 ,   45.1 , ..., 1544.49, 1772.43, 2034.01],\n",
       "       [  17.2 ,   45.9 ,   69.3 , ..., 2106.81, 3180.87, 4802.49],\n",
       "       ...,\n",
       "       [ 177.  ,    9.3 ,    6.4 , ...,   86.49,   59.52,   40.96],\n",
       "       [ 283.6 ,   42.  ,   66.2 , ..., 1764.  , 2780.4 , 4382.44],\n",
       "       [ 232.1 ,    8.6 ,    8.7 , ...,   73.96,   74.82,   75.69]])"
      ]
     },
     "execution_count": 11,
     "metadata": {},
     "output_type": "execute_result"
    }
   ],
   "source": [
    "X_poly_feat"
   ]
  },
  {
   "cell_type": "code",
   "execution_count": 12,
   "id": "12bafeb4",
   "metadata": {},
   "outputs": [
    {
     "data": {
      "text/plain": [
       "(200, 9)"
      ]
     },
     "execution_count": 12,
     "metadata": {},
     "output_type": "execute_result"
    }
   ],
   "source": [
    "X_poly_feat.shape"
   ]
  },
  {
   "cell_type": "code",
   "execution_count": 13,
   "id": "5e25a5e1",
   "metadata": {},
   "outputs": [],
   "source": [
    "# create the train test split\n",
    "X_train, X_test,y_train, y_test = train_test_split(X_poly_feat, y, test_size=0.3, random_state=101)"
   ]
  },
  {
   "cell_type": "code",
   "execution_count": 14,
   "id": "2e204b37",
   "metadata": {},
   "outputs": [
    {
     "data": {
      "text/plain": [
       "array([[1.93200e+02, 1.84000e+01, 6.57000e+01, ..., 3.38560e+02,\n",
       "        1.20888e+03, 4.31649e+03],\n",
       "       [2.87600e+02, 4.30000e+01, 7.18000e+01, ..., 1.84900e+03,\n",
       "        3.08740e+03, 5.15524e+03],\n",
       "       [8.02000e+01, 0.00000e+00, 9.20000e+00, ..., 0.00000e+00,\n",
       "        0.00000e+00, 8.46400e+01],\n",
       "       ...,\n",
       "       [2.39800e+02, 4.10000e+00, 3.69000e+01, ..., 1.68100e+01,\n",
       "        1.51290e+02, 1.36161e+03],\n",
       "       [2.14700e+02, 2.40000e+01, 4.00000e+00, ..., 5.76000e+02,\n",
       "        9.60000e+01, 1.60000e+01],\n",
       "       [1.63300e+02, 3.16000e+01, 5.29000e+01, ..., 9.98560e+02,\n",
       "        1.67164e+03, 2.79841e+03]])"
      ]
     },
     "execution_count": 14,
     "metadata": {},
     "output_type": "execute_result"
    }
   ],
   "source": [
    "X_train"
   ]
  },
  {
   "cell_type": "code",
   "execution_count": 15,
   "id": "a4309d83",
   "metadata": {},
   "outputs": [
    {
     "data": {
      "text/plain": [
       "array([[7.470000e+01, 4.940000e+01, 4.570000e+01, 5.580090e+03,\n",
       "        3.690180e+03, 3.413790e+03, 2.440360e+03, 2.257580e+03,\n",
       "        2.088490e+03],\n",
       "       [2.554000e+02, 2.690000e+01, 5.500000e+00, 6.522916e+04,\n",
       "        6.870260e+03, 1.404700e+03, 7.236100e+02, 1.479500e+02,\n",
       "        3.025000e+01],\n",
       "       [1.129000e+02, 1.740000e+01, 3.860000e+01, 1.274641e+04,\n",
       "        1.964460e+03, 4.357940e+03, 3.027600e+02, 6.716400e+02,\n",
       "        1.489960e+03],\n",
       "       [1.098000e+02, 4.780000e+01, 5.140000e+01, 1.205604e+04,\n",
       "        5.248440e+03, 5.643720e+03, 2.284840e+03, 2.456920e+03,\n",
       "        2.641960e+03],\n",
       "       [3.150000e+01, 2.460000e+01, 2.200000e+00, 9.922500e+02,\n",
       "        7.749000e+02, 6.930000e+01, 6.051600e+02, 5.412000e+01,\n",
       "        4.840000e+00],\n",
       "       [1.940000e+01, 1.600000e+01, 2.230000e+01, 3.763600e+02,\n",
       "        3.104000e+02, 4.326200e+02, 2.560000e+02, 3.568000e+02,\n",
       "        4.972900e+02],\n",
       "       [2.627000e+02, 2.880000e+01, 1.590000e+01, 6.901129e+04,\n",
       "        7.565760e+03, 4.176930e+03, 8.294400e+02, 4.579200e+02,\n",
       "        2.528100e+02],\n",
       "       [2.134000e+02, 2.460000e+01, 1.310000e+01, 4.553956e+04,\n",
       "        5.249640e+03, 2.795540e+03, 6.051600e+02, 3.222600e+02,\n",
       "        1.716100e+02],\n",
       "       [1.403000e+02, 1.900000e+00, 9.000000e+00, 1.968409e+04,\n",
       "        2.665700e+02, 1.262700e+03, 3.610000e+00, 1.710000e+01,\n",
       "        8.100000e+01],\n",
       "       [2.205000e+02, 3.320000e+01, 3.790000e+01, 4.862025e+04,\n",
       "        7.320600e+03, 8.356950e+03, 1.102240e+03, 1.258280e+03,\n",
       "        1.436410e+03],\n",
       "       [3.800000e+01, 4.030000e+01, 1.190000e+01, 1.444000e+03,\n",
       "        1.531400e+03, 4.522000e+02, 1.624090e+03, 4.795700e+02,\n",
       "        1.416100e+02],\n",
       "       [1.757000e+02, 1.540000e+01, 2.400000e+00, 3.087049e+04,\n",
       "        2.705780e+03, 4.216800e+02, 2.371600e+02, 3.696000e+01,\n",
       "        5.760000e+00],\n",
       "       [2.224000e+02, 3.400000e+00, 1.310000e+01, 4.946176e+04,\n",
       "        7.561600e+02, 2.913440e+03, 1.156000e+01, 4.454000e+01,\n",
       "        1.716100e+02],\n",
       "       [1.989000e+02, 4.940000e+01, 6.000000e+01, 3.956121e+04,\n",
       "        9.825660e+03, 1.193400e+04, 2.440360e+03, 2.964000e+03,\n",
       "        3.600000e+03],\n",
       "       [1.937000e+02, 3.540000e+01, 7.560000e+01, 3.751969e+04,\n",
       "        6.856980e+03, 1.464372e+04, 1.253160e+03, 2.676240e+03,\n",
       "        5.715360e+03],\n",
       "       [4.470000e+01, 2.580000e+01, 2.060000e+01, 1.998090e+03,\n",
       "        1.153260e+03, 9.208200e+02, 6.656400e+02, 5.314800e+02,\n",
       "        4.243600e+02],\n",
       "       [2.629000e+02, 3.500000e+00, 1.950000e+01, 6.911641e+04,\n",
       "        9.201500e+02, 5.126550e+03, 1.225000e+01, 6.825000e+01,\n",
       "        3.802500e+02],\n",
       "       [9.570000e+01, 1.400000e+00, 7.400000e+00, 9.158490e+03,\n",
       "        1.339800e+02, 7.081800e+02, 1.960000e+00, 1.036000e+01,\n",
       "        5.476000e+01],\n",
       "       [5.000000e+01, 1.160000e+01, 1.840000e+01, 2.500000e+03,\n",
       "        5.800000e+02, 9.200000e+02, 1.345600e+02, 2.134400e+02,\n",
       "        3.385600e+02],\n",
       "       [2.280000e+02, 3.770000e+01, 3.200000e+01, 5.198400e+04,\n",
       "        8.595600e+03, 7.296000e+03, 1.421290e+03, 1.206400e+03,\n",
       "        1.024000e+03],\n",
       "       [1.960000e+01, 2.010000e+01, 1.700000e+01, 3.841600e+02,\n",
       "        3.939600e+02, 3.332000e+02, 4.040100e+02, 3.417000e+02,\n",
       "        2.890000e+02],\n",
       "       [1.713000e+02, 3.970000e+01, 3.770000e+01, 2.934369e+04,\n",
       "        6.800610e+03, 6.458010e+03, 1.576090e+03, 1.496690e+03,\n",
       "        1.421290e+03],\n",
       "       [2.769000e+02, 4.890000e+01, 4.180000e+01, 7.667361e+04,\n",
       "        1.354041e+04, 1.157442e+04, 2.391210e+03, 2.044020e+03,\n",
       "        1.747240e+03],\n",
       "       [2.613000e+02, 4.270000e+01, 5.470000e+01, 6.827769e+04,\n",
       "        1.115751e+04, 1.429311e+04, 1.823290e+03, 2.335690e+03,\n",
       "        2.992090e+03],\n",
       "       [6.900000e+01, 9.300000e+00, 9.000000e-01, 4.761000e+03,\n",
       "        6.417000e+02, 6.210000e+01, 8.649000e+01, 8.370000e+00,\n",
       "        8.100000e-01],\n",
       "       [1.998000e+02, 3.100000e+00, 3.460000e+01, 3.992004e+04,\n",
       "        6.193800e+02, 6.913080e+03, 9.610000e+00, 1.072600e+02,\n",
       "        1.197160e+03],\n",
       "       [2.936000e+02, 2.770000e+01, 1.800000e+00, 8.620096e+04,\n",
       "        8.132720e+03, 5.284800e+02, 7.672900e+02, 4.986000e+01,\n",
       "        3.240000e+00],\n",
       "       [5.960000e+01, 1.200000e+01, 4.310000e+01, 3.552160e+03,\n",
       "        7.152000e+02, 2.568760e+03, 1.440000e+02, 5.172000e+02,\n",
       "        1.857610e+03],\n",
       "       [1.656000e+02, 1.000000e+01, 1.760000e+01, 2.742336e+04,\n",
       "        1.656000e+03, 2.914560e+03, 1.000000e+02, 1.760000e+02,\n",
       "        3.097600e+02],\n",
       "       [1.720000e+01, 4.590000e+01, 6.930000e+01, 2.958400e+02,\n",
       "        7.894800e+02, 1.191960e+03, 2.106810e+03, 3.180870e+03,\n",
       "        4.802490e+03],\n",
       "       [2.380000e+01, 3.510000e+01, 6.590000e+01, 5.664400e+02,\n",
       "        8.353800e+02, 1.568420e+03, 1.232010e+03, 2.313090e+03,\n",
       "        4.342810e+03],\n",
       "       [2.198000e+02, 3.350000e+01, 4.510000e+01, 4.831204e+04,\n",
       "        7.363300e+03, 9.912980e+03, 1.122250e+03, 1.510850e+03,\n",
       "        2.034010e+03],\n",
       "       [1.343000e+02, 4.900000e+00, 9.300000e+00, 1.803649e+04,\n",
       "        6.580700e+02, 1.248990e+03, 2.401000e+01, 4.557000e+01,\n",
       "        8.649000e+01],\n",
       "       [1.320000e+01, 1.590000e+01, 4.960000e+01, 1.742400e+02,\n",
       "        2.098800e+02, 6.547200e+02, 2.528100e+02, 7.886400e+02,\n",
       "        2.460160e+03],\n",
       "       [1.770000e+02, 3.340000e+01, 3.870000e+01, 3.132900e+04,\n",
       "        5.911800e+03, 6.849900e+03, 1.115560e+03, 1.292580e+03,\n",
       "        1.497690e+03],\n",
       "       [9.720000e+01, 1.500000e+00, 3.000000e+01, 9.447840e+03,\n",
       "        1.458000e+02, 2.916000e+03, 2.250000e+00, 4.500000e+01,\n",
       "        9.000000e+02],\n",
       "       [8.720000e+01, 1.180000e+01, 2.590000e+01, 7.603840e+03,\n",
       "        1.028960e+03, 2.258480e+03, 1.392400e+02, 3.056200e+02,\n",
       "        6.708100e+02],\n",
       "       [9.420000e+01, 4.900000e+00, 8.100000e+00, 8.873640e+03,\n",
       "        4.615800e+02, 7.630200e+02, 2.401000e+01, 3.969000e+01,\n",
       "        6.561000e+01],\n",
       "       [1.170000e+01, 3.690000e+01, 4.520000e+01, 1.368900e+02,\n",
       "        4.317300e+02, 5.288400e+02, 1.361610e+03, 1.667880e+03,\n",
       "        2.043040e+03],\n",
       "       [1.566000e+02, 2.600000e+00, 8.300000e+00, 2.452356e+04,\n",
       "        4.071600e+02, 1.299780e+03, 6.760000e+00, 2.158000e+01,\n",
       "        6.889000e+01],\n",
       "       [6.780000e+01, 3.660000e+01, 1.140000e+02, 4.596840e+03,\n",
       "        2.481480e+03, 7.729200e+03, 1.339560e+03, 4.172400e+03,\n",
       "        1.299600e+04],\n",
       "       [1.395000e+02, 2.100000e+00, 2.660000e+01, 1.946025e+04,\n",
       "        2.929500e+02, 3.710700e+03, 4.410000e+00, 5.586000e+01,\n",
       "        7.075600e+02],\n",
       "       [9.620000e+01, 1.480000e+01, 3.890000e+01, 9.254440e+03,\n",
       "        1.423760e+03, 3.742180e+03, 2.190400e+02, 5.757200e+02,\n",
       "        1.513210e+03],\n",
       "       [1.880000e+01, 2.170000e+01, 5.040000e+01, 3.534400e+02,\n",
       "        4.079600e+02, 9.475200e+02, 4.708900e+02, 1.093680e+03,\n",
       "        2.540160e+03],\n",
       "       [7.640000e+01, 2.670000e+01, 2.230000e+01, 5.836960e+03,\n",
       "        2.039880e+03, 1.703720e+03, 7.128900e+02, 5.954100e+02,\n",
       "        4.972900e+02],\n",
       "       [6.920000e+01, 2.050000e+01, 1.830000e+01, 4.788640e+03,\n",
       "        1.418600e+03, 1.266360e+03, 4.202500e+02, 3.751500e+02,\n",
       "        3.348900e+02],\n",
       "       [5.400000e+00, 2.990000e+01, 9.400000e+00, 2.916000e+01,\n",
       "        1.614600e+02, 5.076000e+01, 8.940100e+02, 2.810600e+02,\n",
       "        8.836000e+01],\n",
       "       [2.272000e+02, 1.580000e+01, 4.990000e+01, 5.161984e+04,\n",
       "        3.589760e+03, 1.133728e+04, 2.496400e+02, 7.884200e+02,\n",
       "        2.490010e+03],\n",
       "       [1.808000e+02, 1.080000e+01, 5.840000e+01, 3.268864e+04,\n",
       "        1.952640e+03, 1.055872e+04, 1.166400e+02, 6.307200e+02,\n",
       "        3.410560e+03],\n",
       "       [1.954000e+02, 4.770000e+01, 5.290000e+01, 3.818116e+04,\n",
       "        9.320580e+03, 1.033666e+04, 2.275290e+03, 2.523330e+03,\n",
       "        2.798410e+03],\n",
       "       [4.450000e+01, 3.930000e+01, 4.510000e+01, 1.980250e+03,\n",
       "        1.748850e+03, 2.006950e+03, 1.544490e+03, 1.772430e+03,\n",
       "        2.034010e+03],\n",
       "       [2.069000e+02, 8.400000e+00, 2.640000e+01, 4.280761e+04,\n",
       "        1.737960e+03, 5.462160e+03, 7.056000e+01, 2.217600e+02,\n",
       "        6.969600e+02],\n",
       "       [2.802000e+02, 1.010000e+01, 2.140000e+01, 7.851204e+04,\n",
       "        2.830020e+03, 5.996280e+03, 1.020100e+02, 2.161400e+02,\n",
       "        4.579600e+02],\n",
       "       [1.172000e+02, 1.470000e+01, 5.400000e+00, 1.373584e+04,\n",
       "        1.722840e+03, 6.328800e+02, 2.160900e+02, 7.938000e+01,\n",
       "        2.916000e+01],\n",
       "       [1.998000e+02, 2.600000e+00, 2.120000e+01, 3.992004e+04,\n",
       "        5.194800e+02, 4.235760e+03, 6.760000e+00, 5.512000e+01,\n",
       "        4.494400e+02],\n",
       "       [4.100000e+00, 1.160000e+01, 5.700000e+00, 1.681000e+01,\n",
       "        4.756000e+01, 2.337000e+01, 1.345600e+02, 6.612000e+01,\n",
       "        3.249000e+01],\n",
       "       [2.669000e+02, 4.380000e+01, 5.000000e+00, 7.123561e+04,\n",
       "        1.169022e+04, 1.334500e+03, 1.918440e+03, 2.190000e+02,\n",
       "        2.500000e+01],\n",
       "       [3.950000e+01, 4.110000e+01, 5.800000e+00, 1.560250e+03,\n",
       "        1.623450e+03, 2.291000e+02, 1.689210e+03, 2.383800e+02,\n",
       "        3.364000e+01],\n",
       "       [2.656000e+02, 2.000000e+01, 3.000000e-01, 7.054336e+04,\n",
       "        5.312000e+03, 7.968000e+01, 4.000000e+02, 6.000000e+00,\n",
       "        9.000000e-02],\n",
       "       [1.751000e+02, 2.250000e+01, 3.150000e+01, 3.066001e+04,\n",
       "        3.939750e+03, 5.515650e+03, 5.062500e+02, 7.087500e+02,\n",
       "        9.922500e+02]])"
      ]
     },
     "execution_count": 15,
     "metadata": {},
     "output_type": "execute_result"
    }
   ],
   "source": [
    "X_test"
   ]
  },
  {
   "cell_type": "code",
   "execution_count": 16,
   "id": "de06cdab",
   "metadata": {},
   "outputs": [
    {
     "data": {
      "text/plain": [
       "(140, 9)"
      ]
     },
     "execution_count": 16,
     "metadata": {},
     "output_type": "execute_result"
    }
   ],
   "source": [
    "X_train.shape"
   ]
  },
  {
   "cell_type": "code",
   "execution_count": 17,
   "id": "15af02aa",
   "metadata": {},
   "outputs": [
    {
     "data": {
      "text/plain": [
       "(60, 9)"
      ]
     },
     "execution_count": 17,
     "metadata": {},
     "output_type": "execute_result"
    }
   ],
   "source": [
    "X_test.shape"
   ]
  },
  {
   "cell_type": "code",
   "execution_count": 18,
   "id": "eaeb3710",
   "metadata": {},
   "outputs": [],
   "source": [
    "# create the instance of the model\n",
    "model = LinearRegression()"
   ]
  },
  {
   "cell_type": "code",
   "execution_count": 19,
   "id": "77584f6a",
   "metadata": {},
   "outputs": [
    {
     "data": {
      "text/html": [
       "<style>#sk-container-id-2 {color: black;}#sk-container-id-2 pre{padding: 0;}#sk-container-id-2 div.sk-toggleable {background-color: white;}#sk-container-id-2 label.sk-toggleable__label {cursor: pointer;display: block;width: 100%;margin-bottom: 0;padding: 0.3em;box-sizing: border-box;text-align: center;}#sk-container-id-2 label.sk-toggleable__label-arrow:before {content: \"▸\";float: left;margin-right: 0.25em;color: #696969;}#sk-container-id-2 label.sk-toggleable__label-arrow:hover:before {color: black;}#sk-container-id-2 div.sk-estimator:hover label.sk-toggleable__label-arrow:before {color: black;}#sk-container-id-2 div.sk-toggleable__content {max-height: 0;max-width: 0;overflow: hidden;text-align: left;background-color: #f0f8ff;}#sk-container-id-2 div.sk-toggleable__content pre {margin: 0.2em;color: black;border-radius: 0.25em;background-color: #f0f8ff;}#sk-container-id-2 input.sk-toggleable__control:checked~div.sk-toggleable__content {max-height: 200px;max-width: 100%;overflow: auto;}#sk-container-id-2 input.sk-toggleable__control:checked~label.sk-toggleable__label-arrow:before {content: \"▾\";}#sk-container-id-2 div.sk-estimator input.sk-toggleable__control:checked~label.sk-toggleable__label {background-color: #d4ebff;}#sk-container-id-2 div.sk-label input.sk-toggleable__control:checked~label.sk-toggleable__label {background-color: #d4ebff;}#sk-container-id-2 input.sk-hidden--visually {border: 0;clip: rect(1px 1px 1px 1px);clip: rect(1px, 1px, 1px, 1px);height: 1px;margin: -1px;overflow: hidden;padding: 0;position: absolute;width: 1px;}#sk-container-id-2 div.sk-estimator {font-family: monospace;background-color: #f0f8ff;border: 1px dotted black;border-radius: 0.25em;box-sizing: border-box;margin-bottom: 0.5em;}#sk-container-id-2 div.sk-estimator:hover {background-color: #d4ebff;}#sk-container-id-2 div.sk-parallel-item::after {content: \"\";width: 100%;border-bottom: 1px solid gray;flex-grow: 1;}#sk-container-id-2 div.sk-label:hover label.sk-toggleable__label {background-color: #d4ebff;}#sk-container-id-2 div.sk-serial::before {content: \"\";position: absolute;border-left: 1px solid gray;box-sizing: border-box;top: 0;bottom: 0;left: 50%;z-index: 0;}#sk-container-id-2 div.sk-serial {display: flex;flex-direction: column;align-items: center;background-color: white;padding-right: 0.2em;padding-left: 0.2em;position: relative;}#sk-container-id-2 div.sk-item {position: relative;z-index: 1;}#sk-container-id-2 div.sk-parallel {display: flex;align-items: stretch;justify-content: center;background-color: white;position: relative;}#sk-container-id-2 div.sk-item::before, #sk-container-id-2 div.sk-parallel-item::before {content: \"\";position: absolute;border-left: 1px solid gray;box-sizing: border-box;top: 0;bottom: 0;left: 50%;z-index: -1;}#sk-container-id-2 div.sk-parallel-item {display: flex;flex-direction: column;z-index: 1;position: relative;background-color: white;}#sk-container-id-2 div.sk-parallel-item:first-child::after {align-self: flex-end;width: 50%;}#sk-container-id-2 div.sk-parallel-item:last-child::after {align-self: flex-start;width: 50%;}#sk-container-id-2 div.sk-parallel-item:only-child::after {width: 0;}#sk-container-id-2 div.sk-dashed-wrapped {border: 1px dashed gray;margin: 0 0.4em 0.5em 0.4em;box-sizing: border-box;padding-bottom: 0.4em;background-color: white;}#sk-container-id-2 div.sk-label label {font-family: monospace;font-weight: bold;display: inline-block;line-height: 1.2em;}#sk-container-id-2 div.sk-label-container {text-align: center;}#sk-container-id-2 div.sk-container {/* jupyter's `normalize.less` sets `[hidden] { display: none; }` but bootstrap.min.css set `[hidden] { display: none !important; }` so we also need the `!important` here to be able to override the default hidden behavior on the sphinx rendered scikit-learn.org. See: https://github.com/scikit-learn/scikit-learn/issues/21755 */display: inline-block !important;position: relative;}#sk-container-id-2 div.sk-text-repr-fallback {display: none;}</style><div id=\"sk-container-id-2\" class=\"sk-top-container\"><div class=\"sk-text-repr-fallback\"><pre>LinearRegression()</pre><b>In a Jupyter environment, please rerun this cell to show the HTML representation or trust the notebook. <br />On GitHub, the HTML representation is unable to render, please try loading this page with nbviewer.org.</b></div><div class=\"sk-container\" hidden><div class=\"sk-item\"><div class=\"sk-estimator sk-toggleable\"><input class=\"sk-toggleable__control sk-hidden--visually\" id=\"sk-estimator-id-2\" type=\"checkbox\" checked><label for=\"sk-estimator-id-2\" class=\"sk-toggleable__label sk-toggleable__label-arrow\">LinearRegression</label><div class=\"sk-toggleable__content\"><pre>LinearRegression()</pre></div></div></div></div></div>"
      ],
      "text/plain": [
       "LinearRegression()"
      ]
     },
     "execution_count": 19,
     "metadata": {},
     "output_type": "execute_result"
    }
   ],
   "source": [
    "# apply the model to the train data set\n",
    "model.fit(X_train, y_train)"
   ]
  },
  {
   "cell_type": "code",
   "execution_count": 20,
   "id": "faceda85",
   "metadata": {},
   "outputs": [
    {
     "data": {
      "text/plain": [
       "array([ 5.17095811e-02,  1.30848864e-02,  1.20000085e-02, -1.10892474e-04,\n",
       "        1.14212673e-03, -5.24100082e-05,  3.34919737e-05,  1.46380310e-04,\n",
       "       -3.04715806e-05])"
      ]
     },
     "execution_count": 20,
     "metadata": {},
     "output_type": "execute_result"
    }
   ],
   "source": [
    "model.coef_"
   ]
  },
  {
   "cell_type": "code",
   "execution_count": 21,
   "id": "ddd20974",
   "metadata": {},
   "outputs": [],
   "source": [
    "# test the model by predicting with the test data set\n",
    "pred = model.predict(X_test)"
   ]
  },
  {
   "cell_type": "code",
   "execution_count": 22,
   "id": "8f34dbcf",
   "metadata": {},
   "outputs": [
    {
     "data": {
      "text/plain": [
       "array([13.94856153, 19.33480262, 12.31928162, 16.76286337,  7.90210901,\n",
       "        6.94143792, 20.13372693, 17.50092709, 10.56889   , 20.12551788,\n",
       "        9.44614537, 14.09935417, 12.05513493, 23.39254049, 19.67508393,\n",
       "        9.15626258, 12.1163732 ,  9.28149557,  8.44604007, 21.65588129,\n",
       "        7.05070331, 19.35854208, 27.26716369, 24.58689346,  9.03179421,\n",
       "       11.81070232, 20.42630125,  9.19390639, 12.74795186,  8.64340674,\n",
       "        8.66294151, 20.20047377, 10.93673817,  6.84639129, 18.27939359,\n",
       "        9.47659449, 10.34242145,  9.6657038 ,  7.43347915, 11.03561332,\n",
       "       12.65731013, 10.65459946, 11.20971496,  7.46199023, 11.38224982,\n",
       "       10.27331262,  6.15573251, 15.50893362, 13.36092889, 22.71839277,\n",
       "       10.40389682, 13.21622701, 14.23622207, 11.8723677 , 11.68463616,\n",
       "        5.62217738, 25.03778913,  9.53507734, 17.37926571, 15.7534364 ])"
      ]
     },
     "execution_count": 22,
     "metadata": {},
     "output_type": "execute_result"
    }
   ],
   "source": [
    "pred"
   ]
  },
  {
   "cell_type": "code",
   "execution_count": 23,
   "id": "2939ba72",
   "metadata": {},
   "outputs": [],
   "source": [
    "# check the error\n",
    "error = y_test - pred"
   ]
  },
  {
   "cell_type": "code",
   "execution_count": 24,
   "id": "78d218b1",
   "metadata": {},
   "outputs": [
    {
     "data": {
      "text/plain": [
       "37     0.751438\n",
       "109    0.465197\n",
       "31    -0.419282\n",
       "89    -0.062863\n",
       "66     1.597891\n",
       "119   -0.341438\n",
       "54     0.066273\n",
       "74    -0.500927\n",
       "145   -0.268890\n",
       "142   -0.025518\n",
       "148    1.453855\n",
       "112    0.000646\n",
       "174   -0.555135\n",
       "55     0.307460\n",
       "141   -0.475084\n",
       "149    0.943737\n",
       "25    -0.116373\n",
       "34     0.218504\n",
       "170   -0.046040\n",
       "39    -0.155881\n",
       "172    0.549297\n",
       "153   -0.358542\n",
       "175   -0.267164\n",
       "61    -0.386893\n",
       "65     0.268206\n",
       "50    -0.410702\n",
       "42     0.273699\n",
       "129    0.506094\n",
       "179   -0.147952\n",
       "2      0.656593\n",
       "12     0.537058\n",
       "133   -0.600474\n",
       "90     0.263262\n",
       "22    -1.246391\n",
       "41    -1.179394\n",
       "32     0.123406\n",
       "125    0.257579\n",
       "196    0.034296\n",
       "158   -0.133479\n",
       "180   -0.535613\n",
       "16    -0.157310\n",
       "186   -0.354599\n",
       "144    0.190285\n",
       "121   -0.461990\n",
       "80     0.417750\n",
       "18     1.026687\n",
       "78    -0.855733\n",
       "48    -0.708934\n",
       "4     -0.460929\n",
       "15    -0.318393\n",
       "1     -0.003897\n",
       "43    -0.316227\n",
       "102    0.563778\n",
       "164    0.027632\n",
       "9     -1.084636\n",
       "155   -2.422177\n",
       "36     0.362211\n",
       "190    1.264923\n",
       "33     0.020734\n",
       "45    -0.853436\n",
       "Name: sales, dtype: float64"
      ]
     },
     "execution_count": 24,
     "metadata": {},
     "output_type": "execute_result"
    }
   ],
   "source": [
    "error"
   ]
  },
  {
   "cell_type": "code",
   "execution_count": 25,
   "id": "0b29d074",
   "metadata": {},
   "outputs": [],
   "source": [
    "# Evalaute the error metrics\n",
    "MAE = mean_absolute_error(y_test, pred)\n",
    "MSE = mean_squared_error(y_test, pred)\n",
    "RMSE = np.sqrt(MSE)"
   ]
  },
  {
   "cell_type": "code",
   "execution_count": 26,
   "id": "6337cd95",
   "metadata": {},
   "outputs": [
    {
     "data": {
      "text/plain": [
       "0.48967980448037096"
      ]
     },
     "execution_count": 26,
     "metadata": {},
     "output_type": "execute_result"
    }
   ],
   "source": [
    "MAE"
   ]
  },
  {
   "cell_type": "code",
   "execution_count": 27,
   "id": "6685a925",
   "metadata": {},
   "outputs": [
    {
     "data": {
      "text/plain": [
       "0.44175055104035904"
      ]
     },
     "execution_count": 27,
     "metadata": {},
     "output_type": "execute_result"
    }
   ],
   "source": [
    "MSE"
   ]
  },
  {
   "cell_type": "code",
   "execution_count": 28,
   "id": "47a629e4",
   "metadata": {},
   "outputs": [
    {
     "data": {
      "text/plain": [
       "0.6646431757269152"
      ]
     },
     "execution_count": 28,
     "metadata": {},
     "output_type": "execute_result"
    }
   ],
   "source": [
    "RMSE"
   ]
  },
  {
   "cell_type": "code",
   "execution_count": 29,
   "id": "b4bd3f70",
   "metadata": {},
   "outputs": [],
   "source": [
    "# Evaluate the optimal degree for the polynomial regression model for model complexity\n",
    "train_RMSE_errors = []\n",
    "test_RMSE_errors = []\n",
    "\n",
    "for d in range(1, 10):\n",
    "    poly_converter = PolynomialFeatures(degree=d,include_bias=False)\n",
    "    X_poly_feat = poly_converter.fit_transform(X)\n",
    "    \n",
    "    X_train, X_test,y_train, y_test = train_test_split(X_poly_feat, y, test_size=0.3, random_state=101)\n",
    "    \n",
    "    model = LinearRegression()\n",
    "    model.fit(X_train, y_train)\n",
    "    \n",
    "    train_pred = model.predict(X_train)\n",
    "    test_pred = model.predict(X_test)\n",
    "    \n",
    "    MSE_train = mean_squared_error(y_train, train_pred)\n",
    "    MSE_test = mean_squared_error(y_test, test_pred)\n",
    "    \n",
    "    train_RMSE = np.sqrt(MSE_train)\n",
    "    test_RMSE = np.sqrt(MSE_test)\n",
    "    \n",
    "    train_RMSE_errors.append(train_RMSE)\n",
    "    test_RMSE_errors.append(test_RMSE)"
   ]
  },
  {
   "cell_type": "code",
   "execution_count": 30,
   "id": "e671420b",
   "metadata": {},
   "outputs": [
    {
     "data": {
      "text/plain": [
       "[1.734594124329376,\n",
       " 0.5879574085292232,\n",
       " 0.4339344356902066,\n",
       " 0.35170836883993467,\n",
       " 0.25093429467703415,\n",
       " 0.19712640340673274,\n",
       " 5.421420423901486,\n",
       " 0.14180399863580023,\n",
       " 0.16654350003388185]"
      ]
     },
     "execution_count": 30,
     "metadata": {},
     "output_type": "execute_result"
    }
   ],
   "source": [
    "train_RMSE_errors"
   ]
  },
  {
   "cell_type": "code",
   "execution_count": 31,
   "id": "e33022e8",
   "metadata": {},
   "outputs": [
    {
     "data": {
      "text/plain": [
       "[1.5161519375993877,\n",
       " 0.6646431757269152,\n",
       " 0.5803286825156331,\n",
       " 0.5077742648623355,\n",
       " 2.575831205082368,\n",
       " 4.492668770849738,\n",
       " 1381.4043738479102,\n",
       " 4449.599764768951,\n",
       " 95891.24543764142]"
      ]
     },
     "execution_count": 31,
     "metadata": {},
     "output_type": "execute_result"
    }
   ],
   "source": [
    "test_RMSE_errors"
   ]
  },
  {
   "cell_type": "code",
   "execution_count": 34,
   "id": "c3fb6f8f",
   "metadata": {},
   "outputs": [
    {
     "data": {
      "text/plain": [
       "<matplotlib.legend.Legend at 0x222ecfa4670>"
      ]
     },
     "execution_count": 34,
     "metadata": {},
     "output_type": "execute_result"
    },
    {
     "data": {
      "image/png": "[encoded data removed]",
      "text/plain": [
       "<Figure size 640x480 with 1 Axes>"
      ]
     },
     "metadata": {},
     "output_type": "display_data"
    }
   ],
   "source": [
    "# plot to visualize these errors to determine the degree that matches the model\n",
    "plt.plot(range(1,6), train_RMSE_errors[:5], label=\"TRAIN RMSE\")\n",
    "plt.plot(range(1,6), test_RMSE_errors[:5], label=\"TEST RMSE\")\n",
    "plt.xlabel(\"Degree of Polynomial\")\n",
    "plt.ylabel(\"RMSE\")\n",
    "plt.legend()"
   ]
  },
  {
   "cell_type": "code",
   "execution_count": 56,
   "id": "91937907",
   "metadata": {},
   "outputs": [
    {
     "data": {
      "text/plain": [
       "['3rd Degree PolynomialRegression Model.joblib']"
      ]
     },
     "execution_count": 56,
     "metadata": {},
     "output_type": "execute_result"
    }
   ],
   "source": [
    "# selecting degree 3, we create our final model\n",
    "\n",
    "poly_converter = PolynomialFeatures(degree=3, include_bias=False)\n",
    "x_poly_feat = poly_converter.fit_transform(X)\n",
    "\n",
    "model = LinearRegression()\n",
    "model.fit(x_poly_feat, y)\n",
    "\n",
    "dump(poly_converter, '3rd Degree Polynomial Converter.joblib')\n",
    "dump(model, '3rd Degree Polynomial Regression Model.joblib')"
   ]
  },
  {
   "cell_type": "code",
   "execution_count": null,
   "id": "00e35bc2",
   "metadata": {},
   "outputs": [],
   "source": []
  }
 ],
 "metadata": {
  "kernelspec": {
   "display_name": "Python 3 (ipykernel)",
   "language": "python",
   "name": "python3"
  },
  "language_info": {
   "codemirror_mode": {
    "name": "ipython",
    "version": 3
   },
   "file_extension": ".py",
   "mimetype": "text/x-python",
   "name": "python",
   "nbconvert_exporter": "python",
   "pygments_lexer": "ipython3",
   "version": "3.10.12"
  }
 },
 "nbformat": 4,
 "nbformat_minor": 5
}
