{
 "cells": [
  {
   "cell_type": "markdown",
   "id": "3be5685c",
   "metadata": {},
   "source": [
    "**CREATING A BAG OF WORDS MODEL FOR COUNT VECTORIZATION**"
   ]
  },
  {
   "cell_type": "code",
   "execution_count": 49,
   "id": "66af51f0",
   "metadata": {},
   "outputs": [],
   "source": [
    "# importing relevant libraries\n",
    "import pandas as pd"
   ]
  },
  {
   "cell_type": "markdown",
   "id": "5466f450",
   "metadata": {},
   "source": [
    "Reading the text from the file path"
   ]
  },
  {
   "cell_type": "code",
   "execution_count": 27,
   "id": "00dd0d05",
   "metadata": {},
   "outputs": [],
   "source": [
    "with open('One.txt') as mytext:\n",
    "    words_one = mytext.readlines()"
   ]
  },
  {
   "cell_type": "code",
   "execution_count": 28,
   "id": "b4e85ec1",
   "metadata": {},
   "outputs": [
    {
     "data": {
      "text/plain": [
       "['This is a story about dogs\\n',\n",
       " 'our canine pets\\n',\n",
       " 'Dogs are furry animals\\n']"
      ]
     },
     "execution_count": 28,
     "metadata": {},
     "output_type": "execute_result"
    }
   ],
   "source": [
    "words_one"
   ]
  },
  {
   "cell_type": "code",
   "execution_count": 29,
   "id": "1d4ad11f",
   "metadata": {},
   "outputs": [],
   "source": [
    "with open('Two.txt') as mytext:\n",
    "    words_two = mytext.readlines()"
   ]
  },
  {
   "cell_type": "code",
   "execution_count": 30,
   "id": "baf573ac",
   "metadata": {},
   "outputs": [
    {
     "data": {
      "text/plain": [
       "['This story is about surfing\\n',\n",
       " 'Catching waves is fun\\n',\n",
       " 'Surfing is a popular water sport\\n']"
      ]
     },
     "execution_count": 30,
     "metadata": {},
     "output_type": "execute_result"
    }
   ],
   "source": [
    "words_two"
   ]
  },
  {
   "cell_type": "markdown",
   "id": "70f0e297",
   "metadata": {},
   "source": [
    "**OR**"
   ]
  },
  {
   "cell_type": "code",
   "execution_count": 31,
   "id": "671dea74",
   "metadata": {},
   "outputs": [],
   "source": [
    "with open('One.txt') as mytext:\n",
    "    words_one = mytext.read().lower().split()"
   ]
  },
  {
   "cell_type": "code",
   "execution_count": 32,
   "id": "95517ca4",
   "metadata": {},
   "outputs": [
    {
     "data": {
      "text/plain": [
       "['this',\n",
       " 'is',\n",
       " 'a',\n",
       " 'story',\n",
       " 'about',\n",
       " 'dogs',\n",
       " 'our',\n",
       " 'canine',\n",
       " 'pets',\n",
       " 'dogs',\n",
       " 'are',\n",
       " 'furry',\n",
       " 'animals']"
      ]
     },
     "execution_count": 32,
     "metadata": {},
     "output_type": "execute_result"
    }
   ],
   "source": [
    "words_one"
   ]
  },
  {
   "cell_type": "code",
   "execution_count": 33,
   "id": "c32bd70f",
   "metadata": {},
   "outputs": [],
   "source": [
    "with open('Two.txt') as mytext:\n",
    "    words_two = mytext.read().lower().split()"
   ]
  },
  {
   "cell_type": "code",
   "execution_count": 34,
   "id": "8ddb8ee2",
   "metadata": {},
   "outputs": [
    {
     "data": {
      "text/plain": [
       "['this',\n",
       " 'story',\n",
       " 'is',\n",
       " 'about',\n",
       " 'surfing',\n",
       " 'catching',\n",
       " 'waves',\n",
       " 'is',\n",
       " 'fun',\n",
       " 'surfing',\n",
       " 'is',\n",
       " 'a',\n",
       " 'popular',\n",
       " 'water',\n",
       " 'sport']"
      ]
     },
     "execution_count": 34,
     "metadata": {},
     "output_type": "execute_result"
    }
   ],
   "source": [
    "words_two"
   ]
  },
  {
   "cell_type": "markdown",
   "id": "d51f5246",
   "metadata": {},
   "source": [
    "**BUILD OUT A VOCABULARY**"
   ]
  },
  {
   "cell_type": "code",
   "execution_count": 35,
   "id": "6dd05e22",
   "metadata": {},
   "outputs": [],
   "source": [
    "# Obtaining the unique words from each documents\n",
    "with open('One.txt') as mytext:\n",
    "    words_one = mytext.read().lower().split()\n",
    "    unique_words_one = set(words_one)\n",
    "    \n",
    "with open('Two.txt') as mytext:\n",
    "    words_two = mytext.read().lower().split()\n",
    "    unique_words_two = set(words_two)"
   ]
  },
  {
   "cell_type": "code",
   "execution_count": 36,
   "id": "28ee4c65",
   "metadata": {},
   "outputs": [
    {
     "data": {
      "text/plain": [
       "{'a',\n",
       " 'about',\n",
       " 'animals',\n",
       " 'are',\n",
       " 'canine',\n",
       " 'dogs',\n",
       " 'furry',\n",
       " 'is',\n",
       " 'our',\n",
       " 'pets',\n",
       " 'story',\n",
       " 'this'}"
      ]
     },
     "execution_count": 36,
     "metadata": {},
     "output_type": "execute_result"
    }
   ],
   "source": [
    "unique_words_one"
   ]
  },
  {
   "cell_type": "code",
   "execution_count": 37,
   "id": "aa545de2",
   "metadata": {},
   "outputs": [
    {
     "data": {
      "text/plain": [
       "{'a',\n",
       " 'about',\n",
       " 'catching',\n",
       " 'fun',\n",
       " 'is',\n",
       " 'popular',\n",
       " 'sport',\n",
       " 'story',\n",
       " 'surfing',\n",
       " 'this',\n",
       " 'water',\n",
       " 'waves'}"
      ]
     },
     "execution_count": 37,
     "metadata": {},
     "output_type": "execute_result"
    }
   ],
   "source": [
    "unique_words_two"
   ]
  },
  {
   "cell_type": "code",
   "execution_count": 38,
   "id": "d69da5e6",
   "metadata": {},
   "outputs": [],
   "source": [
    "# obtain the unique words from all documents\n",
    "all_unique_words = set()\n",
    "all_unique_words.update(unique_words_one)\n",
    "all_unique_words.update(unique_words_two)"
   ]
  },
  {
   "cell_type": "code",
   "execution_count": 39,
   "id": "bdfd118c",
   "metadata": {},
   "outputs": [
    {
     "data": {
      "text/plain": [
       "{'a',\n",
       " 'about',\n",
       " 'animals',\n",
       " 'are',\n",
       " 'canine',\n",
       " 'catching',\n",
       " 'dogs',\n",
       " 'fun',\n",
       " 'furry',\n",
       " 'is',\n",
       " 'our',\n",
       " 'pets',\n",
       " 'popular',\n",
       " 'sport',\n",
       " 'story',\n",
       " 'surfing',\n",
       " 'this',\n",
       " 'water',\n",
       " 'waves'}"
      ]
     },
     "execution_count": 39,
     "metadata": {},
     "output_type": "execute_result"
    }
   ],
   "source": [
    "all_unique_words"
   ]
  },
  {
   "cell_type": "code",
   "execution_count": 40,
   "id": "dd3f5a92",
   "metadata": {},
   "outputs": [],
   "source": [
    "# Assign a number to all the unique words\n",
    "full_vocabulary = dict()\n",
    "i=0\n",
    "\n",
    "for word in all_unique_words:\n",
    "    full_vocabulary[word] = i\n",
    "    i += 1"
   ]
  },
  {
   "cell_type": "code",
   "execution_count": 41,
   "id": "8eec3640",
   "metadata": {},
   "outputs": [
    {
     "data": {
      "text/plain": [
       "{'fun': 0,\n",
       " 'is': 1,\n",
       " 'canine': 2,\n",
       " 'water': 3,\n",
       " 'waves': 4,\n",
       " 'a': 5,\n",
       " 'furry': 6,\n",
       " 'popular': 7,\n",
       " 'catching': 8,\n",
       " 'about': 9,\n",
       " 'surfing': 10,\n",
       " 'our': 11,\n",
       " 'story': 12,\n",
       " 'dogs': 13,\n",
       " 'this': 14,\n",
       " 'sport': 15,\n",
       " 'animals': 16,\n",
       " 'are': 17,\n",
       " 'pets': 18}"
      ]
     },
     "execution_count": 41,
     "metadata": {},
     "output_type": "execute_result"
    }
   ],
   "source": [
    "full_vocabulary"
   ]
  },
  {
   "cell_type": "code",
   "execution_count": 50,
   "id": "34ca63f8",
   "metadata": {},
   "outputs": [],
   "source": [
    "# create the bag of words dictionary\n",
    "\n",
    "first_doc_freq = [0]*len(full_vocabulary)\n",
    "second_doc_freq = [0]*len(full_vocabulary)\n",
    "all_words = ['']*len(full_vocabulary)\n",
    "\n",
    "\n",
    "with open('One.txt') as file:\n",
    "    file_one = file.read().lower().split()\n",
    "    \n",
    "with open('Two.txt') as file:\n",
    "    file_two = file.read().lower().split()\n",
    "    \n",
    "for word in file_one:\n",
    "    word_index = full_vocabulary[word]\n",
    "    first_doc_freq[word_index] += 1\n",
    "    \n",
    "for word in file_two:\n",
    "    word_index = full_vocabulary[word]\n",
    "    second_doc_freq[word_index] += 1\n",
    "    \n",
    "for word in full_vocabulary:\n",
    "    word_index = full_vocabulary[word]\n",
    "    all_words[word_index] = word\n",
    "    "
   ]
  },
  {
   "cell_type": "code",
   "execution_count": 51,
   "id": "118e3ba1",
   "metadata": {},
   "outputs": [
    {
     "data": {
      "text/plain": [
       "[0, 1, 1, 0, 0, 1, 1, 0, 0, 1, 0, 1, 1, 2, 1, 0, 1, 1, 1]"
      ]
     },
     "execution_count": 51,
     "metadata": {},
     "output_type": "execute_result"
    }
   ],
   "source": [
    "first_doc_freq"
   ]
  },
  {
   "cell_type": "code",
   "execution_count": 52,
   "id": "84c38a04",
   "metadata": {},
   "outputs": [
    {
     "data": {
      "text/plain": [
       "[1, 3, 0, 1, 1, 1, 0, 1, 1, 1, 2, 0, 1, 0, 1, 1, 0, 0, 0]"
      ]
     },
     "execution_count": 52,
     "metadata": {},
     "output_type": "execute_result"
    }
   ],
   "source": [
    "second_doc_freq"
   ]
  },
  {
   "cell_type": "code",
   "execution_count": 53,
   "id": "01c4ad91",
   "metadata": {},
   "outputs": [
    {
     "data": {
      "text/plain": [
       "['fun',\n",
       " 'is',\n",
       " 'canine',\n",
       " 'water',\n",
       " 'waves',\n",
       " 'a',\n",
       " 'furry',\n",
       " 'popular',\n",
       " 'catching',\n",
       " 'about',\n",
       " 'surfing',\n",
       " 'our',\n",
       " 'story',\n",
       " 'dogs',\n",
       " 'this',\n",
       " 'sport',\n",
       " 'animals',\n",
       " 'are',\n",
       " 'pets']"
      ]
     },
     "execution_count": 53,
     "metadata": {},
     "output_type": "execute_result"
    }
   ],
   "source": [
    "all_words"
   ]
  },
  {
   "cell_type": "code",
   "execution_count": 55,
   "id": "7703a569",
   "metadata": {},
   "outputs": [],
   "source": [
    "Bag_of_Words = pd.DataFrame(data=[first_doc_freq,second_doc_freq], columns=all_words)"
   ]
  },
  {
   "cell_type": "code",
   "execution_count": 56,
   "id": "cf84489c",
   "metadata": {},
   "outputs": [
    {
     "data": {
      "text/html": [
       "<div>\n",
       "<style scoped>\n",
       "    .dataframe tbody tr th:only-of-type {\n",
       "        vertical-align: middle;\n",
       "    }\n",
       "\n",
       "    .dataframe tbody tr th {\n",
       "        vertical-align: top;\n",
       "    }\n",
       "\n",
       "    .dataframe thead th {\n",
       "        text-align: right;\n",
       "    }\n",
       "</style>\n",
       "<table border=\"1\" class=\"dataframe\">\n",
       "  <thead>\n",
       "    <tr style=\"text-align: right;\">\n",
       "      <th></th>\n",
       "      <th>fun</th>\n",
       "      <th>is</th>\n",
       "      <th>canine</th>\n",
       "      <th>water</th>\n",
       "      <th>waves</th>\n",
       "      <th>a</th>\n",
       "      <th>furry</th>\n",
       "      <th>popular</th>\n",
       "      <th>catching</th>\n",
       "      <th>about</th>\n",
       "      <th>surfing</th>\n",
       "      <th>our</th>\n",
       "      <th>story</th>\n",
       "      <th>dogs</th>\n",
       "      <th>this</th>\n",
       "      <th>sport</th>\n",
       "      <th>animals</th>\n",
       "      <th>are</th>\n",
       "      <th>pets</th>\n",
       "    </tr>\n",
       "  </thead>\n",
       "  <tbody>\n",
       "    <tr>\n",
       "      <th>0</th>\n",
       "      <td>0</td>\n",
       "      <td>1</td>\n",
       "      <td>1</td>\n",
       "      <td>0</td>\n",
       "      <td>0</td>\n",
       "      <td>1</td>\n",
       "      <td>1</td>\n",
       "      <td>0</td>\n",
       "      <td>0</td>\n",
       "      <td>1</td>\n",
       "      <td>0</td>\n",
       "      <td>1</td>\n",
       "      <td>1</td>\n",
       "      <td>2</td>\n",
       "      <td>1</td>\n",
       "      <td>0</td>\n",
       "      <td>1</td>\n",
       "      <td>1</td>\n",
       "      <td>1</td>\n",
       "    </tr>\n",
       "    <tr>\n",
       "      <th>1</th>\n",
       "      <td>1</td>\n",
       "      <td>3</td>\n",
       "      <td>0</td>\n",
       "      <td>1</td>\n",
       "      <td>1</td>\n",
       "      <td>1</td>\n",
       "      <td>0</td>\n",
       "      <td>1</td>\n",
       "      <td>1</td>\n",
       "      <td>1</td>\n",
       "      <td>2</td>\n",
       "      <td>0</td>\n",
       "      <td>1</td>\n",
       "      <td>0</td>\n",
       "      <td>1</td>\n",
       "      <td>1</td>\n",
       "      <td>0</td>\n",
       "      <td>0</td>\n",
       "      <td>0</td>\n",
       "    </tr>\n",
       "  </tbody>\n",
       "</table>\n",
       "</div>"
      ],
      "text/plain": [
       "   fun  is  canine  water  waves  a  furry  popular  catching  about  surfing  \\\n",
       "0    0   1       1      0      0  1      1        0         0      1        0   \n",
       "1    1   3       0      1      1  1      0        1         1      1        2   \n",
       "\n",
       "   our  story  dogs  this  sport  animals  are  pets  \n",
       "0    1      1     2     1      0        1    1     1  \n",
       "1    0      1     0     1      1        0    0     0  "
      ]
     },
     "execution_count": 56,
     "metadata": {},
     "output_type": "execute_result"
    }
   ],
   "source": [
    "Bag_of_Words"
   ]
  },
  {
   "cell_type": "code",
   "execution_count": null,
   "id": "ee294b79",
   "metadata": {},
   "outputs": [],
   "source": []
  }
 ],
 "metadata": {
  "kernelspec": {
   "display_name": "Python 3 (ipykernel)",
   "language": "python",
   "name": "python3"
  },
  "language_info": {
   "codemirror_mode": {
    "name": "ipython",
    "version": 3
   },
   "file_extension": ".py",
   "mimetype": "text/x-python",
   "name": "python",
   "nbconvert_exporter": "python",
   "pygments_lexer": "ipython3",
   "version": "3.10.13"
  }
 },
 "nbformat": 4,
 "nbformat_minor": 5
}
