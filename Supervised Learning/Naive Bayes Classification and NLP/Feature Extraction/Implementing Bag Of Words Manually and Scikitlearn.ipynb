{
 "cells": [
  {
   "cell_type": "markdown",
   "id": "0db5b972",
   "metadata": {},
   "source": [
    "**IMPORT THE NECESSARY LIBRARIES**"
   ]
  },
  {
   "cell_type": "markdown",
   "id": "abc937fe",
   "metadata": {},
   "source": [
    "**BAG OF WORDS MODEL MANUAL IMPLEMENTATION**"
   ]
  },
  {
   "cell_type": "code",
   "execution_count": 1,
   "id": "68699254",
   "metadata": {},
   "outputs": [],
   "source": [
    "import pandas as pd"
   ]
  },
  {
   "cell_type": "markdown",
   "id": "6f74a57a",
   "metadata": {},
   "source": [
    "**READ THE DATASET**"
   ]
  },
  {
   "cell_type": "code",
   "execution_count": 2,
   "id": "fdf46a14",
   "metadata": {},
   "outputs": [],
   "source": [
    "with open('One.txt') as file:\n",
    "    file_one = file.readlines()"
   ]
  },
  {
   "cell_type": "code",
   "execution_count": 3,
   "id": "c65b7519",
   "metadata": {},
   "outputs": [],
   "source": [
    "with open('Two.txt') as file:\n",
    "    file_two = file.readlines()"
   ]
  },
  {
   "cell_type": "code",
   "execution_count": 4,
   "id": "8fbcf4e4",
   "metadata": {},
   "outputs": [
    {
     "data": {
      "text/plain": [
       "['This is a story about dogs\\n',\n",
       " 'our canine pets\\n',\n",
       " 'Dogs are furry animals\\n']"
      ]
     },
     "execution_count": 4,
     "metadata": {},
     "output_type": "execute_result"
    }
   ],
   "source": [
    "file_one"
   ]
  },
  {
   "cell_type": "code",
   "execution_count": 5,
   "id": "ea62ccc4",
   "metadata": {},
   "outputs": [
    {
     "data": {
      "text/plain": [
       "['This story is about surfing\\n',\n",
       " 'Catching waves is fun\\n',\n",
       " 'Surfing is a popular water sport\\n']"
      ]
     },
     "execution_count": 5,
     "metadata": {},
     "output_type": "execute_result"
    }
   ],
   "source": [
    "file_two"
   ]
  },
  {
   "cell_type": "markdown",
   "id": "a34f029a",
   "metadata": {},
   "source": [
    "**OR**"
   ]
  },
  {
   "cell_type": "code",
   "execution_count": 14,
   "id": "fae2d10a",
   "metadata": {},
   "outputs": [],
   "source": [
    "with open('One.txt') as file:\n",
    "    first_file = file.read().lower().split()"
   ]
  },
  {
   "cell_type": "code",
   "execution_count": 15,
   "id": "6f0b7e48",
   "metadata": {},
   "outputs": [],
   "source": [
    "with open('Two.txt') as file:\n",
    "    second_file = file.read().lower().split()"
   ]
  },
  {
   "cell_type": "code",
   "execution_count": 16,
   "id": "dc79eac7",
   "metadata": {},
   "outputs": [
    {
     "data": {
      "text/plain": [
       "['this',\n",
       " 'is',\n",
       " 'a',\n",
       " 'story',\n",
       " 'about',\n",
       " 'dogs',\n",
       " 'our',\n",
       " 'canine',\n",
       " 'pets',\n",
       " 'dogs',\n",
       " 'are',\n",
       " 'furry',\n",
       " 'animals']"
      ]
     },
     "execution_count": 16,
     "metadata": {},
     "output_type": "execute_result"
    }
   ],
   "source": [
    "first_file"
   ]
  },
  {
   "cell_type": "code",
   "execution_count": 17,
   "id": "aae83e70",
   "metadata": {},
   "outputs": [
    {
     "data": {
      "text/plain": [
       "['this',\n",
       " 'story',\n",
       " 'is',\n",
       " 'about',\n",
       " 'surfing',\n",
       " 'catching',\n",
       " 'waves',\n",
       " 'is',\n",
       " 'fun',\n",
       " 'surfing',\n",
       " 'is',\n",
       " 'a',\n",
       " 'popular',\n",
       " 'water',\n",
       " 'sport']"
      ]
     },
     "execution_count": 17,
     "metadata": {},
     "output_type": "execute_result"
    }
   ],
   "source": [
    "second_file"
   ]
  },
  {
   "cell_type": "markdown",
   "id": "437a2b89",
   "metadata": {},
   "source": [
    "**BUILD OUT A VOCABULARY BY OBTAINING THE UNIQUE WORDS FROM EACH DOCUMENT**"
   ]
  },
  {
   "cell_type": "code",
   "execution_count": 18,
   "id": "af915a3e",
   "metadata": {},
   "outputs": [],
   "source": [
    "unique_words_first_file = set(first_file)"
   ]
  },
  {
   "cell_type": "code",
   "execution_count": 19,
   "id": "5607d2dc",
   "metadata": {},
   "outputs": [
    {
     "data": {
      "text/plain": [
       "{'a',\n",
       " 'about',\n",
       " 'animals',\n",
       " 'are',\n",
       " 'canine',\n",
       " 'dogs',\n",
       " 'furry',\n",
       " 'is',\n",
       " 'our',\n",
       " 'pets',\n",
       " 'story',\n",
       " 'this'}"
      ]
     },
     "execution_count": 19,
     "metadata": {},
     "output_type": "execute_result"
    }
   ],
   "source": [
    "unique_words_first_file"
   ]
  },
  {
   "cell_type": "code",
   "execution_count": 20,
   "id": "03410769",
   "metadata": {},
   "outputs": [],
   "source": [
    "unique_words_second_file = set(second_file)"
   ]
  },
  {
   "cell_type": "code",
   "execution_count": 21,
   "id": "bd6aafdc",
   "metadata": {},
   "outputs": [
    {
     "data": {
      "text/plain": [
       "{'a',\n",
       " 'about',\n",
       " 'catching',\n",
       " 'fun',\n",
       " 'is',\n",
       " 'popular',\n",
       " 'sport',\n",
       " 'story',\n",
       " 'surfing',\n",
       " 'this',\n",
       " 'water',\n",
       " 'waves'}"
      ]
     },
     "execution_count": 21,
     "metadata": {},
     "output_type": "execute_result"
    }
   ],
   "source": [
    "unique_words_second_file"
   ]
  },
  {
   "cell_type": "markdown",
   "id": "6eaea747",
   "metadata": {},
   "source": [
    "**BUILD OUT A VOCABULARY BY OBTAINING THE UNIQUE WORDS FROM ALL DOCUMENT**"
   ]
  },
  {
   "cell_type": "code",
   "execution_count": 22,
   "id": "502fd7f8",
   "metadata": {},
   "outputs": [],
   "source": [
    "unique_words_all_documents = set()"
   ]
  },
  {
   "cell_type": "code",
   "execution_count": 24,
   "id": "217d6ad9",
   "metadata": {},
   "outputs": [],
   "source": [
    "unique_words_all_documents.update(unique_words_first_file)\n",
    "unique_words_all_documents.update(unique_words_second_file)"
   ]
  },
  {
   "cell_type": "code",
   "execution_count": 25,
   "id": "930bbe13",
   "metadata": {},
   "outputs": [
    {
     "data": {
      "text/plain": [
       "{'a',\n",
       " 'about',\n",
       " 'animals',\n",
       " 'are',\n",
       " 'canine',\n",
       " 'catching',\n",
       " 'dogs',\n",
       " 'fun',\n",
       " 'furry',\n",
       " 'is',\n",
       " 'our',\n",
       " 'pets',\n",
       " 'popular',\n",
       " 'sport',\n",
       " 'story',\n",
       " 'surfing',\n",
       " 'this',\n",
       " 'water',\n",
       " 'waves'}"
      ]
     },
     "execution_count": 25,
     "metadata": {},
     "output_type": "execute_result"
    }
   ],
   "source": [
    "unique_words_all_documents"
   ]
  },
  {
   "cell_type": "markdown",
   "id": "fe11571e",
   "metadata": {},
   "source": [
    "**ASSIGN A NUMBER TO EACH OF THE UNIQUE WORDS**"
   ]
  },
  {
   "cell_type": "code",
   "execution_count": 28,
   "id": "827cc33c",
   "metadata": {},
   "outputs": [],
   "source": [
    "full_vocabulary = dict()\n",
    "i = 0"
   ]
  },
  {
   "cell_type": "code",
   "execution_count": 29,
   "id": "aa7cc946",
   "metadata": {},
   "outputs": [],
   "source": [
    "for word in unique_words_all_documents:\n",
    "    full_vocabulary[word] = i\n",
    "    i += 1"
   ]
  },
  {
   "cell_type": "code",
   "execution_count": 30,
   "id": "e63edf3c",
   "metadata": {},
   "outputs": [
    {
     "data": {
      "text/plain": [
       "{'fun': 0,\n",
       " 'story': 1,\n",
       " 'surfing': 2,\n",
       " 'is': 3,\n",
       " 'animals': 4,\n",
       " 'catching': 5,\n",
       " 'about': 6,\n",
       " 'are': 7,\n",
       " 'furry': 8,\n",
       " 'water': 9,\n",
       " 'popular': 10,\n",
       " 'sport': 11,\n",
       " 'our': 12,\n",
       " 'waves': 13,\n",
       " 'canine': 14,\n",
       " 'this': 15,\n",
       " 'dogs': 16,\n",
       " 'pets': 17,\n",
       " 'a': 18}"
      ]
     },
     "execution_count": 30,
     "metadata": {},
     "output_type": "execute_result"
    }
   ],
   "source": [
    "full_vocabulary"
   ]
  },
  {
   "cell_type": "markdown",
   "id": "1c77215c",
   "metadata": {},
   "source": [
    "**CREATE AN INSTANCE OF THE BAG OF WORD DICTIONARY**"
   ]
  },
  {
   "cell_type": "code",
   "execution_count": 31,
   "id": "248d9b2a",
   "metadata": {},
   "outputs": [],
   "source": [
    "first_file_freq = [0]*len(full_vocabulary)\n",
    "second_file_freq = [0]*len(full_vocabulary)\n",
    "all_file_freq = ['']*len(full_vocabulary)"
   ]
  },
  {
   "cell_type": "code",
   "execution_count": 32,
   "id": "8a7fb396",
   "metadata": {},
   "outputs": [
    {
     "data": {
      "text/plain": [
       "['', '', '', '', '', '', '', '', '', '', '', '', '', '', '', '', '', '', '']"
      ]
     },
     "execution_count": 32,
     "metadata": {},
     "output_type": "execute_result"
    }
   ],
   "source": [
    "all_file_freq"
   ]
  },
  {
   "cell_type": "code",
   "execution_count": 33,
   "id": "90e83e00",
   "metadata": {},
   "outputs": [
    {
     "data": {
      "text/plain": [
       "[0, 0, 0, 0, 0, 0, 0, 0, 0, 0, 0, 0, 0, 0, 0, 0, 0, 0, 0]"
      ]
     },
     "execution_count": 33,
     "metadata": {},
     "output_type": "execute_result"
    }
   ],
   "source": [
    "second_file_freq"
   ]
  },
  {
   "cell_type": "code",
   "execution_count": 34,
   "id": "c2f0a376",
   "metadata": {},
   "outputs": [
    {
     "data": {
      "text/plain": [
       "[0, 0, 0, 0, 0, 0, 0, 0, 0, 0, 0, 0, 0, 0, 0, 0, 0, 0, 0]"
      ]
     },
     "execution_count": 34,
     "metadata": {},
     "output_type": "execute_result"
    }
   ],
   "source": [
    "first_file_freq"
   ]
  },
  {
   "cell_type": "markdown",
   "id": "a6e1051f",
   "metadata": {},
   "source": [
    "**MAP THE WORDS FROM EACH DOCUMENTS TO THE BAG OF WORD DICTIONARY INSTANCE**"
   ]
  },
  {
   "cell_type": "code",
   "execution_count": 35,
   "id": "a6361fae",
   "metadata": {},
   "outputs": [],
   "source": [
    "for word in first_file:\n",
    "    word_index = full_vocabulary[word]\n",
    "    first_file_freq[word_index] += 1"
   ]
  },
  {
   "cell_type": "code",
   "execution_count": 36,
   "id": "6f92cd24",
   "metadata": {},
   "outputs": [],
   "source": [
    "for word in second_file:\n",
    "    word_index = full_vocabulary[word]\n",
    "    second_file_freq[word_index] += 1"
   ]
  },
  {
   "cell_type": "code",
   "execution_count": 37,
   "id": "e22115f8",
   "metadata": {},
   "outputs": [],
   "source": [
    "for word in full_vocabulary:\n",
    "    word_index = full_vocabulary[word]\n",
    "    all_file_freq[word_index] = word"
   ]
  },
  {
   "cell_type": "code",
   "execution_count": 38,
   "id": "987d6610",
   "metadata": {},
   "outputs": [
    {
     "data": {
      "text/plain": [
       "[0, 1, 0, 1, 1, 0, 1, 1, 1, 0, 0, 0, 1, 0, 1, 1, 2, 1, 1]"
      ]
     },
     "execution_count": 38,
     "metadata": {},
     "output_type": "execute_result"
    }
   ],
   "source": [
    "first_file_freq"
   ]
  },
  {
   "cell_type": "code",
   "execution_count": 39,
   "id": "7087c69e",
   "metadata": {},
   "outputs": [
    {
     "data": {
      "text/plain": [
       "[1, 1, 2, 3, 0, 1, 1, 0, 0, 1, 1, 1, 0, 1, 0, 1, 0, 0, 1]"
      ]
     },
     "execution_count": 39,
     "metadata": {},
     "output_type": "execute_result"
    }
   ],
   "source": [
    "second_file_freq"
   ]
  },
  {
   "cell_type": "code",
   "execution_count": 40,
   "id": "883727f2",
   "metadata": {},
   "outputs": [
    {
     "data": {
      "text/plain": [
       "['fun',\n",
       " 'story',\n",
       " 'surfing',\n",
       " 'is',\n",
       " 'animals',\n",
       " 'catching',\n",
       " 'about',\n",
       " 'are',\n",
       " 'furry',\n",
       " 'water',\n",
       " 'popular',\n",
       " 'sport',\n",
       " 'our',\n",
       " 'waves',\n",
       " 'canine',\n",
       " 'this',\n",
       " 'dogs',\n",
       " 'pets',\n",
       " 'a']"
      ]
     },
     "execution_count": 40,
     "metadata": {},
     "output_type": "execute_result"
    }
   ],
   "source": [
    "all_file_freq"
   ]
  },
  {
   "cell_type": "markdown",
   "id": "0b770295",
   "metadata": {},
   "source": [
    "**CREATE A DATAFRAME OF THE BAG  OF WORDS**"
   ]
  },
  {
   "cell_type": "code",
   "execution_count": 41,
   "id": "61adcc76",
   "metadata": {},
   "outputs": [],
   "source": [
    "bag_of_words = pd.DataFrame(data=[first_file_freq, second_file_freq], columns=all_file_freq)"
   ]
  },
  {
   "cell_type": "code",
   "execution_count": 42,
   "id": "3745830b",
   "metadata": {},
   "outputs": [
    {
     "data": {
      "text/html": [
       "<div>\n",
       "<style scoped>\n",
       "    .dataframe tbody tr th:only-of-type {\n",
       "        vertical-align: middle;\n",
       "    }\n",
       "\n",
       "    .dataframe tbody tr th {\n",
       "        vertical-align: top;\n",
       "    }\n",
       "\n",
       "    .dataframe thead th {\n",
       "        text-align: right;\n",
       "    }\n",
       "</style>\n",
       "<table border=\"1\" class=\"dataframe\">\n",
       "  <thead>\n",
       "    <tr style=\"text-align: right;\">\n",
       "      <th></th>\n",
       "      <th>fun</th>\n",
       "      <th>story</th>\n",
       "      <th>surfing</th>\n",
       "      <th>is</th>\n",
       "      <th>animals</th>\n",
       "      <th>catching</th>\n",
       "      <th>about</th>\n",
       "      <th>are</th>\n",
       "      <th>furry</th>\n",
       "      <th>water</th>\n",
       "      <th>popular</th>\n",
       "      <th>sport</th>\n",
       "      <th>our</th>\n",
       "      <th>waves</th>\n",
       "      <th>canine</th>\n",
       "      <th>this</th>\n",
       "      <th>dogs</th>\n",
       "      <th>pets</th>\n",
       "      <th>a</th>\n",
       "    </tr>\n",
       "  </thead>\n",
       "  <tbody>\n",
       "    <tr>\n",
       "      <th>0</th>\n",
       "      <td>0</td>\n",
       "      <td>1</td>\n",
       "      <td>0</td>\n",
       "      <td>1</td>\n",
       "      <td>1</td>\n",
       "      <td>0</td>\n",
       "      <td>1</td>\n",
       "      <td>1</td>\n",
       "      <td>1</td>\n",
       "      <td>0</td>\n",
       "      <td>0</td>\n",
       "      <td>0</td>\n",
       "      <td>1</td>\n",
       "      <td>0</td>\n",
       "      <td>1</td>\n",
       "      <td>1</td>\n",
       "      <td>2</td>\n",
       "      <td>1</td>\n",
       "      <td>1</td>\n",
       "    </tr>\n",
       "    <tr>\n",
       "      <th>1</th>\n",
       "      <td>1</td>\n",
       "      <td>1</td>\n",
       "      <td>2</td>\n",
       "      <td>3</td>\n",
       "      <td>0</td>\n",
       "      <td>1</td>\n",
       "      <td>1</td>\n",
       "      <td>0</td>\n",
       "      <td>0</td>\n",
       "      <td>1</td>\n",
       "      <td>1</td>\n",
       "      <td>1</td>\n",
       "      <td>0</td>\n",
       "      <td>1</td>\n",
       "      <td>0</td>\n",
       "      <td>1</td>\n",
       "      <td>0</td>\n",
       "      <td>0</td>\n",
       "      <td>1</td>\n",
       "    </tr>\n",
       "  </tbody>\n",
       "</table>\n",
       "</div>"
      ],
      "text/plain": [
       "   fun  story  surfing  is  animals  catching  about  are  furry  water  \\\n",
       "0    0      1        0   1        1         0      1    1      1      0   \n",
       "1    1      1        2   3        0         1      1    0      0      1   \n",
       "\n",
       "   popular  sport  our  waves  canine  this  dogs  pets  a  \n",
       "0        0      0    1      0       1     1     2     1  1  \n",
       "1        1      1    0      1       0     1     0     0  1  "
      ]
     },
     "execution_count": 42,
     "metadata": {},
     "output_type": "execute_result"
    }
   ],
   "source": [
    "bag_of_words"
   ]
  },
  {
   "cell_type": "markdown",
   "id": "40f71494",
   "metadata": {},
   "source": [
    "**USEFUL FUNCTIONS FOR MANUAL IMLEMENTATION OF COUNT VECTORIZER**"
   ]
  },
  {
   "cell_type": "code",
   "execution_count": 54,
   "id": "c65dfae2",
   "metadata": {},
   "outputs": [],
   "source": [
    "def read_file(a_file):\n",
    "    with open(a_file) as file:\n",
    "        return file.read().lower().split()\n",
    "\n",
    "\n",
    "def unique_words(a_read_file):\n",
    "    return set(a_read_file)\n",
    "\n",
    "\n",
    "def unique_word_all_file(first_var, second_var, *args):\n",
    "    unique_word_all_docs = set()\n",
    "    unique_word_all_docs.update(first_var)\n",
    "    unique_word_all_docs.update(second_var)\n",
    "    unique_word_all_docs.update(*args)\n",
    "    return unique_word_all_docs\n",
    "\n",
    "\n",
    "def vocab_number_assignment(all_unique_word_var):\n",
    "    full_vocab = dict()\n",
    "    i = 0\n",
    "\n",
    "    for word in all_unique_word_var:\n",
    "        full_vocab[word] = i\n",
    "        i += 1\n",
    "    return full_vocab\n",
    "\n",
    "\n",
    "def bow_freq_per_file_instance(full_vocabulary):\n",
    "    return [0] * len(full_vocabulary)\n",
    "\n",
    "\n",
    "def bow_all_freq_instance(full_vocabulary):\n",
    "    return [''] * full_vocabulary\n",
    "\n",
    "\n",
    "def wordmap_per_file_per_bow(a_read_file, full_vocab, file_freq_var):\n",
    "    for word in a_read_file:\n",
    "        word_index = full_vocab[word]\n",
    "        file_freq_var[word_index] += 1\n",
    "        \n",
    "\n",
    "def bow_dataframe(first_file_freq, second_file_freq, *args, all_file_freq):\n",
    "    import pandas as pd\n",
    "    \n",
    "    bag_of_words = pd.DataFrame(data=[first_file_freq,second_file_freq,*args], columns=all_file_freq)\n",
    "    return bag_of_words"
   ]
  },
  {
   "cell_type": "markdown",
   "id": "d83e59ea",
   "metadata": {},
   "source": [
    "**IMPLEMENTATION TWO**"
   ]
  },
  {
   "cell_type": "markdown",
   "id": "563ba82e",
   "metadata": {},
   "source": [
    "**BAG OF WORDS WITH SCIKITLEARN IMPLEMENTATION**"
   ]
  },
  {
   "cell_type": "markdown",
   "id": "ccc39ea1",
   "metadata": {},
   "source": [
    "*IMPORT THE LIBRARIES*"
   ]
  },
  {
   "cell_type": "code",
   "execution_count": 15,
   "id": "f0ddb934",
   "metadata": {},
   "outputs": [],
   "source": [
    "import pandas as pd"
   ]
  },
  {
   "cell_type": "markdown",
   "id": "1b7ac65c",
   "metadata": {},
   "source": [
    "*READING THE TEXT FROM THE FILE PATH OR LOCATION*"
   ]
  },
  {
   "cell_type": "code",
   "execution_count": 16,
   "id": "fab4b1b9",
   "metadata": {},
   "outputs": [],
   "source": [
    "with open('One.txt') as file:\n",
    "    file_one = file.read().lower().split()"
   ]
  },
  {
   "cell_type": "code",
   "execution_count": 17,
   "id": "3db0b1e6",
   "metadata": {},
   "outputs": [
    {
     "data": {
      "text/plain": [
       "['this',\n",
       " 'is',\n",
       " 'a',\n",
       " 'story',\n",
       " 'about',\n",
       " 'dogs',\n",
       " 'our',\n",
       " 'canine',\n",
       " 'pets',\n",
       " 'dogs',\n",
       " 'are',\n",
       " 'furry',\n",
       " 'animals']"
      ]
     },
     "execution_count": 17,
     "metadata": {},
     "output_type": "execute_result"
    }
   ],
   "source": [
    "file_one"
   ]
  },
  {
   "cell_type": "markdown",
   "id": "1f119ca9",
   "metadata": {},
   "source": [
    "*BUILD A COUNT VECTORIZER*"
   ]
  },
  {
   "cell_type": "code",
   "execution_count": 42,
   "id": "238c0f84",
   "metadata": {},
   "outputs": [],
   "source": [
    "from sklearn.feature_extraction.text import CountVectorizer, TfidfTransformer, TfidfVectorizer"
   ]
  },
  {
   "cell_type": "code",
   "execution_count": 43,
   "id": "e53766c7",
   "metadata": {},
   "outputs": [],
   "source": [
    "cv = CountVectorizer(stop_words='english') # english stop words"
   ]
  },
  {
   "cell_type": "code",
   "execution_count": 44,
   "id": "e6bdf895",
   "metadata": {},
   "outputs": [
    {
     "data": {
      "text/html": [
       "<style>#sk-container-id-4 {color: black;}#sk-container-id-4 pre{padding: 0;}#sk-container-id-4 div.sk-toggleable {background-color: white;}#sk-container-id-4 label.sk-toggleable__label {cursor: pointer;display: block;width: 100%;margin-bottom: 0;padding: 0.3em;box-sizing: border-box;text-align: center;}#sk-container-id-4 label.sk-toggleable__label-arrow:before {content: \"▸\";float: left;margin-right: 0.25em;color: #696969;}#sk-container-id-4 label.sk-toggleable__label-arrow:hover:before {color: black;}#sk-container-id-4 div.sk-estimator:hover label.sk-toggleable__label-arrow:before {color: black;}#sk-container-id-4 div.sk-toggleable__content {max-height: 0;max-width: 0;overflow: hidden;text-align: left;background-color: #f0f8ff;}#sk-container-id-4 div.sk-toggleable__content pre {margin: 0.2em;color: black;border-radius: 0.25em;background-color: #f0f8ff;}#sk-container-id-4 input.sk-toggleable__control:checked~div.sk-toggleable__content {max-height: 200px;max-width: 100%;overflow: auto;}#sk-container-id-4 input.sk-toggleable__control:checked~label.sk-toggleable__label-arrow:before {content: \"▾\";}#sk-container-id-4 div.sk-estimator input.sk-toggleable__control:checked~label.sk-toggleable__label {background-color: #d4ebff;}#sk-container-id-4 div.sk-label input.sk-toggleable__control:checked~label.sk-toggleable__label {background-color: #d4ebff;}#sk-container-id-4 input.sk-hidden--visually {border: 0;clip: rect(1px 1px 1px 1px);clip: rect(1px, 1px, 1px, 1px);height: 1px;margin: -1px;overflow: hidden;padding: 0;position: absolute;width: 1px;}#sk-container-id-4 div.sk-estimator {font-family: monospace;background-color: #f0f8ff;border: 1px dotted black;border-radius: 0.25em;box-sizing: border-box;margin-bottom: 0.5em;}#sk-container-id-4 div.sk-estimator:hover {background-color: #d4ebff;}#sk-container-id-4 div.sk-parallel-item::after {content: \"\";width: 100%;border-bottom: 1px solid gray;flex-grow: 1;}#sk-container-id-4 div.sk-label:hover label.sk-toggleable__label {background-color: #d4ebff;}#sk-container-id-4 div.sk-serial::before {content: \"\";position: absolute;border-left: 1px solid gray;box-sizing: border-box;top: 0;bottom: 0;left: 50%;z-index: 0;}#sk-container-id-4 div.sk-serial {display: flex;flex-direction: column;align-items: center;background-color: white;padding-right: 0.2em;padding-left: 0.2em;position: relative;}#sk-container-id-4 div.sk-item {position: relative;z-index: 1;}#sk-container-id-4 div.sk-parallel {display: flex;align-items: stretch;justify-content: center;background-color: white;position: relative;}#sk-container-id-4 div.sk-item::before, #sk-container-id-4 div.sk-parallel-item::before {content: \"\";position: absolute;border-left: 1px solid gray;box-sizing: border-box;top: 0;bottom: 0;left: 50%;z-index: -1;}#sk-container-id-4 div.sk-parallel-item {display: flex;flex-direction: column;z-index: 1;position: relative;background-color: white;}#sk-container-id-4 div.sk-parallel-item:first-child::after {align-self: flex-end;width: 50%;}#sk-container-id-4 div.sk-parallel-item:last-child::after {align-self: flex-start;width: 50%;}#sk-container-id-4 div.sk-parallel-item:only-child::after {width: 0;}#sk-container-id-4 div.sk-dashed-wrapped {border: 1px dashed gray;margin: 0 0.4em 0.5em 0.4em;box-sizing: border-box;padding-bottom: 0.4em;background-color: white;}#sk-container-id-4 div.sk-label label {font-family: monospace;font-weight: bold;display: inline-block;line-height: 1.2em;}#sk-container-id-4 div.sk-label-container {text-align: center;}#sk-container-id-4 div.sk-container {/* jupyter's `normalize.less` sets `[hidden] { display: none; }` but bootstrap.min.css set `[hidden] { display: none !important; }` so we also need the `!important` here to be able to override the default hidden behavior on the sphinx rendered scikit-learn.org. See: https://github.com/scikit-learn/scikit-learn/issues/21755 */display: inline-block !important;position: relative;}#sk-container-id-4 div.sk-text-repr-fallback {display: none;}</style><div id=\"sk-container-id-4\" class=\"sk-top-container\"><div class=\"sk-text-repr-fallback\"><pre>CountVectorizer(stop_words=&#x27;english&#x27;)</pre><b>In a Jupyter environment, please rerun this cell to show the HTML representation or trust the notebook. <br />On GitHub, the HTML representation is unable to render, please try loading this page with nbviewer.org.</b></div><div class=\"sk-container\" hidden><div class=\"sk-item\"><div class=\"sk-estimator sk-toggleable\"><input class=\"sk-toggleable__control sk-hidden--visually\" id=\"sk-estimator-id-4\" type=\"checkbox\" checked><label for=\"sk-estimator-id-4\" class=\"sk-toggleable__label sk-toggleable__label-arrow\">CountVectorizer</label><div class=\"sk-toggleable__content\"><pre>CountVectorizer(stop_words=&#x27;english&#x27;)</pre></div></div></div></div></div>"
      ],
      "text/plain": [
       "CountVectorizer(stop_words='english')"
      ]
     },
     "execution_count": 44,
     "metadata": {},
     "output_type": "execute_result"
    }
   ],
   "source": [
    "cv"
   ]
  },
  {
   "cell_type": "markdown",
   "id": "a5466433",
   "metadata": {},
   "source": [
    "*FIT THE MODEL ON THE TEXT DATA*"
   ]
  },
  {
   "cell_type": "code",
   "execution_count": 45,
   "id": "bef10a66",
   "metadata": {},
   "outputs": [],
   "source": [
    "sparse_matrix = cv.fit_transform(file_one)"
   ]
  },
  {
   "cell_type": "code",
   "execution_count": 46,
   "id": "7f707cd6",
   "metadata": {},
   "outputs": [
    {
     "data": {
      "text/plain": [
       "matrix([[0, 0, 0, 0, 0, 0],\n",
       "        [0, 0, 0, 0, 0, 0],\n",
       "        [0, 0, 0, 0, 0, 0],\n",
       "        [0, 0, 0, 0, 0, 1],\n",
       "        [0, 0, 0, 0, 0, 0],\n",
       "        [0, 0, 1, 0, 0, 0],\n",
       "        [0, 0, 0, 0, 0, 0],\n",
       "        [0, 1, 0, 0, 0, 0],\n",
       "        [0, 0, 0, 0, 1, 0],\n",
       "        [0, 0, 1, 0, 0, 0],\n",
       "        [0, 0, 0, 0, 0, 0],\n",
       "        [0, 0, 0, 1, 0, 0],\n",
       "        [1, 0, 0, 0, 0, 0]], dtype=int64)"
      ]
     },
     "execution_count": 46,
     "metadata": {},
     "output_type": "execute_result"
    }
   ],
   "source": [
    "sparse_matrix.todense()"
   ]
  },
  {
   "cell_type": "markdown",
   "id": "3b5d0a64",
   "metadata": {},
   "source": [
    "*OBTAIN THE VOCABULARY MAP*"
   ]
  },
  {
   "cell_type": "code",
   "execution_count": 47,
   "id": "25526a20",
   "metadata": {},
   "outputs": [
    {
     "data": {
      "text/plain": [
       "{'story': 5, 'dogs': 2, 'canine': 1, 'pets': 4, 'furry': 3, 'animals': 0}"
      ]
     },
     "execution_count": 47,
     "metadata": {},
     "output_type": "execute_result"
    }
   ],
   "source": [
    "cv.vocabulary_"
   ]
  },
  {
   "cell_type": "markdown",
   "id": "76190882",
   "metadata": {},
   "source": [
    "*CREATE A TF-IDF TRANSFORMER*"
   ]
  },
  {
   "cell_type": "code",
   "execution_count": 48,
   "id": "5f5c9e78",
   "metadata": {},
   "outputs": [],
   "source": [
    "tfidf = TfidfTransformer()"
   ]
  },
  {
   "cell_type": "code",
   "execution_count": 49,
   "id": "c398abd8",
   "metadata": {},
   "outputs": [],
   "source": [
    "tfidf_matrix = tfidf.fit_transform(sparse_matrix)"
   ]
  },
  {
   "cell_type": "code",
   "execution_count": 50,
   "id": "1656ff18",
   "metadata": {},
   "outputs": [
    {
     "data": {
      "text/plain": [
       "matrix([[0., 0., 0., 0., 0., 0.],\n",
       "        [0., 0., 0., 0., 0., 0.],\n",
       "        [0., 0., 0., 0., 0., 0.],\n",
       "        [0., 0., 0., 0., 0., 1.],\n",
       "        [0., 0., 0., 0., 0., 0.],\n",
       "        [0., 0., 1., 0., 0., 0.],\n",
       "        [0., 0., 0., 0., 0., 0.],\n",
       "        [0., 1., 0., 0., 0., 0.],\n",
       "        [0., 0., 0., 0., 1., 0.],\n",
       "        [0., 0., 1., 0., 0., 0.],\n",
       "        [0., 0., 0., 0., 0., 0.],\n",
       "        [0., 0., 0., 1., 0., 0.],\n",
       "        [1., 0., 0., 0., 0., 0.]])"
      ]
     },
     "execution_count": 50,
     "metadata": {},
     "output_type": "execute_result"
    }
   ],
   "source": [
    "tfidf_matrix.todense()"
   ]
  },
  {
   "cell_type": "markdown",
   "id": "a8eff7ec",
   "metadata": {},
   "source": [
    "*CREATE A TF-IDF VECTORIZER*"
   ]
  },
  {
   "cell_type": "code",
   "execution_count": 51,
   "id": "3adf286a",
   "metadata": {},
   "outputs": [],
   "source": [
    "tfidf_vector = TfidfVectorizer()"
   ]
  },
  {
   "cell_type": "code",
   "execution_count": 52,
   "id": "a65fd368",
   "metadata": {},
   "outputs": [],
   "source": [
    "result = tfidf_vector.fit_transform(file_one)"
   ]
  },
  {
   "cell_type": "code",
   "execution_count": 53,
   "id": "268bbf95",
   "metadata": {},
   "outputs": [
    {
     "data": {
      "text/plain": [
       "<13x11 sparse matrix of type '<class 'numpy.float64'>'\n",
       "\twith 12 stored elements in Compressed Sparse Row format>"
      ]
     },
     "execution_count": 53,
     "metadata": {},
     "output_type": "execute_result"
    }
   ],
   "source": [
    "result"
   ]
  },
  {
   "cell_type": "code",
   "execution_count": null,
   "id": "1b8ad975",
   "metadata": {},
   "outputs": [],
   "source": []
  }
 ],
 "metadata": {
  "kernelspec": {
   "display_name": "Python 3 (ipykernel)",
   "language": "python",
   "name": "python3"
  },
  "language_info": {
   "codemirror_mode": {
    "name": "ipython",
    "version": 3
   },
   "file_extension": ".py",
   "mimetype": "text/x-python",
   "name": "python",
   "nbconvert_exporter": "python",
   "pygments_lexer": "ipython3",
   "version": "3.10.13"
  }
 },
 "nbformat": 4,
 "nbformat_minor": 5
}
