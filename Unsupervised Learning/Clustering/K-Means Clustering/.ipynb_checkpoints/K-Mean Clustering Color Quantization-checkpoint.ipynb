{
 "cells": [
  {
   "cell_type": "markdown",
   "id": "a82912db",
   "metadata": {},
   "source": [
    "**IMPORT RELEVANT LIBRARIES**"
   ]
  },
  {
   "cell_type": "code",
   "execution_count": 1,
   "id": "80e0af54",
   "metadata": {},
   "outputs": [],
   "source": [
    "import numpy as np\n",
    "import matplotlib.pyplot as plt\n",
    "import matplotlib.image as mpimg # converts jpeg or png image files to vector arrays"
   ]
  },
  {
   "cell_type": "markdown",
   "id": "17aab54f",
   "metadata": {},
   "source": [
    "**READ IN THE IMAGE**"
   ]
  },
  {
   "cell_type": "code",
   "execution_count": null,
   "id": "7a02686d",
   "metadata": {},
   "outputs": [],
   "source": [
    "Img = mpimg.imread()"
   ]
  }
 ],
 "metadata": {
  "kernelspec": {
   "display_name": "Python 3 (ipykernel)",
   "language": "python",
   "name": "python3"
  },
  "language_info": {
   "codemirror_mode": {
    "name": "ipython",
    "version": 3
   },
   "file_extension": ".py",
   "mimetype": "text/x-python",
   "name": "python",
   "nbconvert_exporter": "python",
   "pygments_lexer": "ipython3",
   "version": "3.11.3"
  }
 },
 "nbformat": 4,
 "nbformat_minor": 5
}
