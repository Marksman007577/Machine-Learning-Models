{
 "cells": [
  {
   "cell_type": "markdown",
   "id": "2e1cbfc5-0601-4c3e-92f4-455d661b4e09",
   "metadata": {},
   "source": [
    "**MovieLens DATASET**"
   ]
  },
  {
   "cell_type": "markdown",
   "id": "1099a655-8f19-490f-a93d-3c41d240eab0",
   "metadata": {},
   "source": [
    "*The MovieLens 20M Dataset, provided by\n",
    "GroupLens, a research lab in the Department of Computer Science and\n",
    "Engineering at the University of Minnesota, Twin Cities. The data contains\n",
    "20,000,263 ratings across 27,278 movies created by 138,493 users from\n",
    "January 9, 1995 to March 31, 2015. Of users who rated at least 20 movies\n",
    "each, we will select a subset at random.\n",
    "This dataset is more manageable to work with than the 100 million ratings\n",
    "dataset from Netflix. Because the file size exceeds one hundred megabytes,\n",
    "the file is not accessible on GitHub. You will need to download the file\n",
    "directly from the MovieLens website.*"
   ]
  },
  {
   "cell_type": "markdown",
   "id": "6ebbd11f-5fa0-4adb-be3f-d381cbdb0328",
   "metadata": {},
   "source": [
    "**DATA PREPARATION**"
   ]
  },
  {
   "cell_type": "code",
   "execution_count": 1,
   "id": "b1f85ad5-ee5f-46c8-9f11-37bd27e0b52f",
   "metadata": {},
   "outputs": [],
   "source": [
    "'''Main Libraries'''\n",
    "import numpy as np\n",
    "import pandas as pd\n",
    "import os, time, re\n",
    "import datetime"
   ]
  },
  {
   "cell_type": "code",
   "execution_count": 3,
   "id": "8bfc7f6f-0d18-4b78-83ca-3f71ac1fafe5",
   "metadata": {},
   "outputs": [],
   "source": [
    "'''Data Visualization'''\n",
    "import matplotlib.pyplot as plt\n",
    "import seaborn as sns\n",
    "import matplotlib as mpl\n",
    "color = sns.color_palette()\n",
    "%matplotlib inline"
   ]
  },
  {
   "cell_type": "code",
   "execution_count": 4,
   "id": "4ca9d105-c7cf-4fd4-9413-1496f6d815da",
   "metadata": {},
   "outputs": [],
   "source": [
    "'''Data Preparation and Model Evaluation'''\n",
    "from sklearn.preprocessing import StandardScaler\n",
    "from sklearn.model_selection import train_test_split, StratifiedKFold\n",
    "from sklearn.metrics import log_loss\n",
    "from sklearn.metrics import precision_recall_curve, average_precision_score\n",
    "from sklearn.metrics import roc_curve, auc, roc_auc_score, mean_squared_error"
   ]
  },
  {
   "cell_type": "code",
   "execution_count": 5,
   "id": "40bdc113-e98a-489b-ba66-318ba8456775",
   "metadata": {},
   "outputs": [],
   "source": [
    "'''Algorithm'''\n",
    "import lightgbm as lgb"
   ]
  },
  {
   "cell_type": "code",
   "execution_count": 6,
   "id": "06b4cf4f-fe5b-4fc8-8b44-1065c38fd19c",
   "metadata": {},
   "outputs": [],
   "source": [
    "'''Tensorflow and Keras'''\n",
    "import  tensorflow as tf\n",
    "\n",
    "import keras\n",
    "from keras import backend as k\n",
    "\n",
    "from keras.models import Sequential, Model\n",
    "\n",
    "from keras.layers import Activation, Dense, Dropout\n",
    "from keras.layers import BatchNormalization, Input, Lambda\n",
    "\n",
    "from keras import regularizers\n",
    "\n",
    "from keras.losses import mse, binary_crossentropy"
   ]
  },
  {
   "cell_type": "markdown",
   "id": "4c5f45c9-97de-4963-9928-6e8ad8c8d30c",
   "metadata": {},
   "source": [
    "**IMPORT DATASET**"
   ]
  },
  {
   "cell_type": "code",
   "execution_count": 7,
   "id": "a78f08a1-90eb-4e29-9ee8-1e0a2408f5c0",
   "metadata": {},
   "outputs": [],
   "source": [
    "df = pd.read_csv(\"..\\\\Restricted Boltzmann Machine\\\\movielens_data\\\\rating.csv\")"
   ]
  },
  {
   "cell_type": "code",
   "execution_count": 8,
   "id": "f28e0dd8-7aa6-4bca-8c69-073f0e11c503",
   "metadata": {},
   "outputs": [
    {
     "data": {
      "text/html": [
       "<div>\n",
       "<style scoped>\n",
       "    .dataframe tbody tr th:only-of-type {\n",
       "        vertical-align: middle;\n",
       "    }\n",
       "\n",
       "    .dataframe tbody tr th {\n",
       "        vertical-align: top;\n",
       "    }\n",
       "\n",
       "    .dataframe thead th {\n",
       "        text-align: right;\n",
       "    }\n",
       "</style>\n",
       "<table border=\"1\" class=\"dataframe\">\n",
       "  <thead>\n",
       "    <tr style=\"text-align: right;\">\n",
       "      <th></th>\n",
       "      <th>userId</th>\n",
       "      <th>movieId</th>\n",
       "      <th>rating</th>\n",
       "      <th>timestamp</th>\n",
       "    </tr>\n",
       "  </thead>\n",
       "  <tbody>\n",
       "    <tr>\n",
       "      <th>0</th>\n",
       "      <td>1</td>\n",
       "      <td>2</td>\n",
       "      <td>3.5</td>\n",
       "      <td>2005-04-02 23:53:47</td>\n",
       "    </tr>\n",
       "    <tr>\n",
       "      <th>1</th>\n",
       "      <td>1</td>\n",
       "      <td>29</td>\n",
       "      <td>3.5</td>\n",
       "      <td>2005-04-02 23:31:16</td>\n",
       "    </tr>\n",
       "    <tr>\n",
       "      <th>2</th>\n",
       "      <td>1</td>\n",
       "      <td>32</td>\n",
       "      <td>3.5</td>\n",
       "      <td>2005-04-02 23:33:39</td>\n",
       "    </tr>\n",
       "    <tr>\n",
       "      <th>3</th>\n",
       "      <td>1</td>\n",
       "      <td>47</td>\n",
       "      <td>3.5</td>\n",
       "      <td>2005-04-02 23:32:07</td>\n",
       "    </tr>\n",
       "  </tbody>\n",
       "</table>\n",
       "</div>"
      ],
      "text/plain": [
       "   userId  movieId  rating            timestamp\n",
       "0       1        2     3.5  2005-04-02 23:53:47\n",
       "1       1       29     3.5  2005-04-02 23:31:16\n",
       "2       1       32     3.5  2005-04-02 23:33:39\n",
       "3       1       47     3.5  2005-04-02 23:32:07"
      ]
     },
     "execution_count": 8,
     "metadata": {},
     "output_type": "execute_result"
    }
   ],
   "source": [
    "df.head(4)"
   ]
  },
  {
   "cell_type": "markdown",
   "id": "9586bc7d-ea2d-41fe-8be5-23c540d1f15f",
   "metadata": {},
   "source": [
    "**PERFORM EXPLORATORY DATA ANALYSIS**"
   ]
  },
  {
   "cell_type": "code",
   "execution_count": 12,
   "id": "df838dee-361b-4a96-8692-fa73be5754fd",
   "metadata": {},
   "outputs": [
    {
     "name": "stdout",
     "output_type": "stream",
     "text": [
      "Number of unique users: 138493\n",
      "Number of unique movies: 26744\n",
      "Number of total ratings: 20000263\n",
      "Average number of ratings per user: 144.4\n"
     ]
    }
   ],
   "source": [
    "num_of_user = df['userId'].unique().shape[0]\n",
    "num_of_movies = df['movieId'].unique().shape[0]\n",
    "num_of_ratings = len(df)\n",
    "average_rating_per_user = num_of_ratings/num_of_user\n",
    "\n",
    "print(f'Number of unique users: {num_of_user}')\n",
    "print(f'Number of unique movies: {num_of_movies}')\n",
    "print(f'Number of total ratings: {num_of_ratings}')\n",
    "print(f'Average number of ratings per user: {round(average_rating_per_user,1)}')"
   ]
  },
  {
   "cell_type": "markdown",
   "id": "1c713835-53de-423d-8cb4-ed0c9b097347",
   "metadata": {},
   "source": [
    "*To reduce the complexity and size of this dataset, let’s focus on the top one\n",
    "thousand most rated movies. This will reduce the number of ratings from\n",
    "about ~20 million to about ~12.8 million.*"
   ]
  },
  {
   "cell_type": "markdown",
   "id": "e000f667-f5f0-4f6c-951f-9c9fabb96b38",
   "metadata": {},
   "source": [
    "**REDUCE THE SIZE OF THE DATASET BY TAKING THE TOP 1000 MOVIES**"
   ]
  },
  {
   "cell_type": "code",
   "execution_count": 14,
   "id": "7bd23eab-23a0-46ea-bfa3-25f71b04d029",
   "metadata": {},
   "outputs": [
    {
     "data": {
      "text/plain": [
       "userId       12840344\n",
       "movieId      12840344\n",
       "rating       12840344\n",
       "timestamp    12840344\n",
       "dtype: int64"
      ]
     },
     "execution_count": 14,
     "metadata": {},
     "output_type": "execute_result"
    }
   ],
   "source": [
    "movie_index = df.groupby(\"movieId\").count().sort_values(by=\"rating\",ascending=False)[0:1000].index\n",
    "reduced_df = df[df.movieId.isin(movie_index)]\n",
    "reduced_df.count()"
   ]
  },
  {
   "cell_type": "markdown",
   "id": "0f492484-36c9-4585-9446-1e151196b367",
   "metadata": {},
   "source": [
    "**REDUCE THE SIZE OF THE DATASET BY SAMPLING 1000 USERS**"
   ]
  },
  {
   "cell_type": "code",
   "execution_count": 16,
   "id": "72c9a9da-eefe-426a-b47d-3e4cd68c6c6f",
   "metadata": {},
   "outputs": [
    {
     "data": {
      "text/plain": [
       "userId       90213\n",
       "movieId      90213\n",
       "rating       90213\n",
       "timestamp    90213\n",
       "dtype: int64"
      ]
     },
     "execution_count": 16,
     "metadata": {},
     "output_type": "execute_result"
    }
   ],
   "source": [
    "# Reduce size of dataset by sampling 1000 users\n",
    "user_index = reduced_df.groupby(\"userId\").count().sort_values(by=\"rating\",ascending=False).sample(n=1000, random_state=2018).index\n",
    "reduced_df_one = reduced_df[reduced_df.userId.isin(user_index)]\n",
    "reduced_df_one.count()"
   ]
  },
  {
   "cell_type": "markdown",
   "id": "017575cf-648b-4657-bd61-57f21e813030",
   "metadata": {},
   "source": [
    "**RE-INDEX MOVIE ID AND USER ID**"
   ]
  },
  {
   "cell_type": "code",
   "execution_count": 19,
   "id": "6684e8a8-b059-460f-a879-78e4fc27a2ae",
   "metadata": {},
   "outputs": [],
   "source": [
    "# Reindex movie ID\n",
    "movies = reduced_df_one.movieId.unique()\n",
    "movies_df = pd.DataFrame(data=movies,columns=['originalMovieId'])\n",
    "movies_df['newMovieId'] = movies_df.index+1\n",
    "\n",
    "# Reindex user ID\n",
    "users = reduced_df_one.userId.unique()\n",
    "users_df = pd.DataFrame(data=users,columns=['originalUserId'])\n",
    "users_df['newUserId'] = users_df.index+1"
   ]
  },
  {
   "cell_type": "code",
   "execution_count": 20,
   "id": "1a6f53d8-6bc9-49bc-849d-25814d44c661",
   "metadata": {},
   "outputs": [
    {
     "data": {
      "text/html": [
       "<div>\n",
       "<style scoped>\n",
       "    .dataframe tbody tr th:only-of-type {\n",
       "        vertical-align: middle;\n",
       "    }\n",
       "\n",
       "    .dataframe tbody tr th {\n",
       "        vertical-align: top;\n",
       "    }\n",
       "\n",
       "    .dataframe thead th {\n",
       "        text-align: right;\n",
       "    }\n",
       "</style>\n",
       "<table border=\"1\" class=\"dataframe\">\n",
       "  <thead>\n",
       "    <tr style=\"text-align: right;\">\n",
       "      <th></th>\n",
       "      <th>originalMovieId</th>\n",
       "      <th>newMovieId</th>\n",
       "    </tr>\n",
       "  </thead>\n",
       "  <tbody>\n",
       "    <tr>\n",
       "      <th>0</th>\n",
       "      <td>50</td>\n",
       "      <td>1</td>\n",
       "    </tr>\n",
       "    <tr>\n",
       "      <th>1</th>\n",
       "      <td>163</td>\n",
       "      <td>2</td>\n",
       "    </tr>\n",
       "    <tr>\n",
       "      <th>2</th>\n",
       "      <td>216</td>\n",
       "      <td>3</td>\n",
       "    </tr>\n",
       "    <tr>\n",
       "      <th>3</th>\n",
       "      <td>296</td>\n",
       "      <td>4</td>\n",
       "    </tr>\n",
       "    <tr>\n",
       "      <th>4</th>\n",
       "      <td>333</td>\n",
       "      <td>5</td>\n",
       "    </tr>\n",
       "  </tbody>\n",
       "</table>\n",
       "</div>"
      ],
      "text/plain": [
       "   originalMovieId  newMovieId\n",
       "0               50           1\n",
       "1              163           2\n",
       "2              216           3\n",
       "3              296           4\n",
       "4              333           5"
      ]
     },
     "execution_count": 20,
     "metadata": {},
     "output_type": "execute_result"
    }
   ],
   "source": [
    "movies_df.head()"
   ]
  },
  {
   "cell_type": "code",
   "execution_count": 21,
   "id": "8b38b401-1723-4a59-b2a7-8c89b4be3f5d",
   "metadata": {},
   "outputs": [
    {
     "data": {
      "text/html": [
       "<div>\n",
       "<style scoped>\n",
       "    .dataframe tbody tr th:only-of-type {\n",
       "        vertical-align: middle;\n",
       "    }\n",
       "\n",
       "    .dataframe tbody tr th {\n",
       "        vertical-align: top;\n",
       "    }\n",
       "\n",
       "    .dataframe thead th {\n",
       "        text-align: right;\n",
       "    }\n",
       "</style>\n",
       "<table border=\"1\" class=\"dataframe\">\n",
       "  <thead>\n",
       "    <tr style=\"text-align: right;\">\n",
       "      <th></th>\n",
       "      <th>originalUserId</th>\n",
       "      <th>newUserId</th>\n",
       "    </tr>\n",
       "  </thead>\n",
       "  <tbody>\n",
       "    <tr>\n",
       "      <th>0</th>\n",
       "      <td>49</td>\n",
       "      <td>1</td>\n",
       "    </tr>\n",
       "    <tr>\n",
       "      <th>1</th>\n",
       "      <td>260</td>\n",
       "      <td>2</td>\n",
       "    </tr>\n",
       "    <tr>\n",
       "      <th>2</th>\n",
       "      <td>311</td>\n",
       "      <td>3</td>\n",
       "    </tr>\n",
       "    <tr>\n",
       "      <th>3</th>\n",
       "      <td>319</td>\n",
       "      <td>4</td>\n",
       "    </tr>\n",
       "    <tr>\n",
       "      <th>4</th>\n",
       "      <td>499</td>\n",
       "      <td>5</td>\n",
       "    </tr>\n",
       "  </tbody>\n",
       "</table>\n",
       "</div>"
      ],
      "text/plain": [
       "   originalUserId  newUserId\n",
       "0              49          1\n",
       "1             260          2\n",
       "2             311          3\n",
       "3             319          4\n",
       "4             499          5"
      ]
     },
     "execution_count": 21,
     "metadata": {},
     "output_type": "execute_result"
    }
   ],
   "source": [
    "users_df.head()"
   ]
  },
  {
   "cell_type": "markdown",
   "id": "057a9fb0-7556-4269-8679-2c0727831d43",
   "metadata": {},
   "source": [
    "**GENERATE A NEW DATAFRAME**"
   ]
  },
  {
   "cell_type": "code",
   "execution_count": 22,
   "id": "2bc181f9-1e61-4c53-9b2f-cb14f0af0e3c",
   "metadata": {},
   "outputs": [],
   "source": [
    "new_df = reduced_df_one.merge(movies_df,left_on='movieId', right_on='originalMovieId')\n",
    "new_df.drop(labels='originalMovieId', axis=1, inplace=True)\n",
    "new_df = new_df.merge(users_df,left_on='userId', right_on='originalUserId')\n",
    "new_df.drop(labels='originalUserId', axis=1, inplace=True)"
   ]
  },
  {
   "cell_type": "code",
   "execution_count": 23,
   "id": "0899c273-db8e-47a2-a0b1-1fc5230994ff",
   "metadata": {},
   "outputs": [
    {
     "data": {
      "text/html": [
       "<div>\n",
       "<style scoped>\n",
       "    .dataframe tbody tr th:only-of-type {\n",
       "        vertical-align: middle;\n",
       "    }\n",
       "\n",
       "    .dataframe tbody tr th {\n",
       "        vertical-align: top;\n",
       "    }\n",
       "\n",
       "    .dataframe thead th {\n",
       "        text-align: right;\n",
       "    }\n",
       "</style>\n",
       "<table border=\"1\" class=\"dataframe\">\n",
       "  <thead>\n",
       "    <tr style=\"text-align: right;\">\n",
       "      <th></th>\n",
       "      <th>userId</th>\n",
       "      <th>movieId</th>\n",
       "      <th>rating</th>\n",
       "      <th>timestamp</th>\n",
       "      <th>newMovieId</th>\n",
       "      <th>newUserId</th>\n",
       "    </tr>\n",
       "  </thead>\n",
       "  <tbody>\n",
       "    <tr>\n",
       "      <th>0</th>\n",
       "      <td>49</td>\n",
       "      <td>50</td>\n",
       "      <td>5.0</td>\n",
       "      <td>2013-05-03 02:50:26</td>\n",
       "      <td>1</td>\n",
       "      <td>1</td>\n",
       "    </tr>\n",
       "    <tr>\n",
       "      <th>1</th>\n",
       "      <td>49</td>\n",
       "      <td>163</td>\n",
       "      <td>3.5</td>\n",
       "      <td>2013-05-03 02:43:37</td>\n",
       "      <td>2</td>\n",
       "      <td>1</td>\n",
       "    </tr>\n",
       "    <tr>\n",
       "      <th>2</th>\n",
       "      <td>49</td>\n",
       "      <td>216</td>\n",
       "      <td>3.0</td>\n",
       "      <td>2013-05-03 02:45:58</td>\n",
       "      <td>3</td>\n",
       "      <td>1</td>\n",
       "    </tr>\n",
       "    <tr>\n",
       "      <th>3</th>\n",
       "      <td>49</td>\n",
       "      <td>296</td>\n",
       "      <td>5.0</td>\n",
       "      <td>2013-05-03 02:50:13</td>\n",
       "      <td>4</td>\n",
       "      <td>1</td>\n",
       "    </tr>\n",
       "    <tr>\n",
       "      <th>4</th>\n",
       "      <td>49</td>\n",
       "      <td>333</td>\n",
       "      <td>3.0</td>\n",
       "      <td>2013-05-03 02:44:38</td>\n",
       "      <td>5</td>\n",
       "      <td>1</td>\n",
       "    </tr>\n",
       "  </tbody>\n",
       "</table>\n",
       "</div>"
      ],
      "text/plain": [
       "   userId  movieId  rating            timestamp  newMovieId  newUserId\n",
       "0      49       50     5.0  2013-05-03 02:50:26           1          1\n",
       "1      49      163     3.5  2013-05-03 02:43:37           2          1\n",
       "2      49      216     3.0  2013-05-03 02:45:58           3          1\n",
       "3      49      296     5.0  2013-05-03 02:50:13           4          1\n",
       "4      49      333     3.0  2013-05-03 02:44:38           5          1"
      ]
     },
     "execution_count": 23,
     "metadata": {},
     "output_type": "execute_result"
    }
   ],
   "source": [
    "new_df.head()"
   ]
  },
  {
   "cell_type": "markdown",
   "id": "a2494542-aa80-46dc-a027-e0932851216f",
   "metadata": {},
   "source": [
    "**SAVE THE NEW DATAFRAME**"
   ]
  },
  {
   "cell_type": "code",
   "execution_count": 24,
   "id": "436b3ef4-3b17-4c88-b8af-cd9fa6f5b3cd",
   "metadata": {},
   "outputs": [],
   "source": [
    "new_df.to_csv('reduced_movie_dataset.csv', sep=',', index=False, encoding='utf-8')"
   ]
  },
  {
   "cell_type": "markdown",
   "id": "d5813129-a1a2-4926-becd-3be2b89a9060",
   "metadata": {},
   "source": [
    "**CALCULATE THE SUMMARY OF NEW DATASET**"
   ]
  },
  {
   "cell_type": "code",
   "execution_count": 25,
   "id": "f6359ca0-763e-43df-8c1b-782f164f77ba",
   "metadata": {},
   "outputs": [
    {
     "name": "stdout",
     "output_type": "stream",
     "text": [
      "Number of unique users: 1000\n",
      "Number of unique movies: 1000\n",
      "Number of total ratings: 90213\n",
      "Average number of ratings per user: 90.2\n"
     ]
    }
   ],
   "source": [
    "num_of_user = new_df['userId'].unique().shape[0]\n",
    "num_of_movies = new_df['movieId'].unique().shape[0]\n",
    "num_of_ratings = len(new_df)\n",
    "average_rating_per_user = num_of_ratings/num_of_user\n",
    "\n",
    "print(f'Number of unique users: {num_of_user}')\n",
    "print(f'Number of unique movies: {num_of_movies}')\n",
    "print(f'Number of total ratings: {num_of_ratings}')\n",
    "print(f'Average number of ratings per user: {round(average_rating_per_user,1)}')"
   ]
  },
  {
   "cell_type": "markdown",
   "id": "f9517b1a-2707-4e49-ba53-7318fc7db528",
   "metadata": {},
   "source": [
    "**PERFORM TRAIN TEST SPLIT**"
   ]
  },
  {
   "cell_type": "code",
   "execution_count": 26,
   "id": "bdbd64f8-fca4-421f-9738-020847588f3d",
   "metadata": {},
   "outputs": [],
   "source": [
    "X_train, X_test = train_test_split(new_df, test_size=0.10, shuffle=True, random_state=2018)"
   ]
  },
  {
   "cell_type": "code",
   "execution_count": 27,
   "id": "d907128d-ae11-4a29-957c-232ef781e016",
   "metadata": {},
   "outputs": [],
   "source": [
    "X_valid, X_test = train_test_split(X_test, test_size=0.50, shuffle=True, random_state=2018)"
   ]
  },
  {
   "cell_type": "code",
   "execution_count": 28,
   "id": "2e47f013-b05d-4bee-a794-179ea3c0bebc",
   "metadata": {},
   "outputs": [
    {
     "data": {
      "text/html": [
       "<div>\n",
       "<style scoped>\n",
       "    .dataframe tbody tr th:only-of-type {\n",
       "        vertical-align: middle;\n",
       "    }\n",
       "\n",
       "    .dataframe tbody tr th {\n",
       "        vertical-align: top;\n",
       "    }\n",
       "\n",
       "    .dataframe thead th {\n",
       "        text-align: right;\n",
       "    }\n",
       "</style>\n",
       "<table border=\"1\" class=\"dataframe\">\n",
       "  <thead>\n",
       "    <tr style=\"text-align: right;\">\n",
       "      <th></th>\n",
       "      <th>userId</th>\n",
       "      <th>movieId</th>\n",
       "      <th>rating</th>\n",
       "      <th>timestamp</th>\n",
       "      <th>newMovieId</th>\n",
       "      <th>newUserId</th>\n",
       "    </tr>\n",
       "  </thead>\n",
       "  <tbody>\n",
       "    <tr>\n",
       "      <th>77796</th>\n",
       "      <td>118358</td>\n",
       "      <td>2918</td>\n",
       "      <td>4.0</td>\n",
       "      <td>2005-03-17 13:11:50</td>\n",
       "      <td>725</td>\n",
       "      <td>841</td>\n",
       "    </tr>\n",
       "    <tr>\n",
       "      <th>20109</th>\n",
       "      <td>48345</td>\n",
       "      <td>1907</td>\n",
       "      <td>3.0</td>\n",
       "      <td>2003-01-26 05:32:21</td>\n",
       "      <td>345</td>\n",
       "      <td>347</td>\n",
       "    </tr>\n",
       "    <tr>\n",
       "      <th>61046</th>\n",
       "      <td>25880</td>\n",
       "      <td>74458</td>\n",
       "      <td>4.0</td>\n",
       "      <td>2010-11-21 09:47:32</td>\n",
       "      <td>75</td>\n",
       "      <td>180</td>\n",
       "    </tr>\n",
       "    <tr>\n",
       "      <th>58074</th>\n",
       "      <td>73713</td>\n",
       "      <td>39</td>\n",
       "      <td>4.0</td>\n",
       "      <td>1999-02-07 05:07:01</td>\n",
       "      <td>465</td>\n",
       "      <td>522</td>\n",
       "    </tr>\n",
       "    <tr>\n",
       "      <th>77706</th>\n",
       "      <td>117584</td>\n",
       "      <td>590</td>\n",
       "      <td>4.0</td>\n",
       "      <td>1996-09-11 08:24:35</td>\n",
       "      <td>255</td>\n",
       "      <td>831</td>\n",
       "    </tr>\n",
       "    <tr>\n",
       "      <th>...</th>\n",
       "      <td>...</td>\n",
       "      <td>...</td>\n",
       "      <td>...</td>\n",
       "      <td>...</td>\n",
       "      <td>...</td>\n",
       "      <td>...</td>\n",
       "    </tr>\n",
       "    <tr>\n",
       "      <th>10388</th>\n",
       "      <td>27131</td>\n",
       "      <td>52</td>\n",
       "      <td>5.0</td>\n",
       "      <td>2000-07-03 18:02:48</td>\n",
       "      <td>634</td>\n",
       "      <td>195</td>\n",
       "    </tr>\n",
       "    <tr>\n",
       "      <th>40092</th>\n",
       "      <td>108946</td>\n",
       "      <td>2028</td>\n",
       "      <td>4.0</td>\n",
       "      <td>2001-01-31 05:48:49</td>\n",
       "      <td>57</td>\n",
       "      <td>769</td>\n",
       "    </tr>\n",
       "    <tr>\n",
       "      <th>84745</th>\n",
       "      <td>32312</td>\n",
       "      <td>5299</td>\n",
       "      <td>4.0</td>\n",
       "      <td>2005-03-27 06:42:32</td>\n",
       "      <td>380</td>\n",
       "      <td>243</td>\n",
       "    </tr>\n",
       "    <tr>\n",
       "      <th>80098</th>\n",
       "      <td>93974</td>\n",
       "      <td>508</td>\n",
       "      <td>5.0</td>\n",
       "      <td>2003-01-20 07:06:12</td>\n",
       "      <td>39</td>\n",
       "      <td>654</td>\n",
       "    </tr>\n",
       "    <tr>\n",
       "      <th>60006</th>\n",
       "      <td>7934</td>\n",
       "      <td>1210</td>\n",
       "      <td>5.0</td>\n",
       "      <td>2011-09-21 19:02:01</td>\n",
       "      <td>138</td>\n",
       "      <td>61</td>\n",
       "    </tr>\n",
       "  </tbody>\n",
       "</table>\n",
       "<p>81191 rows × 6 columns</p>\n",
       "</div>"
      ],
      "text/plain": [
       "       userId  movieId  rating            timestamp  newMovieId  newUserId\n",
       "77796  118358     2918     4.0  2005-03-17 13:11:50         725        841\n",
       "20109   48345     1907     3.0  2003-01-26 05:32:21         345        347\n",
       "61046   25880    74458     4.0  2010-11-21 09:47:32          75        180\n",
       "58074   73713       39     4.0  1999-02-07 05:07:01         465        522\n",
       "77706  117584      590     4.0  1996-09-11 08:24:35         255        831\n",
       "...       ...      ...     ...                  ...         ...        ...\n",
       "10388   27131       52     5.0  2000-07-03 18:02:48         634        195\n",
       "40092  108946     2028     4.0  2001-01-31 05:48:49          57        769\n",
       "84745   32312     5299     4.0  2005-03-27 06:42:32         380        243\n",
       "80098   93974      508     5.0  2003-01-20 07:06:12          39        654\n",
       "60006    7934     1210     5.0  2011-09-21 19:02:01         138         61\n",
       "\n",
       "[81191 rows x 6 columns]"
      ]
     },
     "execution_count": 28,
     "metadata": {},
     "output_type": "execute_result"
    }
   ],
   "source": [
    "X_train"
   ]
  },
  {
   "cell_type": "code",
   "execution_count": 29,
   "id": "97d0f382-b34d-4f1b-9689-1f6b85d17084",
   "metadata": {},
   "outputs": [
    {
     "data": {
      "text/html": [
       "<div>\n",
       "<style scoped>\n",
       "    .dataframe tbody tr th:only-of-type {\n",
       "        vertical-align: middle;\n",
       "    }\n",
       "\n",
       "    .dataframe tbody tr th {\n",
       "        vertical-align: top;\n",
       "    }\n",
       "\n",
       "    .dataframe thead th {\n",
       "        text-align: right;\n",
       "    }\n",
       "</style>\n",
       "<table border=\"1\" class=\"dataframe\">\n",
       "  <thead>\n",
       "    <tr style=\"text-align: right;\">\n",
       "      <th></th>\n",
       "      <th>userId</th>\n",
       "      <th>movieId</th>\n",
       "      <th>rating</th>\n",
       "      <th>timestamp</th>\n",
       "      <th>newMovieId</th>\n",
       "      <th>newUserId</th>\n",
       "    </tr>\n",
       "  </thead>\n",
       "  <tbody>\n",
       "    <tr>\n",
       "      <th>58632</th>\n",
       "      <td>104102</td>\n",
       "      <td>3578</td>\n",
       "      <td>5.0</td>\n",
       "      <td>2013-09-29 11:54:04</td>\n",
       "      <td>234</td>\n",
       "      <td>731</td>\n",
       "    </tr>\n",
       "    <tr>\n",
       "      <th>6501</th>\n",
       "      <td>20257</td>\n",
       "      <td>1284</td>\n",
       "      <td>4.0</td>\n",
       "      <td>1997-02-06 01:18:50</td>\n",
       "      <td>861</td>\n",
       "      <td>137</td>\n",
       "    </tr>\n",
       "    <tr>\n",
       "      <th>45799</th>\n",
       "      <td>125007</td>\n",
       "      <td>2959</td>\n",
       "      <td>5.0</td>\n",
       "      <td>2008-03-28 19:43:53</td>\n",
       "      <td>64</td>\n",
       "      <td>893</td>\n",
       "    </tr>\n",
       "    <tr>\n",
       "      <th>7180</th>\n",
       "      <td>20579</td>\n",
       "      <td>5218</td>\n",
       "      <td>4.0</td>\n",
       "      <td>2005-03-05 19:56:49</td>\n",
       "      <td>379</td>\n",
       "      <td>145</td>\n",
       "    </tr>\n",
       "    <tr>\n",
       "      <th>143</th>\n",
       "      <td>311</td>\n",
       "      <td>546</td>\n",
       "      <td>1.0</td>\n",
       "      <td>2001-02-18 16:09:41</td>\n",
       "      <td>115</td>\n",
       "      <td>3</td>\n",
       "    </tr>\n",
       "    <tr>\n",
       "      <th>...</th>\n",
       "      <td>...</td>\n",
       "      <td>...</td>\n",
       "      <td>...</td>\n",
       "      <td>...</td>\n",
       "      <td>...</td>\n",
       "      <td>...</td>\n",
       "    </tr>\n",
       "    <tr>\n",
       "      <th>59794</th>\n",
       "      <td>7598</td>\n",
       "      <td>457</td>\n",
       "      <td>4.0</td>\n",
       "      <td>2001-09-30 13:34:42</td>\n",
       "      <td>305</td>\n",
       "      <td>55</td>\n",
       "    </tr>\n",
       "    <tr>\n",
       "      <th>62199</th>\n",
       "      <td>29357</td>\n",
       "      <td>165</td>\n",
       "      <td>3.0</td>\n",
       "      <td>2005-05-21 23:05:21</td>\n",
       "      <td>87</td>\n",
       "      <td>219</td>\n",
       "    </tr>\n",
       "    <tr>\n",
       "      <th>22193</th>\n",
       "      <td>52868</td>\n",
       "      <td>357</td>\n",
       "      <td>3.0</td>\n",
       "      <td>2004-11-23 12:36:10</td>\n",
       "      <td>300</td>\n",
       "      <td>380</td>\n",
       "    </tr>\n",
       "    <tr>\n",
       "      <th>9009</th>\n",
       "      <td>25676</td>\n",
       "      <td>10</td>\n",
       "      <td>3.5</td>\n",
       "      <td>2006-04-10 19:55:28</td>\n",
       "      <td>79</td>\n",
       "      <td>177</td>\n",
       "    </tr>\n",
       "    <tr>\n",
       "      <th>89173</th>\n",
       "      <td>64021</td>\n",
       "      <td>2701</td>\n",
       "      <td>3.0</td>\n",
       "      <td>2011-12-26 22:03:44</td>\n",
       "      <td>216</td>\n",
       "      <td>451</td>\n",
       "    </tr>\n",
       "  </tbody>\n",
       "</table>\n",
       "<p>4511 rows × 6 columns</p>\n",
       "</div>"
      ],
      "text/plain": [
       "       userId  movieId  rating            timestamp  newMovieId  newUserId\n",
       "58632  104102     3578     5.0  2013-09-29 11:54:04         234        731\n",
       "6501    20257     1284     4.0  1997-02-06 01:18:50         861        137\n",
       "45799  125007     2959     5.0  2008-03-28 19:43:53          64        893\n",
       "7180    20579     5218     4.0  2005-03-05 19:56:49         379        145\n",
       "143       311      546     1.0  2001-02-18 16:09:41         115          3\n",
       "...       ...      ...     ...                  ...         ...        ...\n",
       "59794    7598      457     4.0  2001-09-30 13:34:42         305         55\n",
       "62199   29357      165     3.0  2005-05-21 23:05:21          87        219\n",
       "22193   52868      357     3.0  2004-11-23 12:36:10         300        380\n",
       "9009    25676       10     3.5  2006-04-10 19:55:28          79        177\n",
       "89173   64021     2701     3.0  2011-12-26 22:03:44         216        451\n",
       "\n",
       "[4511 rows x 6 columns]"
      ]
     },
     "execution_count": 29,
     "metadata": {},
     "output_type": "execute_result"
    }
   ],
   "source": [
    "X_valid"
   ]
  },
  {
   "cell_type": "code",
   "execution_count": 30,
   "id": "bf1ece2e-e69f-4105-b6e5-623725c1d316",
   "metadata": {},
   "outputs": [
    {
     "data": {
      "text/html": [
       "<div>\n",
       "<style scoped>\n",
       "    .dataframe tbody tr th:only-of-type {\n",
       "        vertical-align: middle;\n",
       "    }\n",
       "\n",
       "    .dataframe tbody tr th {\n",
       "        vertical-align: top;\n",
       "    }\n",
       "\n",
       "    .dataframe thead th {\n",
       "        text-align: right;\n",
       "    }\n",
       "</style>\n",
       "<table border=\"1\" class=\"dataframe\">\n",
       "  <thead>\n",
       "    <tr style=\"text-align: right;\">\n",
       "      <th></th>\n",
       "      <th>userId</th>\n",
       "      <th>movieId</th>\n",
       "      <th>rating</th>\n",
       "      <th>timestamp</th>\n",
       "      <th>newMovieId</th>\n",
       "      <th>newUserId</th>\n",
       "    </tr>\n",
       "  </thead>\n",
       "  <tbody>\n",
       "    <tr>\n",
       "      <th>3750</th>\n",
       "      <td>9563</td>\n",
       "      <td>480</td>\n",
       "      <td>3.0</td>\n",
       "      <td>1996-06-25 21:47:44</td>\n",
       "      <td>112</td>\n",
       "      <td>76</td>\n",
       "    </tr>\n",
       "    <tr>\n",
       "      <th>31667</th>\n",
       "      <td>84140</td>\n",
       "      <td>1682</td>\n",
       "      <td>4.0</td>\n",
       "      <td>2007-07-22 07:28:53</td>\n",
       "      <td>54</td>\n",
       "      <td>579</td>\n",
       "    </tr>\n",
       "    <tr>\n",
       "      <th>38850</th>\n",
       "      <td>103394</td>\n",
       "      <td>1517</td>\n",
       "      <td>1.0</td>\n",
       "      <td>1999-12-12 16:08:19</td>\n",
       "      <td>569</td>\n",
       "      <td>725</td>\n",
       "    </tr>\n",
       "    <tr>\n",
       "      <th>78158</th>\n",
       "      <td>132306</td>\n",
       "      <td>1214</td>\n",
       "      <td>3.0</td>\n",
       "      <td>2000-08-03 18:12:49</td>\n",
       "      <td>139</td>\n",
       "      <td>945</td>\n",
       "    </tr>\n",
       "    <tr>\n",
       "      <th>57372</th>\n",
       "      <td>63228</td>\n",
       "      <td>2161</td>\n",
       "      <td>0.5</td>\n",
       "      <td>2004-10-11 18:51:37</td>\n",
       "      <td>349</td>\n",
       "      <td>447</td>\n",
       "    </tr>\n",
       "    <tr>\n",
       "      <th>...</th>\n",
       "      <td>...</td>\n",
       "      <td>...</td>\n",
       "      <td>...</td>\n",
       "      <td>...</td>\n",
       "      <td>...</td>\n",
       "      <td>...</td>\n",
       "    </tr>\n",
       "    <tr>\n",
       "      <th>29023</th>\n",
       "      <td>74390</td>\n",
       "      <td>858</td>\n",
       "      <td>5.0</td>\n",
       "      <td>2003-06-20 17:42:12</td>\n",
       "      <td>124</td>\n",
       "      <td>524</td>\n",
       "    </tr>\n",
       "    <tr>\n",
       "      <th>20492</th>\n",
       "      <td>50130</td>\n",
       "      <td>2355</td>\n",
       "      <td>5.0</td>\n",
       "      <td>2006-04-26 03:25:44</td>\n",
       "      <td>354</td>\n",
       "      <td>360</td>\n",
       "    </tr>\n",
       "    <tr>\n",
       "      <th>63676</th>\n",
       "      <td>46868</td>\n",
       "      <td>500</td>\n",
       "      <td>4.0</td>\n",
       "      <td>1996-09-28 16:40:56</td>\n",
       "      <td>306</td>\n",
       "      <td>334</td>\n",
       "    </tr>\n",
       "    <tr>\n",
       "      <th>88115</th>\n",
       "      <td>108303</td>\n",
       "      <td>858</td>\n",
       "      <td>5.0</td>\n",
       "      <td>1997-06-20 04:52:27</td>\n",
       "      <td>124</td>\n",
       "      <td>764</td>\n",
       "    </tr>\n",
       "    <tr>\n",
       "      <th>32966</th>\n",
       "      <td>85987</td>\n",
       "      <td>3948</td>\n",
       "      <td>3.5</td>\n",
       "      <td>2009-05-18 14:47:48</td>\n",
       "      <td>756</td>\n",
       "      <td>590</td>\n",
       "    </tr>\n",
       "  </tbody>\n",
       "</table>\n",
       "<p>4511 rows × 6 columns</p>\n",
       "</div>"
      ],
      "text/plain": [
       "       userId  movieId  rating            timestamp  newMovieId  newUserId\n",
       "3750     9563      480     3.0  1996-06-25 21:47:44         112         76\n",
       "31667   84140     1682     4.0  2007-07-22 07:28:53          54        579\n",
       "38850  103394     1517     1.0  1999-12-12 16:08:19         569        725\n",
       "78158  132306     1214     3.0  2000-08-03 18:12:49         139        945\n",
       "57372   63228     2161     0.5  2004-10-11 18:51:37         349        447\n",
       "...       ...      ...     ...                  ...         ...        ...\n",
       "29023   74390      858     5.0  2003-06-20 17:42:12         124        524\n",
       "20492   50130     2355     5.0  2006-04-26 03:25:44         354        360\n",
       "63676   46868      500     4.0  1996-09-28 16:40:56         306        334\n",
       "88115  108303      858     5.0  1997-06-20 04:52:27         124        764\n",
       "32966   85987     3948     3.5  2009-05-18 14:47:48         756        590\n",
       "\n",
       "[4511 rows x 6 columns]"
      ]
     },
     "execution_count": 30,
     "metadata": {},
     "output_type": "execute_result"
    }
   ],
   "source": [
    "X_test"
   ]
  },
  {
   "cell_type": "code",
   "execution_count": 31,
   "id": "2b851c21-3f59-484a-acd1-16ee0c359968",
   "metadata": {},
   "outputs": [
    {
     "name": "stdout",
     "output_type": "stream",
     "text": [
      "Size of train set: 81191\n",
      "Size of validation set: 4511\n",
      "Size of test set: 4511\n"
     ]
    }
   ],
   "source": [
    "# Confirm size of train, validation, and test datasets\n",
    "for (l,x) in [('train',X_train),('validation',X_valid),('test',X_test)]:\n",
    "    print(f'Size of {l} set: {len(x)}')"
   ]
  },
  {
   "cell_type": "markdown",
   "id": "c7d04f3c-72b3-4b94-a57c-490c50073fe3",
   "metadata": {},
   "source": [
    "**Define the Cost Function: Mean Squared Error**"
   ]
  },
  {
   "cell_type": "markdown",
   "id": "508e2b58-a5ff-484b-8a21-b8357a94512d",
   "metadata": {},
   "source": [
    "*First, let’s create a matrix m x n, where m are the users and n are the movies.\n",
    "This will be a sparsely populated matrix because users rate only a fraction of\n",
    "the movies. For example, a matrix with one thousand users and one thousand\n",
    "movies will have only 81,191 ratings in the training set. If each of the one\n",
    "thousand users rated each of the one thousand movies, we would have a\n",
    "matrix with one million ratings, but users rate only a small subset of movies\n",
    "on average, so we have only 81,191 ratings on the training set. The rest\n",
    "(nearly 92% of the values in the matrix) will be zeros:*"
   ]
  },
  {
   "cell_type": "code",
   "execution_count": 39,
   "id": "6d8ea189-6c6d-45c9-85d9-7dac0a0d30c1",
   "metadata": {},
   "outputs": [
    {
     "name": "stdout",
     "output_type": "stream",
     "text": [
      "Sparsity: 8.12\n"
     ]
    }
   ],
   "source": [
    "# Generate ratings matrix for train\n",
    "ratings_train = np.zeros((num_of_user, num_of_movies))\n",
    "for row in X_train.itertuples():\n",
    "    ratings_train[row[6]-1, row[5]-1] = row[3]\n",
    "\n",
    "# Calculate sparsity of the train ratings matrix\n",
    "sparsity = float(len(ratings_train.nonzero()[0]))\n",
    "sparsity /= (ratings_train.shape[0] * ratings_train.shape[1])\n",
    "sparsity *= 100\n",
    "print(f'Sparsity: {round(sparsity,2)}')"
   ]
  },
  {
   "cell_type": "code",
   "execution_count": 40,
   "id": "f5554b39-3227-40d5-84bd-1b0d30eedab9",
   "metadata": {},
   "outputs": [
    {
     "name": "stdout",
     "output_type": "stream",
     "text": [
      "Train Rating: [[5.  3.5 0.  ... 0.  0.  0. ]\n",
      " [4.  0.  0.  ... 0.  0.  0. ]\n",
      " [5.  3.  0.  ... 0.  0.  0. ]\n",
      " ...\n",
      " [0.  4.  0.  ... 0.  0.  0. ]\n",
      " [4.  2.  1.5 ... 0.  0.  0. ]\n",
      " [0.  0.  0.  ... 0.  0.  0. ]]\n"
     ]
    }
   ],
   "source": [
    "print(f'Train Rating: {ratings_train}')"
   ]
  },
  {
   "cell_type": "code",
   "execution_count": 43,
   "id": "bdc0d2cc-9502-41c0-a89f-850f14bd2201",
   "metadata": {},
   "outputs": [],
   "source": [
    "# Generate ratings matrix for validation\n",
    "ratings_validation = np.zeros((num_of_user, num_of_movies))\n",
    "for row in X_valid.itertuples():\n",
    "    ratings_validation[row[6]-1, row[5]-1] = row[3]\n",
    "    \n",
    "# Generate ratings matrix for test\n",
    "ratings_test = np.zeros((num_of_user, num_of_movies))\n",
    "for row in X_test.itertuples():\n",
    "    ratings_test[row[6]-1, row[5]-1] = row[3]"
   ]
  },
  {
   "cell_type": "code",
   "execution_count": 44,
   "id": "6c36dd53-f09e-48ad-940c-d72c78099fa5",
   "metadata": {},
   "outputs": [
    {
     "data": {
      "text/plain": [
       "array([[0., 0., 3., ..., 0., 0., 0.],\n",
       "       [0., 0., 0., ..., 0., 0., 0.],\n",
       "       [0., 0., 0., ..., 0., 0., 0.],\n",
       "       ...,\n",
       "       [5., 0., 0., ..., 0., 0., 0.],\n",
       "       [0., 0., 0., ..., 0., 0., 0.],\n",
       "       [0., 0., 0., ..., 0., 0., 0.]])"
      ]
     },
     "execution_count": 44,
     "metadata": {},
     "output_type": "execute_result"
    }
   ],
   "source": [
    "ratings_validation"
   ]
  },
  {
   "cell_type": "code",
   "execution_count": 46,
   "id": "58e8715d-93da-4ef9-bee1-3cd7c09f5700",
   "metadata": {},
   "outputs": [
    {
     "data": {
      "text/plain": [
       "array([[0., 0., 0., ..., 0., 0., 0.],\n",
       "       [0., 0., 0., ..., 0., 0., 0.],\n",
       "       [0., 0., 0., ..., 0., 0., 0.],\n",
       "       ...,\n",
       "       [0., 0., 0., ..., 0., 0., 0.],\n",
       "       [0., 0., 0., ..., 0., 0., 0.],\n",
       "       [0., 0., 0., ..., 0., 0., 0.]])"
      ]
     },
     "execution_count": 46,
     "metadata": {},
     "output_type": "execute_result"
    }
   ],
   "source": [
    "ratings_test"
   ]
  },
  {
   "cell_type": "code",
   "execution_count": 47,
   "id": "2460ad4d-bc4a-4c1b-a209-1373ec381cbb",
   "metadata": {},
   "outputs": [],
   "source": [
    "# flatten the sparse matrix with the ratings for the validation set.\n",
    "actual_validation = ratings_validation[ratings_validation.nonzero()].flatten()"
   ]
  },
  {
   "cell_type": "code",
   "execution_count": 48,
   "id": "7459d6cc-a8cb-455c-90a8-908a49dc8a8b",
   "metadata": {},
   "outputs": [
    {
     "data": {
      "text/plain": [
       "array([3., 1., 3., ..., 3., 3., 4.])"
      ]
     },
     "execution_count": 48,
     "metadata": {},
     "output_type": "execute_result"
    }
   ],
   "source": [
    "actual_validation"
   ]
  },
  {
   "cell_type": "markdown",
   "id": "27ddd7d9-2349-4168-bfde-ebc1228ea9eb",
   "metadata": {},
   "source": [
    "**Perform Baseline Experiments**"
   ]
  },
  {
   "cell_type": "markdown",
   "id": "c7959570-b781-433e-8acf-4cdb587bcd95",
   "metadata": {},
   "source": [
    "*As a baseline, let’s predict an average rating of 3.5 for the validation set and\n",
    "calculate the MSE:*"
   ]
  },
  {
   "cell_type": "code",
   "execution_count": 49,
   "id": "84c314f1-0eb9-460d-b769-f4e5c6e1c32b",
   "metadata": {},
   "outputs": [
    {
     "data": {
      "text/plain": [
       "1.055420084238528"
      ]
     },
     "execution_count": 49,
     "metadata": {},
     "output_type": "execute_result"
    }
   ],
   "source": [
    "pred_validation = np.zeros((len(X_valid),1))\n",
    "pred_validation[pred_validation==0] = 3.5\n",
    "pred_validation\n",
    "mean_squared_error(pred_validation, actual_validation)"
   ]
  },
  {
   "cell_type": "markdown",
   "id": "547c26cc-9502-4923-a68d-393a34ad58c4",
   "metadata": {},
   "source": [
    "*The MSE of this very naive prediction is 1.05. This is our baseline:\n",
    "Mean squared error using naive prediction: 1.055420084238528\n",
    "Let’s see if we can improve our results by predicting a user’s rating for a\n",
    "given movie based on that user’s average rating for all other movies:*"
   ]
  },
  {
   "cell_type": "code",
   "execution_count": 53,
   "id": "56343217-dfe7-428b-9d6d-8b301a4b4352",
   "metadata": {},
   "outputs": [],
   "source": [
    "ratings_validation_prediction = np.zeros((num_of_user, num_of_movies))\n",
    "i = 0\n",
    "for row in ratings_train:\n",
    "    ratings_validation_prediction[i][ratings_validation_prediction[i]==0] = np.mean(row[row>0])\n",
    "    i += 1\n",
    "    \n",
    "pred_validation = ratings_validation_prediction[ratings_validation.nonzero()].flatten()\n",
    "user_average = mean_squared_error(pred_validation, actual_validation)"
   ]
  },
  {
   "cell_type": "code",
   "execution_count": 54,
   "id": "3b071b73-7050-4419-8eec-7d5cde96d7b9",
   "metadata": {},
   "outputs": [
    {
     "name": "stdout",
     "output_type": "stream",
     "text": [
      "Mean squared error using user average: 0.9090717929472647\n"
     ]
    }
   ],
   "source": [
    "print('Mean squared error using user average:', user_average)"
   ]
  },
  {
   "cell_type": "markdown",
   "id": "045de54a-8b6f-4029-bda6-edc2775b78b1",
   "metadata": {},
   "source": [
    "*Now, let’s predict a user’s rating for a given movie based on the average\n",
    "rating all other users have given that movie:*"
   ]
  },
  {
   "cell_type": "code",
   "execution_count": 56,
   "id": "3c65a383-0d64-46a9-8206-3201e891fabf",
   "metadata": {},
   "outputs": [],
   "source": [
    "ratings_validation_prediction = np.zeros((num_of_user, num_of_movies)).T\n",
    "i = 0\n",
    "for row in ratings_train.T:\n",
    "    ratings_validation_prediction[i][ratings_validation_prediction[i]==0] = np.mean(row[row>0])\n",
    "    i += 1\n",
    "    \n",
    "ratings_validation_prediction = ratings_validation_prediction.T\n",
    "pred_validation = ratings_validation_prediction[ratings_validation.nonzero()].flatten()\n",
    "movie_average = mean_squared_error(pred_validation, actual_validation)"
   ]
  },
  {
   "cell_type": "code",
   "execution_count": 57,
   "id": "718ae5a3-9b64-4340-9193-a63c0b09b598",
   "metadata": {},
   "outputs": [
    {
     "name": "stdout",
     "output_type": "stream",
     "text": [
      "Mean squared error using movie average: 0.9136057106858655\n"
     ]
    }
   ],
   "source": [
    "print('Mean squared error using movie average:', movie_average)"
   ]
  },
  {
   "cell_type": "markdown",
   "id": "4bf61a98-af40-4662-ada2-561195714c3d",
   "metadata": {},
   "source": [
    "**RECCOMENDER SYSTEMS USING MATRIX FACTORIZATION**"
   ]
  },
  {
   "cell_type": "markdown",
   "id": "7d8a4ba9-5351-495e-8d38-9f740a67f17b",
   "metadata": {},
   "source": [
    "**Matrix Factorization**"
   ]
  },
  {
   "cell_type": "markdown",
   "id": "28edf3aa-e4cf-4fd2-9c32-4a30798e28bd",
   "metadata": {},
   "source": [
    "*Before we build a recommender system using RBMs, let’s first build one\n",
    "using matrix factorization, one of the most successful and popular\n",
    "collaborative filtering algorithms today. Matrix factorization decomposes the\n",
    "user-item matrix into a product of two lower dimensionality matrices. Users\n",
    "are represented in lower dimensional latent space, and so are the items.\n",
    "Assume our user-item matrix is R, with m users and n items. Matrix\n",
    "factorization will create two lower dimensionality matrices, H and W. H is\n",
    "an \"m users” x \"k latent factors” matrix, and W is a \"k latent factors” x \"n\n",
    "items” matrix.\n",
    "The ratings are computed by matrix multiplication: R = H__W.\n",
    "The number of k latent factors determines the capacity of the model. The\n",
    "higher the k, the greater the capacity of the model. By increasing k, we can\n",
    "improve the personalization of rating predictions for users, but, if k is too\n",
    "high, the model will overfit the data.\n",
    "All of this should be familiar to you. Matrix factorization learns\n",
    "representations for the users and items in a lower dimensional space and\n",
    "makes predictions based on the newly learned representations.*"
   ]
  },
  {
   "cell_type": "markdown",
   "id": "1bf7e89d-1c61-4af0-86be-14c7fb56d6ac",
   "metadata": {},
   "source": [
    "*Let’s start with the simplest form of matrix factorization—with just one latent\n",
    "factor. We will use Keras to perform our matrix factorization.\n",
    "First, we need to define the graph. The input is the one-dimensional vector of\n",
    "users for the user embedding and the one-dimensional vector of movies for\n",
    "the movie embedding. We will embed these input vectors into a latent space\n",
    "of one and then flatten them. To generate the output vector product, we will\n",
    "take the dot product of the movie vector and user vector. We will use the\n",
    "Adam optimizer to minimize our cost fuction, which is defined as the\n",
    "mean_squared_error:*"
   ]
  },
  {
   "cell_type": "markdown",
   "id": "0cb8a665-6b97-4abc-b0ea-3446d86a3b32",
   "metadata": {},
   "source": [
    "**ONE LATENT FACTOR**"
   ]
  },
  {
   "cell_type": "code",
   "execution_count": 60,
   "id": "26921f01-5a65-4b22-aa2a-f1d854fde8e7",
   "metadata": {},
   "outputs": [],
   "source": [
    "from tensorflow.keras.layers import Embedding, Flatten, dot\n",
    "# One Latent Factor\n",
    "n_latent_factors = 1\n",
    "\n",
    "user_input = Input(shape=[1], name='user')\n",
    "user_embedding = Embedding(input_dim=num_of_user + 1,\n",
    "output_dim=n_latent_factors,\n",
    "name='user_embedding')(user_input)\n",
    "user_vec = Flatten(name='flatten_users')(user_embedding)\n",
    "\n",
    "movie_input = Input(shape=[1], name='movie')\n",
    "movie_embedding = Embedding(input_dim=num_of_movies + 1,\n",
    "output_dim=n_latent_factors,\n",
    "name='movie_embedding')(movie_input)\n",
    "movie_vec = Flatten(name='flatten_movies')(movie_embedding)\n",
    "\n",
    "product = dot([movie_vec, user_vec], axes=1)\n",
    "model = Model(inputs=[user_input, movie_input], outputs=product)\n",
    "model.compile('adam', 'mean_squared_error')"
   ]
  },
  {
   "cell_type": "code",
   "execution_count": 63,
   "id": "ae81a2c8-34fe-402e-bee5-13a12a4fb50e",
   "metadata": {},
   "outputs": [
    {
     "name": "stdout",
     "output_type": "stream",
     "text": [
      "Epoch 1/100\n",
      "2538/2538 [==============================] - 9s 3ms/step - loss: 13.6474 - val_loss: 11.9207\n",
      "Epoch 2/100\n",
      "2538/2538 [==============================] - 7s 3ms/step - loss: 9.2010 - val_loss: 6.5944\n",
      "Epoch 3/100\n",
      "2538/2538 [==============================] - 7s 3ms/step - loss: 4.6876 - val_loss: 3.3795\n",
      "Epoch 4/100\n",
      "2538/2538 [==============================] - 7s 3ms/step - loss: 2.5765 - val_loss: 2.0776\n",
      "Epoch 5/100\n",
      "2538/2538 [==============================] - 8s 3ms/step - loss: 1.6621 - val_loss: 1.4577\n",
      "Epoch 6/100\n",
      "2538/2538 [==============================] - 8s 3ms/step - loss: 1.2097 - val_loss: 1.1461\n",
      "Epoch 7/100\n",
      "2538/2538 [==============================] - 7s 3ms/step - loss: 0.9801 - val_loss: 0.9840\n",
      "Epoch 8/100\n",
      "2538/2538 [==============================] - 8s 3ms/step - loss: 0.8618 - val_loss: 0.8975\n",
      "Epoch 9/100\n",
      "2538/2538 [==============================] - 7s 3ms/step - loss: 0.7999 - val_loss: 0.8522\n",
      "Epoch 10/100\n",
      "2538/2538 [==============================] - 7s 3ms/step - loss: 0.7674 - val_loss: 0.8265\n",
      "Epoch 11/100\n",
      "2538/2538 [==============================] - 7s 3ms/step - loss: 0.7499 - val_loss: 0.8154\n",
      "Epoch 12/100\n",
      "2538/2538 [==============================] - 8s 3ms/step - loss: 0.7405 - val_loss: 0.8083\n",
      "Epoch 13/100\n",
      "2538/2538 [==============================] - 7s 3ms/step - loss: 0.7351 - val_loss: 0.8050\n",
      "Epoch 14/100\n",
      "2538/2538 [==============================] - 7s 3ms/step - loss: 0.7323 - val_loss: 0.8030\n",
      "Epoch 15/100\n",
      "2538/2538 [==============================] - 7s 3ms/step - loss: 0.7305 - val_loss: 0.8011\n",
      "Epoch 16/100\n",
      "2538/2538 [==============================] - 7s 3ms/step - loss: 0.7296 - val_loss: 0.7999\n",
      "Epoch 17/100\n",
      "2538/2538 [==============================] - 7s 3ms/step - loss: 0.7290 - val_loss: 0.7984\n",
      "Epoch 18/100\n",
      "2538/2538 [==============================] - 7s 3ms/step - loss: 0.7284 - val_loss: 0.7978\n",
      "Epoch 19/100\n",
      "2538/2538 [==============================] - 8s 3ms/step - loss: 0.7284 - val_loss: 0.7982\n",
      "Epoch 20/100\n",
      "2538/2538 [==============================] - 7s 3ms/step - loss: 0.7282 - val_loss: 0.7979\n",
      "Epoch 21/100\n",
      "2538/2538 [==============================] - 8s 3ms/step - loss: 0.7281 - val_loss: 0.7987\n",
      "Epoch 22/100\n",
      "2538/2538 [==============================] - 8s 3ms/step - loss: 0.7280 - val_loss: 0.7980\n",
      "Epoch 23/100\n",
      "2538/2538 [==============================] - 8s 3ms/step - loss: 0.7279 - val_loss: 0.7989\n",
      "Epoch 24/100\n",
      "2538/2538 [==============================] - 7s 3ms/step - loss: 0.7279 - val_loss: 0.7984\n",
      "Epoch 25/100\n",
      "2538/2538 [==============================] - 10s 4ms/step - loss: 0.7279 - val_loss: 0.7989\n",
      "Epoch 26/100\n",
      "2538/2538 [==============================] - 8s 3ms/step - loss: 0.7280 - val_loss: 0.7975\n",
      "Epoch 27/100\n",
      "2538/2538 [==============================] - 9s 3ms/step - loss: 0.7279 - val_loss: 0.7973\n",
      "Epoch 28/100\n",
      "2538/2538 [==============================] - 7s 3ms/step - loss: 0.7279 - val_loss: 0.7980\n",
      "Epoch 29/100\n",
      "2538/2538 [==============================] - 8s 3ms/step - loss: 0.7277 - val_loss: 0.7975\n",
      "Epoch 30/100\n",
      "2538/2538 [==============================] - 7s 3ms/step - loss: 0.7279 - val_loss: 0.7980\n",
      "Epoch 31/100\n",
      "2538/2538 [==============================] - 8s 3ms/step - loss: 0.7277 - val_loss: 0.7973\n",
      "Epoch 32/100\n",
      "2538/2538 [==============================] - 7s 3ms/step - loss: 0.7278 - val_loss: 0.7992\n",
      "Epoch 33/100\n",
      "2538/2538 [==============================] - 8s 3ms/step - loss: 0.7279 - val_loss: 0.7993\n",
      "Epoch 34/100\n",
      "2538/2538 [==============================] - 7s 3ms/step - loss: 0.7278 - val_loss: 0.7995\n",
      "Epoch 35/100\n",
      "2538/2538 [==============================] - 8s 3ms/step - loss: 0.7278 - val_loss: 0.7988\n",
      "Epoch 36/100\n",
      "2538/2538 [==============================] - 7s 3ms/step - loss: 0.7278 - val_loss: 0.7979\n",
      "Epoch 37/100\n",
      "2538/2538 [==============================] - 8s 3ms/step - loss: 0.7278 - val_loss: 0.7981\n",
      "Epoch 38/100\n",
      "2538/2538 [==============================] - 8s 3ms/step - loss: 0.7278 - val_loss: 0.7970\n",
      "Epoch 39/100\n",
      "2538/2538 [==============================] - 8s 3ms/step - loss: 0.7278 - val_loss: 0.7979\n",
      "Epoch 40/100\n",
      "2538/2538 [==============================] - 9s 3ms/step - loss: 0.7277 - val_loss: 0.7976\n",
      "Epoch 41/100\n",
      "2538/2538 [==============================] - 9s 3ms/step - loss: 0.7278 - val_loss: 0.7984\n",
      "Epoch 42/100\n",
      "2538/2538 [==============================] - 7s 3ms/step - loss: 0.7278 - val_loss: 0.7988\n",
      "Epoch 43/100\n",
      "2538/2538 [==============================] - 7s 3ms/step - loss: 0.7277 - val_loss: 0.7978\n",
      "Epoch 44/100\n",
      "2538/2538 [==============================] - 7s 3ms/step - loss: 0.7278 - val_loss: 0.7985\n",
      "Epoch 45/100\n",
      "2538/2538 [==============================] - 8s 3ms/step - loss: 0.7277 - val_loss: 0.7988\n",
      "Epoch 46/100\n",
      "2538/2538 [==============================] - 7s 3ms/step - loss: 0.7278 - val_loss: 0.7979\n",
      "Epoch 47/100\n",
      "2538/2538 [==============================] - 7s 3ms/step - loss: 0.7277 - val_loss: 0.7977\n",
      "Epoch 48/100\n",
      "2538/2538 [==============================] - 8s 3ms/step - loss: 0.7277 - val_loss: 0.7970\n",
      "Epoch 49/100\n",
      "2538/2538 [==============================] - 7s 3ms/step - loss: 0.7277 - val_loss: 0.7965\n",
      "Epoch 50/100\n",
      "2538/2538 [==============================] - 8s 3ms/step - loss: 0.7277 - val_loss: 0.7969\n",
      "Epoch 51/100\n",
      "2538/2538 [==============================] - 7s 3ms/step - loss: 0.7278 - val_loss: 0.7968\n",
      "Epoch 52/100\n",
      "2538/2538 [==============================] - 8s 3ms/step - loss: 0.7278 - val_loss: 0.7971\n",
      "Epoch 53/100\n",
      "2538/2538 [==============================] - 7s 3ms/step - loss: 0.7277 - val_loss: 0.7990\n",
      "Epoch 54/100\n",
      "2538/2538 [==============================] - 8s 3ms/step - loss: 0.7278 - val_loss: 0.7981\n",
      "Epoch 55/100\n",
      "2538/2538 [==============================] - 7s 3ms/step - loss: 0.7277 - val_loss: 0.7969\n",
      "Epoch 56/100\n",
      "2538/2538 [==============================] - 9s 3ms/step - loss: 0.7277 - val_loss: 0.7974\n",
      "Epoch 57/100\n",
      "2538/2538 [==============================] - 7s 3ms/step - loss: 0.7277 - val_loss: 0.7972\n",
      "Epoch 58/100\n",
      "2538/2538 [==============================] - 8s 3ms/step - loss: 0.7279 - val_loss: 0.7978\n",
      "Epoch 59/100\n",
      "2538/2538 [==============================] - 7s 3ms/step - loss: 0.7278 - val_loss: 0.7984\n",
      "Epoch 60/100\n",
      "2538/2538 [==============================] - 8s 3ms/step - loss: 0.7277 - val_loss: 0.7987\n",
      "Epoch 61/100\n",
      "2538/2538 [==============================] - 8s 3ms/step - loss: 0.7277 - val_loss: 0.8005\n",
      "Epoch 62/100\n",
      "2538/2538 [==============================] - 8s 3ms/step - loss: 0.7277 - val_loss: 0.7985\n",
      "Epoch 63/100\n",
      "2538/2538 [==============================] - 8s 3ms/step - loss: 0.7277 - val_loss: 0.7993\n",
      "Epoch 64/100\n",
      "2538/2538 [==============================] - 7s 3ms/step - loss: 0.7278 - val_loss: 0.7975\n",
      "Epoch 65/100\n",
      "2538/2538 [==============================] - 8s 3ms/step - loss: 0.7277 - val_loss: 0.7982\n",
      "Epoch 66/100\n",
      "2538/2538 [==============================] - 7s 3ms/step - loss: 0.7278 - val_loss: 0.7984\n",
      "Epoch 67/100\n",
      "2538/2538 [==============================] - 8s 3ms/step - loss: 0.7277 - val_loss: 0.7990\n",
      "Epoch 68/100\n",
      "2538/2538 [==============================] - 7s 3ms/step - loss: 0.7278 - val_loss: 0.7979\n",
      "Epoch 69/100\n",
      "2538/2538 [==============================] - 8s 3ms/step - loss: 0.7279 - val_loss: 0.7993\n",
      "Epoch 70/100\n",
      "2538/2538 [==============================] - 9s 3ms/step - loss: 0.7278 - val_loss: 0.7987\n",
      "Epoch 71/100\n",
      "2538/2538 [==============================] - 8s 3ms/step - loss: 0.7277 - val_loss: 0.7964\n",
      "Epoch 72/100\n",
      "2538/2538 [==============================] - 7s 3ms/step - loss: 0.7278 - val_loss: 0.7974\n",
      "Epoch 73/100\n",
      "2538/2538 [==============================] - 11s 4ms/step - loss: 0.7278 - val_loss: 0.7976\n",
      "Epoch 74/100\n",
      "2538/2538 [==============================] - 11s 4ms/step - loss: 0.7277 - val_loss: 0.7969\n",
      "Epoch 75/100\n",
      "2538/2538 [==============================] - 11s 4ms/step - loss: 0.7277 - val_loss: 0.7969\n",
      "Epoch 76/100\n",
      "2538/2538 [==============================] - 10s 4ms/step - loss: 0.7277 - val_loss: 0.7971\n",
      "Epoch 77/100\n",
      "2538/2538 [==============================] - 9s 3ms/step - loss: 0.7278 - val_loss: 0.7960\n",
      "Epoch 78/100\n",
      "2538/2538 [==============================] - 8s 3ms/step - loss: 0.7277 - val_loss: 0.7975\n",
      "Epoch 79/100\n",
      "2538/2538 [==============================] - 9s 4ms/step - loss: 0.7277 - val_loss: 0.7987\n",
      "Epoch 80/100\n",
      "2538/2538 [==============================] - 8s 3ms/step - loss: 0.7277 - val_loss: 0.7975\n",
      "Epoch 81/100\n",
      "2538/2538 [==============================] - 8s 3ms/step - loss: 0.7277 - val_loss: 0.7983\n",
      "Epoch 82/100\n",
      "2538/2538 [==============================] - 8s 3ms/step - loss: 0.7278 - val_loss: 0.7987\n",
      "Epoch 83/100\n",
      "2538/2538 [==============================] - 14s 6ms/step - loss: 0.7276 - val_loss: 0.7982\n",
      "Epoch 84/100\n",
      "2538/2538 [==============================] - 8s 3ms/step - loss: 0.7278 - val_loss: 0.7975\n",
      "Epoch 85/100\n",
      "2538/2538 [==============================] - 7s 3ms/step - loss: 0.7278 - val_loss: 0.7991\n",
      "Epoch 94/100\n",
      "2538/2538 [==============================] - 8s 3ms/step - loss: 0.7277 - val_loss: 0.7974\n",
      "Epoch 95/100\n",
      "2538/2538 [==============================] - 7s 3ms/step - loss: 0.7278 - val_loss: 0.7974\n",
      "Epoch 96/100\n",
      "2538/2538 [==============================] - 8s 3ms/step - loss: 0.7276 - val_loss: 0.7977\n",
      "Epoch 97/100\n",
      "2538/2538 [==============================] - 8s 3ms/step - loss: 0.7278 - val_loss: 0.7995\n",
      "Epoch 98/100\n",
      "2538/2538 [==============================] - 9s 3ms/step - loss: 0.7278 - val_loss: 0.7980\n",
      "Epoch 99/100\n",
      "2538/2538 [==============================] - 8s 3ms/step - loss: 0.7278 - val_loss: 0.7980\n",
      "Epoch 100/100\n",
      "2538/2538 [==============================] - 8s 3ms/step - loss: 0.7278 - val_loss: 0.7974\n"
     ]
    }
   ],
   "source": [
    "history = model.fit(x=[X_train.newUserId, X_train.newMovieId], \n",
    "                    y=X_train.rating, \n",
    "                    epochs=100,\n",
    "                    validation_data=([X_valid.newUserId,X_valid.newMovieId], X_valid.rating),\n",
    "                    verbose=1)"
   ]
  },
  {
   "cell_type": "code",
   "execution_count": 65,
   "id": "35c44e58-2daf-4009-a929-48d140b000b3",
   "metadata": {},
   "outputs": [
    {
     "name": "stdout",
     "output_type": "stream",
     "text": [
      "Minimum MSE:  0.7959693074226379\n"
     ]
    },
    {
     "data": {
      "image/png": "[encoded data removed]",
      "text/plain": [
       "<Figure size 640x480 with 1 Axes>"
      ]
     },
     "metadata": {},
     "output_type": "display_data"
    }
   ],
   "source": [
    "pd.Series(history.history['val_loss'][10:]).plot(logy=False)\n",
    "plt.xlabel(\"Epoch\")\n",
    "plt.ylabel(\"Validation Error\")\n",
    "print('Minimum MSE: ', min(history.history['val_loss']))"
   ]
  },
  {
   "cell_type": "markdown",
   "id": "92cfb4ee-3343-4501-9878-53b64c8427f1",
   "metadata": {},
   "source": [
    "*The minimum MSE using matrix factorization and one latent factor is 0.796.\n",
    "This is a better MSE than our user average and movie average approaches\n",
    "from earlier.*"
   ]
  },
  {
   "cell_type": "markdown",
   "id": "313638d6-65eb-4cb1-8b39-f5c27068e5d2",
   "metadata": {},
   "source": [
    "**THREE LATENT FACTOR**"
   ]
  },
  {
   "cell_type": "code",
   "execution_count": 66,
   "id": "10dc0e6c-582c-428f-93a5-ebc4323e1072",
   "metadata": {},
   "outputs": [],
   "source": [
    "n_latent_factors = 3\n",
    "\n",
    "user_input = Input(shape=[1], name='user')\n",
    "user_embedding = Embedding(input_dim=num_of_user + 1,\n",
    "output_dim=n_latent_factors,\n",
    "name='user_embedding')(user_input)\n",
    "user_vec = Flatten(name='flatten_users')(user_embedding)\n",
    "\n",
    "movie_input = Input(shape=[1], name='movie')\n",
    "movie_embedding = Embedding(input_dim=num_of_movies + 1,\n",
    "output_dim=n_latent_factors,\n",
    "name='movie_embedding')(movie_input)\n",
    "movie_vec = Flatten(name='flatten_movies')(movie_embedding)\n",
    "\n",
    "product = dot([movie_vec, user_vec], axes=1)\n",
    "model = Model(inputs=[user_input, movie_input], outputs=product)\n",
    "model.compile('adam', 'mean_squared_error')"
   ]
  },
  {
   "cell_type": "code",
   "execution_count": 67,
   "id": "08ba5a2f-b701-44b3-97c6-c4cbf8a5c1a0",
   "metadata": {},
   "outputs": [
    {
     "name": "stdout",
     "output_type": "stream",
     "text": [
      "Epoch 1/100\n",
      "2538/2538 [==============================] - 10s 3ms/step - loss: 12.9492 - val_loss: 9.0668\n",
      "Epoch 2/100\n",
      "2538/2538 [==============================] - 7s 3ms/step - loss: 5.1132 - val_loss: 2.7876\n",
      "Epoch 3/100\n",
      "2538/2538 [==============================] - 8s 3ms/step - loss: 1.9109 - val_loss: 1.4337\n",
      "Epoch 4/100\n",
      "2538/2538 [==============================] - 8s 3ms/step - loss: 1.1169 - val_loss: 1.0172\n",
      "Epoch 5/100\n",
      "2538/2538 [==============================] - 8s 3ms/step - loss: 0.8650 - val_loss: 0.8792\n",
      "Epoch 6/100\n",
      "2538/2538 [==============================] - 7s 3ms/step - loss: 0.7812 - val_loss: 0.8286\n",
      "Epoch 7/100\n",
      "2538/2538 [==============================] - 8s 3ms/step - loss: 0.7522 - val_loss: 0.8100\n",
      "Epoch 8/100\n",
      "2538/2538 [==============================] - 7s 3ms/step - loss: 0.7421 - val_loss: 0.8007\n",
      "Epoch 9/100\n",
      "2538/2538 [==============================] - 8s 3ms/step - loss: 0.7381 - val_loss: 0.8011\n",
      "Epoch 10/100\n",
      "2538/2538 [==============================] - 7s 3ms/step - loss: 0.7363 - val_loss: 0.8009\n",
      "Epoch 11/100\n",
      "2538/2538 [==============================] - 8s 3ms/step - loss: 0.7353 - val_loss: 0.8012\n",
      "Epoch 12/100\n",
      "2538/2538 [==============================] - 7s 3ms/step - loss: 0.7345 - val_loss: 0.7992\n",
      "Epoch 13/100\n",
      "2538/2538 [==============================] - 8s 3ms/step - loss: 0.7342 - val_loss: 0.7985\n",
      "Epoch 14/100\n",
      "2538/2538 [==============================] - 7s 3ms/step - loss: 0.7333 - val_loss: 0.7994\n",
      "Epoch 15/100\n",
      "2538/2538 [==============================] - 8s 3ms/step - loss: 0.7327 - val_loss: 0.7967\n",
      "Epoch 16/100\n",
      "2538/2538 [==============================] - 7s 3ms/step - loss: 0.7320 - val_loss: 0.7990\n",
      "Epoch 17/100\n",
      "2538/2538 [==============================] - 8s 3ms/step - loss: 0.7313 - val_loss: 0.7990\n",
      "Epoch 18/100\n",
      "2538/2538 [==============================] - 7s 3ms/step - loss: 0.7302 - val_loss: 0.7993\n",
      "Epoch 19/100\n",
      "2538/2538 [==============================] - 8s 3ms/step - loss: 0.7290 - val_loss: 0.7983\n",
      "Epoch 20/100\n",
      "2538/2538 [==============================] - 8s 3ms/step - loss: 0.7273 - val_loss: 0.7942\n",
      "Epoch 21/100\n",
      "2538/2538 [==============================] - 8s 3ms/step - loss: 0.7257 - val_loss: 0.7936\n",
      "Epoch 22/100\n",
      "2538/2538 [==============================] - 8s 3ms/step - loss: 0.7231 - val_loss: 0.7919\n",
      "Epoch 23/100\n",
      "2538/2538 [==============================] - 8s 3ms/step - loss: 0.7211 - val_loss: 0.7906\n",
      "Epoch 24/100\n",
      "2538/2538 [==============================] - 8s 3ms/step - loss: 0.7176 - val_loss: 0.7880\n",
      "Epoch 25/100\n",
      "2538/2538 [==============================] - 8s 3ms/step - loss: 0.7143 - val_loss: 0.7881\n",
      "Epoch 26/100\n",
      "2538/2538 [==============================] - 8s 3ms/step - loss: 0.7108 - val_loss: 0.7845\n",
      "Epoch 27/100\n",
      "2538/2538 [==============================] - 8s 3ms/step - loss: 0.7071 - val_loss: 0.7849\n",
      "Epoch 28/100\n",
      "2538/2538 [==============================] - 8s 3ms/step - loss: 0.7026 - val_loss: 0.7802\n",
      "Epoch 29/100\n",
      "2538/2538 [==============================] - 8s 3ms/step - loss: 0.6982 - val_loss: 0.7802\n",
      "Epoch 30/100\n",
      "2538/2538 [==============================] - 8s 3ms/step - loss: 0.6936 - val_loss: 0.7775\n",
      "Epoch 31/100\n",
      "2538/2538 [==============================] - 8s 3ms/step - loss: 0.6893 - val_loss: 0.7753\n",
      "Epoch 32/100\n",
      "2538/2538 [==============================] - 8s 3ms/step - loss: 0.6846 - val_loss: 0.7712\n",
      "Epoch 33/100\n",
      "2538/2538 [==============================] - 8s 3ms/step - loss: 0.6804 - val_loss: 0.7711\n",
      "Epoch 34/100\n",
      "2538/2538 [==============================] - 8s 3ms/step - loss: 0.6766 - val_loss: 0.7672\n",
      "Epoch 35/100\n",
      "2538/2538 [==============================] - 8s 3ms/step - loss: 0.6723 - val_loss: 0.7684\n",
      "Epoch 36/100\n",
      "2538/2538 [==============================] - 8s 3ms/step - loss: 0.6690 - val_loss: 0.7656\n",
      "Epoch 37/100\n",
      "2538/2538 [==============================] - 8s 3ms/step - loss: 0.6653 - val_loss: 0.7670\n",
      "Epoch 38/100\n",
      "2538/2538 [==============================] - 9s 3ms/step - loss: 0.6616 - val_loss: 0.7638\n",
      "Epoch 39/100\n",
      "2538/2538 [==============================] - 6s 3ms/step - loss: 0.6588 - val_loss: 0.7629\n",
      "Epoch 40/100\n",
      "2538/2538 [==============================] - 7s 3ms/step - loss: 0.6556 - val_loss: 0.7671\n",
      "Epoch 41/100\n",
      "2538/2538 [==============================] - 7s 3ms/step - loss: 0.6532 - val_loss: 0.7636\n",
      "Epoch 42/100\n",
      "2538/2538 [==============================] - 8s 3ms/step - loss: 0.6310 - val_loss: 0.7604\n",
      "Epoch 56/100\n",
      "2538/2538 [==============================] - 8s 3ms/step - loss: 0.6302 - val_loss: 0.7654\n",
      "Epoch 57/100\n",
      "2538/2538 [==============================] - 8s 3ms/step - loss: 0.6294 - val_loss: 0.7636\n",
      "Epoch 58/100\n",
      "2538/2538 [==============================] - 9s 4ms/step - loss: 0.6287 - val_loss: 0.7617\n",
      "Epoch 59/100\n",
      "2538/2538 [==============================] - 8s 3ms/step - loss: 0.6276 - val_loss: 0.7652\n",
      "Epoch 60/100\n",
      "2538/2538 [==============================] - 8s 3ms/step - loss: 0.6272 - val_loss: 0.7641\n",
      "Epoch 61/100\n",
      "2538/2538 [==============================] - 8s 3ms/step - loss: 0.6263 - val_loss: 0.7641\n",
      "Epoch 62/100\n",
      "2538/2538 [==============================] - 7s 3ms/step - loss: 0.6259 - val_loss: 0.7615\n",
      "Epoch 63/100\n",
      "2538/2538 [==============================] - 8s 3ms/step - loss: 0.6251 - val_loss: 0.7658\n",
      "Epoch 64/100\n",
      "2538/2538 [==============================] - 8s 3ms/step - loss: 0.6244 - val_loss: 0.7644\n",
      "Epoch 65/100\n",
      "2538/2538 [==============================] - 7s 3ms/step - loss: 0.6239 - val_loss: 0.7636\n",
      "Epoch 66/100\n",
      "2538/2538 [==============================] - 9s 3ms/step - loss: 0.6235 - val_loss: 0.7659\n",
      "Epoch 67/100\n",
      "2538/2538 [==============================] - 8s 3ms/step - loss: 0.6228 - val_loss: 0.7659\n",
      "Epoch 68/100\n",
      "2538/2538 [==============================] - 8s 3ms/step - loss: 0.6226 - val_loss: 0.7644\n",
      "Epoch 69/100\n",
      "2538/2538 [==============================] - 8s 3ms/step - loss: 0.6219 - val_loss: 0.7637\n",
      "Epoch 70/100\n",
      "2538/2538 [==============================] - 9s 3ms/step - loss: 0.6213 - val_loss: 0.7651\n",
      "Epoch 71/100\n",
      "2538/2538 [==============================] - 9s 3ms/step - loss: 0.6212 - val_loss: 0.7627\n",
      "Epoch 72/100\n",
      "2538/2538 [==============================] - 9s 4ms/step - loss: 0.6207 - val_loss: 0.7655\n",
      "Epoch 73/100\n",
      "2538/2538 [==============================] - 9s 4ms/step - loss: 0.6203 - val_loss: 0.7686\n",
      "Epoch 74/100\n",
      "2538/2538 [==============================] - 8s 3ms/step - loss: 0.6200 - val_loss: 0.7657\n",
      "Epoch 75/100\n",
      "2538/2538 [==============================] - 8s 3ms/step - loss: 0.6198 - val_loss: 0.7659\n",
      "Epoch 76/100\n",
      "2538/2538 [==============================] - 8s 3ms/step - loss: 0.6192 - val_loss: 0.7639\n",
      "Epoch 77/100\n",
      "2538/2538 [==============================] - 8s 3ms/step - loss: 0.6188 - val_loss: 0.7643\n",
      "Epoch 78/100\n",
      "2538/2538 [==============================] - 7s 3ms/step - loss: 0.6186 - val_loss: 0.7637\n",
      "Epoch 79/100\n",
      "2538/2538 [==============================] - 8s 3ms/step - loss: 0.6183 - val_loss: 0.7662\n",
      "Epoch 80/100\n",
      "2538/2538 [==============================] - 8s 3ms/step - loss: 0.6181 - val_loss: 0.7662\n",
      "Epoch 81/100\n",
      "2538/2538 [==============================] - 9s 3ms/step - loss: 0.6177 - val_loss: 0.7659\n",
      "Epoch 82/100\n",
      "2538/2538 [==============================] - 8s 3ms/step - loss: 0.6174 - val_loss: 0.7677\n",
      "Epoch 83/100\n",
      "2538/2538 [==============================] - 9s 3ms/step - loss: 0.6169 - val_loss: 0.7674\n",
      "Epoch 84/100\n",
      "2538/2538 [==============================] - 10s 4ms/step - loss: 0.6169 - val_loss: 0.7653\n",
      "Epoch 85/100\n",
      "2538/2538 [==============================] - 11s 4ms/step - loss: 0.6166 - val_loss: 0.7669\n",
      "Epoch 86/100\n",
      "2538/2538 [==============================] - 10s 4ms/step - loss: 0.6163 - val_loss: 0.7653\n",
      "Epoch 87/100\n",
      "2538/2538 [==============================] - 8s 3ms/step - loss: 0.6146 - val_loss: 0.7685\n",
      "Epoch 95/100\n",
      "2538/2538 [==============================] - 9s 4ms/step - loss: 0.6145 - val_loss: 0.7691\n",
      "Epoch 96/100\n",
      "2538/2538 [==============================] - 8s 3ms/step - loss: 0.6145 - val_loss: 0.7697\n",
      "Epoch 97/100\n",
      "2538/2538 [==============================] - 7s 3ms/step - loss: 0.6143 - val_loss: 0.7685\n",
      "Epoch 98/100\n",
      "2538/2538 [==============================] - 7s 3ms/step - loss: 0.6143 - val_loss: 0.7703\n",
      "Epoch 99/100\n",
      "2538/2538 [==============================] - 8s 3ms/step - loss: 0.6142 - val_loss: 0.7694\n",
      "Epoch 100/100\n",
      "2538/2538 [==============================] - 10s 4ms/step - loss: 0.6136 - val_loss: 0.7714\n"
     ]
    }
   ],
   "source": [
    "history = model.fit(x=[X_train.newUserId, X_train.newMovieId], \n",
    "                    y=X_train.rating, \n",
    "                    epochs=100,\n",
    "                    validation_data=([X_valid.newUserId,X_valid.newMovieId], X_valid.rating),\n",
    "                    verbose=1)"
   ]
  },
  {
   "cell_type": "code",
   "execution_count": 68,
   "id": "33d8166e-5ff2-409d-bab8-4e313b525dde",
   "metadata": {},
   "outputs": [
    {
     "name": "stdout",
     "output_type": "stream",
     "text": [
      "Minimum MSE:  0.7593799829483032\n"
     ]
    },
    {
     "data": {
      "image/png": "[encoded data removed]",
      "text/plain": [
       "<Figure size 640x480 with 1 Axes>"
      ]
     },
     "metadata": {},
     "output_type": "display_data"
    }
   ],
   "source": [
    "pd.Series(history.history['val_loss'][10:]).plot(logy=False)\n",
    "plt.xlabel(\"Epoch\")\n",
    "plt.ylabel(\"Validation Error\")\n",
    "print('Minimum MSE: ', min(history.history['val_loss']))"
   ]
  },
  {
   "cell_type": "markdown",
   "id": "66f204e5-63b3-4e94-b095-e1ad330f6dbd",
   "metadata": {},
   "source": [
    "**FIVE LATENT FACTOR**"
   ]
  },
  {
   "cell_type": "code",
   "execution_count": 69,
   "id": "80c84cbc-c0e3-40d4-a78a-81964e717ef4",
   "metadata": {},
   "outputs": [],
   "source": [
    "n_latent_factors = 5\n",
    "\n",
    "user_input = Input(shape=[1], name='user')\n",
    "user_embedding = Embedding(input_dim=num_of_user + 1,\n",
    "output_dim=n_latent_factors,\n",
    "name='user_embedding')(user_input)\n",
    "user_vec = Flatten(name='flatten_users')(user_embedding)\n",
    "\n",
    "movie_input = Input(shape=[1], name='movie')\n",
    "movie_embedding = Embedding(input_dim=num_of_movies + 1,\n",
    "output_dim=n_latent_factors,\n",
    "name='movie_embedding')(movie_input)\n",
    "movie_vec = Flatten(name='flatten_movies')(movie_embedding)\n",
    "\n",
    "product = dot([movie_vec, user_vec], axes=1)\n",
    "model = Model(inputs=[user_input, movie_input], outputs=product)\n",
    "model.compile('adam', 'mean_squared_error')"
   ]
  },
  {
   "cell_type": "code",
   "execution_count": 70,
   "id": "9202b2f7-fc02-4cdf-b525-82114248229f",
   "metadata": {},
   "outputs": [
    {
     "name": "stdout",
     "output_type": "stream",
     "text": [
      "Epoch 1/100\n",
      "2538/2538 [==============================] - 10s 3ms/step - loss: 11.7004 - val_loss: 6.0312\n",
      "Epoch 2/100\n",
      "2538/2538 [==============================] - 7s 3ms/step - loss: 3.1151 - val_loss: 1.7479\n",
      "Epoch 3/100\n",
      "2538/2538 [==============================] - 8s 3ms/step - loss: 1.2536 - val_loss: 1.0376\n",
      "Epoch 4/100\n",
      "2538/2538 [==============================] - 9s 4ms/step - loss: 0.8701 - val_loss: 0.8667\n",
      "Epoch 5/100\n",
      "2538/2538 [==============================] - 9s 3ms/step - loss: 0.7752 - val_loss: 0.8217\n",
      "Epoch 6/100\n",
      "2538/2538 [==============================] - 9s 4ms/step - loss: 0.7505 - val_loss: 0.8053\n",
      "Epoch 7/100\n",
      "2538/2538 [==============================] - 8s 3ms/step - loss: 0.7375 - val_loss: 0.8003\n",
      "Epoch 12/100\n",
      "2538/2538 [==============================] - 8s 3ms/step - loss: 0.7366 - val_loss: 0.7963\n",
      "Epoch 13/100\n",
      "2538/2538 [==============================] - 7s 3ms/step - loss: 0.7344 - val_loss: 0.7978\n",
      "Epoch 14/100\n",
      "2538/2538 [==============================] - 9s 4ms/step - loss: 0.7328 - val_loss: 0.7960\n",
      "Epoch 15/100\n",
      "2538/2538 [==============================] - 7s 3ms/step - loss: 0.7302 - val_loss: 0.7948\n",
      "Epoch 16/100\n",
      "2538/2538 [==============================] - 8s 3ms/step - loss: 0.7267 - val_loss: 0.7949\n",
      "Epoch 17/100\n",
      "2538/2538 [==============================] - 8s 3ms/step - loss: 0.7225 - val_loss: 0.7932\n",
      "Epoch 18/100\n",
      "2538/2538 [==============================] - 8s 3ms/step - loss: 0.7184 - val_loss: 0.7844\n",
      "Epoch 19/100\n",
      "2538/2538 [==============================] - 8s 3ms/step - loss: 0.7125 - val_loss: 0.7815\n",
      "Epoch 20/100\n",
      "2538/2538 [==============================] - 8s 3ms/step - loss: 0.7065 - val_loss: 0.7779\n",
      "Epoch 21/100\n",
      "2538/2538 [==============================] - 7s 3ms/step - loss: 0.7004 - val_loss: 0.7731\n",
      "Epoch 22/100\n",
      "2538/2538 [==============================] - 8s 3ms/step - loss: 0.6929 - val_loss: 0.7735\n",
      "Epoch 23/100\n",
      "2538/2538 [==============================] - 7s 3ms/step - loss: 0.6860 - val_loss: 0.7679\n",
      "Epoch 24/100\n",
      "2538/2538 [==============================] - 8s 3ms/step - loss: 0.6794 - val_loss: 0.7619\n",
      "Epoch 25/100\n",
      "2538/2538 [==============================] - 9s 3ms/step - loss: 0.6722 - val_loss: 0.7618\n",
      "Epoch 26/100\n",
      "2538/2538 [==============================] - 9s 4ms/step - loss: 0.6656 - val_loss: 0.7601\n",
      "Epoch 27/100\n",
      "2538/2538 [==============================] - 9s 4ms/step - loss: 0.6582 - val_loss: 0.7591\n",
      "Epoch 28/100\n",
      "2538/2538 [==============================] - 8s 3ms/step - loss: 0.6520 - val_loss: 0.7565\n",
      "Epoch 29/100\n",
      "2538/2538 [==============================] - 10s 4ms/step - loss: 0.6452 - val_loss: 0.7513\n",
      "Epoch 30/100\n",
      "2538/2538 [==============================] - 9s 3ms/step - loss: 0.6384 - val_loss: 0.7527\n",
      "Epoch 31/100\n",
      "2538/2538 [==============================] - 8s 3ms/step - loss: 0.6325 - val_loss: 0.7504\n",
      "Epoch 32/100\n",
      "2538/2538 [==============================] - 8s 3ms/step - loss: 0.6259 - val_loss: 0.7475\n",
      "Epoch 33/100\n",
      "2538/2538 [==============================] - 9s 4ms/step - loss: 0.6203 - val_loss: 0.7472\n",
      "Epoch 34/100\n",
      "2538/2538 [==============================] - 8s 3ms/step - loss: 0.6146 - val_loss: 0.7457\n",
      "Epoch 35/100\n",
      "2538/2538 [==============================] - 8s 3ms/step - loss: 0.6099 - val_loss: 0.7529\n",
      "Epoch 36/100\n",
      "2538/2538 [==============================] - 12s 5ms/step - loss: 0.5787 - val_loss: 0.7517\n",
      "Epoch 45/100\n",
      "2538/2538 [==============================] - 9s 3ms/step - loss: 0.5765 - val_loss: 0.7496\n",
      "Epoch 46/100\n",
      "2538/2538 [==============================] - 7s 3ms/step - loss: 0.5748 - val_loss: 0.7566\n",
      "Epoch 47/100\n",
      "2538/2538 [==============================] - 8s 3ms/step - loss: 0.5729 - val_loss: 0.7539\n",
      "Epoch 48/100\n",
      "2538/2538 [==============================] - 7s 3ms/step - loss: 0.5712 - val_loss: 0.7509\n",
      "Epoch 49/100\n",
      "2538/2538 [==============================] - 8s 3ms/step - loss: 0.5694 - val_loss: 0.7560\n",
      "Epoch 50/100\n",
      "2538/2538 [==============================] - 9s 3ms/step - loss: 0.5681 - val_loss: 0.7549\n",
      "Epoch 51/100\n",
      "2538/2538 [==============================] - 10s 4ms/step - loss: 0.5668 - val_loss: 0.7562\n",
      "Epoch 52/100\n",
      "2538/2538 [==============================] - 10s 4ms/step - loss: 0.5655 - val_loss: 0.7528\n",
      "Epoch 53/100\n",
      "2538/2538 [==============================] - 8s 3ms/step - loss: 0.5644 - val_loss: 0.7559\n",
      "Epoch 54/100\n",
      "2538/2538 [==============================] - 7s 3ms/step - loss: 0.5633 - val_loss: 0.7526\n",
      "Epoch 55/100\n",
      "2538/2538 [==============================] - 7s 3ms/step - loss: 0.5622 - val_loss: 0.7565\n",
      "Epoch 56/100\n",
      "2538/2538 [==============================] - 7s 3ms/step - loss: 0.5611 - val_loss: 0.7552\n",
      "Epoch 57/100\n",
      "2538/2538 [==============================] - 7s 3ms/step - loss: 0.5601 - val_loss: 0.7571\n",
      "Epoch 58/100\n",
      "2538/2538 [==============================] - 7s 3ms/step - loss: 0.5593 - val_loss: 0.7609\n",
      "Epoch 59/100\n",
      "2538/2538 [==============================] - 8s 3ms/step - loss: 0.5587 - val_loss: 0.7619\n",
      "Epoch 60/100\n",
      "2538/2538 [==============================] - 7s 3ms/step - loss: 0.5577 - val_loss: 0.7577\n",
      "Epoch 61/100\n",
      "2538/2538 [==============================] - 7s 3ms/step - loss: 0.5570 - val_loss: 0.7599\n",
      "Epoch 62/100\n",
      "2538/2538 [==============================] - 7s 3ms/step - loss: 0.5562 - val_loss: 0.7579\n",
      "Epoch 63/100\n",
      "2538/2538 [==============================] - 7s 3ms/step - loss: 0.5557 - val_loss: 0.7554\n",
      "Epoch 64/100\n",
      "2538/2538 [==============================] - 7s 3ms/step - loss: 0.5546 - val_loss: 0.7605\n",
      "Epoch 65/100\n",
      "1523/2538 [=================>............] - ETA: 2s - loss: 0.5535"
     ]
    },
    {
     "name": "stderr",
     "output_type": "stream",
     "text": [
      "IOPub message rate exceeded.\n",
      "The Jupyter server will temporarily stop sending output\n",
      "to the client in order to avoid crashing it.\n",
      "To change this limit, set the config variable\n",
      "`--ServerApp.iopub_msg_rate_limit`.\n",
      "\n",
      "Current values:\n",
      "ServerApp.iopub_msg_rate_limit=1000.0 (msgs/sec)\n",
      "ServerApp.rate_limit_window=3.0 (secs)\n",
      "\n"
     ]
    },
    {
     "name": "stdout",
     "output_type": "stream",
     "text": [
      "2538/2538 [==============================] - 8s 3ms/step - loss: 0.5474 - val_loss: 0.7636\n",
      "Epoch 82/100\n",
      "2538/2538 [==============================] - 7s 3ms/step - loss: 0.5472 - val_loss: 0.7659\n",
      "Epoch 83/100\n",
      "2538/2538 [==============================] - 8s 3ms/step - loss: 0.5470 - val_loss: 0.7689\n",
      "Epoch 84/100\n",
      "2538/2538 [==============================] - 7s 3ms/step - loss: 0.5468 - val_loss: 0.7677\n",
      "Epoch 85/100\n",
      "2538/2538 [==============================] - 7s 3ms/step - loss: 0.5440 - val_loss: 0.7736\n",
      "Epoch 95/100\n",
      "2538/2538 [==============================] - 7s 3ms/step - loss: 0.5440 - val_loss: 0.7705\n",
      "Epoch 96/100\n",
      "2538/2538 [==============================] - 7s 3ms/step - loss: 0.5440 - val_loss: 0.7748\n",
      "Epoch 97/100\n",
      "2538/2538 [==============================] - 7s 3ms/step - loss: 0.5437 - val_loss: 0.7749\n",
      "Epoch 98/100\n",
      "2538/2538 [==============================] - 8s 3ms/step - loss: 0.5435 - val_loss: 0.7736\n",
      "Epoch 99/100\n",
      "2538/2538 [==============================] - 7s 3ms/step - loss: 0.5434 - val_loss: 0.7761\n",
      "Epoch 100/100\n",
      "2538/2538 [==============================] - 8s 3ms/step - loss: 0.5433 - val_loss: 0.7719\n"
     ]
    }
   ],
   "source": [
    "history = model.fit(x=[X_train.newUserId, X_train.newMovieId], \n",
    "                    y=X_train.rating, \n",
    "                    epochs=100,\n",
    "                    validation_data=([X_valid.newUserId,X_valid.newMovieId], X_valid.rating),\n",
    "                    verbose=1)"
   ]
  },
  {
   "cell_type": "code",
   "execution_count": 71,
   "id": "7ced19f3-e220-47fa-809b-c6781f667f25",
   "metadata": {},
   "outputs": [
    {
     "name": "stdout",
     "output_type": "stream",
     "text": [
      "Minimum MSE:  0.74566251039505\n"
     ]
    },
    {
     "data": {
      "image/png": "[encoded data removed]",
      "text/plain": [
       "<Figure size 640x480 with 1 Axes>"
      ]
     },
     "metadata": {},
     "output_type": "display_data"
    }
   ],
   "source": [
    "pd.Series(history.history['val_loss'][10:]).plot(logy=False)\n",
    "plt.xlabel(\"Epoch\")\n",
    "plt.ylabel(\"Validation Error\")\n",
    "print('Minimum MSE: ', min(history.history['val_loss']))"
   ]
  },
  {
   "cell_type": "markdown",
   "id": "ac60af6a-c6d9-480b-b805-fd36994b9292",
   "metadata": {},
   "source": [
    "**Collaborative Filtering Using RBMs**"
   ]
  },
  {
   "cell_type": "markdown",
   "id": "ff421532-f0ae-4d2c-88e4-f0c6acaa8cdb",
   "metadata": {},
   "source": [
    "*Let’s turn back to RBMs again. Recall that RBMs have two layers—the\n",
    "input/visible layer and the hidden layer. The neurons in each layer\n",
    "communicate with neurons in the other layer but not with neurons in the same\n",
    "layer. In other words, there is no intralayer communication among the\n",
    "neurons—this is the restricted bit of RBMs.\n",
    "\n",
    "\n",
    "Another important feature of RBMs is that the communication between layers\n",
    "happens in both directions—not just in one direction. For example, with\n",
    "autoencoders, the neurons communicate with the next layer, passing\n",
    "information only in a feedforward way.\n",
    "\n",
    "\n",
    "With RBMs, the neurons in the visible layer communicate with the hidden\n",
    "layer, and then the hidden layer passes back information to the visibile layer,\n",
    "going back and forth several times. RBMs perform this communication—the\n",
    "passes back and forth between the visible and hidden layer—to develop a\n",
    "generative model such that the reconstructions from the outputs of the hidden\n",
    "layer are similar to the original inputs.\n",
    "\n",
    "\n",
    "In other words, the RBMs are trying to create a generative model that will\n",
    "help predict whether a user will like a movie that the user has never seen\n",
    "based on how similar the movie is to other movies the user has rated and\n",
    "based on how similar the user is to the other users that have rated that movie.\n",
    "The visible layer will have X neurons, where X is the number of movies in\n",
    "the dataset. Each neuron will have a normalized rating value from zero to\n",
    "one, where zero means the user has not seen the movie. The closer the\n",
    "normalized rating value is to one, the more the user likes the movie\n",
    "represented by the neuron.\n",
    "\n",
    "\n",
    "The neurons in the visible layer will communicate with the neurons in the\n",
    "hidden layer, which will try to learn the underlying, latent features that\n",
    "characterize the user-movie preferences.\n",
    "Note that RBMs are also referred to as symmetrical bipartite, bidirectional\n",
    "graphs—symmetrical because each visible node is connected to each hidden\n",
    "node, bipartite because there are two layers of nodes, and bidirectional\n",
    "because the communication happens in both directions.*"
   ]
  },
  {
   "cell_type": "markdown",
   "id": "20bcfe92-5281-4665-a037-cc3a90a0d85f",
   "metadata": {},
   "source": [
    "**RBM Neural Network Architecture**\n",
    "\n",
    "*For our movie-recommender system, we have an m x n matrix with m users\n",
    "and n movies. To train the RBM, we pass along a batch of k users with their\n",
    "n movie ratings into the neural network and train for a certain number of\n",
    "epochs.\n",
    "                                                 \n",
    "Each input x that is passed into the neural network represents a single user’s\n",
    "rating preferences for all n movies, where n is one thousand in our example.\n",
    "Therefore, the visible layer has n nodes, one for each movie.\n",
    "    \n",
    "We can specify the number of nodes in the hidden layer, which will generally\n",
    "be fewer than the nodes in the visible layer to force the hidden layer to learn\n",
    "the most salient aspects of the original input as efficiently as possible.\n",
    "Each input v0 is multiplied by its respective weight W. \n",
    "\n",
    "The weights are learned by the connections from the visible layer to the hidden layer. Then\n",
    "we add a bias vector at the hidden layer called hb. The bias ensures that at\n",
    "least some of the neurons fire. This W*v0+hb result is passed through an\n",
    "activation function.\n",
    "    \n",
    "After this, we will take a sample of the outputs generated via a process\n",
    "known as Gibbs sampling. In other words, the activation of the hidden layer\n",
    "results in final outputs that are generated stochastically. This level of\n",
    "randomness helps build a better-performing and more robust generative\n",
    "model.\n",
    "\n",
    "Next, the output after Gibbs sampling—known as h0—is passed back through\n",
    "the neural network in the opposite direction in what is called a backward\n",
    "pass. In the backward pass, the activations in the forward pass after Gibbs\n",
    "sampling are fed into the hidden layer and multiplied by the same weights W\n",
    "as before. We then add a new bias vector at the visible layer called vb.\n",
    "This W_h0+vb is passed through an activation function, and then we perform\n",
    "Gibbs sampling. The output of this is v1, which is then passed as the new\n",
    "input into the visible layer and through the neural network as another forward\n",
    "pass.\n",
    "\n",
    "The RBM goes through a series of forward and backward passes like this to\n",
    "learn the optimal weights as it attempts to build a robust generative model.\n",
    "RBMs are the first type of generative learning model that we have explored.\n",
    "By performing Gibbs sampling and retraining weights via forward and\n",
    "backward passes, RBMs are trying to learn the probability distribution of\n",
    "the original input. Specifically, RBMs minimize the Kullback–Leibler\n",
    "divergence, which measures how one probability distribution is different\n",
    "from another; in this case, RBMs are minimizing the probability distribution\n",
    "of the original input from the probability distribution of the reconstructed\n",
    "data.\n",
    "\n",
    "By iteratively readjusting the weights in the neural net, the RBM learns to\n",
    "approximate the original data as best as possible.\n",
    "With this newly learned probability distribution, RBMs are able to make\n",
    "predictions about never-before-seen data. In this case, the RBM we design\n",
    "will attempt to predict ratings for movies that the user has never seen based\n",
    "on the user’s similarity to other users and the ratings those movies have\n",
    "received by the other users.*"
   ]
  },
  {
   "cell_type": "markdown",
   "id": "adbb728c-89ef-4d0d-aab6-1720424cbba9",
   "metadata": {},
   "source": [
    "**Build the Components of the RBM Class**"
   ]
  },
  {
   "cell_type": "markdown",
   "id": "a07a6938-c44f-4a55-b922-c9c3c23289a1",
   "metadata": {},
   "source": [
    "*First, we will initialize the class with a few parameters; these are the input\n",
    "size of the RBM, the output size, the learning rate, the number of epochs to\n",
    "train for, and the batch size during the training process.\n",
    "We will also create zero matrices for the weight matrix, the hidden bias\n",
    "vector, and the visible bias vector:\n",
    "                                 \n",
    "Next, let’s define functions for the forward pass, the backward pass, and the\n",
    "sampling of data during each of these passes back and forth.\n",
    "Here is the forward pass, where h is the hidden layer and v is the visible\n",
    "layer:\n",
    "    \n",
    "Now we need a function that performs that training. Since we are using\n",
    "TensorFlow, we first need to create placeholders for the TensorFlow graph,\n",
    "which we will use when we feed data into the TensorFlow session.\n",
    "We will have placeholders for the weights matrix, the hidden bias vector, and\n",
    "the visible bias vector. We will also need to initialize the values for these\n",
    "three using zeros. And, we will need one set to hold the current values and\n",
    "one set to hold the previous values:\n",
    "                                                            \n",
    "Likewise, we need a placeholder for the visible layer. The hidden layer is\n",
    "derived from matrix multiplication of the visible layer and the weights matrix\n",
    "and the matrix addition of the hidden bias vector:\n",
    "\n",
    "During the backward pass, we take the hidden layer output, multiply it with\n",
    "the transpose of the weights matrix used during the forward pass, and add the\n",
    "visible bias vector. Note that the weights matrix is the same during both the\n",
    "forward and the backward pass. Then, we perform the forward pass again:\n",
    "\n",
    "With this, we are ready to initialize the TensorFlow session with the\n",
    "variables we have just defined.\n",
    "Once we call sess.run, we can feed in batches of data to begin the training.\n",
    "During the training, forward and backward passes will be made, and the\n",
    "RBM will update weights based on how the generated data compares to the\n",
    "original input. We will print the reconstruction error from each epoch.*"
   ]
  },
  {
   "cell_type": "code",
   "execution_count": null,
   "id": "359cc6f9-6b23-47e4-8399-b08a1faed5fd",
   "metadata": {},
   "outputs": [],
   "source": [
    "# Make code compatible with v1 of TF\n",
    "tf.compat.v1.disable_eager_execution()"
   ]
  },
  {
   "cell_type": "code",
   "execution_count": null,
   "id": "c92550a9-f0e9-4fe6-8803-319a083e2135",
   "metadata": {},
   "outputs": [],
   "source": [
    "# Define RBM class\n",
    "class RBM(object):\n",
    "    \n",
    "    def __init__(self, input_size, output_size, \n",
    "                 learning_rate, epochs, batchsize):\n",
    "        # Define hyperparameters\n",
    "        self._input_size = input_size\n",
    "        self._output_size = output_size\n",
    "        self.learning_rate = learning_rate\n",
    "        self.epochs = epochs\n",
    "        self.batchsize = batchsize\n",
    "        \n",
    "        # Initialize weights and biases using zero matrices\n",
    "        self.w = np.zeros([input_size, output_size], dtype=np.float32)\n",
    "        self.hb = np.zeros([output_size], dtype=np.float32)\n",
    "        self.vb = np.zeros([input_size], dtype=np.float32)\n",
    "\n",
    "    def prob_h_given_v(self, visible, w, hb):\n",
    "        return tf.nn.sigmoid(tf.matmul(visible, w) + hb)\n",
    "\n",
    "    def prob_v_given_h(self, hidden, w, vb):\n",
    "        return tf.nn.sigmoid(tf.matmul(hidden, tf.transpose(w)) + vb)\n",
    "    \n",
    "    def sample_prob(self, probs):\n",
    "        return tf.nn.relu(tf.sign(probs - tf.random.uniform(tf.shape(probs))))\n",
    "\n",
    "    def train(self, X):\n",
    "        _w = tf.compat.v1.placeholder(tf.float32, [self._input_size, self._output_size])\n",
    "        _hb = tf.compat.v1.placeholder(tf.float32, [self._output_size])\n",
    "        _vb = tf.compat.v1.placeholder(tf.float32, [self._input_size])\n",
    "        \n",
    "        prv_w = np.zeros([self._input_size, self._output_size], dtype=np.float32)\n",
    "        prv_hb = np.zeros([self._output_size], dtype=np.float32)\n",
    "        prv_vb = np.zeros([self._input_size], dtype=np.float32)\n",
    "        \n",
    "        cur_w = np.zeros([self._input_size, self._output_size], dtype=np.float32)\n",
    "        cur_hb = np.zeros([self._output_size], dtype=np.float32)\n",
    "        cur_vb = np.zeros([self._input_size], dtype=np.float32)\n",
    "        \n",
    "        v0 = tf.compat.v1.placeholder(tf.float32, [None, self._input_size])\n",
    "        h0 = self.sample_prob(self.prob_h_given_v(v0, _w, _hb))\n",
    "        v1 = self.sample_prob(self.prob_v_given_h(h0, _w, _vb))\n",
    "        h1 = self.prob_h_given_v(v1, _w, _hb)\n",
    "        \n",
    "        positive_grad = tf.matmul(tf.transpose(v0), h0)\n",
    "        negative_grad = tf.matmul(tf.transpose(v1), h1)\n",
    "        \n",
    "        update_w = _w + self.learning_rate * \\\n",
    "            (positive_grad - negative_grad) / tf.cast(tf.shape(v0)[0], tf.float32)\n",
    "        update_vb = _vb +  self.learning_rate * tf.reduce_mean(v0 - v1, 0)\n",
    "        update_hb = _hb +  self.learning_rate * tf.reduce_mean(h0 - h1, 0)\n",
    "        \n",
    "        err = tf.reduce_mean(tf.square(v0 - v1))\n",
    "        \n",
    "        error_list = []\n",
    "        \n",
    "        with tf.compat.v1.Session() as sess:\n",
    "            sess.run(tf.compat.v1.global_variables_initializer())\n",
    "            \n",
    "            for epoch in range(self.epochs):\n",
    "                for start, end in zip(range(0, len(X), \\\n",
    "                        self.batchsize),range(self.batchsize,len(X), \\\n",
    "                                              self.batchsize)):\n",
    "                    batch = X[start:end]\n",
    "                    cur_w = sess.run(update_w, feed_dict={v0: batch, \\\n",
    "                                    _w: prv_w, _hb: prv_hb, _vb: prv_vb})\n",
    "                    cur_hb = sess.run(update_hb, feed_dict={v0: batch, \\\n",
    "                                    _w: prv_w, _hb: prv_hb, _vb: prv_vb})\n",
    "                    cur_vb = sess.run(update_vb, feed_dict={v0: batch, \\\n",
    "                                    _w: prv_w, _hb: prv_hb, _vb: prv_vb})\n",
    "                    prv_w = cur_w\n",
    "                    prv_hb = cur_hb\n",
    "                    prv_vb = cur_vb\n",
    "                error = sess.run(err, feed_dict={v0: X, \\\n",
    "                                _w: cur_w, _vb: cur_vb, _hb: cur_hb})\n",
    "                print ('Epoch: %d' % epoch,'reconstruction error: %f' % error)\n",
    "                error_list.append(error)\n",
    "            self.w = prv_w\n",
    "            self.hb = prv_hb\n",
    "            self.vb = prv_vb\n",
    "            return error_list\n",
    "\n",
    "    def rbm_output(self, X):\n",
    "        \n",
    "        input_X = tf.constant(X)\n",
    "        _w = tf.constant(self.w)\n",
    "        _hb = tf.constant(self.hb)\n",
    "        _vb = tf.constant(self.vb)\n",
    "        out = tf.nn.sigmoid(tf.matmul(input_X, _w) + _hb)\n",
    "        hiddenGen = self.sample_prob(self.prob_h_given_v(input_X, _w, _hb))\n",
    "        visibleGen = self.sample_prob(self.prob_v_given_h(hiddenGen, _w, _vb))\n",
    "        with tf.compat.v1.Session() as sess:\n",
    "            sess.run(tf.compat.v1.global_variables_initializer())\n",
    "            return sess.run(out), sess.run(visibleGen), sess.run(hiddenGen)"
   ]
  },
  {
   "cell_type": "markdown",
   "id": "b41e68bb-9ab5-4dd8-96ad-106bc9f14853",
   "metadata": {},
   "source": [
    "**Train RBM Recommender System**"
   ]
  },
  {
   "cell_type": "markdown",
   "id": "de4830e2-db9e-418c-ada9-b88680608e33",
   "metadata": {},
   "source": [
    "*To train the RBM, let’s create a NumPy array called inputX from\n",
    "ratings_train and convert these values to float32. We will also define the\n",
    "RBM to take in a one thousand-dimensional input, output a one thousanddimensional\n",
    "output, use a learning rate of 0.3, train for five hundred epochs,\n",
    "and use a batch size of two hundred. These parameters are just preliminary\n",
    "parameter choices; you should be able to find more optimal parameters with\n",
    "experimentation, which is encouraged:*"
   ]
  },
  {
   "cell_type": "code",
   "execution_count": null,
   "id": "f4f29a92-ba00-4f99-baed-5121d1acf0de",
   "metadata": {},
   "outputs": [],
   "source": [
    "# Begin the training cycle\n",
    "\n",
    "# Convert inputX into float32\n",
    "inputX = ratings_train\n",
    "inputX = inputX.astype(np.float32)\n",
    "\n",
    "# Define the parameters of the RBMs we will train\n",
    "rbm = RBM(1000,1000,0.3,500,200)"
   ]
  },
  {
   "cell_type": "code",
   "execution_count": null,
   "id": "fccf9407-c02f-49c7-97b4-fc9c7e2d3e60",
   "metadata": {},
   "outputs": [],
   "source": [
    "# Train RBM model\n",
    "rbm.train(inputX)\n",
    "outputX, reconstructedX, hiddenX = rbm.rbm_output(inputX)"
   ]
  },
  {
   "cell_type": "markdown",
   "id": "21b48ef3-3602-45ae-be04-b5f604bdc6a3",
   "metadata": {},
   "source": [
    "*The error terms generally decrease the longer we train.\n",
    "Now let’s take the RBM model we developed to predict the ratings for users\n",
    "in the validation set (which has the same users as the training set):*"
   ]
  },
  {
   "cell_type": "code",
   "execution_count": null,
   "id": "17decfd4-1935-4cfc-a2db-8ec26495e6eb",
   "metadata": {},
   "outputs": [],
   "source": [
    "# Predict ratings for validation set\n",
    "inputValidation = ratings_validation\n",
    "inputValidation = inputValidation.astype(np.float32)\n",
    "finalOutput_validation, reconstructedOutput_validation, _ = rbm.rbm_output(inputValidation)"
   ]
  },
  {
   "cell_type": "markdown",
   "id": "37c4c724-75f4-456e-9317-ee95ec45a1c8",
   "metadata": {},
   "source": [
    "*Next, let’s convert the predictions into an array and calculate the MSE\n",
    "against the true validation ratings:*"
   ]
  },
  {
   "cell_type": "code",
   "execution_count": null,
   "id": "80dcec88-f023-42bc-9ba7-e4f71cea6e07",
   "metadata": {},
   "outputs": [],
   "source": [
    "predictionsArray = reconstructedOutput_validation\n",
    "pred_validation = predictionsArray[ratings_validation.nonzero()].flatten()\n",
    "actual_validation = ratings_validation[ratings_validation.nonzero()].flatten()\n",
    "rbm_prediction = mean_squared_error(pred_validation, actual_validation)\n",
    "print('Mean squared error using RBM prediction:', rbm_prediction)"
   ]
  },
  {
   "cell_type": "code",
   "execution_count": null,
   "id": "cbfb39d1-f138-4357-9d4c-338add9751e9",
   "metadata": {},
   "outputs": [],
   "source": []
  }
 ],
 "metadata": {
  "kernelspec": {
   "display_name": "Python 3 (ipykernel)",
   "language": "python",
   "name": "python3"
  },
  "language_info": {
   "codemirror_mode": {
    "name": "ipython",
    "version": 3
   },
   "file_extension": ".py",
   "mimetype": "text/x-python",
   "name": "python",
   "nbconvert_exporter": "python",
   "pygments_lexer": "ipython3",
   "version": "3.10.13"
  }
 },
 "nbformat": 4,
 "nbformat_minor": 5
}
